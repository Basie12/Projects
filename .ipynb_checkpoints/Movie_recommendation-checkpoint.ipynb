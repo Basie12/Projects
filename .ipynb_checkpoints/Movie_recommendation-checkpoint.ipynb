{
 "cells": [
  {
   "cell_type": "markdown",
   "metadata": {},
   "source": [
    "# Import Packages"
   ]
  },
  {
   "cell_type": "code",
   "execution_count": 1,
   "metadata": {},
   "outputs": [
    {
     "name": "stderr",
     "output_type": "stream",
     "text": [
      "In /opt/anaconda3/lib/python3.7/site-packages/matplotlib/mpl-data/stylelib/_classic_test.mplstyle: \n",
      "The text.latex.preview rcparam was deprecated in Matplotlib 3.3 and will be removed two minor releases later.\n",
      "In /opt/anaconda3/lib/python3.7/site-packages/matplotlib/mpl-data/stylelib/_classic_test.mplstyle: \n",
      "The mathtext.fallback_to_cm rcparam was deprecated in Matplotlib 3.3 and will be removed two minor releases later.\n",
      "In /opt/anaconda3/lib/python3.7/site-packages/matplotlib/mpl-data/stylelib/_classic_test.mplstyle: Support for setting the 'mathtext.fallback_to_cm' rcParam is deprecated since 3.3 and will be removed two minor releases later; use 'mathtext.fallback : 'cm' instead.\n",
      "In /opt/anaconda3/lib/python3.7/site-packages/matplotlib/mpl-data/stylelib/_classic_test.mplstyle: \n",
      "The validate_bool_maybe_none function was deprecated in Matplotlib 3.3 and will be removed two minor releases later.\n",
      "In /opt/anaconda3/lib/python3.7/site-packages/matplotlib/mpl-data/stylelib/_classic_test.mplstyle: \n",
      "The savefig.jpeg_quality rcparam was deprecated in Matplotlib 3.3 and will be removed two minor releases later.\n",
      "In /opt/anaconda3/lib/python3.7/site-packages/matplotlib/mpl-data/stylelib/_classic_test.mplstyle: \n",
      "The keymap.all_axes rcparam was deprecated in Matplotlib 3.3 and will be removed two minor releases later.\n",
      "In /opt/anaconda3/lib/python3.7/site-packages/matplotlib/mpl-data/stylelib/_classic_test.mplstyle: \n",
      "The animation.avconv_path rcparam was deprecated in Matplotlib 3.3 and will be removed two minor releases later.\n",
      "In /opt/anaconda3/lib/python3.7/site-packages/matplotlib/mpl-data/stylelib/_classic_test.mplstyle: \n",
      "The animation.avconv_args rcparam was deprecated in Matplotlib 3.3 and will be removed two minor releases later.\n"
     ]
    }
   ],
   "source": [
    "import pandas as pd\n",
    "import numpy as np\n",
    "import ast\n",
    "import seaborn as sns\n",
    "import matplotlib.pyplot as plt\n",
    "from sklearn.preprocessing import MultiLabelBinarizer\n",
    "\n",
    "from scipy.sparse import csr_matrix\n",
    "from sklearn.neighbors import NearestNeighbors\n",
    "from pprint import pprint as pp\n",
    "from collections import Counter\n",
    "from wordcloud import WordCloud\n",
    "import nltk\n",
    "\n",
    "from nltk.corpus import stopwords\n",
    "from nltk import word_tokenize\n",
    "from string import punctuation\n",
    "from sklearn.metrics.pairwise import cosine_similarity\n",
    "from sklearn.feature_extraction.text import TfidfVectorizer\n",
    "from sklearn.feature_extraction.text import CountVectorizer\n",
    "from nltk.stem.porter import PorterStemmer\n",
    "import difflib\n",
    "\n",
    "from collections import defaultdict\n",
    "from surprise import NormalPredictor\n",
    "from surprise import Dataset\n",
    "from surprise import Reader, KNNWithMeans,KNNWithZScore, SVD, SVDpp\n",
    "from surprise.model_selection import cross_validate\n",
    "from surprise.model_selection import GridSearchCV"
   ]
  },
  {
   "cell_type": "code",
   "execution_count": 2,
   "metadata": {},
   "outputs": [],
   "source": [
    "np.random.seed(444)"
   ]
  },
  {
   "cell_type": "markdown",
   "metadata": {},
   "source": [
    "## Load The Datasets"
   ]
  },
  {
   "cell_type": "code",
   "execution_count": 3,
   "metadata": {},
   "outputs": [
    {
     "name": "stderr",
     "output_type": "stream",
     "text": [
      "/opt/anaconda3/lib/python3.7/site-packages/IPython/core/interactiveshell.py:3058: DtypeWarning: Columns (10) have mixed types.Specify dtype option on import or set low_memory=False.\n",
      "  interactivity=interactivity, compiler=compiler, result=result)\n"
     ]
    }
   ],
   "source": [
    "movies_dt = pd.read_csv(\"data/movies_metadata.csv\")"
   ]
  },
  {
   "cell_type": "code",
   "execution_count": 4,
   "metadata": {},
   "outputs": [
    {
     "data": {
      "text/html": [
       "<div>\n",
       "<style scoped>\n",
       "    .dataframe tbody tr th:only-of-type {\n",
       "        vertical-align: middle;\n",
       "    }\n",
       "\n",
       "    .dataframe tbody tr th {\n",
       "        vertical-align: top;\n",
       "    }\n",
       "\n",
       "    .dataframe thead th {\n",
       "        text-align: right;\n",
       "    }\n",
       "</style>\n",
       "<table border=\"1\" class=\"dataframe\">\n",
       "  <thead>\n",
       "    <tr style=\"text-align: right;\">\n",
       "      <th></th>\n",
       "      <th>adult</th>\n",
       "      <th>belongs_to_collection</th>\n",
       "      <th>budget</th>\n",
       "      <th>genres</th>\n",
       "      <th>homepage</th>\n",
       "      <th>id</th>\n",
       "      <th>imdb_id</th>\n",
       "      <th>original_language</th>\n",
       "      <th>original_title</th>\n",
       "      <th>overview</th>\n",
       "      <th>...</th>\n",
       "      <th>release_date</th>\n",
       "      <th>revenue</th>\n",
       "      <th>runtime</th>\n",
       "      <th>spoken_languages</th>\n",
       "      <th>status</th>\n",
       "      <th>tagline</th>\n",
       "      <th>title</th>\n",
       "      <th>video</th>\n",
       "      <th>vote_average</th>\n",
       "      <th>vote_count</th>\n",
       "    </tr>\n",
       "  </thead>\n",
       "  <tbody>\n",
       "    <tr>\n",
       "      <th>0</th>\n",
       "      <td>False</td>\n",
       "      <td>{'id': 10194, 'name': 'Toy Story Collection', ...</td>\n",
       "      <td>30000000</td>\n",
       "      <td>[{'id': 16, 'name': 'Animation'}, {'id': 35, '...</td>\n",
       "      <td>http://toystory.disney.com/toy-story</td>\n",
       "      <td>862</td>\n",
       "      <td>tt0114709</td>\n",
       "      <td>en</td>\n",
       "      <td>Toy Story</td>\n",
       "      <td>Led by Woody, Andy's toys live happily in his ...</td>\n",
       "      <td>...</td>\n",
       "      <td>1995-10-30</td>\n",
       "      <td>373554033.0</td>\n",
       "      <td>81.0</td>\n",
       "      <td>[{'iso_639_1': 'en', 'name': 'English'}]</td>\n",
       "      <td>Released</td>\n",
       "      <td>NaN</td>\n",
       "      <td>Toy Story</td>\n",
       "      <td>False</td>\n",
       "      <td>7.7</td>\n",
       "      <td>5415.0</td>\n",
       "    </tr>\n",
       "    <tr>\n",
       "      <th>1</th>\n",
       "      <td>False</td>\n",
       "      <td>NaN</td>\n",
       "      <td>65000000</td>\n",
       "      <td>[{'id': 12, 'name': 'Adventure'}, {'id': 14, '...</td>\n",
       "      <td>NaN</td>\n",
       "      <td>8844</td>\n",
       "      <td>tt0113497</td>\n",
       "      <td>en</td>\n",
       "      <td>Jumanji</td>\n",
       "      <td>When siblings Judy and Peter discover an encha...</td>\n",
       "      <td>...</td>\n",
       "      <td>1995-12-15</td>\n",
       "      <td>262797249.0</td>\n",
       "      <td>104.0</td>\n",
       "      <td>[{'iso_639_1': 'en', 'name': 'English'}, {'iso...</td>\n",
       "      <td>Released</td>\n",
       "      <td>Roll the dice and unleash the excitement!</td>\n",
       "      <td>Jumanji</td>\n",
       "      <td>False</td>\n",
       "      <td>6.9</td>\n",
       "      <td>2413.0</td>\n",
       "    </tr>\n",
       "    <tr>\n",
       "      <th>2</th>\n",
       "      <td>False</td>\n",
       "      <td>{'id': 119050, 'name': 'Grumpy Old Men Collect...</td>\n",
       "      <td>0</td>\n",
       "      <td>[{'id': 10749, 'name': 'Romance'}, {'id': 35, ...</td>\n",
       "      <td>NaN</td>\n",
       "      <td>15602</td>\n",
       "      <td>tt0113228</td>\n",
       "      <td>en</td>\n",
       "      <td>Grumpier Old Men</td>\n",
       "      <td>A family wedding reignites the ancient feud be...</td>\n",
       "      <td>...</td>\n",
       "      <td>1995-12-22</td>\n",
       "      <td>0.0</td>\n",
       "      <td>101.0</td>\n",
       "      <td>[{'iso_639_1': 'en', 'name': 'English'}]</td>\n",
       "      <td>Released</td>\n",
       "      <td>Still Yelling. Still Fighting. Still Ready for...</td>\n",
       "      <td>Grumpier Old Men</td>\n",
       "      <td>False</td>\n",
       "      <td>6.5</td>\n",
       "      <td>92.0</td>\n",
       "    </tr>\n",
       "    <tr>\n",
       "      <th>3</th>\n",
       "      <td>False</td>\n",
       "      <td>NaN</td>\n",
       "      <td>16000000</td>\n",
       "      <td>[{'id': 35, 'name': 'Comedy'}, {'id': 18, 'nam...</td>\n",
       "      <td>NaN</td>\n",
       "      <td>31357</td>\n",
       "      <td>tt0114885</td>\n",
       "      <td>en</td>\n",
       "      <td>Waiting to Exhale</td>\n",
       "      <td>Cheated on, mistreated and stepped on, the wom...</td>\n",
       "      <td>...</td>\n",
       "      <td>1995-12-22</td>\n",
       "      <td>81452156.0</td>\n",
       "      <td>127.0</td>\n",
       "      <td>[{'iso_639_1': 'en', 'name': 'English'}]</td>\n",
       "      <td>Released</td>\n",
       "      <td>Friends are the people who let you be yourself...</td>\n",
       "      <td>Waiting to Exhale</td>\n",
       "      <td>False</td>\n",
       "      <td>6.1</td>\n",
       "      <td>34.0</td>\n",
       "    </tr>\n",
       "    <tr>\n",
       "      <th>4</th>\n",
       "      <td>False</td>\n",
       "      <td>{'id': 96871, 'name': 'Father of the Bride Col...</td>\n",
       "      <td>0</td>\n",
       "      <td>[{'id': 35, 'name': 'Comedy'}]</td>\n",
       "      <td>NaN</td>\n",
       "      <td>11862</td>\n",
       "      <td>tt0113041</td>\n",
       "      <td>en</td>\n",
       "      <td>Father of the Bride Part II</td>\n",
       "      <td>Just when George Banks has recovered from his ...</td>\n",
       "      <td>...</td>\n",
       "      <td>1995-02-10</td>\n",
       "      <td>76578911.0</td>\n",
       "      <td>106.0</td>\n",
       "      <td>[{'iso_639_1': 'en', 'name': 'English'}]</td>\n",
       "      <td>Released</td>\n",
       "      <td>Just When His World Is Back To Normal... He's ...</td>\n",
       "      <td>Father of the Bride Part II</td>\n",
       "      <td>False</td>\n",
       "      <td>5.7</td>\n",
       "      <td>173.0</td>\n",
       "    </tr>\n",
       "  </tbody>\n",
       "</table>\n",
       "<p>5 rows × 24 columns</p>\n",
       "</div>"
      ],
      "text/plain": [
       "   adult                              belongs_to_collection    budget  \\\n",
       "0  False  {'id': 10194, 'name': 'Toy Story Collection', ...  30000000   \n",
       "1  False                                                NaN  65000000   \n",
       "2  False  {'id': 119050, 'name': 'Grumpy Old Men Collect...         0   \n",
       "3  False                                                NaN  16000000   \n",
       "4  False  {'id': 96871, 'name': 'Father of the Bride Col...         0   \n",
       "\n",
       "                                              genres  \\\n",
       "0  [{'id': 16, 'name': 'Animation'}, {'id': 35, '...   \n",
       "1  [{'id': 12, 'name': 'Adventure'}, {'id': 14, '...   \n",
       "2  [{'id': 10749, 'name': 'Romance'}, {'id': 35, ...   \n",
       "3  [{'id': 35, 'name': 'Comedy'}, {'id': 18, 'nam...   \n",
       "4                     [{'id': 35, 'name': 'Comedy'}]   \n",
       "\n",
       "                               homepage     id    imdb_id original_language  \\\n",
       "0  http://toystory.disney.com/toy-story    862  tt0114709                en   \n",
       "1                                   NaN   8844  tt0113497                en   \n",
       "2                                   NaN  15602  tt0113228                en   \n",
       "3                                   NaN  31357  tt0114885                en   \n",
       "4                                   NaN  11862  tt0113041                en   \n",
       "\n",
       "                original_title  \\\n",
       "0                    Toy Story   \n",
       "1                      Jumanji   \n",
       "2             Grumpier Old Men   \n",
       "3            Waiting to Exhale   \n",
       "4  Father of the Bride Part II   \n",
       "\n",
       "                                            overview  ... release_date  \\\n",
       "0  Led by Woody, Andy's toys live happily in his ...  ...   1995-10-30   \n",
       "1  When siblings Judy and Peter discover an encha...  ...   1995-12-15   \n",
       "2  A family wedding reignites the ancient feud be...  ...   1995-12-22   \n",
       "3  Cheated on, mistreated and stepped on, the wom...  ...   1995-12-22   \n",
       "4  Just when George Banks has recovered from his ...  ...   1995-02-10   \n",
       "\n",
       "       revenue runtime                                   spoken_languages  \\\n",
       "0  373554033.0    81.0           [{'iso_639_1': 'en', 'name': 'English'}]   \n",
       "1  262797249.0   104.0  [{'iso_639_1': 'en', 'name': 'English'}, {'iso...   \n",
       "2          0.0   101.0           [{'iso_639_1': 'en', 'name': 'English'}]   \n",
       "3   81452156.0   127.0           [{'iso_639_1': 'en', 'name': 'English'}]   \n",
       "4   76578911.0   106.0           [{'iso_639_1': 'en', 'name': 'English'}]   \n",
       "\n",
       "     status                                            tagline  \\\n",
       "0  Released                                                NaN   \n",
       "1  Released          Roll the dice and unleash the excitement!   \n",
       "2  Released  Still Yelling. Still Fighting. Still Ready for...   \n",
       "3  Released  Friends are the people who let you be yourself...   \n",
       "4  Released  Just When His World Is Back To Normal... He's ...   \n",
       "\n",
       "                         title  video vote_average vote_count  \n",
       "0                    Toy Story  False          7.7     5415.0  \n",
       "1                      Jumanji  False          6.9     2413.0  \n",
       "2             Grumpier Old Men  False          6.5       92.0  \n",
       "3            Waiting to Exhale  False          6.1       34.0  \n",
       "4  Father of the Bride Part II  False          5.7      173.0  \n",
       "\n",
       "[5 rows x 24 columns]"
      ]
     },
     "execution_count": 4,
     "metadata": {},
     "output_type": "execute_result"
    }
   ],
   "source": [
    "# Display some rows and cols of the data\n",
    "movies_dt.head()"
   ]
  },
  {
   "cell_type": "code",
   "execution_count": 5,
   "metadata": {},
   "outputs": [
    {
     "data": {
      "text/plain": [
       "(45466, 24)"
      ]
     },
     "execution_count": 5,
     "metadata": {},
     "output_type": "execute_result"
    }
   ],
   "source": [
    "#check the shape\n",
    "movies_dt.shape"
   ]
  },
  {
   "cell_type": "markdown",
   "metadata": {},
   "source": [
    "# Explore the movie metadata"
   ]
  },
  {
   "cell_type": "code",
   "execution_count": 6,
   "metadata": {},
   "outputs": [
    {
     "data": {
      "text/plain": [
       "(45466, 24)"
      ]
     },
     "execution_count": 6,
     "metadata": {},
     "output_type": "execute_result"
    }
   ],
   "source": [
    "movies_dt.shape"
   ]
  },
  {
   "cell_type": "code",
   "execution_count": 7,
   "metadata": {},
   "outputs": [
    {
     "data": {
      "text/plain": [
       "adult                        0\n",
       "belongs_to_collection    40972\n",
       "budget                       0\n",
       "genres                       0\n",
       "homepage                 37684\n",
       "id                           0\n",
       "imdb_id                     17\n",
       "original_language           11\n",
       "original_title               0\n",
       "overview                   954\n",
       "popularity                   5\n",
       "poster_path                386\n",
       "production_companies         3\n",
       "production_countries         3\n",
       "release_date                87\n",
       "revenue                      6\n",
       "runtime                    263\n",
       "spoken_languages             6\n",
       "status                      87\n",
       "tagline                  25054\n",
       "title                        6\n",
       "video                        6\n",
       "vote_average                 6\n",
       "vote_count                   6\n",
       "dtype: int64"
      ]
     },
     "execution_count": 7,
     "metadata": {},
     "output_type": "execute_result"
    }
   ],
   "source": [
    "#Check the null values\n",
    "movies_dt.isnull().sum()"
   ]
  },
  {
   "cell_type": "code",
   "execution_count": 8,
   "metadata": {},
   "outputs": [
    {
     "data": {
      "text/plain": [
       "(45441, 24)"
      ]
     },
     "execution_count": 8,
     "metadata": {},
     "output_type": "execute_result"
    }
   ],
   "source": [
    "#drop duplicates and check the shape\n",
    "movies_dt.drop_duplicates(keep = False, inplace = True)\n",
    "movies_dt.shape"
   ]
  },
  {
   "cell_type": "code",
   "execution_count": 9,
   "metadata": {},
   "outputs": [],
   "source": [
    "# Drop some columns\n",
    "movies_dt.drop([\"homepage\", \"belongs_to_collection\", \"release_date\", \"poster_path\"],axis = 1, inplace = True)"
   ]
  },
  {
   "cell_type": "code",
   "execution_count": 10,
   "metadata": {},
   "outputs": [],
   "source": [
    "movies_dt.dropna(inplace = True)"
   ]
  },
  {
   "cell_type": "code",
   "execution_count": 11,
   "metadata": {},
   "outputs": [
    {
     "data": {
      "text/plain": [
       "adult                   0\n",
       "budget                  0\n",
       "genres                  0\n",
       "id                      0\n",
       "imdb_id                 0\n",
       "original_language       0\n",
       "original_title          0\n",
       "overview                0\n",
       "popularity              0\n",
       "production_companies    0\n",
       "production_countries    0\n",
       "revenue                 0\n",
       "runtime                 0\n",
       "spoken_languages        0\n",
       "status                  0\n",
       "tagline                 0\n",
       "title                   0\n",
       "video                   0\n",
       "vote_average            0\n",
       "vote_count              0\n",
       "dtype: int64"
      ]
     },
     "execution_count": 11,
     "metadata": {},
     "output_type": "execute_result"
    }
   ],
   "source": [
    "movies_dt.isnull().sum()"
   ]
  },
  {
   "cell_type": "code",
   "execution_count": 12,
   "metadata": {},
   "outputs": [
    {
     "data": {
      "text/plain": [
       "(20379, 20)"
      ]
     },
     "execution_count": 12,
     "metadata": {},
     "output_type": "execute_result"
    }
   ],
   "source": [
    "movies_dt.shape"
   ]
  },
  {
   "cell_type": "code",
   "execution_count": 13,
   "metadata": {},
   "outputs": [
    {
     "data": {
      "text/plain": [
       "1        [{'id': 12, 'name': 'Adventure'}, {'id': 14, '...\n",
       "2        [{'id': 10749, 'name': 'Romance'}, {'id': 35, ...\n",
       "3        [{'id': 35, 'name': 'Comedy'}, {'id': 18, 'nam...\n",
       "4                           [{'id': 35, 'name': 'Comedy'}]\n",
       "5        [{'id': 28, 'name': 'Action'}, {'id': 80, 'nam...\n",
       "                               ...                        \n",
       "45454    [{'id': 35, 'name': 'Comedy'}, {'id': 18, 'nam...\n",
       "45456    [{'id': 27, 'name': 'Horror'}, {'id': 9648, 'n...\n",
       "45458                       [{'id': 27, 'name': 'Horror'}]\n",
       "45461    [{'id': 18, 'name': 'Drama'}, {'id': 10751, 'n...\n",
       "45463    [{'id': 28, 'name': 'Action'}, {'id': 18, 'nam...\n",
       "Name: genres, Length: 20379, dtype: object"
      ]
     },
     "execution_count": 13,
     "metadata": {},
     "output_type": "execute_result"
    }
   ],
   "source": [
    "movies_dt[\"genres\"]"
   ]
  },
  {
   "cell_type": "code",
   "execution_count": 14,
   "metadata": {},
   "outputs": [
    {
     "name": "stdout",
     "output_type": "stream",
     "text": [
      "<class 'pandas.core.frame.DataFrame'>\n",
      "Int64Index: 20379 entries, 1 to 45463\n",
      "Data columns (total 20 columns):\n",
      " #   Column                Non-Null Count  Dtype  \n",
      "---  ------                --------------  -----  \n",
      " 0   adult                 20379 non-null  object \n",
      " 1   budget                20379 non-null  object \n",
      " 2   genres                20379 non-null  object \n",
      " 3   id                    20379 non-null  object \n",
      " 4   imdb_id               20379 non-null  object \n",
      " 5   original_language     20379 non-null  object \n",
      " 6   original_title        20379 non-null  object \n",
      " 7   overview              20379 non-null  object \n",
      " 8   popularity            20379 non-null  object \n",
      " 9   production_companies  20379 non-null  object \n",
      " 10  production_countries  20379 non-null  object \n",
      " 11  revenue               20379 non-null  float64\n",
      " 12  runtime               20379 non-null  float64\n",
      " 13  spoken_languages      20379 non-null  object \n",
      " 14  status                20379 non-null  object \n",
      " 15  tagline               20379 non-null  object \n",
      " 16  title                 20379 non-null  object \n",
      " 17  video                 20379 non-null  object \n",
      " 18  vote_average          20379 non-null  float64\n",
      " 19  vote_count            20379 non-null  float64\n",
      "dtypes: float64(4), object(16)\n",
      "memory usage: 3.3+ MB\n"
     ]
    }
   ],
   "source": [
    "movies_dt.info()"
   ]
  },
  {
   "cell_type": "code",
   "execution_count": 15,
   "metadata": {},
   "outputs": [
    {
     "data": {
      "text/plain": [
       "Index(['adult', 'budget', 'genres', 'id', 'imdb_id', 'original_language',\n",
       "       'original_title', 'overview', 'popularity', 'production_companies',\n",
       "       'production_countries', 'revenue', 'runtime', 'spoken_languages',\n",
       "       'status', 'tagline', 'title', 'video', 'vote_average', 'vote_count'],\n",
       "      dtype='object')"
      ]
     },
     "execution_count": 15,
     "metadata": {},
     "output_type": "execute_result"
    }
   ],
   "source": [
    "#check the dataset columns \n",
    "movies_dt.columns"
   ]
  },
  {
   "cell_type": "markdown",
   "metadata": {},
   "source": [
    "## Change the data types of some columns"
   ]
  },
  {
   "cell_type": "code",
   "execution_count": 16,
   "metadata": {},
   "outputs": [],
   "source": [
    "movies_dt[\"budget\"] = movies_dt[\"budget\"].astype(int)"
   ]
  },
  {
   "cell_type": "code",
   "execution_count": 17,
   "metadata": {},
   "outputs": [],
   "source": [
    "movies_dt[\"revenue\"] = movies_dt[\"revenue\"].astype(int) "
   ]
  },
  {
   "cell_type": "code",
   "execution_count": 18,
   "metadata": {},
   "outputs": [
    {
     "data": {
      "text/plain": [
       "1        197797249\n",
       "2                0\n",
       "3         65452156\n",
       "4         76578911\n",
       "5        127436818\n",
       "           ...    \n",
       "45454            0\n",
       "45456            0\n",
       "45458            0\n",
       "45461            0\n",
       "45463            0\n",
       "Length: 20379, dtype: int64"
      ]
     },
     "execution_count": 18,
     "metadata": {},
     "output_type": "execute_result"
    }
   ],
   "source": [
    "movies_dt[\"revenue\"].astype(int) - movies_dt[\"budget\"].astype(int)"
   ]
  },
  {
   "cell_type": "code",
   "execution_count": null,
   "metadata": {},
   "outputs": [],
   "source": []
  },
  {
   "cell_type": "code",
   "execution_count": 19,
   "metadata": {},
   "outputs": [
    {
     "data": {
      "text/plain": [
       "1        [{'id': 12, 'name': 'Adventure'}, {'id': 14, '...\n",
       "2        [{'id': 10749, 'name': 'Romance'}, {'id': 35, ...\n",
       "3        [{'id': 35, 'name': 'Comedy'}, {'id': 18, 'nam...\n",
       "4                           [{'id': 35, 'name': 'Comedy'}]\n",
       "5        [{'id': 28, 'name': 'Action'}, {'id': 80, 'nam...\n",
       "                               ...                        \n",
       "45454    [{'id': 35, 'name': 'Comedy'}, {'id': 18, 'nam...\n",
       "45456    [{'id': 27, 'name': 'Horror'}, {'id': 9648, 'n...\n",
       "45458                       [{'id': 27, 'name': 'Horror'}]\n",
       "45461    [{'id': 18, 'name': 'Drama'}, {'id': 10751, 'n...\n",
       "45463    [{'id': 28, 'name': 'Action'}, {'id': 18, 'nam...\n",
       "Name: genres, Length: 20379, dtype: object"
      ]
     },
     "execution_count": 19,
     "metadata": {},
     "output_type": "execute_result"
    }
   ],
   "source": [
    "#check the content of genres col\n",
    "movies_dt[\"genres\"]"
   ]
  },
  {
   "cell_type": "markdown",
   "metadata": {},
   "source": [
    "# Basic Feature Engineering"
   ]
  },
  {
   "cell_type": "code",
   "execution_count": 20,
   "metadata": {},
   "outputs": [
    {
     "data": {
      "text/plain": [
       "[['Adventure', 'Fantasy', 'Family'],\n",
       " ['Romance', 'Comedy'],\n",
       " ['Comedy', 'Drama', 'Romance'],\n",
       " ['Comedy'],\n",
       " ['Action', 'Crime', 'Drama', 'Thriller'],\n",
       " ['Comedy', 'Romance'],\n",
       " ['Action', 'Adventure', 'Drama', 'Family'],\n",
       " ['Action', 'Adventure', 'Thriller'],\n",
       " ['Adventure', 'Action', 'Thriller'],\n",
       " ['Comedy', 'Drama', 'Romance']]"
      ]
     },
     "execution_count": 20,
     "metadata": {},
     "output_type": "execute_result"
    }
   ],
   "source": [
    "# update the genres\n",
    "genres = []\n",
    "for index, row in movies_dt.iterrows():\n",
    "    genres.append([i[\"name\"] for i in ast.literal_eval(row[\"genres\"])])\n",
    "genres[:10]"
   ]
  },
  {
   "cell_type": "code",
   "execution_count": 21,
   "metadata": {},
   "outputs": [],
   "source": [
    "movies_dt[\"genres\"] = genres"
   ]
  },
  {
   "cell_type": "code",
   "execution_count": 22,
   "metadata": {},
   "outputs": [
    {
     "data": {
      "text/plain": [
       "[['TriStar Pictures', 'Teitler Film', 'Interscope Communications'],\n",
       " ['Warner Bros.', 'Lancaster Gate']]"
      ]
     },
     "execution_count": 22,
     "metadata": {},
     "output_type": "execute_result"
    }
   ],
   "source": [
    "# update the production companies columns\n",
    "prod_company = []\n",
    "for index, row in movies_dt.iterrows():\n",
    "    prod_company.append([i[\"name\"] for i in ast.literal_eval(row[\"production_companies\"])])\n",
    "prod_company[:2]"
   ]
  },
  {
   "cell_type": "code",
   "execution_count": 23,
   "metadata": {},
   "outputs": [],
   "source": [
    "movies_dt[\"production_companies\"] = prod_company"
   ]
  },
  {
   "cell_type": "code",
   "execution_count": 24,
   "metadata": {},
   "outputs": [
    {
     "data": {
      "text/plain": [
       "[['United States of America'], ['United States of America']]"
      ]
     },
     "execution_count": 24,
     "metadata": {},
     "output_type": "execute_result"
    }
   ],
   "source": [
    "# update the production countries columns\n",
    "prod_country = []\n",
    "for index, row in movies_dt.iterrows():\n",
    "    prod_country.append([i[\"name\"] for i in ast.literal_eval(row[\"production_countries\"])])\n",
    "prod_country[:2]"
   ]
  },
  {
   "cell_type": "code",
   "execution_count": 25,
   "metadata": {},
   "outputs": [],
   "source": [
    "movies_dt[\"production_countries\"] = prod_country"
   ]
  },
  {
   "cell_type": "code",
   "execution_count": 26,
   "metadata": {},
   "outputs": [
    {
     "data": {
      "text/plain": [
       "[['English', 'Français'], ['English']]"
      ]
     },
     "execution_count": 26,
     "metadata": {},
     "output_type": "execute_result"
    }
   ],
   "source": [
    "# update the spoken language columns\n",
    "sp_language = []\n",
    "for index, row in movies_dt.iterrows():\n",
    "    sp_language.append([i[\"name\"] for i in ast.literal_eval(row[\"spoken_languages\"])])\n",
    "sp_language[:2]"
   ]
  },
  {
   "cell_type": "code",
   "execution_count": 27,
   "metadata": {},
   "outputs": [],
   "source": [
    "movies_dt[\"spoken_languages\"] = sp_language"
   ]
  },
  {
   "cell_type": "code",
   "execution_count": 28,
   "metadata": {},
   "outputs": [],
   "source": [
    "movies_dt[\"popularity\"] = movies_dt[\"popularity\"].astype(np.float)"
   ]
  },
  {
   "cell_type": "code",
   "execution_count": 29,
   "metadata": {},
   "outputs": [],
   "source": [
    "def runtime(x):\n",
    "    \"\"\"\n",
    "    Update the runtime and make it categorical column\n",
    "    \"\"\"\n",
    "    if x< 120:\n",
    "        return \"short\"\n",
    "    else:\n",
    "        return \"long\""
   ]
  },
  {
   "cell_type": "code",
   "execution_count": 30,
   "metadata": {},
   "outputs": [],
   "source": [
    "# Apply the runtime function on the runtime columns\n",
    "movies_dt[\"runtime\"] = movies_dt[\"runtime\"].apply(runtime)"
   ]
  },
  {
   "cell_type": "code",
   "execution_count": 31,
   "metadata": {},
   "outputs": [
    {
     "data": {
      "text/html": [
       "<div>\n",
       "<style scoped>\n",
       "    .dataframe tbody tr th:only-of-type {\n",
       "        vertical-align: middle;\n",
       "    }\n",
       "\n",
       "    .dataframe tbody tr th {\n",
       "        vertical-align: top;\n",
       "    }\n",
       "\n",
       "    .dataframe thead th {\n",
       "        text-align: right;\n",
       "    }\n",
       "</style>\n",
       "<table border=\"1\" class=\"dataframe\">\n",
       "  <thead>\n",
       "    <tr style=\"text-align: right;\">\n",
       "      <th></th>\n",
       "      <th>adult</th>\n",
       "      <th>budget</th>\n",
       "      <th>genres</th>\n",
       "      <th>id</th>\n",
       "      <th>imdb_id</th>\n",
       "      <th>original_language</th>\n",
       "      <th>original_title</th>\n",
       "      <th>overview</th>\n",
       "      <th>popularity</th>\n",
       "      <th>production_companies</th>\n",
       "      <th>production_countries</th>\n",
       "      <th>revenue</th>\n",
       "      <th>runtime</th>\n",
       "      <th>spoken_languages</th>\n",
       "      <th>status</th>\n",
       "      <th>tagline</th>\n",
       "      <th>title</th>\n",
       "      <th>video</th>\n",
       "      <th>vote_average</th>\n",
       "      <th>vote_count</th>\n",
       "    </tr>\n",
       "  </thead>\n",
       "  <tbody>\n",
       "    <tr>\n",
       "      <th>1</th>\n",
       "      <td>False</td>\n",
       "      <td>65000000</td>\n",
       "      <td>[Adventure, Fantasy, Family]</td>\n",
       "      <td>8844</td>\n",
       "      <td>tt0113497</td>\n",
       "      <td>en</td>\n",
       "      <td>Jumanji</td>\n",
       "      <td>When siblings Judy and Peter discover an encha...</td>\n",
       "      <td>17.015539</td>\n",
       "      <td>[TriStar Pictures, Teitler Film, Interscope Co...</td>\n",
       "      <td>[United States of America]</td>\n",
       "      <td>262797249</td>\n",
       "      <td>short</td>\n",
       "      <td>[English, Français]</td>\n",
       "      <td>Released</td>\n",
       "      <td>Roll the dice and unleash the excitement!</td>\n",
       "      <td>Jumanji</td>\n",
       "      <td>False</td>\n",
       "      <td>6.9</td>\n",
       "      <td>2413.0</td>\n",
       "    </tr>\n",
       "    <tr>\n",
       "      <th>2</th>\n",
       "      <td>False</td>\n",
       "      <td>0</td>\n",
       "      <td>[Romance, Comedy]</td>\n",
       "      <td>15602</td>\n",
       "      <td>tt0113228</td>\n",
       "      <td>en</td>\n",
       "      <td>Grumpier Old Men</td>\n",
       "      <td>A family wedding reignites the ancient feud be...</td>\n",
       "      <td>11.712900</td>\n",
       "      <td>[Warner Bros., Lancaster Gate]</td>\n",
       "      <td>[United States of America]</td>\n",
       "      <td>0</td>\n",
       "      <td>short</td>\n",
       "      <td>[English]</td>\n",
       "      <td>Released</td>\n",
       "      <td>Still Yelling. Still Fighting. Still Ready for...</td>\n",
       "      <td>Grumpier Old Men</td>\n",
       "      <td>False</td>\n",
       "      <td>6.5</td>\n",
       "      <td>92.0</td>\n",
       "    </tr>\n",
       "    <tr>\n",
       "      <th>3</th>\n",
       "      <td>False</td>\n",
       "      <td>16000000</td>\n",
       "      <td>[Comedy, Drama, Romance]</td>\n",
       "      <td>31357</td>\n",
       "      <td>tt0114885</td>\n",
       "      <td>en</td>\n",
       "      <td>Waiting to Exhale</td>\n",
       "      <td>Cheated on, mistreated and stepped on, the wom...</td>\n",
       "      <td>3.859495</td>\n",
       "      <td>[Twentieth Century Fox Film Corporation]</td>\n",
       "      <td>[United States of America]</td>\n",
       "      <td>81452156</td>\n",
       "      <td>long</td>\n",
       "      <td>[English]</td>\n",
       "      <td>Released</td>\n",
       "      <td>Friends are the people who let you be yourself...</td>\n",
       "      <td>Waiting to Exhale</td>\n",
       "      <td>False</td>\n",
       "      <td>6.1</td>\n",
       "      <td>34.0</td>\n",
       "    </tr>\n",
       "    <tr>\n",
       "      <th>4</th>\n",
       "      <td>False</td>\n",
       "      <td>0</td>\n",
       "      <td>[Comedy]</td>\n",
       "      <td>11862</td>\n",
       "      <td>tt0113041</td>\n",
       "      <td>en</td>\n",
       "      <td>Father of the Bride Part II</td>\n",
       "      <td>Just when George Banks has recovered from his ...</td>\n",
       "      <td>8.387519</td>\n",
       "      <td>[Sandollar Productions, Touchstone Pictures]</td>\n",
       "      <td>[United States of America]</td>\n",
       "      <td>76578911</td>\n",
       "      <td>short</td>\n",
       "      <td>[English]</td>\n",
       "      <td>Released</td>\n",
       "      <td>Just When His World Is Back To Normal... He's ...</td>\n",
       "      <td>Father of the Bride Part II</td>\n",
       "      <td>False</td>\n",
       "      <td>5.7</td>\n",
       "      <td>173.0</td>\n",
       "    </tr>\n",
       "    <tr>\n",
       "      <th>5</th>\n",
       "      <td>False</td>\n",
       "      <td>60000000</td>\n",
       "      <td>[Action, Crime, Drama, Thriller]</td>\n",
       "      <td>949</td>\n",
       "      <td>tt0113277</td>\n",
       "      <td>en</td>\n",
       "      <td>Heat</td>\n",
       "      <td>Obsessive master thief, Neil McCauley leads a ...</td>\n",
       "      <td>17.924927</td>\n",
       "      <td>[Regency Enterprises, Forward Pass, Warner Bros.]</td>\n",
       "      <td>[United States of America]</td>\n",
       "      <td>187436818</td>\n",
       "      <td>long</td>\n",
       "      <td>[English, Español]</td>\n",
       "      <td>Released</td>\n",
       "      <td>A Los Angeles Crime Saga</td>\n",
       "      <td>Heat</td>\n",
       "      <td>False</td>\n",
       "      <td>7.7</td>\n",
       "      <td>1886.0</td>\n",
       "    </tr>\n",
       "  </tbody>\n",
       "</table>\n",
       "</div>"
      ],
      "text/plain": [
       "   adult    budget                            genres     id    imdb_id  \\\n",
       "1  False  65000000      [Adventure, Fantasy, Family]   8844  tt0113497   \n",
       "2  False         0                 [Romance, Comedy]  15602  tt0113228   \n",
       "3  False  16000000          [Comedy, Drama, Romance]  31357  tt0114885   \n",
       "4  False         0                          [Comedy]  11862  tt0113041   \n",
       "5  False  60000000  [Action, Crime, Drama, Thriller]    949  tt0113277   \n",
       "\n",
       "  original_language               original_title  \\\n",
       "1                en                      Jumanji   \n",
       "2                en             Grumpier Old Men   \n",
       "3                en            Waiting to Exhale   \n",
       "4                en  Father of the Bride Part II   \n",
       "5                en                         Heat   \n",
       "\n",
       "                                            overview  popularity  \\\n",
       "1  When siblings Judy and Peter discover an encha...   17.015539   \n",
       "2  A family wedding reignites the ancient feud be...   11.712900   \n",
       "3  Cheated on, mistreated and stepped on, the wom...    3.859495   \n",
       "4  Just when George Banks has recovered from his ...    8.387519   \n",
       "5  Obsessive master thief, Neil McCauley leads a ...   17.924927   \n",
       "\n",
       "                                production_companies  \\\n",
       "1  [TriStar Pictures, Teitler Film, Interscope Co...   \n",
       "2                     [Warner Bros., Lancaster Gate]   \n",
       "3           [Twentieth Century Fox Film Corporation]   \n",
       "4       [Sandollar Productions, Touchstone Pictures]   \n",
       "5  [Regency Enterprises, Forward Pass, Warner Bros.]   \n",
       "\n",
       "         production_countries    revenue runtime     spoken_languages  \\\n",
       "1  [United States of America]  262797249   short  [English, Français]   \n",
       "2  [United States of America]          0   short            [English]   \n",
       "3  [United States of America]   81452156    long            [English]   \n",
       "4  [United States of America]   76578911   short            [English]   \n",
       "5  [United States of America]  187436818    long   [English, Español]   \n",
       "\n",
       "     status                                            tagline  \\\n",
       "1  Released          Roll the dice and unleash the excitement!   \n",
       "2  Released  Still Yelling. Still Fighting. Still Ready for...   \n",
       "3  Released  Friends are the people who let you be yourself...   \n",
       "4  Released  Just When His World Is Back To Normal... He's ...   \n",
       "5  Released                           A Los Angeles Crime Saga   \n",
       "\n",
       "                         title  video  vote_average  vote_count  \n",
       "1                      Jumanji  False           6.9      2413.0  \n",
       "2             Grumpier Old Men  False           6.5        92.0  \n",
       "3            Waiting to Exhale  False           6.1        34.0  \n",
       "4  Father of the Bride Part II  False           5.7       173.0  \n",
       "5                         Heat  False           7.7      1886.0  "
      ]
     },
     "execution_count": 31,
     "metadata": {},
     "output_type": "execute_result"
    }
   ],
   "source": [
    "movies_dt.head()"
   ]
  },
  {
   "cell_type": "code",
   "execution_count": 32,
   "metadata": {},
   "outputs": [
    {
     "data": {
      "text/plain": [
       "20"
      ]
     },
     "execution_count": 32,
     "metadata": {},
     "output_type": "execute_result"
    }
   ],
   "source": [
    "# get all genre tags in a list\n",
    "# source https://www.analyticsvidhya.com/blog/2019/04/predicting-movie-genres-nlp-multi-label-classification/\n",
    "all_genres = sum(genres,[])\n",
    "len(set(all_genres))"
   ]
  },
  {
   "cell_type": "markdown",
   "metadata": {},
   "source": [
    "# Visualized the Different Columns"
   ]
  },
  {
   "cell_type": "code",
   "execution_count": 33,
   "metadata": {},
   "outputs": [
    {
     "name": "stderr",
     "output_type": "stream",
     "text": [
      "/opt/anaconda3/lib/python3.7/site-packages/seaborn/_decorators.py:43: FutureWarning: Pass the following variables as keyword args: x, y. From version 0.12, the only valid positional argument will be `data`, and passing other arguments without an explicit keyword will result in an error or misinterpretation.\n",
      "  FutureWarning\n"
     ]
    },
    {
     "data": {
      "image/png": "[encoded data removed]",
      "text/plain": [
       "<Figure size 864x576 with 1 Axes>"
      ]
     },
     "metadata": {
      "needs_background": "light"
     },
     "output_type": "display_data"
    }
   ],
   "source": [
    "# create the profit columns\n",
    "movies_dt[\"profit\"] =  movies_dt[\"revenue\"] - movies_dt[\"budget\"]\n",
    "data = movies_dt[[\"profit\", \"title\"]].sort_values(\"profit\", ascending = False).head(10)\n",
    "\n",
    "# Bar plots for top 10 movies' the profit \n",
    "plt.figure(figsize = (12, 8))\n",
    "sns.barplot(data[\"title\"].head(10), data[\"profit\"].head(10), data = data);\n",
    "plt.xticks(rotation = 80, fontsize = 12);\n",
    "plt.title(\"Top 10 Profitable Movies\", weight = \"bold\", fontsize = 20);"
   ]
  },
  {
   "cell_type": "code",
   "execution_count": 34,
   "metadata": {},
   "outputs": [
    {
     "data": {
      "image/png": "[encoded data removed]",
      "text/plain": [
       "<Figure size 864x576 with 1 Axes>"
      ]
     },
     "metadata": {
      "needs_background": "light"
     },
     "output_type": "display_data"
    }
   ],
   "source": [
    "#Bar plot for the genres\n",
    "all_genres = nltk.FreqDist(all_genres) \n",
    "# create genres dataframe\n",
    "all_genres_df = pd.DataFrame({'Genre': list(all_genres.keys()), \n",
    "                              'Count': list(all_genres.values())})\n",
    "\n",
    "g_frequency = all_genres_df.nlargest(columns=\"Count\", n = 50) \n",
    "plt.figure(figsize=(12,8)) \n",
    "ax = sns.barplot(data = g_frequency, x= \"Genre\", y = \"Count\" ) \n",
    "ax.set(ylabel = 'Count') \n",
    "plt.xticks(rotation = 60, fontsize = 15)\n",
    "plt.title(\"Genres Frequency\", fontsize = 15, weight = 'bold')\n",
    "plt.show()"
   ]
  },
  {
   "cell_type": "code",
   "execution_count": 35,
   "metadata": {},
   "outputs": [
    {
     "name": "stderr",
     "output_type": "stream",
     "text": [
      "/opt/anaconda3/lib/python3.7/site-packages/seaborn/_decorators.py:43: FutureWarning: Pass the following variables as keyword args: x, y. From version 0.12, the only valid positional argument will be `data`, and passing other arguments without an explicit keyword will result in an error or misinterpretation.\n",
      "  FutureWarning\n"
     ]
    },
    {
     "data": {
      "image/png": "[encoded data removed]",
      "text/plain": [
       "<Figure size 864x648 with 1 Axes>"
      ]
     },
     "metadata": {
      "needs_background": "light"
     },
     "output_type": "display_data"
    }
   ],
   "source": [
    "# visualize the Vote-count\n",
    "dt  = movies_dt.sort_values(by = \"vote_count\", ascending = False).copy()\n",
    "plt.figure(figsize = (12,9))\n",
    "sns.barplot(dt[\"title\"][:20], dt[\"vote_count\"][:20]);\n",
    "plt.title(\"Top 20 Votted Movie\", fontsize = 15, weight = 'bold')\n",
    "plt.xticks(rotation = 75)\n",
    "plt.show()"
   ]
  },
  {
   "cell_type": "code",
   "execution_count": 36,
   "metadata": {},
   "outputs": [
    {
     "name": "stderr",
     "output_type": "stream",
     "text": [
      "/opt/anaconda3/lib/python3.7/site-packages/seaborn/_decorators.py:43: FutureWarning: Pass the following variables as keyword args: x, y. From version 0.12, the only valid positional argument will be `data`, and passing other arguments without an explicit keyword will result in an error or misinterpretation.\n",
      "  FutureWarning\n"
     ]
    },
    {
     "data": {
      "image/png": "[encoded data removed]",
      "text/plain": [
       "<Figure size 864x648 with 1 Axes>"
      ]
     },
     "metadata": {
      "needs_background": "light"
     },
     "output_type": "display_data"
    }
   ],
   "source": [
    "dt  = movies_dt.sort_values(by = \"popularity\", ascending = False).copy()\n",
    "plt.figure(figsize = (12,9))\n",
    "sns.barplot(dt[\"title\"][:20], dt[\"popularity\"][:20]);\n",
    "plt.title(\"Top 20 Popular Movie\", weight = 'bold', fontsize = 15)\n",
    "plt.xticks(rotation = 75)\n",
    "plt.show()"
   ]
  },
  {
   "cell_type": "markdown",
   "metadata": {},
   "source": [
    "- The popular moview are not the moview most voted Minions is popular, but not mostly voted movie\n",
    "- Minions, Wonder Woman and Beauty and the Beast are the top three popular movies in this dataset"
   ]
  },
  {
   "cell_type": "code",
   "execution_count": 37,
   "metadata": {},
   "outputs": [
    {
     "name": "stderr",
     "output_type": "stream",
     "text": [
      "/opt/anaconda3/lib/python3.7/site-packages/seaborn/_decorators.py:43: FutureWarning: Pass the following variables as keyword args: x, y. From version 0.12, the only valid positional argument will be `data`, and passing other arguments without an explicit keyword will result in an error or misinterpretation.\n",
      "  FutureWarning\n"
     ]
    },
    {
     "data": {
      "image/png": "[encoded data removed]",
      "text/plain": [
       "<Figure size 864x648 with 1 Axes>"
      ]
     },
     "metadata": {
      "needs_background": "light"
     },
     "output_type": "display_data"
    }
   ],
   "source": [
    "plt.figure(figsize = (12, 9));\n",
    "sns.boxplot(movies_dt[\"vote_average\"], movies_dt[\"runtime\"]);\n",
    "plt.title(\"The Range of time for short and longer movies\", fontsize = 15, weight = 'bold');"
   ]
  },
  {
   "cell_type": "markdown",
   "metadata": {},
   "source": [
    "- The two types of the runtime has almost the same mean average\n",
    "- The short runtime has a wider distribution."
   ]
  },
  {
   "cell_type": "code",
   "execution_count": 38,
   "metadata": {},
   "outputs": [
    {
     "name": "stderr",
     "output_type": "stream",
     "text": [
      "/opt/anaconda3/lib/python3.7/site-packages/seaborn/distributions.py:2619: FutureWarning: `distplot` is a deprecated function and will be removed in a future version. Please adapt your code to use either `displot` (a figure-level function with similar flexibility) or `histplot` (an axes-level function for histograms).\n",
      "  warnings.warn(msg, FutureWarning)\n"
     ]
    },
    {
     "data": {
      "text/plain": [
       "Text(0.5, 1.0, 'Average Vote Distribution')"
      ]
     },
     "execution_count": 38,
     "metadata": {},
     "output_type": "execute_result"
    },
    {
     "data": {
      "image/png": "[encoded data removed]",
      "text/plain": [
       "<Figure size 864x576 with 1 Axes>"
      ]
     },
     "metadata": {
      "needs_background": "light"
     },
     "output_type": "display_data"
    }
   ],
   "source": [
    "plt.figure(figsize = (12, 8))\n",
    "sns.distplot(movies_dt[\"vote_average\"], color='#DC143C');\n",
    "plt.title(\"Average Vote Distribution\", weight = \"bold\", )"
   ]
  },
  {
   "cell_type": "markdown",
   "metadata": {},
   "source": [
    "The vote haverage has close to a normal distribution with some outliers"
   ]
  },
  {
   "cell_type": "markdown",
   "metadata": {},
   "source": [
    "## Content Based Recommendation with Movie Genres"
   ]
  },
  {
   "cell_type": "code",
   "execution_count": 39,
   "metadata": {},
   "outputs": [
    {
     "data": {
      "text/html": [
       "<div>\n",
       "<style scoped>\n",
       "    .dataframe tbody tr th:only-of-type {\n",
       "        vertical-align: middle;\n",
       "    }\n",
       "\n",
       "    .dataframe tbody tr th {\n",
       "        vertical-align: top;\n",
       "    }\n",
       "\n",
       "    .dataframe thead th {\n",
       "        text-align: right;\n",
       "    }\n",
       "</style>\n",
       "<table border=\"1\" class=\"dataframe\">\n",
       "  <thead>\n",
       "    <tr style=\"text-align: right;\">\n",
       "      <th></th>\n",
       "      <th>Action</th>\n",
       "      <th>Adventure</th>\n",
       "      <th>Animation</th>\n",
       "      <th>Comedy</th>\n",
       "      <th>Crime</th>\n",
       "      <th>Documentary</th>\n",
       "      <th>Drama</th>\n",
       "      <th>Family</th>\n",
       "      <th>Fantasy</th>\n",
       "      <th>Foreign</th>\n",
       "      <th>History</th>\n",
       "      <th>Horror</th>\n",
       "      <th>Music</th>\n",
       "      <th>Mystery</th>\n",
       "      <th>Romance</th>\n",
       "      <th>Science Fiction</th>\n",
       "      <th>TV Movie</th>\n",
       "      <th>Thriller</th>\n",
       "      <th>War</th>\n",
       "      <th>Western</th>\n",
       "    </tr>\n",
       "    <tr>\n",
       "      <th>title</th>\n",
       "      <th></th>\n",
       "      <th></th>\n",
       "      <th></th>\n",
       "      <th></th>\n",
       "      <th></th>\n",
       "      <th></th>\n",
       "      <th></th>\n",
       "      <th></th>\n",
       "      <th></th>\n",
       "      <th></th>\n",
       "      <th></th>\n",
       "      <th></th>\n",
       "      <th></th>\n",
       "      <th></th>\n",
       "      <th></th>\n",
       "      <th></th>\n",
       "      <th></th>\n",
       "      <th></th>\n",
       "      <th></th>\n",
       "      <th></th>\n",
       "    </tr>\n",
       "  </thead>\n",
       "  <tbody>\n",
       "    <tr>\n",
       "      <th>Jumanji</th>\n",
       "      <td>0</td>\n",
       "      <td>1</td>\n",
       "      <td>0</td>\n",
       "      <td>0</td>\n",
       "      <td>0</td>\n",
       "      <td>0</td>\n",
       "      <td>0</td>\n",
       "      <td>1</td>\n",
       "      <td>1</td>\n",
       "      <td>0</td>\n",
       "      <td>0</td>\n",
       "      <td>0</td>\n",
       "      <td>0</td>\n",
       "      <td>0</td>\n",
       "      <td>0</td>\n",
       "      <td>0</td>\n",
       "      <td>0</td>\n",
       "      <td>0</td>\n",
       "      <td>0</td>\n",
       "      <td>0</td>\n",
       "    </tr>\n",
       "    <tr>\n",
       "      <th>Grumpier Old Men</th>\n",
       "      <td>0</td>\n",
       "      <td>0</td>\n",
       "      <td>0</td>\n",
       "      <td>1</td>\n",
       "      <td>0</td>\n",
       "      <td>0</td>\n",
       "      <td>0</td>\n",
       "      <td>0</td>\n",
       "      <td>0</td>\n",
       "      <td>0</td>\n",
       "      <td>0</td>\n",
       "      <td>0</td>\n",
       "      <td>0</td>\n",
       "      <td>0</td>\n",
       "      <td>1</td>\n",
       "      <td>0</td>\n",
       "      <td>0</td>\n",
       "      <td>0</td>\n",
       "      <td>0</td>\n",
       "      <td>0</td>\n",
       "    </tr>\n",
       "    <tr>\n",
       "      <th>Waiting to Exhale</th>\n",
       "      <td>0</td>\n",
       "      <td>0</td>\n",
       "      <td>0</td>\n",
       "      <td>1</td>\n",
       "      <td>0</td>\n",
       "      <td>0</td>\n",
       "      <td>1</td>\n",
       "      <td>0</td>\n",
       "      <td>0</td>\n",
       "      <td>0</td>\n",
       "      <td>0</td>\n",
       "      <td>0</td>\n",
       "      <td>0</td>\n",
       "      <td>0</td>\n",
       "      <td>1</td>\n",
       "      <td>0</td>\n",
       "      <td>0</td>\n",
       "      <td>0</td>\n",
       "      <td>0</td>\n",
       "      <td>0</td>\n",
       "    </tr>\n",
       "    <tr>\n",
       "      <th>Father of the Bride Part II</th>\n",
       "      <td>0</td>\n",
       "      <td>0</td>\n",
       "      <td>0</td>\n",
       "      <td>1</td>\n",
       "      <td>0</td>\n",
       "      <td>0</td>\n",
       "      <td>0</td>\n",
       "      <td>0</td>\n",
       "      <td>0</td>\n",
       "      <td>0</td>\n",
       "      <td>0</td>\n",
       "      <td>0</td>\n",
       "      <td>0</td>\n",
       "      <td>0</td>\n",
       "      <td>0</td>\n",
       "      <td>0</td>\n",
       "      <td>0</td>\n",
       "      <td>0</td>\n",
       "      <td>0</td>\n",
       "      <td>0</td>\n",
       "    </tr>\n",
       "    <tr>\n",
       "      <th>Heat</th>\n",
       "      <td>1</td>\n",
       "      <td>0</td>\n",
       "      <td>0</td>\n",
       "      <td>0</td>\n",
       "      <td>1</td>\n",
       "      <td>0</td>\n",
       "      <td>1</td>\n",
       "      <td>0</td>\n",
       "      <td>0</td>\n",
       "      <td>0</td>\n",
       "      <td>0</td>\n",
       "      <td>0</td>\n",
       "      <td>0</td>\n",
       "      <td>0</td>\n",
       "      <td>0</td>\n",
       "      <td>0</td>\n",
       "      <td>0</td>\n",
       "      <td>1</td>\n",
       "      <td>0</td>\n",
       "      <td>0</td>\n",
       "    </tr>\n",
       "  </tbody>\n",
       "</table>\n",
       "</div>"
      ],
      "text/plain": [
       "                             Action  Adventure  Animation  Comedy  Crime  \\\n",
       "title                                                                      \n",
       "Jumanji                           0          1          0       0      0   \n",
       "Grumpier Old Men                  0          0          0       1      0   \n",
       "Waiting to Exhale                 0          0          0       1      0   \n",
       "Father of the Bride Part II       0          0          0       1      0   \n",
       "Heat                              1          0          0       0      1   \n",
       "\n",
       "                             Documentary  Drama  Family  Fantasy  Foreign  \\\n",
       "title                                                                       \n",
       "Jumanji                                0      0       1        1        0   \n",
       "Grumpier Old Men                       0      0       0        0        0   \n",
       "Waiting to Exhale                      0      1       0        0        0   \n",
       "Father of the Bride Part II            0      0       0        0        0   \n",
       "Heat                                   0      1       0        0        0   \n",
       "\n",
       "                             History  Horror  Music  Mystery  Romance  \\\n",
       "title                                                                   \n",
       "Jumanji                            0       0      0        0        0   \n",
       "Grumpier Old Men                   0       0      0        0        1   \n",
       "Waiting to Exhale                  0       0      0        0        1   \n",
       "Father of the Bride Part II        0       0      0        0        0   \n",
       "Heat                               0       0      0        0        0   \n",
       "\n",
       "                             Science Fiction  TV Movie  Thriller  War  Western  \n",
       "title                                                                           \n",
       "Jumanji                                    0         0         0    0        0  \n",
       "Grumpier Old Men                           0         0         0    0        0  \n",
       "Waiting to Exhale                          0         0         0    0        0  \n",
       "Father of the Bride Part II                0         0         0    0        0  \n",
       "Heat                                       0         0         1    0        0  "
      ]
     },
     "execution_count": 39,
     "metadata": {},
     "output_type": "execute_result"
    }
   ],
   "source": [
    "# rt =  pd.get_dummies(movies_dt[\"genres\"], sparse=True)\n",
    "mlb = MultiLabelBinarizer()\n",
    "genres_df = pd.DataFrame(mlb.fit_transform(movies_dt[\"genres\"]),\n",
    "                   columns=mlb.classes_,\n",
    "                   index=movies_dt[\"title\"])\n",
    "genres_df.head()"
   ]
  },
  {
   "cell_type": "code",
   "execution_count": 40,
   "metadata": {},
   "outputs": [],
   "source": [
    "movies_df = genres_df.T"
   ]
  },
  {
   "cell_type": "code",
   "execution_count": 41,
   "metadata": {},
   "outputs": [],
   "source": [
    "def genres_movie_recomeding(movie):\n",
    "    \"\"\"\n",
    "    Suggested the closely related movie from the movie databased\n",
    "    \"\"\"\n",
    "    gen = movies_df[movie]\n",
    "    similar_movie = movies_df.corrwith(gen)\n",
    "    similar_movie =  similar_movie.sort_values(ascending = False).dropna()\n",
    "    movie_reco = {\"movie\":similar_movie}\n",
    "    recomeded_movie = pd.DataFrame(movie_reco)\n",
    "    recomeded_movie.reset_index(level = 0, inplace = True)\n",
    "    return  similar_movie.iloc[1:].head(20)"
   ]
  },
  {
   "cell_type": "markdown",
   "metadata": {},
   "source": [
    "## Testing the Genres based recommendation"
   ]
  },
  {
   "cell_type": "code",
   "execution_count": 42,
   "metadata": {},
   "outputs": [
    {
     "data": {
      "text/plain": [
       "title\n",
       "Mission: Impossible                   1.0\n",
       "DOA: Dead or Alive                    1.0\n",
       "Blood Out                             1.0\n",
       "The Expendables                       1.0\n",
       "Commando                              1.0\n",
       "Mission: Impossible - Rogue Nation    1.0\n",
       "The Expendables 3                     1.0\n",
       "Largo Winch II                        1.0\n",
       "Camino                                1.0\n",
       "The Living Daylights                  1.0\n",
       "Vertical Limit                        1.0\n",
       "Diamonds Are Forever                  1.0\n",
       "The Devil-Ship Pirates                1.0\n",
       "Space Cowboys                         1.0\n",
       "As Good As Dead                       1.0\n",
       "Sweepers                              1.0\n",
       "The Expendables 2                     1.0\n",
       "The Man with the Golden Gun           1.0\n",
       "The Spy Who Loved Me                  1.0\n",
       "On Her Majesty's Secret Service       1.0\n",
       "dtype: float64"
      ]
     },
     "execution_count": 42,
     "metadata": {},
     "output_type": "execute_result"
    }
   ],
   "source": [
    "genres_movie_recomeding(\"The Expendables\")"
   ]
  },
  {
   "cell_type": "code",
   "execution_count": 43,
   "metadata": {},
   "outputs": [
    {
     "data": {
      "text/plain": [
       "title\n",
       "Jason Bourne                                          1.0\n",
       "Blood Games                                           1.0\n",
       "The Train: Some Lines Shoulder Never Be Crossed...    1.0\n",
       "Turbulence 2: Fear of Flying                          1.0\n",
       "D-Tox                                                 1.0\n",
       "Killer Force                                          1.0\n",
       "Bloodmoon                                             1.0\n",
       "Undefeatable                                          1.0\n",
       "Best of the Best 2                                    1.0\n",
       "Erased                                                1.0\n",
       "City on Fire                                          1.0\n",
       "Darkweb                                               1.0\n",
       "The Hellcats                                          1.0\n",
       "The Specialist                                        1.0\n",
       "The Delta Force                                       1.0\n",
       "Joshua Tree                                           1.0\n",
       "Olympus Has Fallen                                    1.0\n",
       "Highly Dangerous                                      1.0\n",
       "Kickboxer                                             1.0\n",
       "Mirage                                                1.0\n",
       "dtype: float64"
      ]
     },
     "execution_count": 43,
     "metadata": {},
     "output_type": "execute_result"
    }
   ],
   "source": [
    "genres_movie_recomeding(\"On Deadly Ground\")"
   ]
  },
  {
   "cell_type": "markdown",
   "metadata": {},
   "source": [
    "# Feature Engineering for Feature Selections"
   ]
  },
  {
   "cell_type": "code",
   "execution_count": 44,
   "metadata": {},
   "outputs": [],
   "source": [
    "def change_lst(s): \n",
    "    \"\"\" Change the the list to a string text\"\"\"\n",
    "    return ' '.join([elem for elem in s])"
   ]
  },
  {
   "cell_type": "code",
   "execution_count": 45,
   "metadata": {},
   "outputs": [],
   "source": [
    "movies_dt[\"genres\"] = movies_dt[\"genres\"].apply(change_lst)"
   ]
  },
  {
   "cell_type": "code",
   "execution_count": 46,
   "metadata": {},
   "outputs": [
    {
     "data": {
      "image/png": "[encoded data removed]",
      "text/plain": [
       "<Figure size 864x576 with 1 Axes>"
      ]
     },
     "metadata": {
      "needs_background": "light"
     },
     "output_type": "display_data"
    }
   ],
   "source": [
    "# Check the different genres frquency with image show\n",
    "dictionary=Counter(movies_dt.genres)\n",
    "cloud = WordCloud(max_font_size=80,colormap=\"coolwarm\").generate_from_frequencies(dictionary)\n",
    "plt.figure(figsize=(12,8))\n",
    "plt.imshow(cloud, interpolation='bilinear')\n",
    "plt.title(\"Text Analysis\", fontsize = 16, weight = 'bold')\n",
    "plt.axis('off')\n",
    "plt.show()"
   ]
  },
  {
   "cell_type": "code",
   "execution_count": 47,
   "metadata": {},
   "outputs": [],
   "source": [
    "movies_dt[\"spoken_languages\"] = movies_dt[\"spoken_languages\"].apply(change_lst)"
   ]
  },
  {
   "cell_type": "code",
   "execution_count": 48,
   "metadata": {},
   "outputs": [],
   "source": [
    "movies_dt[\"production_countries\"] = movies_dt[\"production_countries\"].apply(change_lst)\n",
    "movies_dt[\"production_companies\"] = movies_dt[\"production_companies\"].apply(change_lst)"
   ]
  },
  {
   "cell_type": "code",
   "execution_count": 49,
   "metadata": {},
   "outputs": [],
   "source": [
    "movies_dt.sort_values(\"popularity\", ascending = False, inplace = True)\n",
    "movies_dt.reset_index(inplace = True)"
   ]
  },
  {
   "cell_type": "code",
   "execution_count": 50,
   "metadata": {},
   "outputs": [
    {
     "data": {
      "text/html": [
       "<div>\n",
       "<style scoped>\n",
       "    .dataframe tbody tr th:only-of-type {\n",
       "        vertical-align: middle;\n",
       "    }\n",
       "\n",
       "    .dataframe tbody tr th {\n",
       "        vertical-align: top;\n",
       "    }\n",
       "\n",
       "    .dataframe thead th {\n",
       "        text-align: right;\n",
       "    }\n",
       "</style>\n",
       "<table border=\"1\" class=\"dataframe\">\n",
       "  <thead>\n",
       "    <tr style=\"text-align: right;\">\n",
       "      <th></th>\n",
       "      <th>index</th>\n",
       "      <th>adult</th>\n",
       "      <th>budget</th>\n",
       "      <th>genres</th>\n",
       "      <th>id</th>\n",
       "      <th>imdb_id</th>\n",
       "      <th>original_language</th>\n",
       "      <th>original_title</th>\n",
       "      <th>overview</th>\n",
       "      <th>popularity</th>\n",
       "      <th>...</th>\n",
       "      <th>revenue</th>\n",
       "      <th>runtime</th>\n",
       "      <th>spoken_languages</th>\n",
       "      <th>status</th>\n",
       "      <th>tagline</th>\n",
       "      <th>title</th>\n",
       "      <th>video</th>\n",
       "      <th>vote_average</th>\n",
       "      <th>vote_count</th>\n",
       "      <th>profit</th>\n",
       "    </tr>\n",
       "  </thead>\n",
       "  <tbody>\n",
       "    <tr>\n",
       "      <th>0</th>\n",
       "      <td>30700</td>\n",
       "      <td>False</td>\n",
       "      <td>74000000</td>\n",
       "      <td>Family Animation Adventure Comedy</td>\n",
       "      <td>211672</td>\n",
       "      <td>tt2293640</td>\n",
       "      <td>en</td>\n",
       "      <td>Minions</td>\n",
       "      <td>Minions Stuart, Kevin and Bob are recruited by...</td>\n",
       "      <td>547.488298</td>\n",
       "      <td>...</td>\n",
       "      <td>1156730962</td>\n",
       "      <td>short</td>\n",
       "      <td>English</td>\n",
       "      <td>Released</td>\n",
       "      <td>Before Gru, they had a history of bad bosses</td>\n",
       "      <td>Minions</td>\n",
       "      <td>False</td>\n",
       "      <td>6.4</td>\n",
       "      <td>4729.0</td>\n",
       "      <td>1082730962</td>\n",
       "    </tr>\n",
       "    <tr>\n",
       "      <th>1</th>\n",
       "      <td>33356</td>\n",
       "      <td>False</td>\n",
       "      <td>149000000</td>\n",
       "      <td>Action Adventure Fantasy</td>\n",
       "      <td>297762</td>\n",
       "      <td>tt0451279</td>\n",
       "      <td>en</td>\n",
       "      <td>Wonder Woman</td>\n",
       "      <td>An Amazon princess comes to the world of Man t...</td>\n",
       "      <td>294.337037</td>\n",
       "      <td>...</td>\n",
       "      <td>820580447</td>\n",
       "      <td>long</td>\n",
       "      <td>Deutsch English</td>\n",
       "      <td>Released</td>\n",
       "      <td>Power. Grace. Wisdom. Wonder.</td>\n",
       "      <td>Wonder Woman</td>\n",
       "      <td>False</td>\n",
       "      <td>7.2</td>\n",
       "      <td>5025.0</td>\n",
       "      <td>671580447</td>\n",
       "    </tr>\n",
       "    <tr>\n",
       "      <th>2</th>\n",
       "      <td>42222</td>\n",
       "      <td>False</td>\n",
       "      <td>160000000</td>\n",
       "      <td>Family Fantasy Romance</td>\n",
       "      <td>321612</td>\n",
       "      <td>tt2771200</td>\n",
       "      <td>en</td>\n",
       "      <td>Beauty and the Beast</td>\n",
       "      <td>A live-action adaptation of Disney's version o...</td>\n",
       "      <td>287.253654</td>\n",
       "      <td>...</td>\n",
       "      <td>1262886337</td>\n",
       "      <td>long</td>\n",
       "      <td>English</td>\n",
       "      <td>Released</td>\n",
       "      <td>Be our guest.</td>\n",
       "      <td>Beauty and the Beast</td>\n",
       "      <td>False</td>\n",
       "      <td>6.8</td>\n",
       "      <td>5530.0</td>\n",
       "      <td>1102886337</td>\n",
       "    </tr>\n",
       "    <tr>\n",
       "      <th>3</th>\n",
       "      <td>43644</td>\n",
       "      <td>False</td>\n",
       "      <td>34000000</td>\n",
       "      <td>Action Crime</td>\n",
       "      <td>339403</td>\n",
       "      <td>tt3890160</td>\n",
       "      <td>en</td>\n",
       "      <td>Baby Driver</td>\n",
       "      <td>After being coerced into working for a crime b...</td>\n",
       "      <td>228.032744</td>\n",
       "      <td>...</td>\n",
       "      <td>224511319</td>\n",
       "      <td>short</td>\n",
       "      <td>English</td>\n",
       "      <td>Released</td>\n",
       "      <td>All you need is one killer track.</td>\n",
       "      <td>Baby Driver</td>\n",
       "      <td>False</td>\n",
       "      <td>7.2</td>\n",
       "      <td>2083.0</td>\n",
       "      <td>190511319</td>\n",
       "    </tr>\n",
       "    <tr>\n",
       "      <th>4</th>\n",
       "      <td>24455</td>\n",
       "      <td>False</td>\n",
       "      <td>165000000</td>\n",
       "      <td>Adventure Family Animation Action Comedy</td>\n",
       "      <td>177572</td>\n",
       "      <td>tt2245084</td>\n",
       "      <td>en</td>\n",
       "      <td>Big Hero 6</td>\n",
       "      <td>The special bond that develops between plus-si...</td>\n",
       "      <td>213.849907</td>\n",
       "      <td>...</td>\n",
       "      <td>652105443</td>\n",
       "      <td>short</td>\n",
       "      <td>English</td>\n",
       "      <td>Released</td>\n",
       "      <td>From the creators of Wreck-it Ralph and Frozen</td>\n",
       "      <td>Big Hero 6</td>\n",
       "      <td>False</td>\n",
       "      <td>7.8</td>\n",
       "      <td>6289.0</td>\n",
       "      <td>487105443</td>\n",
       "    </tr>\n",
       "    <tr>\n",
       "      <th>5</th>\n",
       "      <td>26564</td>\n",
       "      <td>False</td>\n",
       "      <td>58000000</td>\n",
       "      <td>Action Adventure Comedy</td>\n",
       "      <td>293660</td>\n",
       "      <td>tt1431045</td>\n",
       "      <td>en</td>\n",
       "      <td>Deadpool</td>\n",
       "      <td>Deadpool tells the origin story of former Spec...</td>\n",
       "      <td>187.860492</td>\n",
       "      <td>...</td>\n",
       "      <td>783112979</td>\n",
       "      <td>short</td>\n",
       "      <td>English</td>\n",
       "      <td>Released</td>\n",
       "      <td>Witness the beginning of a happy ending</td>\n",
       "      <td>Deadpool</td>\n",
       "      <td>False</td>\n",
       "      <td>7.4</td>\n",
       "      <td>11444.0</td>\n",
       "      <td>725112979</td>\n",
       "    </tr>\n",
       "    <tr>\n",
       "      <th>6</th>\n",
       "      <td>26566</td>\n",
       "      <td>False</td>\n",
       "      <td>200000000</td>\n",
       "      <td>Action Adventure Comedy Science Fiction</td>\n",
       "      <td>283995</td>\n",
       "      <td>tt3896198</td>\n",
       "      <td>en</td>\n",
       "      <td>Guardians of the Galaxy Vol. 2</td>\n",
       "      <td>The Guardians must fight to keep their newfoun...</td>\n",
       "      <td>185.330992</td>\n",
       "      <td>...</td>\n",
       "      <td>863416141</td>\n",
       "      <td>long</td>\n",
       "      <td>English</td>\n",
       "      <td>Released</td>\n",
       "      <td>Obviously.</td>\n",
       "      <td>Guardians of the Galaxy Vol. 2</td>\n",
       "      <td>False</td>\n",
       "      <td>7.6</td>\n",
       "      <td>4858.0</td>\n",
       "      <td>663416141</td>\n",
       "    </tr>\n",
       "    <tr>\n",
       "      <th>7</th>\n",
       "      <td>14551</td>\n",
       "      <td>False</td>\n",
       "      <td>237000000</td>\n",
       "      <td>Action Adventure Fantasy Science Fiction</td>\n",
       "      <td>19995</td>\n",
       "      <td>tt0499549</td>\n",
       "      <td>en</td>\n",
       "      <td>Avatar</td>\n",
       "      <td>In the 22nd century, a paraplegic Marine is di...</td>\n",
       "      <td>185.070892</td>\n",
       "      <td>...</td>\n",
       "      <td>2787965087</td>\n",
       "      <td>long</td>\n",
       "      <td>English Español</td>\n",
       "      <td>Released</td>\n",
       "      <td>Enter the World of Pandora.</td>\n",
       "      <td>Avatar</td>\n",
       "      <td>False</td>\n",
       "      <td>7.2</td>\n",
       "      <td>12114.0</td>\n",
       "      <td>2550965087</td>\n",
       "    </tr>\n",
       "    <tr>\n",
       "      <th>8</th>\n",
       "      <td>24351</td>\n",
       "      <td>False</td>\n",
       "      <td>20000000</td>\n",
       "      <td>Action Thriller</td>\n",
       "      <td>245891</td>\n",
       "      <td>tt2911666</td>\n",
       "      <td>en</td>\n",
       "      <td>John Wick</td>\n",
       "      <td>Ex-lunatic John Wick comes off his meds to tra...</td>\n",
       "      <td>183.870374</td>\n",
       "      <td>...</td>\n",
       "      <td>88761661</td>\n",
       "      <td>short</td>\n",
       "      <td>Magyar English Pусский</td>\n",
       "      <td>Released</td>\n",
       "      <td>Don't set him off.</td>\n",
       "      <td>John Wick</td>\n",
       "      <td>False</td>\n",
       "      <td>7.0</td>\n",
       "      <td>5499.0</td>\n",
       "      <td>68761661</td>\n",
       "    </tr>\n",
       "    <tr>\n",
       "      <th>9</th>\n",
       "      <td>23675</td>\n",
       "      <td>False</td>\n",
       "      <td>61000000</td>\n",
       "      <td>Mystery Thriller Drama</td>\n",
       "      <td>210577</td>\n",
       "      <td>tt2267998</td>\n",
       "      <td>en</td>\n",
       "      <td>Gone Girl</td>\n",
       "      <td>With his wife's disappearance having become th...</td>\n",
       "      <td>154.801009</td>\n",
       "      <td>...</td>\n",
       "      <td>369330363</td>\n",
       "      <td>long</td>\n",
       "      <td>English</td>\n",
       "      <td>Released</td>\n",
       "      <td>You don't know what you've got 'til it's...</td>\n",
       "      <td>Gone Girl</td>\n",
       "      <td>False</td>\n",
       "      <td>7.9</td>\n",
       "      <td>6023.0</td>\n",
       "      <td>308330363</td>\n",
       "    </tr>\n",
       "  </tbody>\n",
       "</table>\n",
       "<p>10 rows × 22 columns</p>\n",
       "</div>"
      ],
      "text/plain": [
       "   index  adult     budget                                    genres      id  \\\n",
       "0  30700  False   74000000         Family Animation Adventure Comedy  211672   \n",
       "1  33356  False  149000000                  Action Adventure Fantasy  297762   \n",
       "2  42222  False  160000000                    Family Fantasy Romance  321612   \n",
       "3  43644  False   34000000                              Action Crime  339403   \n",
       "4  24455  False  165000000  Adventure Family Animation Action Comedy  177572   \n",
       "5  26564  False   58000000                   Action Adventure Comedy  293660   \n",
       "6  26566  False  200000000   Action Adventure Comedy Science Fiction  283995   \n",
       "7  14551  False  237000000  Action Adventure Fantasy Science Fiction   19995   \n",
       "8  24351  False   20000000                           Action Thriller  245891   \n",
       "9  23675  False   61000000                    Mystery Thriller Drama  210577   \n",
       "\n",
       "     imdb_id original_language                  original_title  \\\n",
       "0  tt2293640                en                         Minions   \n",
       "1  tt0451279                en                    Wonder Woman   \n",
       "2  tt2771200                en            Beauty and the Beast   \n",
       "3  tt3890160                en                     Baby Driver   \n",
       "4  tt2245084                en                      Big Hero 6   \n",
       "5  tt1431045                en                        Deadpool   \n",
       "6  tt3896198                en  Guardians of the Galaxy Vol. 2   \n",
       "7  tt0499549                en                          Avatar   \n",
       "8  tt2911666                en                       John Wick   \n",
       "9  tt2267998                en                       Gone Girl   \n",
       "\n",
       "                                            overview  popularity  ...  \\\n",
       "0  Minions Stuart, Kevin and Bob are recruited by...  547.488298  ...   \n",
       "1  An Amazon princess comes to the world of Man t...  294.337037  ...   \n",
       "2  A live-action adaptation of Disney's version o...  287.253654  ...   \n",
       "3  After being coerced into working for a crime b...  228.032744  ...   \n",
       "4  The special bond that develops between plus-si...  213.849907  ...   \n",
       "5  Deadpool tells the origin story of former Spec...  187.860492  ...   \n",
       "6  The Guardians must fight to keep their newfoun...  185.330992  ...   \n",
       "7  In the 22nd century, a paraplegic Marine is di...  185.070892  ...   \n",
       "8  Ex-lunatic John Wick comes off his meds to tra...  183.870374  ...   \n",
       "9  With his wife's disappearance having become th...  154.801009  ...   \n",
       "\n",
       "      revenue runtime        spoken_languages    status  \\\n",
       "0  1156730962   short                 English  Released   \n",
       "1   820580447    long         Deutsch English  Released   \n",
       "2  1262886337    long                 English  Released   \n",
       "3   224511319   short                 English  Released   \n",
       "4   652105443   short                 English  Released   \n",
       "5   783112979   short                 English  Released   \n",
       "6   863416141    long                 English  Released   \n",
       "7  2787965087    long         English Español  Released   \n",
       "8    88761661   short  Magyar English Pусский  Released   \n",
       "9   369330363    long                 English  Released   \n",
       "\n",
       "                                          tagline  \\\n",
       "0    Before Gru, they had a history of bad bosses   \n",
       "1                   Power. Grace. Wisdom. Wonder.   \n",
       "2                                   Be our guest.   \n",
       "3               All you need is one killer track.   \n",
       "4  From the creators of Wreck-it Ralph and Frozen   \n",
       "5         Witness the beginning of a happy ending   \n",
       "6                                      Obviously.   \n",
       "7                     Enter the World of Pandora.   \n",
       "8                              Don't set him off.   \n",
       "9     You don't know what you've got 'til it's...   \n",
       "\n",
       "                            title  video vote_average vote_count      profit  \n",
       "0                         Minions  False          6.4     4729.0  1082730962  \n",
       "1                    Wonder Woman  False          7.2     5025.0   671580447  \n",
       "2            Beauty and the Beast  False          6.8     5530.0  1102886337  \n",
       "3                     Baby Driver  False          7.2     2083.0   190511319  \n",
       "4                      Big Hero 6  False          7.8     6289.0   487105443  \n",
       "5                        Deadpool  False          7.4    11444.0   725112979  \n",
       "6  Guardians of the Galaxy Vol. 2  False          7.6     4858.0   663416141  \n",
       "7                          Avatar  False          7.2    12114.0  2550965087  \n",
       "8                       John Wick  False          7.0     5499.0    68761661  \n",
       "9                       Gone Girl  False          7.9     6023.0   308330363  \n",
       "\n",
       "[10 rows x 22 columns]"
      ]
     },
     "execution_count": 50,
     "metadata": {},
     "output_type": "execute_result"
    }
   ],
   "source": [
    "# Check the columns values updates\n",
    "movies_dt.head(10)"
   ]
  },
  {
   "cell_type": "code",
   "execution_count": 51,
   "metadata": {},
   "outputs": [
    {
     "data": {
      "text/plain": [
       "Index(['index', 'adult', 'budget', 'genres', 'id', 'imdb_id',\n",
       "       'original_language', 'original_title', 'overview', 'popularity',\n",
       "       'production_companies', 'production_countries', 'revenue', 'runtime',\n",
       "       'spoken_languages', 'status', 'tagline', 'title', 'video',\n",
       "       'vote_average', 'vote_count', 'profit'],\n",
       "      dtype='object')"
      ]
     },
     "execution_count": 51,
     "metadata": {},
     "output_type": "execute_result"
    }
   ],
   "source": [
    "movies_dt.columns"
   ]
  },
  {
   "cell_type": "code",
   "execution_count": 52,
   "metadata": {},
   "outputs": [],
   "source": [
    "# Select features for content based filtering rec\n",
    "features = [\"overview\", \"tagline\", \"original_title\",\n",
    "            \"production_companies\", \"production_countries\"]"
   ]
  },
  {
   "cell_type": "code",
   "execution_count": 53,
   "metadata": {},
   "outputs": [
    {
     "data": {
      "text/plain": [
       "0          Minions Stuart, Kevin and Bob are recruited ...\n",
       "1          An Amazon princess comes to the world of Man...\n",
       "2          A live-action adaptation of Disney's version...\n",
       "3          After being coerced into working for a crime...\n",
       "4          The special bond that develops between plus-...\n",
       "                               ...                        \n",
       "20374      A blonde (Sammi Davis) seduces a quirky liqu...\n",
       "20375      Professor Irwin Corey is now 101 years old a...\n",
       "20376      Bling is a documentary film which focuses on...\n",
       "20377      Director Bahman Farmanara's second film foll...\n",
       "20378      Four music videos of Kino band joined togeth...\n",
       "Length: 20379, dtype: object"
      ]
     },
     "execution_count": 53,
     "metadata": {},
     "output_type": "execute_result"
    }
   ],
   "source": [
    "## Combined the selected features to one features column\n",
    "new_feat = \" \"\n",
    "for feat in features:\n",
    "    new_feat = new_feat +\" \" + movies_dt[feat]\n",
    "new_feat"
   ]
  },
  {
   "cell_type": "code",
   "execution_count": 54,
   "metadata": {},
   "outputs": [],
   "source": [
    "# Add the feature column\n",
    "movies_dt[\"features\"] = new_feat\n",
    "# movies_dt.set_index(\"title\", inplace = True)"
   ]
  },
  {
   "cell_type": "code",
   "execution_count": 55,
   "metadata": {},
   "outputs": [
    {
     "data": {
      "text/html": [
       "<div>\n",
       "<style scoped>\n",
       "    .dataframe tbody tr th:only-of-type {\n",
       "        vertical-align: middle;\n",
       "    }\n",
       "\n",
       "    .dataframe tbody tr th {\n",
       "        vertical-align: top;\n",
       "    }\n",
       "\n",
       "    .dataframe thead th {\n",
       "        text-align: right;\n",
       "    }\n",
       "</style>\n",
       "<table border=\"1\" class=\"dataframe\">\n",
       "  <thead>\n",
       "    <tr style=\"text-align: right;\">\n",
       "      <th></th>\n",
       "      <th>index</th>\n",
       "      <th>adult</th>\n",
       "      <th>budget</th>\n",
       "      <th>genres</th>\n",
       "      <th>id</th>\n",
       "      <th>imdb_id</th>\n",
       "      <th>original_language</th>\n",
       "      <th>original_title</th>\n",
       "      <th>overview</th>\n",
       "      <th>popularity</th>\n",
       "      <th>...</th>\n",
       "      <th>runtime</th>\n",
       "      <th>spoken_languages</th>\n",
       "      <th>status</th>\n",
       "      <th>tagline</th>\n",
       "      <th>title</th>\n",
       "      <th>video</th>\n",
       "      <th>vote_average</th>\n",
       "      <th>vote_count</th>\n",
       "      <th>profit</th>\n",
       "      <th>features</th>\n",
       "    </tr>\n",
       "  </thead>\n",
       "  <tbody>\n",
       "    <tr>\n",
       "      <th>0</th>\n",
       "      <td>30700</td>\n",
       "      <td>False</td>\n",
       "      <td>74000000</td>\n",
       "      <td>Family Animation Adventure Comedy</td>\n",
       "      <td>211672</td>\n",
       "      <td>tt2293640</td>\n",
       "      <td>en</td>\n",
       "      <td>Minions</td>\n",
       "      <td>Minions Stuart, Kevin and Bob are recruited by...</td>\n",
       "      <td>547.488298</td>\n",
       "      <td>...</td>\n",
       "      <td>short</td>\n",
       "      <td>English</td>\n",
       "      <td>Released</td>\n",
       "      <td>Before Gru, they had a history of bad bosses</td>\n",
       "      <td>Minions</td>\n",
       "      <td>False</td>\n",
       "      <td>6.4</td>\n",
       "      <td>4729.0</td>\n",
       "      <td>1082730962</td>\n",
       "      <td>Minions Stuart, Kevin and Bob are recruited ...</td>\n",
       "    </tr>\n",
       "    <tr>\n",
       "      <th>1</th>\n",
       "      <td>33356</td>\n",
       "      <td>False</td>\n",
       "      <td>149000000</td>\n",
       "      <td>Action Adventure Fantasy</td>\n",
       "      <td>297762</td>\n",
       "      <td>tt0451279</td>\n",
       "      <td>en</td>\n",
       "      <td>Wonder Woman</td>\n",
       "      <td>An Amazon princess comes to the world of Man t...</td>\n",
       "      <td>294.337037</td>\n",
       "      <td>...</td>\n",
       "      <td>long</td>\n",
       "      <td>Deutsch English</td>\n",
       "      <td>Released</td>\n",
       "      <td>Power. Grace. Wisdom. Wonder.</td>\n",
       "      <td>Wonder Woman</td>\n",
       "      <td>False</td>\n",
       "      <td>7.2</td>\n",
       "      <td>5025.0</td>\n",
       "      <td>671580447</td>\n",
       "      <td>An Amazon princess comes to the world of Man...</td>\n",
       "    </tr>\n",
       "    <tr>\n",
       "      <th>2</th>\n",
       "      <td>42222</td>\n",
       "      <td>False</td>\n",
       "      <td>160000000</td>\n",
       "      <td>Family Fantasy Romance</td>\n",
       "      <td>321612</td>\n",
       "      <td>tt2771200</td>\n",
       "      <td>en</td>\n",
       "      <td>Beauty and the Beast</td>\n",
       "      <td>A live-action adaptation of Disney's version o...</td>\n",
       "      <td>287.253654</td>\n",
       "      <td>...</td>\n",
       "      <td>long</td>\n",
       "      <td>English</td>\n",
       "      <td>Released</td>\n",
       "      <td>Be our guest.</td>\n",
       "      <td>Beauty and the Beast</td>\n",
       "      <td>False</td>\n",
       "      <td>6.8</td>\n",
       "      <td>5530.0</td>\n",
       "      <td>1102886337</td>\n",
       "      <td>A live-action adaptation of Disney's version...</td>\n",
       "    </tr>\n",
       "    <tr>\n",
       "      <th>3</th>\n",
       "      <td>43644</td>\n",
       "      <td>False</td>\n",
       "      <td>34000000</td>\n",
       "      <td>Action Crime</td>\n",
       "      <td>339403</td>\n",
       "      <td>tt3890160</td>\n",
       "      <td>en</td>\n",
       "      <td>Baby Driver</td>\n",
       "      <td>After being coerced into working for a crime b...</td>\n",
       "      <td>228.032744</td>\n",
       "      <td>...</td>\n",
       "      <td>short</td>\n",
       "      <td>English</td>\n",
       "      <td>Released</td>\n",
       "      <td>All you need is one killer track.</td>\n",
       "      <td>Baby Driver</td>\n",
       "      <td>False</td>\n",
       "      <td>7.2</td>\n",
       "      <td>2083.0</td>\n",
       "      <td>190511319</td>\n",
       "      <td>After being coerced into working for a crime...</td>\n",
       "    </tr>\n",
       "    <tr>\n",
       "      <th>4</th>\n",
       "      <td>24455</td>\n",
       "      <td>False</td>\n",
       "      <td>165000000</td>\n",
       "      <td>Adventure Family Animation Action Comedy</td>\n",
       "      <td>177572</td>\n",
       "      <td>tt2245084</td>\n",
       "      <td>en</td>\n",
       "      <td>Big Hero 6</td>\n",
       "      <td>The special bond that develops between plus-si...</td>\n",
       "      <td>213.849907</td>\n",
       "      <td>...</td>\n",
       "      <td>short</td>\n",
       "      <td>English</td>\n",
       "      <td>Released</td>\n",
       "      <td>From the creators of Wreck-it Ralph and Frozen</td>\n",
       "      <td>Big Hero 6</td>\n",
       "      <td>False</td>\n",
       "      <td>7.8</td>\n",
       "      <td>6289.0</td>\n",
       "      <td>487105443</td>\n",
       "      <td>The special bond that develops between plus-...</td>\n",
       "    </tr>\n",
       "  </tbody>\n",
       "</table>\n",
       "<p>5 rows × 23 columns</p>\n",
       "</div>"
      ],
      "text/plain": [
       "   index  adult     budget                                    genres      id  \\\n",
       "0  30700  False   74000000         Family Animation Adventure Comedy  211672   \n",
       "1  33356  False  149000000                  Action Adventure Fantasy  297762   \n",
       "2  42222  False  160000000                    Family Fantasy Romance  321612   \n",
       "3  43644  False   34000000                              Action Crime  339403   \n",
       "4  24455  False  165000000  Adventure Family Animation Action Comedy  177572   \n",
       "\n",
       "     imdb_id original_language        original_title  \\\n",
       "0  tt2293640                en               Minions   \n",
       "1  tt0451279                en          Wonder Woman   \n",
       "2  tt2771200                en  Beauty and the Beast   \n",
       "3  tt3890160                en           Baby Driver   \n",
       "4  tt2245084                en            Big Hero 6   \n",
       "\n",
       "                                            overview  popularity  ... runtime  \\\n",
       "0  Minions Stuart, Kevin and Bob are recruited by...  547.488298  ...   short   \n",
       "1  An Amazon princess comes to the world of Man t...  294.337037  ...    long   \n",
       "2  A live-action adaptation of Disney's version o...  287.253654  ...    long   \n",
       "3  After being coerced into working for a crime b...  228.032744  ...   short   \n",
       "4  The special bond that develops between plus-si...  213.849907  ...   short   \n",
       "\n",
       "  spoken_languages    status                                         tagline  \\\n",
       "0          English  Released    Before Gru, they had a history of bad bosses   \n",
       "1  Deutsch English  Released                   Power. Grace. Wisdom. Wonder.   \n",
       "2          English  Released                                   Be our guest.   \n",
       "3          English  Released               All you need is one killer track.   \n",
       "4          English  Released  From the creators of Wreck-it Ralph and Frozen   \n",
       "\n",
       "                  title  video vote_average vote_count      profit  \\\n",
       "0               Minions  False          6.4     4729.0  1082730962   \n",
       "1          Wonder Woman  False          7.2     5025.0   671580447   \n",
       "2  Beauty and the Beast  False          6.8     5530.0  1102886337   \n",
       "3           Baby Driver  False          7.2     2083.0   190511319   \n",
       "4            Big Hero 6  False          7.8     6289.0   487105443   \n",
       "\n",
       "                                            features  \n",
       "0    Minions Stuart, Kevin and Bob are recruited ...  \n",
       "1    An Amazon princess comes to the world of Man...  \n",
       "2    A live-action adaptation of Disney's version...  \n",
       "3    After being coerced into working for a crime...  \n",
       "4    The special bond that develops between plus-...  \n",
       "\n",
       "[5 rows x 23 columns]"
      ]
     },
     "execution_count": 55,
     "metadata": {},
     "output_type": "execute_result"
    }
   ],
   "source": [
    "movies_dt.head()"
   ]
  },
  {
   "cell_type": "markdown",
   "metadata": {},
   "source": [
    "## NLP Processing"
   ]
  },
  {
   "cell_type": "code",
   "execution_count": 56,
   "metadata": {},
   "outputs": [],
   "source": [
    "def stopword_removal(x):\n",
    "    \"\"\"\n",
    "    Remove all the stop words from the text\n",
    "    \"\"\"\n",
    "    stop = set(stopwords.words('english')+ list(punctuation))\n",
    "    words = [i for i in word_tokenize(x.lower()) if i not in stop]\n",
    "    return \" \".join(words)"
   ]
  },
  {
   "cell_type": "code",
   "execution_count": 57,
   "metadata": {},
   "outputs": [],
   "source": [
    "movies_dt[\"features\"] = movies_dt[\"features\"].fillna(\"\")"
   ]
  },
  {
   "cell_type": "code",
   "execution_count": 58,
   "metadata": {},
   "outputs": [],
   "source": [
    "movies_dt[\"features\"] = movies_dt[\"features\"].apply(stopword_removal)"
   ]
  },
  {
   "cell_type": "code",
   "execution_count": 59,
   "metadata": {},
   "outputs": [
    {
     "data": {
      "text/plain": [
       "0        minions stuart kevin bob recruited scarlet ove...\n",
       "1        amazon princess comes world man become greates...\n",
       "2        live-action adaptation disney 's version class...\n",
       "3        coerced working crime boss young getaway drive...\n",
       "4        special bond develops plus-sized inflatable ro...\n",
       "                               ...                        \n",
       "20374    blonde sammi davis seduces quirky liquor-store...\n",
       "20375    professor irwin corey 101 years old well known...\n",
       "20376    bling documentary film focuses complex relatio...\n",
       "20377    director bahman farmanara 's second film follo...\n",
       "20378    four music videos kino band joined together si...\n",
       "Name: features, Length: 20379, dtype: object"
      ]
     },
     "execution_count": 59,
     "metadata": {},
     "output_type": "execute_result"
    }
   ],
   "source": [
    "features = movies_dt[\"features\"]\n",
    "features"
   ]
  },
  {
   "cell_type": "markdown",
   "metadata": {},
   "source": [
    "### Word Embeddings with TF-IDF"
   ]
  },
  {
   "cell_type": "code",
   "execution_count": 60,
   "metadata": {},
   "outputs": [
    {
     "name": "stdout",
     "output_type": "stream",
     "text": [
      "  (0, 2247)\t0.03734426378431312\n",
      "  (0, 47928)\t0.03744896859094036\n",
      "  (0, 52825)\t0.03457157348639641\n",
      "  (0, 16646)\t0.07858926658526023\n",
      "  (0, 24598)\t0.23532515455643738\n",
      "  (0, 38245)\t0.060201441392057485\n",
      "  (0, 52832)\t0.11321476522926242\n",
      "  (0, 6562)\t0.21379965726822903\n",
      "  (0, 4250)\t0.1295815478744417\n",
      "  (0, 23466)\t0.13334895523339882\n",
      "  (0, 21766)\t0.25424861003484023\n",
      "  (0, 55704)\t0.08263598804787586\n",
      "  (0, 49600)\t0.10397099518637822\n",
      "  (0, 38642)\t0.14210822387275002\n",
      "  (0, 22662)\t0.20625772588627006\n",
      "  (0, 23127)\t0.2414171465272854\n",
      "  (0, 24233)\t0.12090299803902334\n",
      "  (0, 25844)\t0.19614623428712394\n",
      "  (0, 2056)\t0.20923895122733446\n",
      "  (0, 53971)\t0.186867579122559\n",
      "  (0, 48893)\t0.15895720517306974\n",
      "  (0, 36637)\t0.2792640574840912\n",
      "  (0, 44181)\t0.2224936910488825\n",
      "  (0, 41342)\t0.18733427040786713\n",
      "  (0, 6223)\t0.17087200977833114\n",
      "  :\t:\n",
      "  (20377, 14118)\t0.0744088198598063\n",
      "  (20377, 52246)\t0.046389933946909004\n",
      "  (20377, 17186)\t0.07344551108881404\n",
      "  (20377, 5155)\t0.060959793909898675\n",
      "  (20377, 20821)\t0.05510189851024407\n",
      "  (20377, 55262)\t0.05666078908745868\n",
      "  (20377, 19141)\t0.08158221313021383\n",
      "  (20377, 18448)\t0.0776744183641706\n",
      "  (20377, 29528)\t0.04114613412855262\n",
      "  (20377, 31015)\t0.08651641583770582\n",
      "  (20378, 56865)\t0.3766312029089602\n",
      "  (20378, 56869)\t0.3766312029089602\n",
      "  (20378, 52004)\t0.3766312029089602\n",
      "  (20378, 27835)\t0.2900550708007302\n",
      "  (20378, 26727)\t0.24318528930470215\n",
      "  (20378, 12916)\t0.24679286523388172\n",
      "  (20378, 53900)\t0.30244376321370153\n",
      "  (20378, 34138)\t0.18343913462360154\n",
      "  (20378, 46058)\t0.20113399394712037\n",
      "  (20378, 53872)\t0.24418046772390073\n",
      "  (20378, 33855)\t0.15598331731288828\n",
      "  (20378, 19400)\t0.16595267406055592\n",
      "  (20378, 50982)\t0.1511645860193031\n",
      "  (20378, 4478)\t0.1833423688385791\n",
      "  (20378, 38642)\t0.19165513737298132\n"
     ]
    }
   ],
   "source": [
    "# initiate and fit the tf-idf\n",
    "vectorizer = TfidfVectorizer()\n",
    "X_matrix = vectorizer.fit_transform(features)\n",
    "print(X_matrix)"
   ]
  },
  {
   "cell_type": "markdown",
   "metadata": {},
   "source": [
    "# Cosine Similarity - Similarity score"
   ]
  },
  {
   "cell_type": "code",
   "execution_count": 61,
   "metadata": {},
   "outputs": [],
   "source": [
    "# Initite and fit the cosine similarity\n",
    "similarity = cosine_similarity(X_matrix)"
   ]
  },
  {
   "cell_type": "code",
   "execution_count": 62,
   "metadata": {},
   "outputs": [
    {
     "data": {
      "text/plain": [
       "array([[1.        , 0.04086369, 0.01038238, ..., 0.        , 0.        ,\n",
       "        0.02723577],\n",
       "       [0.04086369, 1.        , 0.03468102, ..., 0.01117194, 0.00766296,\n",
       "        0.        ]])"
      ]
     },
     "execution_count": 62,
     "metadata": {},
     "output_type": "execute_result"
    }
   ],
   "source": [
    "# check the similarity scores\n",
    "similarity[:2]"
   ]
  },
  {
   "cell_type": "code",
   "execution_count": 63,
   "metadata": {},
   "outputs": [
    {
     "data": {
      "text/plain": [
       "(20379, 20379)"
      ]
     },
     "execution_count": 63,
     "metadata": {},
     "output_type": "execute_result"
    }
   ],
   "source": [
    "similarity.shape"
   ]
  },
  {
   "cell_type": "markdown",
   "metadata": {},
   "source": [
    "# Content Based Movie Recommendation"
   ]
  },
  {
   "cell_type": "code",
   "execution_count": 64,
   "metadata": {},
   "outputs": [
    {
     "data": {
      "text/plain": [
       "['Minions',\n",
       " 'Wonder Woman',\n",
       " 'Beauty and the Beast',\n",
       " 'Baby Driver',\n",
       " 'Big Hero 6',\n",
       " 'Deadpool',\n",
       " 'Guardians of the Galaxy Vol. 2',\n",
       " 'Avatar',\n",
       " 'John Wick',\n",
       " 'Gone Girl']"
      ]
     },
     "execution_count": 64,
     "metadata": {},
     "output_type": "execute_result"
    }
   ],
   "source": [
    "# list the movie titles\n",
    "list_movies = movies_dt.title.tolist()\n",
    "list_movies[:10]"
   ]
  },
  {
   "cell_type": "code",
   "execution_count": 65,
   "metadata": {},
   "outputs": [],
   "source": [
    "def ContentBasedMovieRec(movie_name, movies_database, similarity, top_n):\n",
    "    close_movies = difflib.get_close_matches(movie_name, movies_database)\n",
    "    index_movie = movies_dt[movies_dt.title==movie_name].index.values[0]\n",
    "    similar_score = list(enumerate(similarity[index_movie]))\n",
    "    similar_score = sorted(similar_score, key = lambda x: x[1], reverse = True)\n",
    "    print( '\\033[1m' + \"Recommendation for \",  movie_name.upper())\n",
    "    movie_dict = {}\n",
    "    for movie in similar_score[1:top_n]:\n",
    "        movie_index = movie[0]\n",
    "        movie_title = movies_dt[movies_dt.index== movie_index][\"title\"].values[0]\n",
    "        movie_dict[movie_title] = movie[1]\n",
    "    movie_reco = pd.DataFrame.from_dict(movie_dict, orient='index', columns=['Similarity_coef'])\n",
    "    \n",
    "    movie_reco.reset_index(level=0, inplace=True)\n",
    "    movie_reco.rename(columns = {\"index\": \"Movies\"}, inplace = True)\n",
    "    return movie_reco.style.background_gradient(subset = \"Similarity_coef\")"
   ]
  },
  {
   "cell_type": "markdown",
   "metadata": {},
   "source": [
    "## Testing the Content based modeling "
   ]
  },
  {
   "cell_type": "code",
   "execution_count": 66,
   "metadata": {},
   "outputs": [
    {
     "name": "stdout",
     "output_type": "stream",
     "text": [
      "\u001b[1mRecommendation for  THE DEAD POOL\n"
     ]
    },
    {
     "data": {
      "text/html": [
       "<style  type=\"text/css\" >\n",
       "#T_594f0_row0_col1{\n",
       "            background-color:  #023858;\n",
       "            color:  #f1f1f1;\n",
       "        }#T_594f0_row1_col1{\n",
       "            background-color:  #045788;\n",
       "            color:  #f1f1f1;\n",
       "        }#T_594f0_row2_col1{\n",
       "            background-color:  #1e80b8;\n",
       "            color:  #000000;\n",
       "        }#T_594f0_row3_col1{\n",
       "            background-color:  #9cb9d9;\n",
       "            color:  #000000;\n",
       "        }#T_594f0_row4_col1{\n",
       "            background-color:  #c1cae2;\n",
       "            color:  #000000;\n",
       "        }#T_594f0_row5_col1{\n",
       "            background-color:  #d1d2e6;\n",
       "            color:  #000000;\n",
       "        }#T_594f0_row6_col1{\n",
       "            background-color:  #f0eaf4;\n",
       "            color:  #000000;\n",
       "        }#T_594f0_row7_col1{\n",
       "            background-color:  #f1ebf5;\n",
       "            color:  #000000;\n",
       "        }#T_594f0_row8_col1{\n",
       "            background-color:  #f4eef6;\n",
       "            color:  #000000;\n",
       "        }#T_594f0_row9_col1{\n",
       "            background-color:  #f7f0f7;\n",
       "            color:  #000000;\n",
       "        }#T_594f0_row10_col1{\n",
       "            background-color:  #f9f2f8;\n",
       "            color:  #000000;\n",
       "        }#T_594f0_row11_col1{\n",
       "            background-color:  #fdf5fa;\n",
       "            color:  #000000;\n",
       "        }#T_594f0_row12_col1{\n",
       "            background-color:  #fef6fa;\n",
       "            color:  #000000;\n",
       "        }#T_594f0_row13_col1{\n",
       "            background-color:  #fff7fb;\n",
       "            color:  #000000;\n",
       "        }</style><table id=\"T_594f0_\" ><thead>    <tr>        <th class=\"blank level0\" ></th>        <th class=\"col_heading level0 col0\" >Movies</th>        <th class=\"col_heading level0 col1\" >Similarity_coef</th>    </tr></thead><tbody>\n",
       "                <tr>\n",
       "                        <th id=\"T_594f0_level0_row0\" class=\"row_heading level0 row0\" >0</th>\n",
       "                        <td id=\"T_594f0_row0_col0\" class=\"data row0 col0\" >The Enforcer</td>\n",
       "                        <td id=\"T_594f0_row0_col1\" class=\"data row0 col1\" >0.372507</td>\n",
       "            </tr>\n",
       "            <tr>\n",
       "                        <th id=\"T_594f0_level0_row1\" class=\"row_heading level0 row1\" >1</th>\n",
       "                        <td id=\"T_594f0_row1_col0\" class=\"data row1 col0\" >Sudden Impact</td>\n",
       "                        <td id=\"T_594f0_row1_col1\" class=\"data row1 col1\" >0.352133</td>\n",
       "            </tr>\n",
       "            <tr>\n",
       "                        <th id=\"T_594f0_level0_row2\" class=\"row_heading level0 row2\" >2</th>\n",
       "                        <td id=\"T_594f0_row2_col0\" class=\"data row2 col0\" >Dirty Harry</td>\n",
       "                        <td id=\"T_594f0_row2_col1\" class=\"data row2 col1\" >0.318082</td>\n",
       "            </tr>\n",
       "            <tr>\n",
       "                        <th id=\"T_594f0_level0_row3\" class=\"row_heading level0 row3\" >3</th>\n",
       "                        <td id=\"T_594f0_row3_col0\" class=\"data row3 col0\" >Magnum Force</td>\n",
       "                        <td id=\"T_594f0_row3_col1\" class=\"data row3 col1\" >0.268430</td>\n",
       "            </tr>\n",
       "            <tr>\n",
       "                        <th id=\"T_594f0_level0_row4\" class=\"row_heading level0 row4\" >4</th>\n",
       "                        <td id=\"T_594f0_row4_col0\" class=\"data row4 col0\" >Let's Get Harry</td>\n",
       "                        <td id=\"T_594f0_row4_col1\" class=\"data row4 col1\" >0.250055</td>\n",
       "            </tr>\n",
       "            <tr>\n",
       "                        <th id=\"T_594f0_level0_row5\" class=\"row_heading level0 row5\" >5</th>\n",
       "                        <td id=\"T_594f0_row5_col0\" class=\"data row5 col0\" >Luv</td>\n",
       "                        <td id=\"T_594f0_row5_col1\" class=\"data row5 col1\" >0.241683</td>\n",
       "            </tr>\n",
       "            <tr>\n",
       "                        <th id=\"T_594f0_level0_row6\" class=\"row_heading level0 row6\" >6</th>\n",
       "                        <td id=\"T_594f0_row6_col0\" class=\"data row6 col0\" >Harry Potter and the Philosopher's Stone</td>\n",
       "                        <td id=\"T_594f0_row6_col1\" class=\"data row6 col1\" >0.215975</td>\n",
       "            </tr>\n",
       "            <tr>\n",
       "                        <th id=\"T_594f0_level0_row7\" class=\"row_heading level0 row7\" >7</th>\n",
       "                        <td id=\"T_594f0_row7_col0\" class=\"data row7 col0\" >Harry Potter and the Goblet of Fire</td>\n",
       "                        <td id=\"T_594f0_row7_col1\" class=\"data row7 col1\" >0.214676</td>\n",
       "            </tr>\n",
       "            <tr>\n",
       "                        <th id=\"T_594f0_level0_row8\" class=\"row_heading level0 row8\" >8</th>\n",
       "                        <td id=\"T_594f0_row8_col0\" class=\"data row8 col0\" >Bullet to Beijing</td>\n",
       "                        <td id=\"T_594f0_row8_col1\" class=\"data row8 col1\" >0.211203</td>\n",
       "            </tr>\n",
       "            <tr>\n",
       "                        <th id=\"T_594f0_level0_row9\" class=\"row_heading level0 row9\" >9</th>\n",
       "                        <td id=\"T_594f0_row9_col0\" class=\"data row9 col0\" >Deconstructing Harry</td>\n",
       "                        <td id=\"T_594f0_row9_col1\" class=\"data row9 col1\" >0.207683</td>\n",
       "            </tr>\n",
       "            <tr>\n",
       "                        <th id=\"T_594f0_level0_row10\" class=\"row_heading level0 row10\" >10</th>\n",
       "                        <td id=\"T_594f0_row10_col0\" class=\"data row10 col0\" >Harry Potter and the Order of the Phoenix</td>\n",
       "                        <td id=\"T_594f0_row10_col1\" class=\"data row10 col1\" >0.205586</td>\n",
       "            </tr>\n",
       "            <tr>\n",
       "                        <th id=\"T_594f0_level0_row11\" class=\"row_heading level0 row11\" >11</th>\n",
       "                        <td id=\"T_594f0_row11_col0\" class=\"data row11 col0\" >Harry Potter and the Prisoner of Azkaban</td>\n",
       "                        <td id=\"T_594f0_row11_col1\" class=\"data row11 col1\" >0.201263</td>\n",
       "            </tr>\n",
       "            <tr>\n",
       "                        <th id=\"T_594f0_level0_row12\" class=\"row_heading level0 row12\" >12</th>\n",
       "                        <td id=\"T_594f0_row12_col0\" class=\"data row12 col0\" >Wild About Harry</td>\n",
       "                        <td id=\"T_594f0_row12_col1\" class=\"data row12 col1\" >0.199905</td>\n",
       "            </tr>\n",
       "            <tr>\n",
       "                        <th id=\"T_594f0_level0_row13\" class=\"row_heading level0 row13\" >13</th>\n",
       "                        <td id=\"T_594f0_row13_col0\" class=\"data row13 col0\" >Harry Potter and the Deathly Hallows: Part 2</td>\n",
       "                        <td id=\"T_594f0_row13_col1\" class=\"data row13 col1\" >0.198425</td>\n",
       "            </tr>\n",
       "    </tbody></table>"
      ],
      "text/plain": [
       "<pandas.io.formats.style.Styler at 0x7fde519a4650>"
      ]
     },
     "execution_count": 66,
     "metadata": {},
     "output_type": "execute_result"
    }
   ],
   "source": [
    "ContentBasedMovieRec(\"The Dead Pool\",list_movies, similarity, 15)"
   ]
  },
  {
   "cell_type": "code",
   "execution_count": 67,
   "metadata": {},
   "outputs": [
    {
     "name": "stdout",
     "output_type": "stream",
     "text": [
      "\u001b[1mRecommendation for  AVATAR\n"
     ]
    },
    {
     "data": {
      "text/html": [
       "<style  type=\"text/css\" >\n",
       "#T_a52de_row0_col1{\n",
       "            background-color:  #023858;\n",
       "            color:  #f1f1f1;\n",
       "        }#T_a52de_row1_col1{\n",
       "            background-color:  #045f95;\n",
       "            color:  #f1f1f1;\n",
       "        }#T_a52de_row2_col1{\n",
       "            background-color:  #0872b1;\n",
       "            color:  #f1f1f1;\n",
       "        }#T_a52de_row3_col1{\n",
       "            background-color:  #3d93c2;\n",
       "            color:  #000000;\n",
       "        }#T_a52de_row4_col1{\n",
       "            background-color:  #4a98c5;\n",
       "            color:  #000000;\n",
       "        }#T_a52de_row5_col1{\n",
       "            background-color:  #c1cae2;\n",
       "            color:  #000000;\n",
       "        }#T_a52de_row6_col1{\n",
       "            background-color:  #c2cbe2;\n",
       "            color:  #000000;\n",
       "        }#T_a52de_row7_col1{\n",
       "            background-color:  #dfddec;\n",
       "            color:  #000000;\n",
       "        }#T_a52de_row8_col1{\n",
       "            background-color:  #e7e3f0;\n",
       "            color:  #000000;\n",
       "        }#T_a52de_row9_col1{\n",
       "            background-color:  #f1ebf4;\n",
       "            color:  #000000;\n",
       "        }#T_a52de_row10_col1{\n",
       "            background-color:  #f2ecf5;\n",
       "            color:  #000000;\n",
       "        }#T_a52de_row11_col1{\n",
       "            background-color:  #f4eef6;\n",
       "            color:  #000000;\n",
       "        }#T_a52de_row12_col1{\n",
       "            background-color:  #f5eff6;\n",
       "            color:  #000000;\n",
       "        }#T_a52de_row13_col1{\n",
       "            background-color:  #fff7fb;\n",
       "            color:  #000000;\n",
       "        }</style><table id=\"T_a52de_\" ><thead>    <tr>        <th class=\"blank level0\" ></th>        <th class=\"col_heading level0 col0\" >Movies</th>        <th class=\"col_heading level0 col1\" >Similarity_coef</th>    </tr></thead><tbody>\n",
       "                <tr>\n",
       "                        <th id=\"T_a52de_level0_row0\" class=\"row_heading level0 row0\" >0</th>\n",
       "                        <td id=\"T_a52de_row0_col0\" class=\"data row0 col0\" >The Watch</td>\n",
       "                        <td id=\"T_a52de_row0_col1\" class=\"data row0 col1\" >0.231535</td>\n",
       "            </tr>\n",
       "            <tr>\n",
       "                        <th id=\"T_a52de_level0_row1\" class=\"row_heading level0 row1\" >1</th>\n",
       "                        <td id=\"T_a52de_row1_col0\" class=\"data row1 col0\" >X-Men: First Class</td>\n",
       "                        <td id=\"T_a52de_row1_col1\" class=\"data row1 col1\" >0.220396</td>\n",
       "            </tr>\n",
       "            <tr>\n",
       "                        <th id=\"T_a52de_level0_row2\" class=\"row_heading level0 row2\" >2</th>\n",
       "                        <td id=\"T_a52de_row2_col0\" class=\"data row2 col0\" >Dragonball Evolution</td>\n",
       "                        <td id=\"T_a52de_row2_col1\" class=\"data row2 col1\" >0.213024</td>\n",
       "            </tr>\n",
       "            <tr>\n",
       "                        <th id=\"T_a52de_level0_row3\" class=\"row_heading level0 row3\" >3</th>\n",
       "                        <td id=\"T_a52de_row3_col0\" class=\"data row3 col0\" >Eragon</td>\n",
       "                        <td id=\"T_a52de_row3_col1\" class=\"data row3 col1\" >0.203732</td>\n",
       "            </tr>\n",
       "            <tr>\n",
       "                        <th id=\"T_a52de_level0_row4\" class=\"row_heading level0 row4\" >4</th>\n",
       "                        <td id=\"T_a52de_row4_col0\" class=\"data row4 col0\" >Rise of the Planet of the Apes</td>\n",
       "                        <td id=\"T_a52de_row4_col1\" class=\"data row4 col1\" >0.201802</td>\n",
       "            </tr>\n",
       "            <tr>\n",
       "                        <th id=\"T_a52de_level0_row5\" class=\"row_heading level0 row5\" >5</th>\n",
       "                        <td id=\"T_a52de_row5_col0\" class=\"data row5 col0\" >Alien Nation</td>\n",
       "                        <td id=\"T_a52de_row5_col1\" class=\"data row5 col1\" >0.180981</td>\n",
       "            </tr>\n",
       "            <tr>\n",
       "                        <th id=\"T_a52de_level0_row6\" class=\"row_heading level0 row6\" >6</th>\n",
       "                        <td id=\"T_a52de_row6_col0\" class=\"data row6 col0\" >Live Free or Die Hard</td>\n",
       "                        <td id=\"T_a52de_row6_col1\" class=\"data row6 col1\" >0.180554</td>\n",
       "            </tr>\n",
       "            <tr>\n",
       "                        <th id=\"T_a52de_level0_row7\" class=\"row_heading level0 row7\" >7</th>\n",
       "                        <td id=\"T_a52de_row7_col0\" class=\"data row7 col0\" >True Lies</td>\n",
       "                        <td id=\"T_a52de_row7_col1\" class=\"data row7 col1\" >0.173063</td>\n",
       "            </tr>\n",
       "            <tr>\n",
       "                        <th id=\"T_a52de_level0_row8\" class=\"row_heading level0 row8\" >8</th>\n",
       "                        <td id=\"T_a52de_row8_col0\" class=\"data row8 col0\" >Donnie Darko</td>\n",
       "                        <td id=\"T_a52de_row8_col1\" class=\"data row8 col1\" >0.170360</td>\n",
       "            </tr>\n",
       "            <tr>\n",
       "                        <th id=\"T_a52de_level0_row9\" class=\"row_heading level0 row9\" >9</th>\n",
       "                        <td id=\"T_a52de_row9_col0\" class=\"data row9 col0\" >X-Men: The Last Stand</td>\n",
       "                        <td id=\"T_a52de_row9_col1\" class=\"data row9 col1\" >0.166541</td>\n",
       "            </tr>\n",
       "            <tr>\n",
       "                        <th id=\"T_a52de_level0_row10\" class=\"row_heading level0 row10\" >10</th>\n",
       "                        <td id=\"T_a52de_row10_col0\" class=\"data row10 col0\" >Gulliver's Travels</td>\n",
       "                        <td id=\"T_a52de_row10_col1\" class=\"data row10 col1\" >0.165947</td>\n",
       "            </tr>\n",
       "            <tr>\n",
       "                        <th id=\"T_a52de_level0_row11\" class=\"row_heading level0 row11\" >11</th>\n",
       "                        <td id=\"T_a52de_row11_col0\" class=\"data row11 col0\" >The Marine</td>\n",
       "                        <td id=\"T_a52de_row11_col1\" class=\"data row11 col1\" >0.165045</td>\n",
       "            </tr>\n",
       "            <tr>\n",
       "                        <th id=\"T_a52de_level0_row12\" class=\"row_heading level0 row12\" >12</th>\n",
       "                        <td id=\"T_a52de_row12_col0\" class=\"data row12 col0\" >X-Men Origins: Wolverine</td>\n",
       "                        <td id=\"T_a52de_row12_col1\" class=\"data row12 col1\" >0.164329</td>\n",
       "            </tr>\n",
       "            <tr>\n",
       "                        <th id=\"T_a52de_level0_row13\" class=\"row_heading level0 row13\" >13</th>\n",
       "                        <td id=\"T_a52de_row13_col0\" class=\"data row13 col0\" >The A-Team</td>\n",
       "                        <td id=\"T_a52de_row13_col1\" class=\"data row13 col1\" >0.159743</td>\n",
       "            </tr>\n",
       "    </tbody></table>"
      ],
      "text/plain": [
       "<pandas.io.formats.style.Styler at 0x7fde55f93b10>"
      ]
     },
     "execution_count": 67,
     "metadata": {},
     "output_type": "execute_result"
    }
   ],
   "source": [
    "ContentBasedMovieRec('Avatar', list_movies, similarity, 15 )"
   ]
  },
  {
   "cell_type": "markdown",
   "metadata": {},
   "source": [
    "# Collaborative Filtering Movie Rec. Engine"
   ]
  },
  {
   "cell_type": "markdown",
   "metadata": {},
   "source": [
    "- ## User Based Collaborative Recommendation"
   ]
  },
  {
   "cell_type": "markdown",
   "metadata": {},
   "source": [
    "Datasource: https://grouplens.org/datasets/movielens/"
   ]
  },
  {
   "cell_type": "code",
   "execution_count": 68,
   "metadata": {},
   "outputs": [],
   "source": [
    "# movies_dt.head()"
   ]
  },
  {
   "cell_type": "code",
   "execution_count": 69,
   "metadata": {},
   "outputs": [
    {
     "data": {
      "text/html": [
       "<div>\n",
       "<style scoped>\n",
       "    .dataframe tbody tr th:only-of-type {\n",
       "        vertical-align: middle;\n",
       "    }\n",
       "\n",
       "    .dataframe tbody tr th {\n",
       "        vertical-align: top;\n",
       "    }\n",
       "\n",
       "    .dataframe thead th {\n",
       "        text-align: right;\n",
       "    }\n",
       "</style>\n",
       "<table border=\"1\" class=\"dataframe\">\n",
       "  <thead>\n",
       "    <tr style=\"text-align: right;\">\n",
       "      <th></th>\n",
       "      <th>userId</th>\n",
       "      <th>movieId</th>\n",
       "      <th>rating</th>\n",
       "      <th>timestamp</th>\n",
       "    </tr>\n",
       "  </thead>\n",
       "  <tbody>\n",
       "    <tr>\n",
       "      <th>0</th>\n",
       "      <td>1</td>\n",
       "      <td>1</td>\n",
       "      <td>4.0</td>\n",
       "      <td>964982703</td>\n",
       "    </tr>\n",
       "    <tr>\n",
       "      <th>1</th>\n",
       "      <td>1</td>\n",
       "      <td>3</td>\n",
       "      <td>4.0</td>\n",
       "      <td>964981247</td>\n",
       "    </tr>\n",
       "    <tr>\n",
       "      <th>2</th>\n",
       "      <td>1</td>\n",
       "      <td>6</td>\n",
       "      <td>4.0</td>\n",
       "      <td>964982224</td>\n",
       "    </tr>\n",
       "    <tr>\n",
       "      <th>3</th>\n",
       "      <td>1</td>\n",
       "      <td>47</td>\n",
       "      <td>5.0</td>\n",
       "      <td>964983815</td>\n",
       "    </tr>\n",
       "    <tr>\n",
       "      <th>4</th>\n",
       "      <td>1</td>\n",
       "      <td>50</td>\n",
       "      <td>5.0</td>\n",
       "      <td>964982931</td>\n",
       "    </tr>\n",
       "  </tbody>\n",
       "</table>\n",
       "</div>"
      ],
      "text/plain": [
       "   userId  movieId  rating  timestamp\n",
       "0       1        1     4.0  964982703\n",
       "1       1        3     4.0  964981247\n",
       "2       1        6     4.0  964982224\n",
       "3       1       47     5.0  964983815\n",
       "4       1       50     5.0  964982931"
      ]
     },
     "execution_count": 69,
     "metadata": {},
     "output_type": "execute_result"
    }
   ],
   "source": [
    "#load the rating datasets\n",
    "rating_data= pd.read_csv(\"data/ml-latest-small/ratings.csv\")\n",
    "rating_data.head()"
   ]
  },
  {
   "cell_type": "code",
   "execution_count": 70,
   "metadata": {},
   "outputs": [
    {
     "data": {
      "text/plain": [
       "(100836, 4)"
      ]
     },
     "execution_count": 70,
     "metadata": {},
     "output_type": "execute_result"
    }
   ],
   "source": [
    "# Check the data shape\n",
    "rating_data.shape"
   ]
  },
  {
   "cell_type": "code",
   "execution_count": 71,
   "metadata": {},
   "outputs": [
    {
     "data": {
      "text/html": [
       "<div>\n",
       "<style scoped>\n",
       "    .dataframe tbody tr th:only-of-type {\n",
       "        vertical-align: middle;\n",
       "    }\n",
       "\n",
       "    .dataframe tbody tr th {\n",
       "        vertical-align: top;\n",
       "    }\n",
       "\n",
       "    .dataframe thead th {\n",
       "        text-align: right;\n",
       "    }\n",
       "</style>\n",
       "<table border=\"1\" class=\"dataframe\">\n",
       "  <thead>\n",
       "    <tr style=\"text-align: right;\">\n",
       "      <th></th>\n",
       "      <th>movieId</th>\n",
       "      <th>title</th>\n",
       "      <th>genres</th>\n",
       "    </tr>\n",
       "  </thead>\n",
       "  <tbody>\n",
       "    <tr>\n",
       "      <th>0</th>\n",
       "      <td>1</td>\n",
       "      <td>Toy Story (1995)</td>\n",
       "      <td>Adventure|Animation|Children|Comedy|Fantasy</td>\n",
       "    </tr>\n",
       "    <tr>\n",
       "      <th>1</th>\n",
       "      <td>2</td>\n",
       "      <td>Jumanji (1995)</td>\n",
       "      <td>Adventure|Children|Fantasy</td>\n",
       "    </tr>\n",
       "    <tr>\n",
       "      <th>2</th>\n",
       "      <td>3</td>\n",
       "      <td>Grumpier Old Men (1995)</td>\n",
       "      <td>Comedy|Romance</td>\n",
       "    </tr>\n",
       "    <tr>\n",
       "      <th>3</th>\n",
       "      <td>4</td>\n",
       "      <td>Waiting to Exhale (1995)</td>\n",
       "      <td>Comedy|Drama|Romance</td>\n",
       "    </tr>\n",
       "    <tr>\n",
       "      <th>4</th>\n",
       "      <td>5</td>\n",
       "      <td>Father of the Bride Part II (1995)</td>\n",
       "      <td>Comedy</td>\n",
       "    </tr>\n",
       "  </tbody>\n",
       "</table>\n",
       "</div>"
      ],
      "text/plain": [
       "   movieId                               title  \\\n",
       "0        1                    Toy Story (1995)   \n",
       "1        2                      Jumanji (1995)   \n",
       "2        3             Grumpier Old Men (1995)   \n",
       "3        4            Waiting to Exhale (1995)   \n",
       "4        5  Father of the Bride Part II (1995)   \n",
       "\n",
       "                                        genres  \n",
       "0  Adventure|Animation|Children|Comedy|Fantasy  \n",
       "1                   Adventure|Children|Fantasy  \n",
       "2                               Comedy|Romance  \n",
       "3                         Comedy|Drama|Romance  \n",
       "4                                       Comedy  "
      ]
     },
     "execution_count": 71,
     "metadata": {},
     "output_type": "execute_result"
    }
   ],
   "source": [
    "# load the users datasets\n",
    "user_dt = pd.read_csv(\"data/ml-latest-small/movies.csv\")\n",
    "user_dt.head()"
   ]
  },
  {
   "cell_type": "code",
   "execution_count": 72,
   "metadata": {},
   "outputs": [
    {
     "data": {
      "text/html": [
       "<div>\n",
       "<style scoped>\n",
       "    .dataframe tbody tr th:only-of-type {\n",
       "        vertical-align: middle;\n",
       "    }\n",
       "\n",
       "    .dataframe tbody tr th {\n",
       "        vertical-align: top;\n",
       "    }\n",
       "\n",
       "    .dataframe thead th {\n",
       "        text-align: right;\n",
       "    }\n",
       "</style>\n",
       "<table border=\"1\" class=\"dataframe\">\n",
       "  <thead>\n",
       "    <tr style=\"text-align: right;\">\n",
       "      <th></th>\n",
       "      <th>userId</th>\n",
       "      <th>movieId</th>\n",
       "      <th>rating</th>\n",
       "      <th>timestamp</th>\n",
       "    </tr>\n",
       "  </thead>\n",
       "  <tbody>\n",
       "    <tr>\n",
       "      <th>0</th>\n",
       "      <td>1</td>\n",
       "      <td>1</td>\n",
       "      <td>4.0</td>\n",
       "      <td>964982703</td>\n",
       "    </tr>\n",
       "    <tr>\n",
       "      <th>1</th>\n",
       "      <td>1</td>\n",
       "      <td>3</td>\n",
       "      <td>4.0</td>\n",
       "      <td>964981247</td>\n",
       "    </tr>\n",
       "    <tr>\n",
       "      <th>2</th>\n",
       "      <td>1</td>\n",
       "      <td>6</td>\n",
       "      <td>4.0</td>\n",
       "      <td>964982224</td>\n",
       "    </tr>\n",
       "    <tr>\n",
       "      <th>3</th>\n",
       "      <td>1</td>\n",
       "      <td>47</td>\n",
       "      <td>5.0</td>\n",
       "      <td>964983815</td>\n",
       "    </tr>\n",
       "    <tr>\n",
       "      <th>4</th>\n",
       "      <td>1</td>\n",
       "      <td>50</td>\n",
       "      <td>5.0</td>\n",
       "      <td>964982931</td>\n",
       "    </tr>\n",
       "  </tbody>\n",
       "</table>\n",
       "</div>"
      ],
      "text/plain": [
       "   userId  movieId  rating  timestamp\n",
       "0       1        1     4.0  964982703\n",
       "1       1        3     4.0  964981247\n",
       "2       1        6     4.0  964982224\n",
       "3       1       47     5.0  964983815\n",
       "4       1       50     5.0  964982931"
      ]
     },
     "execution_count": 72,
     "metadata": {},
     "output_type": "execute_result"
    }
   ],
   "source": [
    "# load the rating datasets\n",
    "rating_data = rating_data[rating_data[\"movieId\"].isin(user_dt[\"movieId\"])]\n",
    "rating_data.head()"
   ]
  },
  {
   "cell_type": "code",
   "execution_count": 73,
   "metadata": {},
   "outputs": [
    {
     "data": {
      "text/html": [
       "<div>\n",
       "<style scoped>\n",
       "    .dataframe tbody tr th:only-of-type {\n",
       "        vertical-align: middle;\n",
       "    }\n",
       "\n",
       "    .dataframe tbody tr th {\n",
       "        vertical-align: top;\n",
       "    }\n",
       "\n",
       "    .dataframe thead th {\n",
       "        text-align: right;\n",
       "    }\n",
       "</style>\n",
       "<table border=\"1\" class=\"dataframe\">\n",
       "  <thead>\n",
       "    <tr style=\"text-align: right;\">\n",
       "      <th></th>\n",
       "      <th>userId</th>\n",
       "      <th>movieId</th>\n",
       "      <th>rating</th>\n",
       "      <th>title</th>\n",
       "      <th>genres</th>\n",
       "    </tr>\n",
       "  </thead>\n",
       "  <tbody>\n",
       "    <tr>\n",
       "      <th>0</th>\n",
       "      <td>1</td>\n",
       "      <td>1</td>\n",
       "      <td>4.0</td>\n",
       "      <td>Toy Story (1995)</td>\n",
       "      <td>Adventure|Animation|Children|Comedy|Fantasy</td>\n",
       "    </tr>\n",
       "    <tr>\n",
       "      <th>1</th>\n",
       "      <td>5</td>\n",
       "      <td>1</td>\n",
       "      <td>4.0</td>\n",
       "      <td>Toy Story (1995)</td>\n",
       "      <td>Adventure|Animation|Children|Comedy|Fantasy</td>\n",
       "    </tr>\n",
       "    <tr>\n",
       "      <th>2</th>\n",
       "      <td>7</td>\n",
       "      <td>1</td>\n",
       "      <td>4.5</td>\n",
       "      <td>Toy Story (1995)</td>\n",
       "      <td>Adventure|Animation|Children|Comedy|Fantasy</td>\n",
       "    </tr>\n",
       "    <tr>\n",
       "      <th>3</th>\n",
       "      <td>15</td>\n",
       "      <td>1</td>\n",
       "      <td>2.5</td>\n",
       "      <td>Toy Story (1995)</td>\n",
       "      <td>Adventure|Animation|Children|Comedy|Fantasy</td>\n",
       "    </tr>\n",
       "    <tr>\n",
       "      <th>4</th>\n",
       "      <td>17</td>\n",
       "      <td>1</td>\n",
       "      <td>4.5</td>\n",
       "      <td>Toy Story (1995)</td>\n",
       "      <td>Adventure|Animation|Children|Comedy|Fantasy</td>\n",
       "    </tr>\n",
       "  </tbody>\n",
       "</table>\n",
       "</div>"
      ],
      "text/plain": [
       "   userId  movieId  rating             title  \\\n",
       "0       1        1     4.0  Toy Story (1995)   \n",
       "1       5        1     4.0  Toy Story (1995)   \n",
       "2       7        1     4.5  Toy Story (1995)   \n",
       "3      15        1     2.5  Toy Story (1995)   \n",
       "4      17        1     4.5  Toy Story (1995)   \n",
       "\n",
       "                                        genres  \n",
       "0  Adventure|Animation|Children|Comedy|Fantasy  \n",
       "1  Adventure|Animation|Children|Comedy|Fantasy  \n",
       "2  Adventure|Animation|Children|Comedy|Fantasy  \n",
       "3  Adventure|Animation|Children|Comedy|Fantasy  \n",
       "4  Adventure|Animation|Children|Comedy|Fantasy  "
      ]
     },
     "execution_count": 73,
     "metadata": {},
     "output_type": "execute_result"
    }
   ],
   "source": [
    "## Merge teh user and rating datasets\n",
    "full_movie_data = pd.merge(rating_data, user_dt, on = \"movieId\").drop(\"timestamp\", axis = 1)\n",
    "full_movie_data.head()"
   ]
  },
  {
   "cell_type": "markdown",
   "metadata": {},
   "source": [
    "### Data Preparation for surprise modeling"
   ]
  },
  {
   "cell_type": "code",
   "execution_count": 74,
   "metadata": {},
   "outputs": [
    {
     "data": {
      "text/html": [
       "<div>\n",
       "<style scoped>\n",
       "    .dataframe tbody tr th:only-of-type {\n",
       "        vertical-align: middle;\n",
       "    }\n",
       "\n",
       "    .dataframe tbody tr th {\n",
       "        vertical-align: top;\n",
       "    }\n",
       "\n",
       "    .dataframe thead th {\n",
       "        text-align: right;\n",
       "    }\n",
       "</style>\n",
       "<table border=\"1\" class=\"dataframe\">\n",
       "  <thead>\n",
       "    <tr style=\"text-align: right;\">\n",
       "      <th></th>\n",
       "      <th>1</th>\n",
       "      <th>1.1</th>\n",
       "      <th>4.0</th>\n",
       "      <th>964982703</th>\n",
       "    </tr>\n",
       "  </thead>\n",
       "  <tbody>\n",
       "    <tr>\n",
       "      <th>0</th>\n",
       "      <td>1</td>\n",
       "      <td>3</td>\n",
       "      <td>4.0</td>\n",
       "      <td>964981247</td>\n",
       "    </tr>\n",
       "    <tr>\n",
       "      <th>1</th>\n",
       "      <td>1</td>\n",
       "      <td>6</td>\n",
       "      <td>4.0</td>\n",
       "      <td>964982224</td>\n",
       "    </tr>\n",
       "    <tr>\n",
       "      <th>2</th>\n",
       "      <td>1</td>\n",
       "      <td>47</td>\n",
       "      <td>5.0</td>\n",
       "      <td>964983815</td>\n",
       "    </tr>\n",
       "    <tr>\n",
       "      <th>3</th>\n",
       "      <td>1</td>\n",
       "      <td>50</td>\n",
       "      <td>5.0</td>\n",
       "      <td>964982931</td>\n",
       "    </tr>\n",
       "    <tr>\n",
       "      <th>4</th>\n",
       "      <td>1</td>\n",
       "      <td>70</td>\n",
       "      <td>3.0</td>\n",
       "      <td>964982400</td>\n",
       "    </tr>\n",
       "  </tbody>\n",
       "</table>\n",
       "</div>"
      ],
      "text/plain": [
       "   1  1.1  4.0  964982703\n",
       "0  1    3  4.0  964981247\n",
       "1  1    6  4.0  964982224\n",
       "2  1   47  5.0  964983815\n",
       "3  1   50  5.0  964982931\n",
       "4  1   70  3.0  964982400"
      ]
     },
     "execution_count": 74,
     "metadata": {},
     "output_type": "execute_result"
    }
   ],
   "source": [
    "# Conver the dataframe to csv and remove the header and and index\n",
    "rating_data.to_csv(\"movie_rating_new.csv\", sep='\\t', index=False, header=False)\n",
    "x = pd.read_csv(\"movie_rating_new.csv\", sep='\\t')\n",
    "x.head()"
   ]
  },
  {
   "cell_type": "code",
   "execution_count": 75,
   "metadata": {},
   "outputs": [],
   "source": [
    "## Load the csv file for modeling\n",
    "file_path = \"movie_rating_new.csv\"\n",
    "reader = Reader(line_format='user item rating', sep='\\t', rating_scale = (1, 5))\n",
    "data = Dataset.load_from_file(file_path, reader=reader)\n",
    "train = data.build_full_trainset()"
   ]
  },
  {
   "cell_type": "code",
   "execution_count": 76,
   "metadata": {},
   "outputs": [
    {
     "name": "stdout",
     "output_type": "stream",
     "text": [
      "Number of user in the database: 610\n",
      "Number of items in the database: 9724\n"
     ]
    }
   ],
   "source": [
    "print(\"Number of user in the database:\", train.n_users)\n",
    "print(\"Number of items in the database:\", train.n_items)"
   ]
  },
  {
   "cell_type": "code",
   "execution_count": 77,
   "metadata": {},
   "outputs": [
    {
     "name": "stdout",
     "output_type": "stream",
     "text": [
      "Computing the pearson similarity matrix...\n",
      "Done computing similarity matrix.\n",
      "Computing the pearson similarity matrix...\n",
      "Done computing similarity matrix.\n",
      "Computing the pearson similarity matrix...\n",
      "Done computing similarity matrix.\n",
      "0.9051920077516092\n"
     ]
    }
   ],
   "source": [
    "# Staring with the KNNmeans with surprise\n",
    "similar = {\"name\": \"pearson\", \"user_based\": True} \n",
    "model_eval = {}\n",
    "model_metrics = {}\n",
    "knn = KNNWithMeans(k = 25, min_k=10, sim_options= similar, verpose = 3)\n",
    "result = cross_validate(algo = knn, data = data, \n",
    "                        measures = [\"RMSE\", 'MAE'], cv =3, return_train_measures = True)\n",
    "print(result[\"test_rmse\"].mean())\n",
    "model_eval[\"test_rmse\"] = result[\"test_rmse\"].mean()\n",
    "model_eval[\"test_mae\"] = result[\"test_mae\"].mean()\n",
    "model_metrics[\"algo\"] = model_eval"
   ]
  },
  {
   "cell_type": "code",
   "execution_count": 78,
   "metadata": {},
   "outputs": [
    {
     "data": {
      "text/plain": [
       "{'algo': {'test_rmse': 0.9051920077516092, 'test_mae': 0.6912307329734092}}"
      ]
     },
     "execution_count": 78,
     "metadata": {},
     "output_type": "execute_result"
    }
   ],
   "source": [
    "model_metrics"
   ]
  },
  {
   "cell_type": "markdown",
   "metadata": {},
   "source": [
    "## Model Selection based on Performance"
   ]
  },
  {
   "cell_type": "code",
   "execution_count": 79,
   "metadata": {},
   "outputs": [
    {
     "name": "stdout",
     "output_type": "stream",
     "text": [
      "Computing the msd similarity matrix...\n",
      "Done computing similarity matrix.\n",
      "Computing the msd similarity matrix...\n",
      "Done computing similarity matrix.\n",
      "Computing the msd similarity matrix...\n",
      "Done computing similarity matrix.\n",
      "Computing the msd similarity matrix...\n",
      "Done computing similarity matrix.\n",
      "Computing the msd similarity matrix...\n",
      "Done computing similarity matrix.\n",
      "Computing the msd similarity matrix...\n",
      "Done computing similarity matrix.\n",
      "Computing the msd similarity matrix...\n",
      "Done computing similarity matrix.\n",
      "Computing the msd similarity matrix...\n",
      "Done computing similarity matrix.\n",
      "Computing the msd similarity matrix...\n",
      "Done computing similarity matrix.\n",
      "Computing the msd similarity matrix...\n",
      "Done computing similarity matrix.\n"
     ]
    }
   ],
   "source": [
    "## Iterating throught the different model for user based modeling\n",
    "# source: https://colab.research.google.com/github/singhsidhukuldeep/Recommendation-System/blob/master/Building_Recommender_System_with_Surprise.ipynb\n",
    "np.random.seed(444)\n",
    "algos = [KNNWithMeans(),KNNWithZScore(), SVD()]\n",
    "benchmark = []\n",
    "model_metrics = {}\n",
    "mean_model_metrics = {}\n",
    "for algo in algos:\n",
    "    model_metrics[str(algo).split(' ')[0].split('.')[-1]] = []\n",
    "    # Perform cross validation\n",
    "    results = cross_validate(algo, data, measures=['RMSE', 'MAE'], cv=5, verbose=False)\n",
    "    # results = cross_validate(algorithm, data, measures=['RMSE','MAE'], cv=3, verbose=False)\n",
    "    \n",
    "    # Get results & append algorithm name\n",
    "    model_eval = {}\n",
    "    mean_model_eval = {}\n",
    "    for m in results.keys():\n",
    "        model_eval[\"test_rmse\"] = results[\"test_rmse\"]\n",
    "        model_eval[\"test_mae\"] = results[\"test_mae\"]\n",
    "        mean_model_eval[\"test_rmse\"] = results[\"test_rmse\"].mean()\n",
    "        mean_model_eval[\"test_mae\"] = results[\"test_mae\"].mean()\n",
    "    tmp = pd.DataFrame.from_dict(results).mean(axis=0)\n",
    "    tmp = tmp.append(pd.Series([str(algo).split(' ')[0].split('.')[-1]], index=['Algorithm']))\n",
    "    benchmark.append(tmp)\n",
    "    model_metrics[str(algo).split(' ')[0].split('.')[-1]] = model_eval\n",
    "    mean_model_metrics[str(algo).split(' ')[0].split('.')[-1]] = mean_model_eval\n",
    "    "
   ]
  },
  {
   "cell_type": "code",
   "execution_count": 80,
   "metadata": {},
   "outputs": [
    {
     "data": {
      "text/html": [
       "<div>\n",
       "<style scoped>\n",
       "    .dataframe tbody tr th:only-of-type {\n",
       "        vertical-align: middle;\n",
       "    }\n",
       "\n",
       "    .dataframe tbody tr th {\n",
       "        vertical-align: top;\n",
       "    }\n",
       "\n",
       "    .dataframe thead th {\n",
       "        text-align: right;\n",
       "    }\n",
       "</style>\n",
       "<table border=\"1\" class=\"dataframe\">\n",
       "  <thead>\n",
       "    <tr style=\"text-align: right;\">\n",
       "      <th></th>\n",
       "      <th>test_rmse</th>\n",
       "      <th>test_mae</th>\n",
       "    </tr>\n",
       "  </thead>\n",
       "  <tbody>\n",
       "    <tr>\n",
       "      <th>KNNWithMeans</th>\n",
       "      <td>[0.8879707135374023, 0.8954964380413033, 0.906...</td>\n",
       "      <td>[0.6789089177285772, 0.6827002248815749, 0.692...</td>\n",
       "    </tr>\n",
       "    <tr>\n",
       "      <th>KNNWithZScore</th>\n",
       "      <td>[0.8892233817007718, 0.9001477516406544, 0.897...</td>\n",
       "      <td>[0.6778291239308505, 0.6849224353950156, 0.678...</td>\n",
       "    </tr>\n",
       "    <tr>\n",
       "      <th>SVD</th>\n",
       "      <td>[0.8749645431101118, 0.8727428380924958, 0.871...</td>\n",
       "      <td>[0.6716705049830805, 0.6709169901497855, 0.669...</td>\n",
       "    </tr>\n",
       "  </tbody>\n",
       "</table>\n",
       "</div>"
      ],
      "text/plain": [
       "                                                       test_rmse  \\\n",
       "KNNWithMeans   [0.8879707135374023, 0.8954964380413033, 0.906...   \n",
       "KNNWithZScore  [0.8892233817007718, 0.9001477516406544, 0.897...   \n",
       "SVD            [0.8749645431101118, 0.8727428380924958, 0.871...   \n",
       "\n",
       "                                                        test_mae  \n",
       "KNNWithMeans   [0.6789089177285772, 0.6827002248815749, 0.692...  \n",
       "KNNWithZScore  [0.6778291239308505, 0.6849224353950156, 0.678...  \n",
       "SVD            [0.6716705049830805, 0.6709169901497855, 0.669...  "
      ]
     },
     "execution_count": 80,
     "metadata": {},
     "output_type": "execute_result"
    }
   ],
   "source": [
    "metrics = pd.DataFrame.from_dict(model_metrics).T\n",
    "metrics"
   ]
  },
  {
   "cell_type": "code",
   "execution_count": 81,
   "metadata": {},
   "outputs": [],
   "source": [
    "mean_metrics = pd.DataFrame.from_dict(mean_model_metrics).T"
   ]
  },
  {
   "cell_type": "code",
   "execution_count": 82,
   "metadata": {},
   "outputs": [
    {
     "data": {
      "text/html": [
       "<style  type=\"text/css\" >\n",
       "#T_85b81_row0_col0,#T_85b81_row0_col1{\n",
       "            background-color:  #023858;\n",
       "            color:  #f1f1f1;\n",
       "        }#T_85b81_row1_col0{\n",
       "            background-color:  #034165;\n",
       "            color:  #f1f1f1;\n",
       "        }#T_85b81_row1_col1{\n",
       "            background-color:  #3f93c2;\n",
       "            color:  #000000;\n",
       "        }#T_85b81_row2_col0,#T_85b81_row2_col1{\n",
       "            background-color:  #fff7fb;\n",
       "            color:  #000000;\n",
       "        }</style><table id=\"T_85b81_\" ><thead>    <tr>        <th class=\"blank level0\" ></th>        <th class=\"col_heading level0 col0\" >test_rmse</th>        <th class=\"col_heading level0 col1\" >test_mae</th>    </tr></thead><tbody>\n",
       "                <tr>\n",
       "                        <th id=\"T_85b81_level0_row0\" class=\"row_heading level0 row0\" >KNNWithMeans</th>\n",
       "                        <td id=\"T_85b81_row0_col0\" class=\"data row0 col0\" >0.895962</td>\n",
       "                        <td id=\"T_85b81_row0_col1\" class=\"data row0 col1\" >0.684366</td>\n",
       "            </tr>\n",
       "            <tr>\n",
       "                        <th id=\"T_85b81_level0_row1\" class=\"row_heading level0 row1\" >KNNWithZScore</th>\n",
       "                        <td id=\"T_85b81_row1_col0\" class=\"data row1 col0\" >0.895174</td>\n",
       "                        <td id=\"T_85b81_row1_col1\" class=\"data row1 col1\" >0.679150</td>\n",
       "            </tr>\n",
       "            <tr>\n",
       "                        <th id=\"T_85b81_level0_row2\" class=\"row_heading level0 row2\" >SVD</th>\n",
       "                        <td id=\"T_85b81_row2_col0\" class=\"data row2 col0\" >0.873514</td>\n",
       "                        <td id=\"T_85b81_row2_col1\" class=\"data row2 col1\" >0.671116</td>\n",
       "            </tr>\n",
       "    </tbody></table>"
      ],
      "text/plain": [
       "<pandas.io.formats.style.Styler at 0x7fde51b30190>"
      ]
     },
     "execution_count": 82,
     "metadata": {},
     "output_type": "execute_result"
    }
   ],
   "source": [
    "# rmse and mae metrics dataframs\n",
    "mean_metrics.style.background_gradient()"
   ]
  },
  {
   "cell_type": "markdown",
   "metadata": {},
   "source": [
    "## Visualize the Performace metrics for different Models"
   ]
  },
  {
   "cell_type": "code",
   "execution_count": 83,
   "metadata": {},
   "outputs": [
    {
     "data": {
      "image/png": "[encoded data removed]",
      "text/plain": [
       "<Figure size 720x504 with 1 Axes>"
      ]
     },
     "metadata": {
      "needs_background": "light"
     },
     "output_type": "display_data"
    }
   ],
   "source": [
    "#Plot the rmse\n",
    "np.random.seed(444)\n",
    "label = metrics.index\n",
    "plt.figure(figsize = (10, 7))\n",
    "plt.plot(metrics[\"test_rmse\"][0], label = label[0])\n",
    "plt.plot(metrics[\"test_rmse\"][1], label = label[1])\n",
    "plt.plot(metrics[\"test_rmse\"][2], label = label[2])\n",
    "plt.ylabel(\"The Test RMSE Score\", fontsize = 15, weight = 'bold')\n",
    "plt.xlabel(\"The Range in CV\", fontsize = 15, weight = 'bold')\n",
    "plt.title(\"The Performance Metrics\", weight = 'bold', fontsize = 15)\n",
    "plt.legend()\n",
    "plt.show()"
   ]
  },
  {
   "cell_type": "code",
   "execution_count": 84,
   "metadata": {},
   "outputs": [
    {
     "data": {
      "image/png": "[encoded data removed]",
      "text/plain": [
       "<Figure size 720x504 with 1 Axes>"
      ]
     },
     "metadata": {
      "needs_background": "light"
     },
     "output_type": "display_data"
    }
   ],
   "source": [
    "#plot the mae\n",
    "label = metrics.index\n",
    "np.random.seed(444)\n",
    "plt.figure(figsize = (10, 7))\n",
    "plt.plot(metrics[\"test_mae\"][0], label = label[0])\n",
    "plt.plot(metrics[\"test_mae\"][1], label = label[1])\n",
    "plt.plot(metrics[\"test_mae\"][2], label = label[2])\n",
    "plt.ylabel(\"The test MAE Score\", fontsize = 15, weight = 'bold')\n",
    "plt.xlabel(\"The Range in CV\", fontsize = 15, weight = 'bold')\n",
    "plt.title(\"The Performance Metrics\", weight = 'bold', fontsize = 15)\n",
    "plt.legend()\n",
    "plt.show()"
   ]
  },
  {
   "cell_type": "code",
   "execution_count": 85,
   "metadata": {},
   "outputs": [
    {
     "data": {
      "text/plain": [
       "{'KNNWithMeans': {'test_rmse': array([0.88797071, 0.89549644, 0.90676848, 0.89538569, 0.89418859]),\n",
       "  'test_mae': array([0.67890892, 0.68270022, 0.69235817, 0.68432918, 0.68353452])},\n",
       " 'KNNWithZScore': {'test_rmse': array([0.88922338, 0.90014775, 0.89769624, 0.9017483 , 0.88705283]),\n",
       "  'test_mae': array([0.67782912, 0.68492244, 0.67803058, 0.68180134, 0.67316552])},\n",
       " 'SVD': {'test_rmse': array([0.87496454, 0.87274284, 0.87180991, 0.88091886, 0.86713624]),\n",
       "  'test_mae': array([0.6716705 , 0.67091699, 0.66948719, 0.67396097, 0.6695439 ])}}"
      ]
     },
     "execution_count": 85,
     "metadata": {},
     "output_type": "execute_result"
    }
   ],
   "source": [
    "model_metrics"
   ]
  },
  {
   "cell_type": "markdown",
   "metadata": {},
   "source": [
    "# GrideSearch for SVD\n"
   ]
  },
  {
   "cell_type": "code",
   "execution_count": null,
   "metadata": {},
   "outputs": [],
   "source": [
    "#apply the grid seach on svd\n",
    "param_grid = {\"n_epochs\": [10, 15, 20],  \"lr_all\": [0.001, 0.002,0.005], \"reg_all\": [0.02]}\n",
    "gs = GridSearchCV(SVD, param_grid, measures=[\"rmse\", \"mae\"], refit=True, cv=5)\n",
    "gs.fit(data)\n",
    "\n",
    "training_parameters = gs.best_params[\"rmse\"]\n",
    "\n",
    "print(\"BEST RMSE: \\t\", gs.best_score[\"rmse\"])\n",
    "print(\"BEST MAE: \\t\", gs.best_score[\"mae\"])\n",
    "print(\"BEST params: \\t\", gs.best_params[\"rmse\"]) \n"
   ]
  },
  {
   "cell_type": "code",
   "execution_count": null,
   "metadata": {},
   "outputs": [],
   "source": [
    "## Genrate and fit the SVD based on the GridSearch Hyperparameters\n",
    "algo = SVD(n_epochs = training_parameters['n_epochs'], lr_all = training_parameters['lr_all'], reg_all = training_parameters['reg_all'])\n",
    "\n",
    "algo.fit(train)"
   ]
  },
  {
   "cell_type": "code",
   "execution_count": null,
   "metadata": {},
   "outputs": [],
   "source": [
    "full_movie_data.head()"
   ]
  },
  {
   "cell_type": "code",
   "execution_count": null,
   "metadata": {},
   "outputs": [],
   "source": [
    "## Movie dataset by combine the movieID and title\n",
    "movie_id_title_map = {}\n",
    "for m_id, title in zip(full_movie_data['movieId'].values, full_movie_data['title'].values):\n",
    "    movie_id_title_map[str(m_id)] = title"
   ]
  },
  {
   "cell_type": "code",
   "execution_count": null,
   "metadata": {},
   "outputs": [],
   "source": [
    "def rec_top_movie(predcition, n):\n",
    "    \"\"\"\n",
    "    Genrate movies id with their rate prediction for n movies\n",
    "    \"\"\"\n",
    "    rec_n = defaultdict(list)\n",
    "    for uid, iid, true_r, est, _ in predcition:\n",
    "        rec_n[uid].append((iid, est))\n",
    "    for uid, user_rating in rec_n.items():\n",
    "        user_rating.sort(key = lambda x: x[1], reverse = True)\n",
    "        rec_n[uid] = user_rating[:n]\n",
    "    return rec_n"
   ]
  },
  {
   "cell_type": "markdown",
   "metadata": {},
   "source": [
    "### Generate the testingdata, prediction with the trained model and generate the top 10 recommended movies"
   ]
  },
  {
   "cell_type": "code",
   "execution_count": null,
   "metadata": {},
   "outputs": [],
   "source": [
    "testdata = train.build_anti_testset()\n",
    "prediction = algo.test(testdata)\n",
    "rec_n = rec_top_movie(prediction, n = 10)"
   ]
  },
  {
   "cell_type": "code",
   "execution_count": null,
   "metadata": {},
   "outputs": [],
   "source": [
    "def user_prediction(user_id, rec_n, item_map):\n",
    "    \"\"\"\n",
    "    Recommend a movie for the user with given user id from the movie database\"\"\"\n",
    "    print(\"Predictions for user Id: \", user_id)\n",
    "    movie_dict = {}\n",
    "    if user_id not in rec_n.keys():\n",
    "        print(\"Couldn't suggent a movie\")\n",
    "    else:\n",
    "        user_rating = rec_n[user_id]\n",
    "#         print(user_rating)\n",
    "        for item_id, rating in user_rating:\n",
    "#             print(item_map[item_id], \" : \", rating)\n",
    "            movie_dict[item_map[item_id]] = rating\n",
    "    movie_recomended = pd.DataFrame.from_dict(movie_dict, orient='index', columns=['predicted_rating'])\n",
    "    movie_recomended.reset_index(level=0, inplace=True)\n",
    "    movie_recomended.rename(columns = {\"index\": \"Movies\"}, inplace = True)\n",
    "    return movie_recomended.style.background_gradient(cmap='Blues')\n",
    "   "
   ]
  },
  {
   "cell_type": "code",
   "execution_count": null,
   "metadata": {},
   "outputs": [],
   "source": [
    "# Chech the moview database with its id\n",
    "movie_id_title_map[\"27\"]"
   ]
  },
  {
   "cell_type": "markdown",
   "metadata": {},
   "source": [
    "## Testing the SVD Model"
   ]
  },
  {
   "cell_type": "code",
   "execution_count": null,
   "metadata": {},
   "outputs": [],
   "source": [
    "user_prediction('7', rec_n, movie_id_title_map)"
   ]
  },
  {
   "cell_type": "code",
   "execution_count": null,
   "metadata": {},
   "outputs": [],
   "source": [
    "user_prediction('4', rec_n, movie_id_title_map)"
   ]
  },
  {
   "cell_type": "code",
   "execution_count": null,
   "metadata": {},
   "outputs": [],
   "source": [
    "user_prediction('9', rec_n, movie_id_title_map)"
   ]
  },
  {
   "cell_type": "code",
   "execution_count": null,
   "metadata": {},
   "outputs": [],
   "source": [
    "user_prediction(\"23\", rec_n, movie_id_title_map)"
   ]
  },
  {
   "cell_type": "markdown",
   "metadata": {},
   "source": [
    "- # Item Based Collaborative Recommendation"
   ]
  },
  {
   "cell_type": "code",
   "execution_count": null,
   "metadata": {},
   "outputs": [],
   "source": [
    "# Pivot table and sparse matrix creationg for knn model\n",
    "full_movie_data = full_movie_data.drop_duplicates(['userId', 'title'])\n",
    "full_movie_data_pivot = full_movie_data.pivot(index = 'title', columns = 'userId', values = 'rating').fillna(0)\n",
    "full_movie_data_matrix = csr_matrix(full_movie_data_pivot.values)\n",
    "# print(full_movie_data_matrix[:10] )"
   ]
  },
  {
   "cell_type": "code",
   "execution_count": null,
   "metadata": {},
   "outputs": [],
   "source": [
    "model_knn = NearestNeighbors(metric = 'cosine', algorithm = 'brute')\n",
    "model_knn.fit(full_movie_data_matrix)"
   ]
  },
  {
   "cell_type": "code",
   "execution_count": null,
   "metadata": {},
   "outputs": [],
   "source": [
    "full_movie_data_matrix"
   ]
  },
  {
   "cell_type": "code",
   "execution_count": null,
   "metadata": {},
   "outputs": [],
   "source": [
    "model_knn = NearestNeighbors(metric = 'cosine', algorithm = 'brute')\n",
    "model_knn.fit(full_movie_data_matrix)\n",
    "def CollaborativeMovieRecommender(data, movie_name, model, top_n):\n",
    "    \"\"\"Recommend movies that are closely with the movie name\"\"\"\n",
    "    model.fit(data)\n",
    "    movi_index = full_movie_data_pivot.index.get_loc(movie_name)\n",
    "    dist, indi = model.kneighbors(data[movi_index],  n_neighbors = top_n)\n",
    "    movie_dict = {}\n",
    "    print( '\\033[1m' + \"Recommendation for \",  movie_name.upper() , \":\")\n",
    "    for i in range(1, len(sorted(dist.flatten(), reverse = True))):\n",
    "        movie_dict[full_movie_data_pivot.index[indi.flatten()[i]]] = sorted(dist.flatten(), reverse = True)[i]\n",
    "#         print('{0}: {1}, with distance of {2}:'.format(i, full_movie_data_pivot.index[indi.flatten()[i]], sorted(dist.flatten(), reverse = True)[i]))\n",
    "    movie_recomended = pd.DataFrame.from_dict(movie_dict, orient='index', columns=['Similarity_coef'])\n",
    "    movie_recomended.reset_index(level=0, inplace=True)\n",
    "    movie_recomended.rename(columns = {\"index\": \"Movies\"}, inplace = True)\n",
    "#     f\"Recommended for {movie_name}:\", movie_recomended\n",
    "    return movie_recomended.style.background_gradient(cmap='viridis')"
   ]
  },
  {
   "cell_type": "markdown",
   "metadata": {},
   "source": [
    "## Testing the KNN model"
   ]
  },
  {
   "cell_type": "code",
   "execution_count": null,
   "metadata": {},
   "outputs": [],
   "source": [
    "CollaborativeMovieRecommender(full_movie_data_matrix, \"Sergeant York (1941)\", model_knn, 15)"
   ]
  },
  {
   "cell_type": "code",
   "execution_count": null,
   "metadata": {},
   "outputs": [],
   "source": [
    "CollaborativeMovieRecommender(full_movie_data_matrix, \"TiMER (2009)\", model_knn, 15 )"
   ]
  },
  {
   "cell_type": "markdown",
   "metadata": {},
   "source": [
    "## Conclusion:\n",
    "- I executed how to build both the content and collaborative filtering movie recommender system with python. I have provided the model with an understanding of the cosine similarity and pairwise for content-based filtering, and  Matrix Factorization, and K Nearest neighborhood for collaborative filtering methods. I have followed the main work flow for model development and provided implementations of content-based, filtering, and user and item-based collaborative filtering algorithms on it."
   ]
  },
  {
   "cell_type": "code",
   "execution_count": null,
   "metadata": {},
   "outputs": [],
   "source": []
  },
  {
   "cell_type": "code",
   "execution_count": null,
   "metadata": {},
   "outputs": [],
   "source": []
  }
 ],
 "metadata": {
  "kernelspec": {
   "display_name": "Python 3",
   "language": "python",
   "name": "python3"
  },
  "language_info": {
   "codemirror_mode": {
    "name": "ipython",
    "version": 3
   },
   "file_extension": ".py",
   "mimetype": "text/x-python",
   "name": "python",
   "nbconvert_exporter": "python",
   "pygments_lexer": "ipython3",
   "version": "3.7.4"
  }
 },
 "nbformat": 4,
 "nbformat_minor": 4
}

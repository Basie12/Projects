{
 "cells": [
  {
   "cell_type": "markdown",
   "metadata": {},
   "source": [
    "# Import Packages"
   ]
  },
  {
   "cell_type": "code",
   "execution_count": 252,
   "metadata": {},
   "outputs": [],
   "source": [
    "import requests\n",
    "import time\n",
    "import pandas as pd\n",
    "import numpy as np\n",
    "import matplotlib.pyplot as plt\n",
    "import seaborn as sns\n",
    "from sklearn.model_selection import train_test_split, GridSearchCV\n",
    "from skBernoulliNBn.pipeline import Pipeline\n",
    "from string import punctuation\n",
    "import nltk\n",
    "import re\n",
    "from sklearn.ensemble import RandomForestClassifier\n",
    "from sklearn.linear_model import LogisticRegression\n",
    "from sklearn.naive_bayes import MultinomialNB, BernoulliNB, GaussianNB\n",
    "from sklearn.neighbors import KNeighborsClassifier\n",
    "from sklearn.tree import DecisionTreeClassifier\n",
    "from sklearn.ensemble import RandomForestClassifier\n",
    "from sklearn.svm import SVC\n",
    "\n",
    "from sklearn.metrics import confusion_matrix, plot_confusion_matrix, accuracy_score\n",
    "from sklearn.feature_extraction.text import CountVectorizer, TfidfVectorizer\n",
    "from sklearn.feature_extraction.text import TfidfTransformer\n",
    "from nltk.stem.porter import PorterStemmer\n",
    "import string\n",
    "from nltk.corpus import stopwords\n",
    "from sklearn.metrics import roc_curve, roc_auc_score\n",
    "\n"
   ]
  },
  {
   "cell_type": "markdown",
   "metadata": {},
   "source": [
    "# Data Wrangling/Gathering/Acquisition"
   ]
  },
  {
   "cell_type": "code",
   "execution_count": 253,
   "metadata": {},
   "outputs": [],
   "source": [
    "url = \"https://api.pushshift.io/reddit/search/submission\" "
   ]
  },
  {
   "cell_type": "code",
   "execution_count": 254,
   "metadata": {},
   "outputs": [],
   "source": [
    "# Automating the web scraping\n",
    "def scrap_num(url, sub = None, size = 500, before = None):\n",
    "    params = {\n",
    "        \"subreddit\": sub,\n",
    "        \"size\": size,\n",
    "        \"before\": before\n",
    "    }\n",
    "    lst = []\n",
    "    for i in range(15):\n",
    "        res = requests.get(url, params)\n",
    "        lst.extend(res.json()[\"data\"])\n",
    "        params[\"before\"] = res.json()[\"data\"][-1][\"created_utc\"]\n",
    "        time.sleep(2)\n",
    "    return lst"
   ]
  },
  {
   "cell_type": "code",
   "execution_count": 255,
   "metadata": {},
   "outputs": [],
   "source": [
    "# scrape for boardgame\n",
    "board_posts = scrap_num(url, sub = \"boardgames\", size = 500, before = 1632957304)\n"
   ]
  },
  {
   "cell_type": "code",
   "execution_count": 256,
   "metadata": {},
   "outputs": [],
   "source": [
    "# scrape for the videogame\n",
    "video_posts = scrap_num(url, sub = \"videogames\", size = 200, before = 1480143096)"
   ]
  },
  {
   "cell_type": "code",
   "execution_count": 258,
   "metadata": {},
   "outputs": [],
   "source": [
    "# video_posts[:2]"
   ]
  },
  {
   "cell_type": "code",
   "execution_count": 259,
   "metadata": {},
   "outputs": [],
   "source": [
    "# len(video_posts)"
   ]
  },
  {
   "cell_type": "code",
   "execution_count": 260,
   "metadata": {},
   "outputs": [
    {
     "data": {
      "text/html": [
       "<div>\n",
       "<style scoped>\n",
       "    .dataframe tbody tr th:only-of-type {\n",
       "        vertical-align: middle;\n",
       "    }\n",
       "\n",
       "    .dataframe tbody tr th {\n",
       "        vertical-align: top;\n",
       "    }\n",
       "\n",
       "    .dataframe thead th {\n",
       "        text-align: right;\n",
       "    }\n",
       "</style>\n",
       "<table border=\"1\" class=\"dataframe\">\n",
       "  <thead>\n",
       "    <tr style=\"text-align: right;\">\n",
       "      <th></th>\n",
       "      <th>all_awardings</th>\n",
       "      <th>allow_live_comments</th>\n",
       "      <th>author</th>\n",
       "      <th>author_flair_css_class</th>\n",
       "      <th>author_flair_richtext</th>\n",
       "      <th>author_flair_text</th>\n",
       "      <th>author_flair_type</th>\n",
       "      <th>author_fullname</th>\n",
       "      <th>author_is_blocked</th>\n",
       "      <th>author_patreon_flair</th>\n",
       "      <th>...</th>\n",
       "      <th>media</th>\n",
       "      <th>media_embed</th>\n",
       "      <th>removed_by_category</th>\n",
       "      <th>secure_media</th>\n",
       "      <th>secure_media_embed</th>\n",
       "      <th>suggested_sort</th>\n",
       "      <th>crosspost_parent</th>\n",
       "      <th>crosspost_parent_list</th>\n",
       "      <th>edited</th>\n",
       "      <th>author_cakeday</th>\n",
       "    </tr>\n",
       "  </thead>\n",
       "  <tbody>\n",
       "    <tr>\n",
       "      <th>0</th>\n",
       "      <td>[]</td>\n",
       "      <td>False</td>\n",
       "      <td>GuysoftheBeholder</td>\n",
       "      <td>None</td>\n",
       "      <td>[]</td>\n",
       "      <td>None</td>\n",
       "      <td>text</td>\n",
       "      <td>t2_egig5h3d</td>\n",
       "      <td>False</td>\n",
       "      <td>False</td>\n",
       "      <td>...</td>\n",
       "      <td>NaN</td>\n",
       "      <td>NaN</td>\n",
       "      <td>NaN</td>\n",
       "      <td>NaN</td>\n",
       "      <td>NaN</td>\n",
       "      <td>NaN</td>\n",
       "      <td>NaN</td>\n",
       "      <td>NaN</td>\n",
       "      <td>NaN</td>\n",
       "      <td>NaN</td>\n",
       "    </tr>\n",
       "    <tr>\n",
       "      <th>1</th>\n",
       "      <td>[]</td>\n",
       "      <td>False</td>\n",
       "      <td>seekerof_</td>\n",
       "      <td>None</td>\n",
       "      <td>[]</td>\n",
       "      <td>None</td>\n",
       "      <td>text</td>\n",
       "      <td>t2_eu9sx0ez</td>\n",
       "      <td>False</td>\n",
       "      <td>False</td>\n",
       "      <td>...</td>\n",
       "      <td>NaN</td>\n",
       "      <td>NaN</td>\n",
       "      <td>NaN</td>\n",
       "      <td>NaN</td>\n",
       "      <td>NaN</td>\n",
       "      <td>NaN</td>\n",
       "      <td>NaN</td>\n",
       "      <td>NaN</td>\n",
       "      <td>NaN</td>\n",
       "      <td>NaN</td>\n",
       "    </tr>\n",
       "    <tr>\n",
       "      <th>2</th>\n",
       "      <td>[]</td>\n",
       "      <td>False</td>\n",
       "      <td>IdeaShark516</td>\n",
       "      <td>None</td>\n",
       "      <td>[]</td>\n",
       "      <td>None</td>\n",
       "      <td>text</td>\n",
       "      <td>t2_ap7vpzb0</td>\n",
       "      <td>False</td>\n",
       "      <td>False</td>\n",
       "      <td>...</td>\n",
       "      <td>NaN</td>\n",
       "      <td>NaN</td>\n",
       "      <td>NaN</td>\n",
       "      <td>NaN</td>\n",
       "      <td>NaN</td>\n",
       "      <td>NaN</td>\n",
       "      <td>NaN</td>\n",
       "      <td>NaN</td>\n",
       "      <td>NaN</td>\n",
       "      <td>NaN</td>\n",
       "    </tr>\n",
       "    <tr>\n",
       "      <th>3</th>\n",
       "      <td>[]</td>\n",
       "      <td>False</td>\n",
       "      <td>DistinctFudge8740</td>\n",
       "      <td>None</td>\n",
       "      <td>[]</td>\n",
       "      <td>None</td>\n",
       "      <td>text</td>\n",
       "      <td>t2_ellkb6gs</td>\n",
       "      <td>False</td>\n",
       "      <td>False</td>\n",
       "      <td>...</td>\n",
       "      <td>NaN</td>\n",
       "      <td>NaN</td>\n",
       "      <td>NaN</td>\n",
       "      <td>NaN</td>\n",
       "      <td>NaN</td>\n",
       "      <td>NaN</td>\n",
       "      <td>NaN</td>\n",
       "      <td>NaN</td>\n",
       "      <td>NaN</td>\n",
       "      <td>NaN</td>\n",
       "    </tr>\n",
       "    <tr>\n",
       "      <th>4</th>\n",
       "      <td>[]</td>\n",
       "      <td>False</td>\n",
       "      <td>Juranur</td>\n",
       "      <td>hive</td>\n",
       "      <td>[{'e': 'text', 't': 'Hive'}]</td>\n",
       "      <td>Hive</td>\n",
       "      <td>richtext</td>\n",
       "      <td>t2_2fftpfe3</td>\n",
       "      <td>False</td>\n",
       "      <td>False</td>\n",
       "      <td>...</td>\n",
       "      <td>NaN</td>\n",
       "      <td>NaN</td>\n",
       "      <td>NaN</td>\n",
       "      <td>NaN</td>\n",
       "      <td>NaN</td>\n",
       "      <td>NaN</td>\n",
       "      <td>NaN</td>\n",
       "      <td>NaN</td>\n",
       "      <td>NaN</td>\n",
       "      <td>NaN</td>\n",
       "    </tr>\n",
       "  </tbody>\n",
       "</table>\n",
       "<p>5 rows × 83 columns</p>\n",
       "</div>"
      ],
      "text/plain": [
       "  all_awardings  allow_live_comments             author  \\\n",
       "0            []                False  GuysoftheBeholder   \n",
       "1            []                False          seekerof_   \n",
       "2            []                False       IdeaShark516   \n",
       "3            []                False  DistinctFudge8740   \n",
       "4            []                False            Juranur   \n",
       "\n",
       "  author_flair_css_class         author_flair_richtext author_flair_text  \\\n",
       "0                   None                            []              None   \n",
       "1                   None                            []              None   \n",
       "2                   None                            []              None   \n",
       "3                   None                            []              None   \n",
       "4                   hive  [{'e': 'text', 't': 'Hive'}]              Hive   \n",
       "\n",
       "  author_flair_type author_fullname  author_is_blocked author_patreon_flair  \\\n",
       "0              text     t2_egig5h3d              False                False   \n",
       "1              text     t2_eu9sx0ez              False                False   \n",
       "2              text     t2_ap7vpzb0              False                False   \n",
       "3              text     t2_ellkb6gs              False                False   \n",
       "4          richtext     t2_2fftpfe3              False                False   \n",
       "\n",
       "   ... media media_embed  removed_by_category  secure_media  \\\n",
       "0  ...   NaN         NaN                  NaN           NaN   \n",
       "1  ...   NaN         NaN                  NaN           NaN   \n",
       "2  ...   NaN         NaN                  NaN           NaN   \n",
       "3  ...   NaN         NaN                  NaN           NaN   \n",
       "4  ...   NaN         NaN                  NaN           NaN   \n",
       "\n",
       "   secure_media_embed suggested_sort crosspost_parent crosspost_parent_list  \\\n",
       "0                 NaN            NaN              NaN                   NaN   \n",
       "1                 NaN            NaN              NaN                   NaN   \n",
       "2                 NaN            NaN              NaN                   NaN   \n",
       "3                 NaN            NaN              NaN                   NaN   \n",
       "4                 NaN            NaN              NaN                   NaN   \n",
       "\n",
       "  edited  author_cakeday  \n",
       "0    NaN             NaN  \n",
       "1    NaN             NaN  \n",
       "2    NaN             NaN  \n",
       "3    NaN             NaN  \n",
       "4    NaN             NaN  \n",
       "\n",
       "[5 rows x 83 columns]"
      ]
     },
     "execution_count": 260,
     "metadata": {},
     "output_type": "execute_result"
    }
   ],
   "source": [
    "# conver the json to data frame\n",
    "board_df = pd.DataFrame(board_posts)\n",
    "board_df.head()"
   ]
  },
  {
   "cell_type": "code",
   "execution_count": 261,
   "metadata": {},
   "outputs": [],
   "source": [
    "# select some features for the board game\n",
    "board_df = board_df[[\"subreddit\", \"selftext\", \"title\"]]"
   ]
  },
  {
   "cell_type": "code",
   "execution_count": 262,
   "metadata": {},
   "outputs": [],
   "source": [
    "# convert the video game json to data frame\n",
    "video_df = pd.DataFrame(video_posts)\n",
    "# select teh three columns\n",
    "video_df = video_df[[\"subreddit\", \"selftext\", \"title\"]]"
   ]
  },
  {
   "cell_type": "code",
   "execution_count": 263,
   "metadata": {},
   "outputs": [
    {
     "data": {
      "text/plain": [
       "0       If you were to open your dream LGS, what would...\n",
       "1       How did you decide on what games to add to you...\n",
       "2       Recommendations for getting a 6 year old hooke...\n",
       "3       Why does the board game community dislike King...\n",
       "4       We played the largest game of Carcassonne we c...\n",
       "                              ...                        \n",
       "1495                    Catan 3D Production Inconsistency\n",
       "1496                     Catan 3D Production Inconsitency\n",
       "1497    I bought all of these games for $47 at my loca...\n",
       "1498    What are some dice games that don't feel luck ...\n",
       "1499            A beginners guide to fantasy board gaming\n",
       "Name: title, Length: 1500, dtype: object"
      ]
     },
     "execution_count": 263,
     "metadata": {},
     "output_type": "execute_result"
    }
   ],
   "source": [
    "board_df['title']"
   ]
  },
  {
   "cell_type": "code",
   "execution_count": 264,
   "metadata": {},
   "outputs": [],
   "source": [
    "# generate the string length for the particular reviews\n",
    "board_df['text'] = board_df[[\"selftext\", \"title\"]].agg('-'.join, axis=1)\n",
    "board_df[\"count\"] = board_df['text'].apply(lambda x : len(str(x)))"
   ]
  },
  {
   "cell_type": "code",
   "execution_count": 265,
   "metadata": {},
   "outputs": [
    {
     "data": {
      "text/html": [
       "<div>\n",
       "<style scoped>\n",
       "    .dataframe tbody tr th:only-of-type {\n",
       "        vertical-align: middle;\n",
       "    }\n",
       "\n",
       "    .dataframe tbody tr th {\n",
       "        vertical-align: top;\n",
       "    }\n",
       "\n",
       "    .dataframe thead th {\n",
       "        text-align: right;\n",
       "    }\n",
       "</style>\n",
       "<table border=\"1\" class=\"dataframe\">\n",
       "  <thead>\n",
       "    <tr style=\"text-align: right;\">\n",
       "      <th></th>\n",
       "      <th>subreddit</th>\n",
       "      <th>selftext</th>\n",
       "      <th>title</th>\n",
       "      <th>text</th>\n",
       "      <th>count</th>\n",
       "    </tr>\n",
       "  </thead>\n",
       "  <tbody>\n",
       "    <tr>\n",
       "      <th>0</th>\n",
       "      <td>boardgames</td>\n",
       "      <td>If resources, time, and space were not a prob...</td>\n",
       "      <td>If you were to open your dream LGS, what would...</td>\n",
       "      <td>If resources, time, and space were not a prob...</td>\n",
       "      <td>716</td>\n",
       "    </tr>\n",
       "    <tr>\n",
       "      <th>1</th>\n",
       "      <td>boardgames</td>\n",
       "      <td>I'm very particular now on the things I buy or...</td>\n",
       "      <td>How did you decide on what games to add to you...</td>\n",
       "      <td>I'm very particular now on the things I buy or...</td>\n",
       "      <td>1153</td>\n",
       "    </tr>\n",
       "    <tr>\n",
       "      <th>2</th>\n",
       "      <td>boardgames</td>\n",
       "      <td>I've been in the process of getting my daughte...</td>\n",
       "      <td>Recommendations for getting a 6 year old hooke...</td>\n",
       "      <td>I've been in the process of getting my daughte...</td>\n",
       "      <td>356</td>\n",
       "    </tr>\n",
       "    <tr>\n",
       "      <th>3</th>\n",
       "      <td>boardgames</td>\n",
       "      <td>I mean he doesn't get paid to say he likes gam...</td>\n",
       "      <td>Why does the board game community dislike King...</td>\n",
       "      <td>I mean he doesn't get paid to say he likes gam...</td>\n",
       "      <td>172</td>\n",
       "    </tr>\n",
       "    <tr>\n",
       "      <th>4</th>\n",
       "      <td>boardgames</td>\n",
       "      <td>So, me and a couple friends really enjoy Carca...</td>\n",
       "      <td>We played the largest game of Carcassonne we c...</td>\n",
       "      <td>So, me and a couple friends really enjoy Carca...</td>\n",
       "      <td>2231</td>\n",
       "    </tr>\n",
       "  </tbody>\n",
       "</table>\n",
       "</div>"
      ],
      "text/plain": [
       "    subreddit                                           selftext  \\\n",
       "0  boardgames   If resources, time, and space were not a prob...   \n",
       "1  boardgames  I'm very particular now on the things I buy or...   \n",
       "2  boardgames  I've been in the process of getting my daughte...   \n",
       "3  boardgames  I mean he doesn't get paid to say he likes gam...   \n",
       "4  boardgames  So, me and a couple friends really enjoy Carca...   \n",
       "\n",
       "                                               title  \\\n",
       "0  If you were to open your dream LGS, what would...   \n",
       "1  How did you decide on what games to add to you...   \n",
       "2  Recommendations for getting a 6 year old hooke...   \n",
       "3  Why does the board game community dislike King...   \n",
       "4  We played the largest game of Carcassonne we c...   \n",
       "\n",
       "                                                text  count  \n",
       "0   If resources, time, and space were not a prob...    716  \n",
       "1  I'm very particular now on the things I buy or...   1153  \n",
       "2  I've been in the process of getting my daughte...    356  \n",
       "3  I mean he doesn't get paid to say he likes gam...    172  \n",
       "4  So, me and a couple friends really enjoy Carca...   2231  "
      ]
     },
     "execution_count": 265,
     "metadata": {},
     "output_type": "execute_result"
    }
   ],
   "source": [
    "board_df.head()"
   ]
  },
  {
   "cell_type": "code",
   "execution_count": 266,
   "metadata": {},
   "outputs": [],
   "source": [
    "# merge the two columns of video df\n",
    "video_df['text'] = video_df[[\"selftext\",  \"title\"]].agg('-'.join, axis=1)"
   ]
  },
  {
   "cell_type": "code",
   "execution_count": 267,
   "metadata": {},
   "outputs": [],
   "source": [
    "# generate the length of the review for the video game\n",
    "video_df[\"count\"] = video_df['text'].apply(lambda x : len(str(x)))"
   ]
  },
  {
   "cell_type": "code",
   "execution_count": 268,
   "metadata": {},
   "outputs": [
    {
     "data": {
      "text/html": [
       "<div>\n",
       "<style scoped>\n",
       "    .dataframe tbody tr th:only-of-type {\n",
       "        vertical-align: middle;\n",
       "    }\n",
       "\n",
       "    .dataframe tbody tr th {\n",
       "        vertical-align: top;\n",
       "    }\n",
       "\n",
       "    .dataframe thead th {\n",
       "        text-align: right;\n",
       "    }\n",
       "</style>\n",
       "<table border=\"1\" class=\"dataframe\">\n",
       "  <thead>\n",
       "    <tr style=\"text-align: right;\">\n",
       "      <th></th>\n",
       "      <th>subreddit</th>\n",
       "      <th>selftext</th>\n",
       "      <th>title</th>\n",
       "      <th>text</th>\n",
       "      <th>count</th>\n",
       "    </tr>\n",
       "  </thead>\n",
       "  <tbody>\n",
       "    <tr>\n",
       "      <th>0</th>\n",
       "      <td>videogames</td>\n",
       "      <td></td>\n",
       "      <td>Top 15 Anticipated Horror Games 2016 Part 2</td>\n",
       "      <td>-Top 15 Anticipated Horror Games 2016 Part 2</td>\n",
       "      <td>44</td>\n",
       "    </tr>\n",
       "    <tr>\n",
       "      <th>1</th>\n",
       "      <td>videogames</td>\n",
       "      <td>Thoughts on the last of us 2 going to be annou...</td>\n",
       "      <td>The Last of Us 2</td>\n",
       "      <td>Thoughts on the last of us 2 going to be annou...</td>\n",
       "      <td>89</td>\n",
       "    </tr>\n",
       "    <tr>\n",
       "      <th>2</th>\n",
       "      <td>videogames</td>\n",
       "      <td></td>\n",
       "      <td>Zenith: Funny Garbage</td>\n",
       "      <td>-Zenith: Funny Garbage</td>\n",
       "      <td>22</td>\n",
       "    </tr>\n",
       "    <tr>\n",
       "      <th>3</th>\n",
       "      <td>videogames</td>\n",
       "      <td></td>\n",
       "      <td>Father &amp;amp; Son bonding in GTA 5</td>\n",
       "      <td>-Father &amp;amp; Son bonding in GTA 5</td>\n",
       "      <td>34</td>\n",
       "    </tr>\n",
       "    <tr>\n",
       "      <th>4</th>\n",
       "      <td>videogames</td>\n",
       "      <td></td>\n",
       "      <td>Anniversary Present</td>\n",
       "      <td>-Anniversary Present</td>\n",
       "      <td>20</td>\n",
       "    </tr>\n",
       "  </tbody>\n",
       "</table>\n",
       "</div>"
      ],
      "text/plain": [
       "    subreddit                                           selftext  \\\n",
       "0  videogames                                                      \n",
       "1  videogames  Thoughts on the last of us 2 going to be annou...   \n",
       "2  videogames                                                      \n",
       "3  videogames                                                      \n",
       "4  videogames                                                      \n",
       "\n",
       "                                         title  \\\n",
       "0  Top 15 Anticipated Horror Games 2016 Part 2   \n",
       "1                             The Last of Us 2   \n",
       "2                        Zenith: Funny Garbage   \n",
       "3            Father &amp; Son bonding in GTA 5   \n",
       "4                          Anniversary Present   \n",
       "\n",
       "                                                text  count  \n",
       "0       -Top 15 Anticipated Horror Games 2016 Part 2     44  \n",
       "1  Thoughts on the last of us 2 going to be annou...     89  \n",
       "2                             -Zenith: Funny Garbage     22  \n",
       "3                 -Father &amp; Son bonding in GTA 5     34  \n",
       "4                               -Anniversary Present     20  "
      ]
     },
     "execution_count": 268,
     "metadata": {},
     "output_type": "execute_result"
    }
   ],
   "source": [
    "video_df.head()"
   ]
  },
  {
   "cell_type": "code",
   "execution_count": 269,
   "metadata": {},
   "outputs": [],
   "source": [
    "# concat teh vidoe and boardgame to make a bigger data\n",
    "frames = [board_df, video_df]\n",
    "big_df = pd.concat(frames) #board_df.append(video_df, ignore_index=True)"
   ]
  },
  {
   "cell_type": "code",
   "execution_count": 270,
   "metadata": {},
   "outputs": [],
   "source": [
    "# labell the catgorical column with 1 and 0\n",
    "big_df[\"subreddit\"] = big_df[\"subreddit\"].map({\"videogames\": 1, \"boardgames\":0})"
   ]
  },
  {
   "cell_type": "markdown",
   "metadata": {},
   "source": [
    "# Exploratory Data Analysis"
   ]
  },
  {
   "cell_type": "code",
   "execution_count": 271,
   "metadata": {},
   "outputs": [],
   "source": [
    "# update the count column of the big data\n",
    "big_df[\"count\"] = video_df[\"count\"]+ board_df[\"count\"]"
   ]
  },
  {
   "cell_type": "code",
   "execution_count": 272,
   "metadata": {},
   "outputs": [
    {
     "data": {
      "text/html": [
       "<div>\n",
       "<style scoped>\n",
       "    .dataframe tbody tr th:only-of-type {\n",
       "        vertical-align: middle;\n",
       "    }\n",
       "\n",
       "    .dataframe tbody tr th {\n",
       "        vertical-align: top;\n",
       "    }\n",
       "\n",
       "    .dataframe thead th {\n",
       "        text-align: right;\n",
       "    }\n",
       "</style>\n",
       "<table border=\"1\" class=\"dataframe\">\n",
       "  <thead>\n",
       "    <tr style=\"text-align: right;\">\n",
       "      <th></th>\n",
       "      <th>subreddit</th>\n",
       "      <th>selftext</th>\n",
       "      <th>title</th>\n",
       "      <th>text</th>\n",
       "      <th>count</th>\n",
       "    </tr>\n",
       "  </thead>\n",
       "  <tbody>\n",
       "    <tr>\n",
       "      <th>0</th>\n",
       "      <td>0</td>\n",
       "      <td>If resources, time, and space were not a prob...</td>\n",
       "      <td>If you were to open your dream LGS, what would...</td>\n",
       "      <td>If resources, time, and space were not a prob...</td>\n",
       "      <td>760</td>\n",
       "    </tr>\n",
       "    <tr>\n",
       "      <th>1</th>\n",
       "      <td>0</td>\n",
       "      <td>I'm very particular now on the things I buy or...</td>\n",
       "      <td>How did you decide on what games to add to you...</td>\n",
       "      <td>I'm very particular now on the things I buy or...</td>\n",
       "      <td>1242</td>\n",
       "    </tr>\n",
       "    <tr>\n",
       "      <th>2</th>\n",
       "      <td>0</td>\n",
       "      <td>I've been in the process of getting my daughte...</td>\n",
       "      <td>Recommendations for getting a 6 year old hooke...</td>\n",
       "      <td>I've been in the process of getting my daughte...</td>\n",
       "      <td>378</td>\n",
       "    </tr>\n",
       "    <tr>\n",
       "      <th>3</th>\n",
       "      <td>0</td>\n",
       "      <td>I mean he doesn't get paid to say he likes gam...</td>\n",
       "      <td>Why does the board game community dislike King...</td>\n",
       "      <td>I mean he doesn't get paid to say he likes gam...</td>\n",
       "      <td>206</td>\n",
       "    </tr>\n",
       "    <tr>\n",
       "      <th>4</th>\n",
       "      <td>0</td>\n",
       "      <td>So, me and a couple friends really enjoy Carca...</td>\n",
       "      <td>We played the largest game of Carcassonne we c...</td>\n",
       "      <td>So, me and a couple friends really enjoy Carca...</td>\n",
       "      <td>2251</td>\n",
       "    </tr>\n",
       "  </tbody>\n",
       "</table>\n",
       "</div>"
      ],
      "text/plain": [
       "   subreddit                                           selftext  \\\n",
       "0          0   If resources, time, and space were not a prob...   \n",
       "1          0  I'm very particular now on the things I buy or...   \n",
       "2          0  I've been in the process of getting my daughte...   \n",
       "3          0  I mean he doesn't get paid to say he likes gam...   \n",
       "4          0  So, me and a couple friends really enjoy Carca...   \n",
       "\n",
       "                                               title  \\\n",
       "0  If you were to open your dream LGS, what would...   \n",
       "1  How did you decide on what games to add to you...   \n",
       "2  Recommendations for getting a 6 year old hooke...   \n",
       "3  Why does the board game community dislike King...   \n",
       "4  We played the largest game of Carcassonne we c...   \n",
       "\n",
       "                                                text  count  \n",
       "0   If resources, time, and space were not a prob...    760  \n",
       "1  I'm very particular now on the things I buy or...   1242  \n",
       "2  I've been in the process of getting my daughte...    378  \n",
       "3  I mean he doesn't get paid to say he likes gam...    206  \n",
       "4  So, me and a couple friends really enjoy Carca...   2251  "
      ]
     },
     "execution_count": 272,
     "metadata": {},
     "output_type": "execute_result"
    }
   ],
   "source": [
    "big_df.head()"
   ]
  },
  {
   "cell_type": "code",
   "execution_count": 273,
   "metadata": {},
   "outputs": [
    {
     "data": {
      "text/plain": [
       "subreddit    0\n",
       "selftext     0\n",
       "title        0\n",
       "text         0\n",
       "count        0\n",
       "dtype: int64"
      ]
     },
     "execution_count": 273,
     "metadata": {},
     "output_type": "execute_result"
    }
   ],
   "source": [
    "# check the null value for the big data\n",
    "big_df.isna().sum()"
   ]
  },
  {
   "cell_type": "code",
   "execution_count": 274,
   "metadata": {},
   "outputs": [
    {
     "data": {
      "image/png": "[encoded data removed]",
      "text/plain": [
       "<Figure size 864x504 with 1 Axes>"
      ]
     },
     "metadata": {
      "needs_background": "light"
     },
     "output_type": "display_data"
    }
   ],
   "source": [
    "# histogram visualization of the square root of count column\n",
    "plt.figure(figsize = (12, 7));\n",
    "np.sqrt(big_df[\"count\"]).hist(bins = 500);\n",
    "plt.ylabel(\"Frequency\");\n",
    "plt.xlabel(\"Square Root value of the count\");\n",
    "plt.title(\"Log of the Text Length\", fontsize = 15);"
   ]
  },
  {
   "cell_type": "markdown",
   "metadata": {},
   "source": [
    "## Summary Statistics"
   ]
  },
  {
   "cell_type": "code",
   "execution_count": 275,
   "metadata": {},
   "outputs": [
    {
     "data": {
      "text/plain": [
       "count     3000.000000\n",
       "mean       696.448000\n",
       "std       1532.773453\n",
       "min         26.000000\n",
       "25%        150.750000\n",
       "50%        388.000000\n",
       "75%        770.250000\n",
       "max      29772.000000\n",
       "Name: count, dtype: float64"
      ]
     },
     "execution_count": 275,
     "metadata": {},
     "output_type": "execute_result"
    }
   ],
   "source": [
    "big_df[\"count\"].describe()"
   ]
  },
  {
   "cell_type": "markdown",
   "metadata": {},
   "source": [
    "# Natural Language Processing"
   ]
  },
  {
   "cell_type": "code",
   "execution_count": 277,
   "metadata": {},
   "outputs": [],
   "source": [
    "# generate the stopword for english\n",
    "stop = stopwords.words('english')\n",
    "# stop = stop.extend([\"com\", \"etc\", \"ela\", \"la\"])"
   ]
  },
  {
   "cell_type": "code",
   "execution_count": 331,
   "metadata": {},
   "outputs": [],
   "source": [
    "# func to remove punctuations\n",
    "def remove_punctuation(sentence): \n",
    "    return sentence.translate(str.maketrans('', '', string.punctuation))\n",
    "\n",
    "# func remove stop words\n",
    "def remove_stop_words(x):\n",
    "    x = ' '.join([i for i in x.lower().split(' ') if i not in stop])\n",
    "    return x\n",
    "\n",
    "# achange the string to lowercase\n",
    "def to_lower(x):\n",
    "    return x.lower()\n",
    "# remove the numerical data values\n",
    "def remove_nonenglish_words(x):\n",
    "    words = set(nltk.corpus.words.words())\n",
    "    filtered = \" \".join(w for w in nltk.wordpunct_tokenize(x) \\\n",
    "                                if w.lower() in words or not w.isalpha())\n",
    "    return filtered\n",
    "# function to remove the url linka from the review\n",
    "def remove_url(text):\n",
    "  \n",
    "  return re.sub(r\"http\\S+\", \"\", text)\n"
   ]
  },
  {
   "cell_type": "code",
   "execution_count": 332,
   "metadata": {},
   "outputs": [],
   "source": [
    "# Apply the the functions on the datasets\n",
    "porter = PorterStemmer()\n",
    "big_df['text'] = big_df['text'].apply(porter.stem)\n",
    "big_df['text'] = big_df['text'].apply(remove_punctuation)\n",
    "big_df['text'] = big_df['text'].apply(remove_stop_words)\n",
    "big_df['text'] = big_df['text'].apply(to_lower)\n",
    "big_df['text'] = big_df['text'].apply(remove_url)"
   ]
  },
  {
   "cell_type": "code",
   "execution_count": 281,
   "metadata": {},
   "outputs": [],
   "source": [
    "big_df['text'] = big_df['text'].apply(remove_nonenglish_words)\n",
    "board_df['text'] = board_df['text'].apply(remove_nonenglish_words)\n",
    "video_df['text'] = video_df['text'].apply(remove_nonenglish_words)"
   ]
  },
  {
   "cell_type": "code",
   "execution_count": 333,
   "metadata": {},
   "outputs": [],
   "source": [
    "# function to remove the numeric values from the str\n",
    "def remove_numeric(text):\n",
    "    result = ''.join([i for i in text if not i.isdigit()])\n",
    "    return result"
   ]
  },
  {
   "cell_type": "code",
   "execution_count": 334,
   "metadata": {},
   "outputs": [],
   "source": [
    "# apply the remove_numeric funct on the datasets\n",
    "big_df['text'] = big_df['text'].apply(remove_numeric)"
   ]
  },
  {
   "cell_type": "code",
   "execution_count": 335,
   "metadata": {},
   "outputs": [],
   "source": [
    "big_df[\"count_update\"] = big_df['text'].apply(lambda x : len(str(x)))"
   ]
  },
  {
   "cell_type": "markdown",
   "metadata": {},
   "source": [
    "### Visualized the processed review length"
   ]
  },
  {
   "cell_type": "code",
   "execution_count": 336,
   "metadata": {},
   "outputs": [
    {
     "data": {
      "image/png": "[encoded data removed]",
      "text/plain": [
       "<Figure size 864x504 with 1 Axes>"
      ]
     },
     "metadata": {
      "needs_background": "light"
     },
     "output_type": "display_data"
    }
   ],
   "source": [
    "# hist plot for squre root of the updated count\n",
    "plt.figure(figsize = (12, 7));\n",
    "np.sqrt(big_df[\"count_update\"]).hist(bins = 500);\n",
    "plt.ylabel(\"Frequency\", fontsize=20);\n",
    "plt.xlabel(\"log value of the count\", fontsize=20);\n",
    "plt.title(\"Log of the Text Length\", fontsize = 20);"
   ]
  },
  {
   "cell_type": "markdown",
   "metadata": {},
   "source": [
    "### Transfrom with CountVectorizer "
   ]
  },
  {
   "cell_type": "code",
   "execution_count": 337,
   "metadata": {},
   "outputs": [],
   "source": [
    "# Transfrom with CountVectorizer \n",
    "cvec = vec = CountVectorizer(ngram_range=(3, 3), stop_words='english')\n",
    "\n",
    "# Fit and transform the vectorizer on our corpus.\n",
    "cvec.fit_transform(board_df[\"text\"])\n",
    "\n",
    "board_tf_df = pd.DataFrame(board_tf.todense(), \n",
    "                          columns=cvec.get_feature_names())"
   ]
  },
  {
   "cell_type": "markdown",
   "metadata": {},
   "source": [
    "## Plot top occuring words"
   ]
  },
  {
   "cell_type": "code",
   "execution_count": 338,
   "metadata": {},
   "outputs": [
    {
     "data": {
      "image/png": "[encoded data removed]",
      "text/plain": [
       "<Figure size 864x504 with 1 Axes>"
      ]
     },
     "metadata": {
      "needs_background": "light"
     },
     "output_type": "display_data"
    }
   ],
   "source": [
    "# Bar plot for the top trigram words\n",
    "plt.figure(figsize = (12, 7));\n",
    "board_tf_df.sum().sort_values(ascending = False).head(10).plot(kind = \"bar\");\n",
    "plt.ylabel(\"Count\", fontsize = 20);\n",
    "plt.xlabel(\"N Grams\", fontsize = 20);\n",
    "plt.title(\"Top trigram word in Boardgames\", fontsize = 20);"
   ]
  },
  {
   "cell_type": "code",
   "execution_count": 339,
   "metadata": {},
   "outputs": [],
   "source": [
    "# Transform with CountVectorizer \n",
    "vec = CountVectorizer(ngram_range=(3, 3), stop_words= \"english\")\n",
    "\n",
    "# Fit the vectorizer on our corpus.\n",
    "vec.fit_transform(video_df[\"text\"])\n",
    "\n",
    "video_tf_df = pd.DataFrame(video_tf.todense(), \n",
    "                          columns=vec.get_feature_names())"
   ]
  },
  {
   "cell_type": "code",
   "execution_count": 340,
   "metadata": {},
   "outputs": [
    {
     "data": {
      "text/html": [
       "<div>\n",
       "<style scoped>\n",
       "    .dataframe tbody tr th:only-of-type {\n",
       "        vertical-align: middle;\n",
       "    }\n",
       "\n",
       "    .dataframe tbody tr th {\n",
       "        vertical-align: top;\n",
       "    }\n",
       "\n",
       "    .dataframe thead th {\n",
       "        text-align: right;\n",
       "    }\n",
       "</style>\n",
       "<table border=\"1\" class=\"dataframe\">\n",
       "  <thead>\n",
       "    <tr style=\"text-align: right;\">\n",
       "      <th></th>\n",
       "      <th>000 gaming experience</th>\n",
       "      <th>000 han la</th>\n",
       "      <th>10 14 el</th>\n",
       "      <th>10 acceder la</th>\n",
       "      <th>10 best latest</th>\n",
       "      <th>10 best video</th>\n",
       "      <th>10 card game</th>\n",
       "      <th>10 card got</th>\n",
       "      <th>10 edition es</th>\n",
       "      <th>10 edition pocket</th>\n",
       "      <th>...</th>\n",
       "      <th>youd probably high</th>\n",
       "      <th>young team south</th>\n",
       "      <th>zenith funny garbage</th>\n",
       "      <th>zero escape nonary</th>\n",
       "      <th>zero gravity popular</th>\n",
       "      <th>zero hour game</th>\n",
       "      <th>zero stole concept</th>\n",
       "      <th>zombie apocalypse zombie</th>\n",
       "      <th>zombie night terror</th>\n",
       "      <th>zombie survival ps3</th>\n",
       "    </tr>\n",
       "  </thead>\n",
       "  <tbody>\n",
       "    <tr>\n",
       "      <th>0</th>\n",
       "      <td>0</td>\n",
       "      <td>0</td>\n",
       "      <td>0</td>\n",
       "      <td>0</td>\n",
       "      <td>0</td>\n",
       "      <td>0</td>\n",
       "      <td>0</td>\n",
       "      <td>0</td>\n",
       "      <td>0</td>\n",
       "      <td>0</td>\n",
       "      <td>...</td>\n",
       "      <td>0</td>\n",
       "      <td>0</td>\n",
       "      <td>0</td>\n",
       "      <td>0</td>\n",
       "      <td>0</td>\n",
       "      <td>0</td>\n",
       "      <td>0</td>\n",
       "      <td>0</td>\n",
       "      <td>0</td>\n",
       "      <td>0</td>\n",
       "    </tr>\n",
       "    <tr>\n",
       "      <th>1</th>\n",
       "      <td>0</td>\n",
       "      <td>0</td>\n",
       "      <td>0</td>\n",
       "      <td>0</td>\n",
       "      <td>0</td>\n",
       "      <td>0</td>\n",
       "      <td>0</td>\n",
       "      <td>0</td>\n",
       "      <td>0</td>\n",
       "      <td>0</td>\n",
       "      <td>...</td>\n",
       "      <td>0</td>\n",
       "      <td>0</td>\n",
       "      <td>0</td>\n",
       "      <td>0</td>\n",
       "      <td>0</td>\n",
       "      <td>0</td>\n",
       "      <td>0</td>\n",
       "      <td>0</td>\n",
       "      <td>0</td>\n",
       "      <td>0</td>\n",
       "    </tr>\n",
       "    <tr>\n",
       "      <th>2</th>\n",
       "      <td>0</td>\n",
       "      <td>0</td>\n",
       "      <td>0</td>\n",
       "      <td>0</td>\n",
       "      <td>0</td>\n",
       "      <td>0</td>\n",
       "      <td>0</td>\n",
       "      <td>0</td>\n",
       "      <td>0</td>\n",
       "      <td>0</td>\n",
       "      <td>...</td>\n",
       "      <td>0</td>\n",
       "      <td>0</td>\n",
       "      <td>1</td>\n",
       "      <td>0</td>\n",
       "      <td>0</td>\n",
       "      <td>0</td>\n",
       "      <td>0</td>\n",
       "      <td>0</td>\n",
       "      <td>0</td>\n",
       "      <td>0</td>\n",
       "    </tr>\n",
       "    <tr>\n",
       "      <th>3</th>\n",
       "      <td>0</td>\n",
       "      <td>0</td>\n",
       "      <td>0</td>\n",
       "      <td>0</td>\n",
       "      <td>0</td>\n",
       "      <td>0</td>\n",
       "      <td>0</td>\n",
       "      <td>0</td>\n",
       "      <td>0</td>\n",
       "      <td>0</td>\n",
       "      <td>...</td>\n",
       "      <td>0</td>\n",
       "      <td>0</td>\n",
       "      <td>0</td>\n",
       "      <td>0</td>\n",
       "      <td>0</td>\n",
       "      <td>0</td>\n",
       "      <td>0</td>\n",
       "      <td>0</td>\n",
       "      <td>0</td>\n",
       "      <td>0</td>\n",
       "    </tr>\n",
       "    <tr>\n",
       "      <th>4</th>\n",
       "      <td>0</td>\n",
       "      <td>0</td>\n",
       "      <td>0</td>\n",
       "      <td>0</td>\n",
       "      <td>0</td>\n",
       "      <td>0</td>\n",
       "      <td>0</td>\n",
       "      <td>0</td>\n",
       "      <td>0</td>\n",
       "      <td>0</td>\n",
       "      <td>...</td>\n",
       "      <td>0</td>\n",
       "      <td>0</td>\n",
       "      <td>0</td>\n",
       "      <td>0</td>\n",
       "      <td>0</td>\n",
       "      <td>0</td>\n",
       "      <td>0</td>\n",
       "      <td>0</td>\n",
       "      <td>0</td>\n",
       "      <td>0</td>\n",
       "    </tr>\n",
       "  </tbody>\n",
       "</table>\n",
       "<p>5 rows × 6973 columns</p>\n",
       "</div>"
      ],
      "text/plain": [
       "   000 gaming experience  000 han la  10 14 el  10 acceder la  10 best latest  \\\n",
       "0                      0           0         0              0               0   \n",
       "1                      0           0         0              0               0   \n",
       "2                      0           0         0              0               0   \n",
       "3                      0           0         0              0               0   \n",
       "4                      0           0         0              0               0   \n",
       "\n",
       "   10 best video  10 card game  10 card got  10 edition es  10 edition pocket  \\\n",
       "0              0             0            0              0                  0   \n",
       "1              0             0            0              0                  0   \n",
       "2              0             0            0              0                  0   \n",
       "3              0             0            0              0                  0   \n",
       "4              0             0            0              0                  0   \n",
       "\n",
       "   ...  youd probably high  young team south  zenith funny garbage  \\\n",
       "0  ...                   0                 0                     0   \n",
       "1  ...                   0                 0                     0   \n",
       "2  ...                   0                 0                     1   \n",
       "3  ...                   0                 0                     0   \n",
       "4  ...                   0                 0                     0   \n",
       "\n",
       "   zero escape nonary  zero gravity popular  zero hour game  \\\n",
       "0                   0                     0               0   \n",
       "1                   0                     0               0   \n",
       "2                   0                     0               0   \n",
       "3                   0                     0               0   \n",
       "4                   0                     0               0   \n",
       "\n",
       "   zero stole concept  zombie apocalypse zombie  zombie night terror  \\\n",
       "0                   0                         0                    0   \n",
       "1                   0                         0                    0   \n",
       "2                   0                         0                    0   \n",
       "3                   0                         0                    0   \n",
       "4                   0                         0                    0   \n",
       "\n",
       "   zombie survival ps3  \n",
       "0                    0  \n",
       "1                    0  \n",
       "2                    0  \n",
       "3                    0  \n",
       "4                    0  \n",
       "\n",
       "[5 rows x 6973 columns]"
      ]
     },
     "execution_count": 340,
     "metadata": {},
     "output_type": "execute_result"
    }
   ],
   "source": [
    "video_tf_df.head()"
   ]
  },
  {
   "cell_type": "code",
   "execution_count": 341,
   "metadata": {},
   "outputs": [
    {
     "data": {
      "image/png": "[encoded data removed]",
      "text/plain": [
       "<Figure size 864x504 with 1 Axes>"
      ]
     },
     "metadata": {
      "needs_background": "light"
     },
     "output_type": "display_data"
    }
   ],
   "source": [
    "plt.figure(figsize = (12, 7));\n",
    "video_tf_df.sum().sort_values(ascending = False).head(10).plot(kind = \"bar\");\n",
    "plt.ylabel(\"Count\", fontsize= 20);\n",
    "plt.xlabel(\"N Grams\", fontsize= 20);\n",
    "plt.title(\"Top trigram word in Videogames\", fontsize = 15);"
   ]
  },
  {
   "cell_type": "markdown",
   "metadata": {},
   "source": [
    "# Classification Modeling"
   ]
  },
  {
   "cell_type": "code",
   "execution_count": 342,
   "metadata": {},
   "outputs": [],
   "source": [
    "# X and Y datasest Extracting \n",
    "X = big_df[\"text\"]\n",
    "y = big_df[\"subreddit\"]"
   ]
  },
  {
   "cell_type": "code",
   "execution_count": 343,
   "metadata": {},
   "outputs": [],
   "source": [
    "# Traing and test split\n",
    "X_train, X_test, y_train, y_test = train_test_split(X,\n",
    "                                                    y,\n",
    "                                                    test_size=0.3,\n",
    "                                                    stratify=y,\n",
    "                                                    random_state=42)"
   ]
  },
  {
   "cell_type": "markdown",
   "metadata": {},
   "source": [
    "## Apply the TF-iDF Transformers"
   ]
  },
  {
   "cell_type": "code",
   "execution_count": 344,
   "metadata": {},
   "outputs": [],
   "source": [
    "# use the TDIDF \n",
    "tv = TfidfVectorizer(max_features=35000, ngram_range=(1, 2), stop_words='english')\n",
    "X_train_tf = tv.fit_transform(X_train)"
   ]
  },
  {
   "cell_type": "code",
   "execution_count": 345,
   "metadata": {},
   "outputs": [
    {
     "data": {
      "text/html": [
       "<div>\n",
       "<style scoped>\n",
       "    .dataframe tbody tr th:only-of-type {\n",
       "        vertical-align: middle;\n",
       "    }\n",
       "\n",
       "    .dataframe tbody tr th {\n",
       "        vertical-align: top;\n",
       "    }\n",
       "\n",
       "    .dataframe thead th {\n",
       "        text-align: right;\n",
       "    }\n",
       "</style>\n",
       "<table border=\"1\" class=\"dataframe\">\n",
       "  <thead>\n",
       "    <tr style=\"text-align: right;\">\n",
       "      <th></th>\n",
       "      <th>abductor</th>\n",
       "      <th>abductor demand</th>\n",
       "      <th>ability</th>\n",
       "      <th>ability alter</th>\n",
       "      <th>ability determine</th>\n",
       "      <th>ability half</th>\n",
       "      <th>ability learn</th>\n",
       "      <th>ability let</th>\n",
       "      <th>ability magic</th>\n",
       "      <th>ability missile</th>\n",
       "      <th>...</th>\n",
       "      <th>zombie similar</th>\n",
       "      <th>zombie solo</th>\n",
       "      <th>zombie survival</th>\n",
       "      <th>zone</th>\n",
       "      <th>zone tag</th>\n",
       "      <th>zoo</th>\n",
       "      <th>zoo la</th>\n",
       "      <th>zoo probably</th>\n",
       "      <th>zoom</th>\n",
       "      <th>zoom discord</th>\n",
       "    </tr>\n",
       "  </thead>\n",
       "  <tbody>\n",
       "    <tr>\n",
       "      <th>0</th>\n",
       "      <td>0.0</td>\n",
       "      <td>0.0</td>\n",
       "      <td>0.0</td>\n",
       "      <td>0.0</td>\n",
       "      <td>0.0</td>\n",
       "      <td>0.0</td>\n",
       "      <td>0.0</td>\n",
       "      <td>0.0</td>\n",
       "      <td>0.0</td>\n",
       "      <td>0.0</td>\n",
       "      <td>...</td>\n",
       "      <td>0.0</td>\n",
       "      <td>0.0</td>\n",
       "      <td>0.0</td>\n",
       "      <td>0.0</td>\n",
       "      <td>0.0</td>\n",
       "      <td>0.0</td>\n",
       "      <td>0.0</td>\n",
       "      <td>0.0</td>\n",
       "      <td>0.0</td>\n",
       "      <td>0.0</td>\n",
       "    </tr>\n",
       "    <tr>\n",
       "      <th>1</th>\n",
       "      <td>0.0</td>\n",
       "      <td>0.0</td>\n",
       "      <td>0.0</td>\n",
       "      <td>0.0</td>\n",
       "      <td>0.0</td>\n",
       "      <td>0.0</td>\n",
       "      <td>0.0</td>\n",
       "      <td>0.0</td>\n",
       "      <td>0.0</td>\n",
       "      <td>0.0</td>\n",
       "      <td>...</td>\n",
       "      <td>0.0</td>\n",
       "      <td>0.0</td>\n",
       "      <td>0.0</td>\n",
       "      <td>0.0</td>\n",
       "      <td>0.0</td>\n",
       "      <td>0.0</td>\n",
       "      <td>0.0</td>\n",
       "      <td>0.0</td>\n",
       "      <td>0.0</td>\n",
       "      <td>0.0</td>\n",
       "    </tr>\n",
       "    <tr>\n",
       "      <th>2</th>\n",
       "      <td>0.0</td>\n",
       "      <td>0.0</td>\n",
       "      <td>0.0</td>\n",
       "      <td>0.0</td>\n",
       "      <td>0.0</td>\n",
       "      <td>0.0</td>\n",
       "      <td>0.0</td>\n",
       "      <td>0.0</td>\n",
       "      <td>0.0</td>\n",
       "      <td>0.0</td>\n",
       "      <td>...</td>\n",
       "      <td>0.0</td>\n",
       "      <td>0.0</td>\n",
       "      <td>0.0</td>\n",
       "      <td>0.0</td>\n",
       "      <td>0.0</td>\n",
       "      <td>0.0</td>\n",
       "      <td>0.0</td>\n",
       "      <td>0.0</td>\n",
       "      <td>0.0</td>\n",
       "      <td>0.0</td>\n",
       "    </tr>\n",
       "    <tr>\n",
       "      <th>3</th>\n",
       "      <td>0.0</td>\n",
       "      <td>0.0</td>\n",
       "      <td>0.0</td>\n",
       "      <td>0.0</td>\n",
       "      <td>0.0</td>\n",
       "      <td>0.0</td>\n",
       "      <td>0.0</td>\n",
       "      <td>0.0</td>\n",
       "      <td>0.0</td>\n",
       "      <td>0.0</td>\n",
       "      <td>...</td>\n",
       "      <td>0.0</td>\n",
       "      <td>0.0</td>\n",
       "      <td>0.0</td>\n",
       "      <td>0.0</td>\n",
       "      <td>0.0</td>\n",
       "      <td>0.0</td>\n",
       "      <td>0.0</td>\n",
       "      <td>0.0</td>\n",
       "      <td>0.0</td>\n",
       "      <td>0.0</td>\n",
       "    </tr>\n",
       "    <tr>\n",
       "      <th>4</th>\n",
       "      <td>0.0</td>\n",
       "      <td>0.0</td>\n",
       "      <td>0.0</td>\n",
       "      <td>0.0</td>\n",
       "      <td>0.0</td>\n",
       "      <td>0.0</td>\n",
       "      <td>0.0</td>\n",
       "      <td>0.0</td>\n",
       "      <td>0.0</td>\n",
       "      <td>0.0</td>\n",
       "      <td>...</td>\n",
       "      <td>0.0</td>\n",
       "      <td>0.0</td>\n",
       "      <td>0.0</td>\n",
       "      <td>0.0</td>\n",
       "      <td>0.0</td>\n",
       "      <td>0.0</td>\n",
       "      <td>0.0</td>\n",
       "      <td>0.0</td>\n",
       "      <td>0.0</td>\n",
       "      <td>0.0</td>\n",
       "    </tr>\n",
       "  </tbody>\n",
       "</table>\n",
       "<p>5 rows × 32267 columns</p>\n",
       "</div>"
      ],
      "text/plain": [
       "   abductor  abductor demand  ability  ability alter  ability determine  \\\n",
       "0       0.0              0.0      0.0            0.0                0.0   \n",
       "1       0.0              0.0      0.0            0.0                0.0   \n",
       "2       0.0              0.0      0.0            0.0                0.0   \n",
       "3       0.0              0.0      0.0            0.0                0.0   \n",
       "4       0.0              0.0      0.0            0.0                0.0   \n",
       "\n",
       "   ability half  ability learn  ability let  ability magic  ability missile  \\\n",
       "0           0.0            0.0          0.0            0.0              0.0   \n",
       "1           0.0            0.0          0.0            0.0              0.0   \n",
       "2           0.0            0.0          0.0            0.0              0.0   \n",
       "3           0.0            0.0          0.0            0.0              0.0   \n",
       "4           0.0            0.0          0.0            0.0              0.0   \n",
       "\n",
       "   ...  zombie similar  zombie solo  zombie survival  zone  zone tag  zoo  \\\n",
       "0  ...             0.0          0.0              0.0   0.0       0.0  0.0   \n",
       "1  ...             0.0          0.0              0.0   0.0       0.0  0.0   \n",
       "2  ...             0.0          0.0              0.0   0.0       0.0  0.0   \n",
       "3  ...             0.0          0.0              0.0   0.0       0.0  0.0   \n",
       "4  ...             0.0          0.0              0.0   0.0       0.0  0.0   \n",
       "\n",
       "   zoo la  zoo probably  zoom  zoom discord  \n",
       "0     0.0           0.0   0.0           0.0  \n",
       "1     0.0           0.0   0.0           0.0  \n",
       "2     0.0           0.0   0.0           0.0  \n",
       "3     0.0           0.0   0.0           0.0  \n",
       "4     0.0           0.0   0.0           0.0  \n",
       "\n",
       "[5 rows x 32267 columns]"
      ]
     },
     "execution_count": 345,
     "metadata": {},
     "output_type": "execute_result"
    }
   ],
   "source": [
    "# genrate teh dataframe of tranformed X_train\n",
    "X_train_df = pd.DataFrame(X_train_tf.todense(), columns = tv.get_feature_names())\n",
    "X_train_df.head()"
   ]
  },
  {
   "cell_type": "code",
   "execution_count": 346,
   "metadata": {},
   "outputs": [
    {
     "data": {
      "text/html": [
       "<div>\n",
       "<style scoped>\n",
       "    .dataframe tbody tr th:only-of-type {\n",
       "        vertical-align: middle;\n",
       "    }\n",
       "\n",
       "    .dataframe tbody tr th {\n",
       "        vertical-align: top;\n",
       "    }\n",
       "\n",
       "    .dataframe thead th {\n",
       "        text-align: right;\n",
       "    }\n",
       "</style>\n",
       "<table border=\"1\" class=\"dataframe\">\n",
       "  <thead>\n",
       "    <tr style=\"text-align: right;\">\n",
       "      <th></th>\n",
       "      <th>tfidf_values</th>\n",
       "    </tr>\n",
       "  </thead>\n",
       "  <tbody>\n",
       "    <tr>\n",
       "      <th>abductor</th>\n",
       "      <td>7.957022</td>\n",
       "    </tr>\n",
       "    <tr>\n",
       "      <th>perspective share</th>\n",
       "      <td>7.957022</td>\n",
       "    </tr>\n",
       "    <tr>\n",
       "      <th>perspective love</th>\n",
       "      <td>7.957022</td>\n",
       "    </tr>\n",
       "    <tr>\n",
       "      <th>personally want</th>\n",
       "      <td>7.957022</td>\n",
       "    </tr>\n",
       "    <tr>\n",
       "      <th>personally turned</th>\n",
       "      <td>7.957022</td>\n",
       "    </tr>\n",
       "    <tr>\n",
       "      <th>personally really</th>\n",
       "      <td>7.957022</td>\n",
       "    </tr>\n",
       "    <tr>\n",
       "      <th>personally mind</th>\n",
       "      <td>7.957022</td>\n",
       "    </tr>\n",
       "    <tr>\n",
       "      <th>personally love</th>\n",
       "      <td>7.957022</td>\n",
       "    </tr>\n",
       "    <tr>\n",
       "      <th>personally looking</th>\n",
       "      <td>7.957022</td>\n",
       "    </tr>\n",
       "    <tr>\n",
       "      <th>personally interested</th>\n",
       "      <td>7.957022</td>\n",
       "    </tr>\n",
       "  </tbody>\n",
       "</table>\n",
       "</div>"
      ],
      "text/plain": [
       "                       tfidf_values\n",
       "abductor                   7.957022\n",
       "perspective share          7.957022\n",
       "perspective love           7.957022\n",
       "personally want            7.957022\n",
       "personally turned          7.957022\n",
       "personally really          7.957022\n",
       "personally mind            7.957022\n",
       "personally love            7.957022\n",
       "personally looking         7.957022\n",
       "personally interested      7.957022"
      ]
     },
     "execution_count": 346,
     "metadata": {},
     "output_type": "execute_result"
    }
   ],
   "source": [
    "#lecture 5.04 with Noah\n",
    "# create a dictionary mapping the tokens to their tfidf values\n",
    "X_tf_tf = dict(zip(tv.get_feature_names(), tv.idf_))\n",
    "X_tf_df = pd.DataFrame(columns=['tfidf_vallues']).from_dict(\n",
    "                    dict(X_tf_tf), orient='index')\n",
    "X_tf_df.columns = ['tfidf_values']\n",
    "\n",
    "# Hihest TFIDF Scores\n",
    "X_tf_df.sort_values(by=['tfidf_values'], ascending=False).head(10)"
   ]
  },
  {
   "cell_type": "code",
   "execution_count": 347,
   "metadata": {},
   "outputs": [
    {
     "data": {
      "text/html": [
       "<div>\n",
       "<style scoped>\n",
       "    .dataframe tbody tr th:only-of-type {\n",
       "        vertical-align: middle;\n",
       "    }\n",
       "\n",
       "    .dataframe tbody tr th {\n",
       "        vertical-align: top;\n",
       "    }\n",
       "\n",
       "    .dataframe thead th {\n",
       "        text-align: right;\n",
       "    }\n",
       "</style>\n",
       "<table border=\"1\" class=\"dataframe\">\n",
       "  <thead>\n",
       "    <tr style=\"text-align: right;\">\n",
       "      <th></th>\n",
       "      <th>tfidf_values</th>\n",
       "    </tr>\n",
       "  </thead>\n",
       "  <tbody>\n",
       "    <tr>\n",
       "      <th>abductor</th>\n",
       "      <td>7.957022</td>\n",
       "    </tr>\n",
       "    <tr>\n",
       "      <th>abductor demand</th>\n",
       "      <td>7.957022</td>\n",
       "    </tr>\n",
       "    <tr>\n",
       "      <th>ability</th>\n",
       "      <td>6.011111</td>\n",
       "    </tr>\n",
       "    <tr>\n",
       "      <th>ability alter</th>\n",
       "      <td>7.957022</td>\n",
       "    </tr>\n",
       "    <tr>\n",
       "      <th>ability determine</th>\n",
       "      <td>7.957022</td>\n",
       "    </tr>\n",
       "    <tr>\n",
       "      <th>...</th>\n",
       "      <td>...</td>\n",
       "    </tr>\n",
       "    <tr>\n",
       "      <th>zoo</th>\n",
       "      <td>7.551556</td>\n",
       "    </tr>\n",
       "    <tr>\n",
       "      <th>zoo la</th>\n",
       "      <td>7.957022</td>\n",
       "    </tr>\n",
       "    <tr>\n",
       "      <th>zoo probably</th>\n",
       "      <td>7.957022</td>\n",
       "    </tr>\n",
       "    <tr>\n",
       "      <th>zoom</th>\n",
       "      <td>7.957022</td>\n",
       "    </tr>\n",
       "    <tr>\n",
       "      <th>zoom discord</th>\n",
       "      <td>7.957022</td>\n",
       "    </tr>\n",
       "  </tbody>\n",
       "</table>\n",
       "<p>32267 rows × 1 columns</p>\n",
       "</div>"
      ],
      "text/plain": [
       "                   tfidf_values\n",
       "abductor               7.957022\n",
       "abductor demand        7.957022\n",
       "ability                6.011111\n",
       "ability alter          7.957022\n",
       "ability determine      7.957022\n",
       "...                         ...\n",
       "zoo                    7.551556\n",
       "zoo la                 7.957022\n",
       "zoo probably           7.957022\n",
       "zoom                   7.957022\n",
       "zoom discord           7.957022\n",
       "\n",
       "[32267 rows x 1 columns]"
      ]
     },
     "execution_count": 347,
     "metadata": {},
     "output_type": "execute_result"
    }
   ],
   "source": [
    "X_tf_df"
   ]
  },
  {
   "cell_type": "code",
   "execution_count": null,
   "metadata": {},
   "outputs": [],
   "source": []
  },
  {
   "cell_type": "code",
   "execution_count": 348,
   "metadata": {},
   "outputs": [
    {
     "data": {
      "text/html": [
       "<div>\n",
       "<style scoped>\n",
       "    .dataframe tbody tr th:only-of-type {\n",
       "        vertical-align: middle;\n",
       "    }\n",
       "\n",
       "    .dataframe tbody tr th {\n",
       "        vertical-align: top;\n",
       "    }\n",
       "\n",
       "    .dataframe thead th {\n",
       "        text-align: right;\n",
       "    }\n",
       "</style>\n",
       "<table border=\"1\" class=\"dataframe\">\n",
       "  <thead>\n",
       "    <tr style=\"text-align: right;\">\n",
       "      <th></th>\n",
       "      <th>abductor</th>\n",
       "      <th>abductor demand</th>\n",
       "      <th>ability</th>\n",
       "      <th>ability alter</th>\n",
       "      <th>ability determine</th>\n",
       "      <th>ability half</th>\n",
       "      <th>ability learn</th>\n",
       "      <th>ability let</th>\n",
       "      <th>ability magic</th>\n",
       "      <th>ability missile</th>\n",
       "      <th>...</th>\n",
       "      <th>zombie similar</th>\n",
       "      <th>zombie solo</th>\n",
       "      <th>zombie survival</th>\n",
       "      <th>zone</th>\n",
       "      <th>zone tag</th>\n",
       "      <th>zoo</th>\n",
       "      <th>zoo la</th>\n",
       "      <th>zoo probably</th>\n",
       "      <th>zoom</th>\n",
       "      <th>zoom discord</th>\n",
       "    </tr>\n",
       "  </thead>\n",
       "  <tbody>\n",
       "    <tr>\n",
       "      <th>0</th>\n",
       "      <td>0.0</td>\n",
       "      <td>0.0</td>\n",
       "      <td>0.0</td>\n",
       "      <td>0.0</td>\n",
       "      <td>0.0</td>\n",
       "      <td>0.0</td>\n",
       "      <td>0.0</td>\n",
       "      <td>0.0</td>\n",
       "      <td>0.0</td>\n",
       "      <td>0.0</td>\n",
       "      <td>...</td>\n",
       "      <td>0.0</td>\n",
       "      <td>0.0</td>\n",
       "      <td>0.0</td>\n",
       "      <td>0.0</td>\n",
       "      <td>0.0</td>\n",
       "      <td>0.0</td>\n",
       "      <td>0.0</td>\n",
       "      <td>0.0</td>\n",
       "      <td>0.0</td>\n",
       "      <td>0.0</td>\n",
       "    </tr>\n",
       "    <tr>\n",
       "      <th>1</th>\n",
       "      <td>0.0</td>\n",
       "      <td>0.0</td>\n",
       "      <td>0.0</td>\n",
       "      <td>0.0</td>\n",
       "      <td>0.0</td>\n",
       "      <td>0.0</td>\n",
       "      <td>0.0</td>\n",
       "      <td>0.0</td>\n",
       "      <td>0.0</td>\n",
       "      <td>0.0</td>\n",
       "      <td>...</td>\n",
       "      <td>0.0</td>\n",
       "      <td>0.0</td>\n",
       "      <td>0.0</td>\n",
       "      <td>0.0</td>\n",
       "      <td>0.0</td>\n",
       "      <td>0.0</td>\n",
       "      <td>0.0</td>\n",
       "      <td>0.0</td>\n",
       "      <td>0.0</td>\n",
       "      <td>0.0</td>\n",
       "    </tr>\n",
       "    <tr>\n",
       "      <th>2</th>\n",
       "      <td>0.0</td>\n",
       "      <td>0.0</td>\n",
       "      <td>0.0</td>\n",
       "      <td>0.0</td>\n",
       "      <td>0.0</td>\n",
       "      <td>0.0</td>\n",
       "      <td>0.0</td>\n",
       "      <td>0.0</td>\n",
       "      <td>0.0</td>\n",
       "      <td>0.0</td>\n",
       "      <td>...</td>\n",
       "      <td>0.0</td>\n",
       "      <td>0.0</td>\n",
       "      <td>0.0</td>\n",
       "      <td>0.0</td>\n",
       "      <td>0.0</td>\n",
       "      <td>0.0</td>\n",
       "      <td>0.0</td>\n",
       "      <td>0.0</td>\n",
       "      <td>0.0</td>\n",
       "      <td>0.0</td>\n",
       "    </tr>\n",
       "    <tr>\n",
       "      <th>3</th>\n",
       "      <td>0.0</td>\n",
       "      <td>0.0</td>\n",
       "      <td>0.0</td>\n",
       "      <td>0.0</td>\n",
       "      <td>0.0</td>\n",
       "      <td>0.0</td>\n",
       "      <td>0.0</td>\n",
       "      <td>0.0</td>\n",
       "      <td>0.0</td>\n",
       "      <td>0.0</td>\n",
       "      <td>...</td>\n",
       "      <td>0.0</td>\n",
       "      <td>0.0</td>\n",
       "      <td>0.0</td>\n",
       "      <td>0.0</td>\n",
       "      <td>0.0</td>\n",
       "      <td>0.0</td>\n",
       "      <td>0.0</td>\n",
       "      <td>0.0</td>\n",
       "      <td>0.0</td>\n",
       "      <td>0.0</td>\n",
       "    </tr>\n",
       "    <tr>\n",
       "      <th>4</th>\n",
       "      <td>0.0</td>\n",
       "      <td>0.0</td>\n",
       "      <td>0.0</td>\n",
       "      <td>0.0</td>\n",
       "      <td>0.0</td>\n",
       "      <td>0.0</td>\n",
       "      <td>0.0</td>\n",
       "      <td>0.0</td>\n",
       "      <td>0.0</td>\n",
       "      <td>0.0</td>\n",
       "      <td>...</td>\n",
       "      <td>0.0</td>\n",
       "      <td>0.0</td>\n",
       "      <td>0.0</td>\n",
       "      <td>0.0</td>\n",
       "      <td>0.0</td>\n",
       "      <td>0.0</td>\n",
       "      <td>0.0</td>\n",
       "      <td>0.0</td>\n",
       "      <td>0.0</td>\n",
       "      <td>0.0</td>\n",
       "    </tr>\n",
       "  </tbody>\n",
       "</table>\n",
       "<p>5 rows × 32267 columns</p>\n",
       "</div>"
      ],
      "text/plain": [
       "   abductor  abductor demand  ability  ability alter  ability determine  \\\n",
       "0       0.0              0.0      0.0            0.0                0.0   \n",
       "1       0.0              0.0      0.0            0.0                0.0   \n",
       "2       0.0              0.0      0.0            0.0                0.0   \n",
       "3       0.0              0.0      0.0            0.0                0.0   \n",
       "4       0.0              0.0      0.0            0.0                0.0   \n",
       "\n",
       "   ability half  ability learn  ability let  ability magic  ability missile  \\\n",
       "0           0.0            0.0          0.0            0.0              0.0   \n",
       "1           0.0            0.0          0.0            0.0              0.0   \n",
       "2           0.0            0.0          0.0            0.0              0.0   \n",
       "3           0.0            0.0          0.0            0.0              0.0   \n",
       "4           0.0            0.0          0.0            0.0              0.0   \n",
       "\n",
       "   ...  zombie similar  zombie solo  zombie survival  zone  zone tag  zoo  \\\n",
       "0  ...             0.0          0.0              0.0   0.0       0.0  0.0   \n",
       "1  ...             0.0          0.0              0.0   0.0       0.0  0.0   \n",
       "2  ...             0.0          0.0              0.0   0.0       0.0  0.0   \n",
       "3  ...             0.0          0.0              0.0   0.0       0.0  0.0   \n",
       "4  ...             0.0          0.0              0.0   0.0       0.0  0.0   \n",
       "\n",
       "   zoo la  zoo probably  zoom  zoom discord  \n",
       "0     0.0           0.0   0.0           0.0  \n",
       "1     0.0           0.0   0.0           0.0  \n",
       "2     0.0           0.0   0.0           0.0  \n",
       "3     0.0           0.0   0.0           0.0  \n",
       "4     0.0           0.0   0.0           0.0  \n",
       "\n",
       "[5 rows x 32267 columns]"
      ]
     },
     "execution_count": 348,
     "metadata": {},
     "output_type": "execute_result"
    }
   ],
   "source": [
    "# Transfrom the X_test\n",
    "# from lecture 5.04 with Noah\n",
    "X_test_tf = tv.transform(X_test)\n",
    "\n",
    "X_test_df = pd.DataFrame(X_test_tf.todense(), columns = tv.get_feature_names())\n",
    "X_test_df.head()"
   ]
  },
  {
   "cell_type": "code",
   "execution_count": 349,
   "metadata": {},
   "outputs": [
    {
     "name": "stdout",
     "output_type": "stream",
     "text": [
      "(2100, 32267)\n",
      "(900, 32267)\n",
      "(2100,)\n",
      "(900,)\n"
     ]
    }
   ],
   "source": [
    "print(X_train_df.shape)\n",
    "print(X_test_df.shape)\n",
    "print(y_train.shape)\n",
    "print(y_test.shape)"
   ]
  },
  {
   "cell_type": "markdown",
   "metadata": {},
   "source": [
    "### Baseline model"
   ]
  },
  {
   "cell_type": "code",
   "execution_count": 350,
   "metadata": {},
   "outputs": [
    {
     "data": {
      "text/plain": [
       "0    0.5\n",
       "1    0.5\n",
       "Name: subreddit, dtype: float64"
      ]
     },
     "execution_count": 350,
     "metadata": {},
     "output_type": "execute_result"
    }
   ],
   "source": [
    "# baseline model\n",
    "y.value_counts(normalize = True)"
   ]
  },
  {
   "cell_type": "markdown",
   "metadata": {},
   "source": [
    "# Initiate and Fit Classification model and Evaluations"
   ]
  },
  {
   "cell_type": "code",
   "execution_count": 351,
   "metadata": {},
   "outputs": [],
   "source": [
    "# initiate the logistic Regression \n",
    "lr =LogisticRegression()"
   ]
  },
  {
   "cell_type": "code",
   "execution_count": 352,
   "metadata": {},
   "outputs": [
    {
     "data": {
      "text/plain": [
       "LogisticRegression()"
      ]
     },
     "execution_count": 352,
     "metadata": {},
     "output_type": "execute_result"
    }
   ],
   "source": [
    "# fit the model\n",
    "lr.fit(X_train_df, y_train)"
   ]
  },
  {
   "cell_type": "code",
   "execution_count": 353,
   "metadata": {},
   "outputs": [
    {
     "data": {
      "text/plain": [
       "0.969047619047619"
      ]
     },
     "execution_count": 353,
     "metadata": {},
     "output_type": "execute_result"
    }
   ],
   "source": [
    "# calculate the accuracy of training data \n",
    "lr.score(X_train_df, y_train)"
   ]
  },
  {
   "cell_type": "code",
   "execution_count": 354,
   "metadata": {},
   "outputs": [
    {
     "data": {
      "text/plain": [
       "0.8766666666666667"
      ]
     },
     "execution_count": 354,
     "metadata": {},
     "output_type": "execute_result"
    }
   ],
   "source": [
    "# calculate the accuracy of the testing data\n",
    "lr.score(X_test_df, y_test)"
   ]
  },
  {
   "cell_type": "code",
   "execution_count": 355,
   "metadata": {},
   "outputs": [],
   "source": [
    "## Define a function generate the confusion matrix\n",
    "def plot_confusion_matrix(dt):\n",
    "    sns.heatmap(dt, annot=True, xticklabels=['Pred Neg', 'Pred Pos'],\n",
    "              yticklabels = ['Actual Neg', 'Actual Pos'])"
   ]
  },
  {
   "cell_type": "markdown",
   "metadata": {},
   "source": [
    "## Develope a Pipline and Cofusion matrix"
   ]
  },
  {
   "cell_type": "code",
   "execution_count": 377,
   "metadata": {},
   "outputs": [
    {
     "name": "stdout",
     "output_type": "stream",
     "text": [
      "NB Training Accuray: 0.7795238095238095\n",
      "NB Testing Accuracy:  0.7911111111111111\n"
     ]
    },
    {
     "data": {
      "image/png": "[encoded data removed]",
      "text/plain": [
       "<Figure size 432x288 with 2 Axes>"
      ]
     },
     "metadata": {
      "needs_background": "light"
     },
     "output_type": "display_data"
    }
   ],
   "source": [
    "# naive Bayes pipline with the TF-iDF\n",
    "model_dict = {}\n",
    "lr = Pipeline([\n",
    "                ('tfidf', TfidfVectorizer()),\n",
    "               ('clf', BernoulliNB())])\n",
    "    \n",
    "lr.fit(X_train, y_train)\n",
    "y_train_pred = lr.predict(X_train)\n",
    "y_pred = lr.predict(X_test)\n",
    "\n",
    "print(f\"NB Training Accuray: {accuracy_score(y_train, y_train_pred)}\")\n",
    "print(f\"NB Testing Accuracy:  { accuracy_score(y_test, y_pred)}\")\n",
    "plot_confusion_matrix(confusion_matrix(y_test, y_pred))\n",
    "plt.title(\"Naive Bayes Confusion Matrix\", fontweight = \"bold\", fontsize = 20)\n",
    "model_dict[\"NB_tfidf_train\"] = accuracy_score(y_train, y_train_pred)\n",
    "model_dict[\"NB_tfidf_test\"] = accuracy_score(y_test, y_pred)"
   ]
  },
  {
   "cell_type": "code",
   "execution_count": 378,
   "metadata": {},
   "outputs": [
    {
     "name": "stdout",
     "output_type": "stream",
     "text": [
      "Training Accuray: 0.9466666666666667\n",
      "Testing Accuracy:  0.8755555555555555\n"
     ]
    },
    {
     "data": {
      "image/png": "[encoded data removed]",
      "text/plain": [
       "<Figure size 432x288 with 2 Axes>"
      ]
     },
     "metadata": {
      "needs_background": "light"
     },
     "output_type": "display_data"
    }
   ],
   "source": [
    "# Logistic regression pipline with the TF-iDF\n",
    "\n",
    "lr = Pipeline([\n",
    "                ('tfidf', TfidfVectorizer()),\n",
    "               ('clf', LogisticRegression())])\n",
    "    \n",
    "lr.fit(X_train, y_train)\n",
    "y_train_pred = lr.predict(X_train)\n",
    "y_pred = lr.predict(X_test)\n",
    "\n",
    "print(f\"Training Accuray: {accuracy_score(y_train, y_train_pred)}\")\n",
    "print(f\"Testing Accuracy:  { accuracy_score(y_test, y_pred)}\")\n",
    "plot_confusion_matrix(confusion_matrix(y_test, y_pred))\n",
    "plt.title(\"Logi Confusion Matrix\", fontweight = \"bold\", fontsize = 20)\n",
    "model_dict[\"Log_tfidf_train\"] = accuracy_score(y_train, y_train_pred)\n",
    "model_dict[\"Log_tfidf_test\"] = accuracy_score(y_test, y_pred)"
   ]
  },
  {
   "cell_type": "code",
   "execution_count": null,
   "metadata": {},
   "outputs": [],
   "source": []
  },
  {
   "cell_type": "code",
   "execution_count": 379,
   "metadata": {},
   "outputs": [
    {
     "name": "stdout",
     "output_type": "stream",
     "text": [
      "Training Accuray: 0.9904761904761905\n",
      "Testing Accuracy:  0.87\n"
     ]
    },
    {
     "data": {
      "image/png": "[encoded data removed]",
      "text/plain": [
       "<Figure size 432x288 with 2 Axes>"
      ]
     },
     "metadata": {
      "needs_background": "light"
     },
     "output_type": "display_data"
    }
   ],
   "source": [
    "# pip line for random forest with TF-iDF\n",
    "pip = Pipeline([\n",
    "                ('tfidf', TfidfVectorizer()),\n",
    "               ('clf', RandomForestClassifier())])\n",
    "    \n",
    "pip.fit(X_train, y_train)\n",
    "y_train_pred = pip.predict(X_train)\n",
    "y_pred = pip.predict(X_test)\n",
    "\n",
    "print(f\"Training Accuray: {accuracy_score(y_train, y_train_pred)}\")\n",
    "print(f\"Testing Accuracy:  { accuracy_score(y_test, y_pred)}\")\n",
    "plot_confusion_matrix(confusion_matrix(y_test, y_pred))\n",
    "plt.title(\"Random Forest Confusion Matrix\", fontsize = 15, fontweight = \"bold\")\n",
    "model_dict[\"Rnd_tfidf_train\"] = accuracy_score(y_train, y_train_pred)\n",
    "model_dict[\"Rnd_tfidf_test\"] = accuracy_score(y_test, y_pred)"
   ]
  },
  {
   "cell_type": "code",
   "execution_count": 380,
   "metadata": {},
   "outputs": [
    {
     "name": "stdout",
     "output_type": "stream",
     "text": [
      "Training Accuray: 0.9623809523809523\n",
      "Testing Accuracy:  0.8733333333333333\n"
     ]
    },
    {
     "data": {
      "image/png": "[encoded data removed]",
      "text/plain": [
       "<Figure size 432x288 with 2 Axes>"
      ]
     },
     "metadata": {
      "needs_background": "light"
     },
     "output_type": "display_data"
    }
   ],
   "source": [
    "# pip line for logistic regression with ConutVectorizer\n",
    "pip = Pipeline([\n",
    "                    ('tfidf',CountVectorizer()),\n",
    "               ('clf', LogisticRegression())])\n",
    "    \n",
    "pip.fit(X_train, y_train)\n",
    "y_train_pred = pip.predict(X_train)\n",
    "y_pred = pip.predict(X_test)\n",
    "\n",
    "print(f\"Training Accuray: {accuracy_score(y_train, y_train_pred)}\")\n",
    "print(f\"Testing Accuracy:  { accuracy_score(y_test, y_pred)}\")\n",
    "\n",
    "plot_confusion_matrix(confusion_matrix(y_test, y_pred))\n",
    "plt.title(\"Logi Confusion Matrix\", fontweight = \"bold\", fontsize = 20)\n",
    "model_dict[\"Log_vc_train\"] = accuracy_score(y_train, y_train_pred)\n",
    "model_dict[\"Log_vc_test\"] = accuracy_score(y_test, y_pred)"
   ]
  },
  {
   "cell_type": "code",
   "execution_count": 381,
   "metadata": {},
   "outputs": [
    {
     "name": "stdout",
     "output_type": "stream",
     "text": [
      "Training Accuray: 0.9904761904761905\n",
      "Testing Accuracy:  0.8833333333333333\n"
     ]
    },
    {
     "data": {
      "image/png": "[encoded data removed]",
      "text/plain": [
       "<Figure size 432x288 with 2 Axes>"
      ]
     },
     "metadata": {
      "needs_background": "light"
     },
     "output_type": "display_data"
    }
   ],
   "source": [
    "# pip line for random forest with ConutVectorizer\n",
    "pip = Pipeline([\n",
    "                    ('tfidf',CountVectorizer()),\n",
    "               ('clf', RandomForestClassifier())])\n",
    "    \n",
    "pip.fit(X_train, y_train)\n",
    "y_train_pred = pip.predict(X_train)\n",
    "y_pred = pip.predict(X_test)\n",
    "\n",
    "print(f\"Training Accuray: {accuracy_score(y_train, y_train_pred)}\")\n",
    "print(f\"Testing Accuracy:  { accuracy_score(y_test, y_pred)}\")\n",
    "plot_confusion_matrix(confusion_matrix(y_test, y_pred))\n",
    "plt.title(\"Random Forest Confusion Matrix\", fontsize = 15, fontweight = \"bold\")\n",
    "model_dict[\"Rnd_vc_train\"] = accuracy_score(y_train, y_train_pred)\n",
    "model_dict[\"Rnd_vc_test\"] = accuracy_score(y_test, y_pred)"
   ]
  },
  {
   "cell_type": "code",
   "execution_count": 382,
   "metadata": {},
   "outputs": [
    {
     "data": {
      "text/html": [
       "<div>\n",
       "<style scoped>\n",
       "    .dataframe tbody tr th:only-of-type {\n",
       "        vertical-align: middle;\n",
       "    }\n",
       "\n",
       "    .dataframe tbody tr th {\n",
       "        vertical-align: top;\n",
       "    }\n",
       "\n",
       "    .dataframe thead th {\n",
       "        text-align: right;\n",
       "    }\n",
       "</style>\n",
       "<table border=\"1\" class=\"dataframe\">\n",
       "  <thead>\n",
       "    <tr style=\"text-align: right;\">\n",
       "      <th></th>\n",
       "      <th>Model</th>\n",
       "      <th>Accuracy</th>\n",
       "    </tr>\n",
       "  </thead>\n",
       "  <tbody>\n",
       "    <tr>\n",
       "      <th>0</th>\n",
       "      <td>NB_tfidf_train</td>\n",
       "      <td>0.779524</td>\n",
       "    </tr>\n",
       "    <tr>\n",
       "      <th>1</th>\n",
       "      <td>NB_tfidf_test</td>\n",
       "      <td>0.791111</td>\n",
       "    </tr>\n",
       "    <tr>\n",
       "      <th>2</th>\n",
       "      <td>Log_tfidf_train</td>\n",
       "      <td>0.946667</td>\n",
       "    </tr>\n",
       "    <tr>\n",
       "      <th>3</th>\n",
       "      <td>Log_tfidf_test</td>\n",
       "      <td>0.875556</td>\n",
       "    </tr>\n",
       "    <tr>\n",
       "      <th>4</th>\n",
       "      <td>Rnd_tfidf_train</td>\n",
       "      <td>0.990476</td>\n",
       "    </tr>\n",
       "    <tr>\n",
       "      <th>5</th>\n",
       "      <td>Rnd_tfidf_test</td>\n",
       "      <td>0.870000</td>\n",
       "    </tr>\n",
       "    <tr>\n",
       "      <th>6</th>\n",
       "      <td>Log_vc_train</td>\n",
       "      <td>0.962381</td>\n",
       "    </tr>\n",
       "    <tr>\n",
       "      <th>7</th>\n",
       "      <td>Log_vc_test</td>\n",
       "      <td>0.873333</td>\n",
       "    </tr>\n",
       "    <tr>\n",
       "      <th>8</th>\n",
       "      <td>Rnd_vc_train</td>\n",
       "      <td>0.990476</td>\n",
       "    </tr>\n",
       "    <tr>\n",
       "      <th>9</th>\n",
       "      <td>Rnd_vc_test</td>\n",
       "      <td>0.883333</td>\n",
       "    </tr>\n",
       "  </tbody>\n",
       "</table>\n",
       "</div>"
      ],
      "text/plain": [
       "             Model  Accuracy\n",
       "0   NB_tfidf_train  0.779524\n",
       "1    NB_tfidf_test  0.791111\n",
       "2  Log_tfidf_train  0.946667\n",
       "3   Log_tfidf_test  0.875556\n",
       "4  Rnd_tfidf_train  0.990476\n",
       "5   Rnd_tfidf_test  0.870000\n",
       "6     Log_vc_train  0.962381\n",
       "7      Log_vc_test  0.873333\n",
       "8     Rnd_vc_train  0.990476\n",
       "9      Rnd_vc_test  0.883333"
      ]
     },
     "execution_count": 382,
     "metadata": {},
     "output_type": "execute_result"
    }
   ],
   "source": [
    "model_df = pd.DataFrame(model_dict.items(), columns = [\"Model\", \"Accuracy\"])\n",
    "model_df"
   ]
  },
  {
   "cell_type": "markdown",
   "metadata": {},
   "source": [
    "## Automating the modeling process for different classification models"
   ]
  },
  {
   "cell_type": "code",
   "execution_count": 375,
   "metadata": {},
   "outputs": [],
   "source": [
    "# List of Models I want to try on \n",
    "models = [LogisticRegression(), \n",
    "               DecisionTreeClassifier(random_state=1234), \n",
    "               RandomForestClassifier(random_state=1234), \n",
    "         BernoulliNB() ]\n",
    "\n",
    "\n",
    "\n",
    "#Code from https://www.imranabdullah.com/2019-06-01/Drawing-multiple-ROC-Curves-in-a-single-plot\n",
    "# initial a empty dataframe\n",
    "metrics_table = pd.DataFrame(columns=['model', 'fpr','tpr','auc'])\n",
    "# Train the models and record the results\n",
    "for pip in models:\n",
    "    pip.fit(X_train_df, y_train)\n",
    "    y_train_pred = pip.predict_proba(X_train_df)[:,1]\n",
    "    y_pred = pip.predict_proba(X_test_df)[:,1]\n",
    "#     print(y)\n",
    "    fpr, tpr, thresholds = roc_curve(y_test,  y_pred)\n",
    "    auc = roc_auc_score(y_test, y_pred)\n",
    "    \n",
    "    metrics_table = metrics_table.append({'model':pip.__class__.__name__,\n",
    "                                        'fpr':fpr, \n",
    "                                        'tpr':tpr, \n",
    "                                        'auc':auc}, ignore_index=True)\n",
    "\n",
    "# Set name of the models as index labels\n",
    "metrics_table.set_index('model', inplace=True)"
   ]
  },
  {
   "cell_type": "code",
   "execution_count": null,
   "metadata": {},
   "outputs": [],
   "source": []
  },
  {
   "cell_type": "code",
   "execution_count": 363,
   "metadata": {},
   "outputs": [
    {
     "data": {
      "text/html": [
       "<div>\n",
       "<style scoped>\n",
       "    .dataframe tbody tr th:only-of-type {\n",
       "        vertical-align: middle;\n",
       "    }\n",
       "\n",
       "    .dataframe tbody tr th {\n",
       "        vertical-align: top;\n",
       "    }\n",
       "\n",
       "    .dataframe thead th {\n",
       "        text-align: right;\n",
       "    }\n",
       "</style>\n",
       "<table border=\"1\" class=\"dataframe\">\n",
       "  <thead>\n",
       "    <tr style=\"text-align: right;\">\n",
       "      <th></th>\n",
       "      <th>fpr</th>\n",
       "      <th>tpr</th>\n",
       "      <th>auc</th>\n",
       "    </tr>\n",
       "    <tr>\n",
       "      <th>model</th>\n",
       "      <th></th>\n",
       "      <th></th>\n",
       "      <th></th>\n",
       "    </tr>\n",
       "  </thead>\n",
       "  <tbody>\n",
       "    <tr>\n",
       "      <th>LogisticRegression</th>\n",
       "      <td>[0.0, 0.0, 0.0, 0.0, 0.0, 0.0, 0.0, 0.0, 0.0, ...</td>\n",
       "      <td>[0.0, 0.0022222222222222222, 0.046666666666666...</td>\n",
       "      <td>0.944274</td>\n",
       "    </tr>\n",
       "    <tr>\n",
       "      <th>DecisionTreeClassifier</th>\n",
       "      <td>[0.0, 0.13555555555555557, 0.24, 0.24, 1.0]</td>\n",
       "      <td>[0.0, 0.6577777777777778, 0.8533333333333334, ...</td>\n",
       "      <td>0.831985</td>\n",
       "    </tr>\n",
       "    <tr>\n",
       "      <th>RandomForestClassifier</th>\n",
       "      <td>[0.0, 0.0, 0.0, 0.0, 0.0, 0.0, 0.0, 0.0, 0.0, ...</td>\n",
       "      <td>[0.0, 0.11777777777777777, 0.12222222222222222...</td>\n",
       "      <td>0.950970</td>\n",
       "    </tr>\n",
       "    <tr>\n",
       "      <th>BernoulliNB</th>\n",
       "      <td>[0.0, 0.14444444444444443, 0.1622222222222222,...</td>\n",
       "      <td>[0.0, 0.9155555555555556, 0.9222222222222223, ...</td>\n",
       "      <td>0.909279</td>\n",
       "    </tr>\n",
       "  </tbody>\n",
       "</table>\n",
       "</div>"
      ],
      "text/plain": [
       "                                                                      fpr  \\\n",
       "model                                                                       \n",
       "LogisticRegression      [0.0, 0.0, 0.0, 0.0, 0.0, 0.0, 0.0, 0.0, 0.0, ...   \n",
       "DecisionTreeClassifier        [0.0, 0.13555555555555557, 0.24, 0.24, 1.0]   \n",
       "RandomForestClassifier  [0.0, 0.0, 0.0, 0.0, 0.0, 0.0, 0.0, 0.0, 0.0, ...   \n",
       "BernoulliNB             [0.0, 0.14444444444444443, 0.1622222222222222,...   \n",
       "\n",
       "                                                                      tpr  \\\n",
       "model                                                                       \n",
       "LogisticRegression      [0.0, 0.0022222222222222222, 0.046666666666666...   \n",
       "DecisionTreeClassifier  [0.0, 0.6577777777777778, 0.8533333333333334, ...   \n",
       "RandomForestClassifier  [0.0, 0.11777777777777777, 0.12222222222222222...   \n",
       "BernoulliNB             [0.0, 0.9155555555555556, 0.9222222222222223, ...   \n",
       "\n",
       "                             auc  \n",
       "model                             \n",
       "LogisticRegression      0.944274  \n",
       "DecisionTreeClassifier  0.831985  \n",
       "RandomForestClassifier  0.950970  \n",
       "BernoulliNB             0.909279  "
      ]
     },
     "execution_count": 363,
     "metadata": {},
     "output_type": "execute_result"
    }
   ],
   "source": [
    "metrics_table"
   ]
  },
  {
   "cell_type": "code",
   "execution_count": 364,
   "metadata": {},
   "outputs": [
    {
     "data": {
      "image/png": "[encoded data removed]",
      "text/plain": [
       "<Figure size 864x648 with 1 Axes>"
      ]
     },
     "metadata": {
      "needs_background": "light"
     },
     "output_type": "display_data"
    }
   ],
   "source": [
    "# https://www.imranabdullah.com/2019-06-01/Drawing-multiple-ROC-Curves-in-a-single-plot\n",
    "plt.figure(figsize = (12, 9))\n",
    "for i in metrics_table.index:\n",
    "    plt.plot(metrics_table.loc[i]['fpr'], \n",
    "             metrics_table.loc[i]['tpr'], \n",
    "             label=\"{}, AUC={:.3f}\".format(i, metrics_table.loc[i]['auc']), linewidth= 2 )\n",
    "    \n",
    "    plt.plot([0,1], [0,1], color='orange', linestyle='--')\n",
    "\n",
    "plt.xlabel(\"False Positive Rate\", fontsize=15)\n",
    "plt.xlim(-0.01,1.0)\n",
    "plt.ylim(-0.01,1.1)\n",
    "\n",
    "plt.ylabel(\"True Positive Rate\", fontsize=15)\n",
    "\n",
    "plt.title('ROC Curve Analysis TfIdf', fontweight='bold', fontsize=15)\n",
    "plt.legend(prop={'size':20}, loc='lower right')\n",
    "\n",
    "plt.show()"
   ]
  },
  {
   "cell_type": "markdown",
   "metadata": {},
   "source": [
    "## Interpretation:\n",
    "- the baseline model has a .5 accuracy which bad compare to the classification models\n",
    "- Want to reduce the false false positive and false negatives.\n",
    "- Random forest has better traing accuracy, but there is large gap with testing accuarcy.\n",
    "- Logistic Reg. is better because less overfit, so I choose it my main classification model\n",
    "ven the ROC curve of random forest is above the logistic \n",
    "-  ”Probability that a randomly chosen positive instance is ranked higher than a randomly chosen negative instance for AUC values mean”\n",
    "\n",
    "source: https://www.displayr.com/what-is-a-roc-curve-how-to-interpret-it/\n"
   ]
  },
  {
   "cell_type": "markdown",
   "metadata": {},
   "source": [
    "# Conclusion and Recomendations"
   ]
  },
  {
   "cell_type": "markdown",
   "metadata": {},
   "source": [
    "- All the Data Science steps executed we have discovered pattern from the messy data.\n",
    "- We have developed an  logarithms that able classify the reviews or tweets in 0.94 on training and .88 on testing accuracy.\n",
    "\n",
    "**Future Work:**\n",
    "- Tune some the hyperparameter and more train the model\n",
    "- Deploy this model to the production\n",
    "\n",
    "\n",
    "\n"
   ]
  },
  {
   "cell_type": "code",
   "execution_count": null,
   "metadata": {},
   "outputs": [],
   "source": []
  },
  {
   "cell_type": "code",
   "execution_count": null,
   "metadata": {},
   "outputs": [],
   "source": []
  }
 ],
 "metadata": {
  "kernelspec": {
   "display_name": "Python 3",
   "language": "python",
   "name": "python3"
  },
  "language_info": {
   "codemirror_mode": {
    "name": "ipython",
    "version": 3
   },
   "file_extension": ".py",
   "mimetype": "text/x-python",
   "name": "python",
   "nbconvert_exporter": "python",
   "pygments_lexer": "ipython3",
   "version": "3.7.4"
  }
 },
 "nbformat": 4,
 "nbformat_minor": 4
}

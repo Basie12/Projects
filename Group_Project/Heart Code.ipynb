{
 "cells": [
  {
   "cell_type": "markdown",
   "metadata": {},
   "source": [
    "# Data Science Problem\n",
    "\n",
    "We (Group 5: Bassa, Jen, Thomaz, Catherine) are public health researchers and have been tasked with identifying and understanding predictors of CVD in patient populations located in high-income countries.  Our employer, a group of medical professionals, is concerned with high CVD mortality among their patient population and seeks to identify better screening methods for CVD. Therefore, our goal is to identify the predictors most correlated with CVD; this will aid medical professionals in optimizing their CVD screening algorithms.\n",
    "\n",
    "**Data Science Question:** Which predictors are associated with CDV?\n",
    "\n",
    "---\n",
    "\n",
    "### Data Sources\n",
    "1. [Heart Statlog](https://www.kaggle.com/sid321axn/heart-statlog-cleveland-hungary-final)\n",
    "1. [CHD](https://chronicdata.cdc.gov/500-Cities-Places/PLACES-Census-Tract-Data-GIS-Friendly-Format-2020-/yjkw-uj5s/data)"
   ]
  },
  {
   "cell_type": "markdown",
   "metadata": {},
   "source": [
    "# Table of content\n",
    "1. **Heart StatLog**\n",
    "    1. [Cleaning and EDA](#eda)\n",
    "    1. [Trying To Use Polynomial Transformations](#poly)\n",
    "    1. [Comparing Poly Vs Normal ds](#basic_modeling)\n",
    "    1. [Reading in and bringing Bassa's cleaning and feature Engineering](#bassa_read_in)\n",
    "    1. [Making a Function to Compare Different Cleaning Methods and Model Scores](#base_scores)\n",
    "    1. [Combining my and Bassa's idea to get a better Model Eval Score](#Combining_ideas)\n",
    "    1. [Cleaning the Poly from previous step to get rid of some features](#tb_clean)\n",
    "    1. [GridSearches](#gridsearches)\n",
    "        1. [Logistic](#hlog)\n",
    "        1. [Ada Boosting](#ada)\n",
    "        1. [Gradient Boosting](#gb)\n",
    "        1. [Random Forest](#rf)\n",
    "        1. [Decision Tree](#dt)\n",
    "        1. [SVC](#svc)\n",
    "        1. [KNN](#hknn)\n",
    "        1. [BNB](#hbnb)\n",
    "        1. [NN](#nn)\n",
    "        1. [Gradient Boost 2](#gd_boost2)\n",
    "        1. [Voting Classifier](#voting)\n",
    "        1. [Grid Search Scores](#gridsearch_scores)\n",
    "    1. [Analysis Based off the Best Model](#hanalysis)\n",
    "    1. [Conclusions & Recommendations](#hcnr)\n",
    "1. **Jen's CHD Dataset**  \n",
    "    1. [Data Dictionary](#jen)\n",
    "    1. [Cleaning and Engineering](#jclean)\n",
    "    1. **[Regression](#reg_eda)**\n",
    "        1. [Regression Modeling](#reg_mod)\n",
    "        1. [Linear Regression](#linear)\n",
    "        1. [Ridge](#ridge)\n",
    "        1. [Lasso](#lasso)\n",
    "        1. [Regression Results](#reg_results)\n",
    "        1. [Conclusions](#reg_conclusions)\n",
    "    1. **[Classification](#classification)**\n",
    "        1. [Cleaning/EDA & Engineering to be able to do a classification model](#cclean)\n",
    "        1. [Classification Modeling](#cmodel)\n",
    "        1. [Logistic Regression](#logreg)\n",
    "        1. [KNN](#knn)\n",
    "        1. [Bernuolli Naive Bayes](#bnb)\n",
    "        1. [Conclusions](#class_con)\n",
    "        "
   ]
  },
  {
   "cell_type": "markdown",
   "metadata": {},
   "source": [
    "<img src ='./imgs/Data Dictionary.png'>"
   ]
  },
  {
   "cell_type": "markdown",
   "metadata": {},
   "source": [
    "## Imports"
   ]
  },
  {
   "cell_type": "code",
   "execution_count": 1,
   "metadata": {},
   "outputs": [
    {
     "name": "stderr",
     "output_type": "stream",
     "text": [
      "In /opt/anaconda3/lib/python3.7/site-packages/matplotlib/mpl-data/stylelib/_classic_test.mplstyle: \n",
      "The text.latex.preview rcparam was deprecated in Matplotlib 3.3 and will be removed two minor releases later.\n",
      "In /opt/anaconda3/lib/python3.7/site-packages/matplotlib/mpl-data/stylelib/_classic_test.mplstyle: \n",
      "The mathtext.fallback_to_cm rcparam was deprecated in Matplotlib 3.3 and will be removed two minor releases later.\n",
      "In /opt/anaconda3/lib/python3.7/site-packages/matplotlib/mpl-data/stylelib/_classic_test.mplstyle: Support for setting the 'mathtext.fallback_to_cm' rcParam is deprecated since 3.3 and will be removed two minor releases later; use 'mathtext.fallback : 'cm' instead.\n",
      "In /opt/anaconda3/lib/python3.7/site-packages/matplotlib/mpl-data/stylelib/_classic_test.mplstyle: \n",
      "The validate_bool_maybe_none function was deprecated in Matplotlib 3.3 and will be removed two minor releases later.\n",
      "In /opt/anaconda3/lib/python3.7/site-packages/matplotlib/mpl-data/stylelib/_classic_test.mplstyle: \n",
      "The savefig.jpeg_quality rcparam was deprecated in Matplotlib 3.3 and will be removed two minor releases later.\n",
      "In /opt/anaconda3/lib/python3.7/site-packages/matplotlib/mpl-data/stylelib/_classic_test.mplstyle: \n",
      "The keymap.all_axes rcparam was deprecated in Matplotlib 3.3 and will be removed two minor releases later.\n",
      "In /opt/anaconda3/lib/python3.7/site-packages/matplotlib/mpl-data/stylelib/_classic_test.mplstyle: \n",
      "The animation.avconv_path rcparam was deprecated in Matplotlib 3.3 and will be removed two minor releases later.\n",
      "In /opt/anaconda3/lib/python3.7/site-packages/matplotlib/mpl-data/stylelib/_classic_test.mplstyle: \n",
      "The animation.avconv_args rcparam was deprecated in Matplotlib 3.3 and will be removed two minor releases later.\n",
      "/opt/anaconda3/lib/python3.7/site-packages/statsmodels/tools/_testing.py:19: FutureWarning: pandas.util.testing is deprecated. Use the functions in the public API at pandas.testing instead.\n",
      "  import pandas.util.testing as tm\n"
     ]
    }
   ],
   "source": [
    "# basic dataframe libaries\n",
    "import pandas as pd\n",
    "import numpy as np\n",
    "import matplotlib.pyplot as plt\n",
    "import seaborn as sns\n",
    "\n",
    "# statsmodel\n",
    "import statsmodels.api as sm\n",
    "\n",
    "# sklearn stuff\n",
    "from sklearn.linear_model import LogisticRegression, LinearRegression, RidgeCV, LassoCV\n",
    "from sklearn.model_selection import train_test_split, GridSearchCV, cross_val_score\n",
    "from sklearn.metrics import accuracy_score,  classification_report, roc_auc_score, roc_curve\n",
    "from sklearn.preprocessing import OneHotEncoder, StandardScaler, PolynomialFeatures\n",
    "from sklearn.ensemble import RandomForestClassifier, BaggingClassifier, VotingClassifier\n",
    "from sklearn.tree import DecisionTreeClassifier\n",
    "from sklearn.neighbors import KNeighborsClassifier\n",
    "from sklearn.svm import SVC\n",
    "from sklearn.naive_bayes import GaussianNB, BernoulliNB\n",
    "from sklearn.ensemble import RandomForestClassifier,AdaBoostClassifier,GradientBoostingClassifier\n",
    "from sklearn import metrics\n",
    "from sklearn.pipeline import Pipeline\n",
    "\n",
    "# Keras stuff\n",
    "from tensorflow.keras import Sequential\n",
    "from tensorflow.keras.layers import Dense\n",
    "from tensorflow.keras.callbacks import EarlyStopping\n",
    "from tensorflow.keras.layers import Dropout\n",
    "# timeit to get how long it will take something will run\n",
    "import timeit as ti"
   ]
  },
  {
   "cell_type": "code",
   "execution_count": 2,
   "metadata": {},
   "outputs": [
    {
     "data": {
      "text/html": [
       "<div>\n",
       "<style scoped>\n",
       "    .dataframe tbody tr th:only-of-type {\n",
       "        vertical-align: middle;\n",
       "    }\n",
       "\n",
       "    .dataframe tbody tr th {\n",
       "        vertical-align: top;\n",
       "    }\n",
       "\n",
       "    .dataframe thead th {\n",
       "        text-align: right;\n",
       "    }\n",
       "</style>\n",
       "<table border=\"1\" class=\"dataframe\">\n",
       "  <thead>\n",
       "    <tr style=\"text-align: right;\">\n",
       "      <th></th>\n",
       "      <th>age</th>\n",
       "      <th>sex</th>\n",
       "      <th>chest pain type</th>\n",
       "      <th>resting bp s</th>\n",
       "      <th>cholesterol</th>\n",
       "      <th>fasting blood sugar</th>\n",
       "      <th>resting ecg</th>\n",
       "      <th>max heart rate</th>\n",
       "      <th>exercise angina</th>\n",
       "      <th>oldpeak</th>\n",
       "      <th>ST slope</th>\n",
       "      <th>target</th>\n",
       "    </tr>\n",
       "  </thead>\n",
       "  <tbody>\n",
       "    <tr>\n",
       "      <th>0</th>\n",
       "      <td>40</td>\n",
       "      <td>1</td>\n",
       "      <td>2</td>\n",
       "      <td>140</td>\n",
       "      <td>289</td>\n",
       "      <td>0</td>\n",
       "      <td>0</td>\n",
       "      <td>172</td>\n",
       "      <td>0</td>\n",
       "      <td>0.0</td>\n",
       "      <td>1</td>\n",
       "      <td>0</td>\n",
       "    </tr>\n",
       "    <tr>\n",
       "      <th>1</th>\n",
       "      <td>49</td>\n",
       "      <td>0</td>\n",
       "      <td>3</td>\n",
       "      <td>160</td>\n",
       "      <td>180</td>\n",
       "      <td>0</td>\n",
       "      <td>0</td>\n",
       "      <td>156</td>\n",
       "      <td>0</td>\n",
       "      <td>1.0</td>\n",
       "      <td>2</td>\n",
       "      <td>1</td>\n",
       "    </tr>\n",
       "    <tr>\n",
       "      <th>2</th>\n",
       "      <td>37</td>\n",
       "      <td>1</td>\n",
       "      <td>2</td>\n",
       "      <td>130</td>\n",
       "      <td>283</td>\n",
       "      <td>0</td>\n",
       "      <td>1</td>\n",
       "      <td>98</td>\n",
       "      <td>0</td>\n",
       "      <td>0.0</td>\n",
       "      <td>1</td>\n",
       "      <td>0</td>\n",
       "    </tr>\n",
       "    <tr>\n",
       "      <th>3</th>\n",
       "      <td>48</td>\n",
       "      <td>0</td>\n",
       "      <td>4</td>\n",
       "      <td>138</td>\n",
       "      <td>214</td>\n",
       "      <td>0</td>\n",
       "      <td>0</td>\n",
       "      <td>108</td>\n",
       "      <td>1</td>\n",
       "      <td>1.5</td>\n",
       "      <td>2</td>\n",
       "      <td>1</td>\n",
       "    </tr>\n",
       "    <tr>\n",
       "      <th>4</th>\n",
       "      <td>54</td>\n",
       "      <td>1</td>\n",
       "      <td>3</td>\n",
       "      <td>150</td>\n",
       "      <td>195</td>\n",
       "      <td>0</td>\n",
       "      <td>0</td>\n",
       "      <td>122</td>\n",
       "      <td>0</td>\n",
       "      <td>0.0</td>\n",
       "      <td>1</td>\n",
       "      <td>0</td>\n",
       "    </tr>\n",
       "    <tr>\n",
       "      <th>...</th>\n",
       "      <td>...</td>\n",
       "      <td>...</td>\n",
       "      <td>...</td>\n",
       "      <td>...</td>\n",
       "      <td>...</td>\n",
       "      <td>...</td>\n",
       "      <td>...</td>\n",
       "      <td>...</td>\n",
       "      <td>...</td>\n",
       "      <td>...</td>\n",
       "      <td>...</td>\n",
       "      <td>...</td>\n",
       "    </tr>\n",
       "    <tr>\n",
       "      <th>1185</th>\n",
       "      <td>45</td>\n",
       "      <td>1</td>\n",
       "      <td>1</td>\n",
       "      <td>110</td>\n",
       "      <td>264</td>\n",
       "      <td>0</td>\n",
       "      <td>0</td>\n",
       "      <td>132</td>\n",
       "      <td>0</td>\n",
       "      <td>1.2</td>\n",
       "      <td>2</td>\n",
       "      <td>1</td>\n",
       "    </tr>\n",
       "    <tr>\n",
       "      <th>1186</th>\n",
       "      <td>68</td>\n",
       "      <td>1</td>\n",
       "      <td>4</td>\n",
       "      <td>144</td>\n",
       "      <td>193</td>\n",
       "      <td>1</td>\n",
       "      <td>0</td>\n",
       "      <td>141</td>\n",
       "      <td>0</td>\n",
       "      <td>3.4</td>\n",
       "      <td>2</td>\n",
       "      <td>1</td>\n",
       "    </tr>\n",
       "    <tr>\n",
       "      <th>1187</th>\n",
       "      <td>57</td>\n",
       "      <td>1</td>\n",
       "      <td>4</td>\n",
       "      <td>130</td>\n",
       "      <td>131</td>\n",
       "      <td>0</td>\n",
       "      <td>0</td>\n",
       "      <td>115</td>\n",
       "      <td>1</td>\n",
       "      <td>1.2</td>\n",
       "      <td>2</td>\n",
       "      <td>1</td>\n",
       "    </tr>\n",
       "    <tr>\n",
       "      <th>1188</th>\n",
       "      <td>57</td>\n",
       "      <td>0</td>\n",
       "      <td>2</td>\n",
       "      <td>130</td>\n",
       "      <td>236</td>\n",
       "      <td>0</td>\n",
       "      <td>2</td>\n",
       "      <td>174</td>\n",
       "      <td>0</td>\n",
       "      <td>0.0</td>\n",
       "      <td>2</td>\n",
       "      <td>1</td>\n",
       "    </tr>\n",
       "    <tr>\n",
       "      <th>1189</th>\n",
       "      <td>38</td>\n",
       "      <td>1</td>\n",
       "      <td>3</td>\n",
       "      <td>138</td>\n",
       "      <td>175</td>\n",
       "      <td>0</td>\n",
       "      <td>0</td>\n",
       "      <td>173</td>\n",
       "      <td>0</td>\n",
       "      <td>0.0</td>\n",
       "      <td>1</td>\n",
       "      <td>0</td>\n",
       "    </tr>\n",
       "  </tbody>\n",
       "</table>\n",
       "<p>1190 rows × 12 columns</p>\n",
       "</div>"
      ],
      "text/plain": [
       "      age  sex  chest pain type  resting bp s  cholesterol  \\\n",
       "0      40    1                2           140          289   \n",
       "1      49    0                3           160          180   \n",
       "2      37    1                2           130          283   \n",
       "3      48    0                4           138          214   \n",
       "4      54    1                3           150          195   \n",
       "...   ...  ...              ...           ...          ...   \n",
       "1185   45    1                1           110          264   \n",
       "1186   68    1                4           144          193   \n",
       "1187   57    1                4           130          131   \n",
       "1188   57    0                2           130          236   \n",
       "1189   38    1                3           138          175   \n",
       "\n",
       "      fasting blood sugar  resting ecg  max heart rate  exercise angina  \\\n",
       "0                       0            0             172                0   \n",
       "1                       0            0             156                0   \n",
       "2                       0            1              98                0   \n",
       "3                       0            0             108                1   \n",
       "4                       0            0             122                0   \n",
       "...                   ...          ...             ...              ...   \n",
       "1185                    0            0             132                0   \n",
       "1186                    1            0             141                0   \n",
       "1187                    0            0             115                1   \n",
       "1188                    0            2             174                0   \n",
       "1189                    0            0             173                0   \n",
       "\n",
       "      oldpeak  ST slope  target  \n",
       "0         0.0         1       0  \n",
       "1         1.0         2       1  \n",
       "2         0.0         1       0  \n",
       "3         1.5         2       1  \n",
       "4         0.0         1       0  \n",
       "...       ...       ...     ...  \n",
       "1185      1.2         2       1  \n",
       "1186      3.4         2       1  \n",
       "1187      1.2         2       1  \n",
       "1188      0.0         2       1  \n",
       "1189      0.0         1       0  \n",
       "\n",
       "[1190 rows x 12 columns]"
      ]
     },
     "execution_count": 2,
     "metadata": {},
     "output_type": "execute_result"
    }
   ],
   "source": [
    "heart = pd.read_csv('./data/heart_statlog_cleveland_hungary_final (1).csv')\n",
    "heart"
   ]
  },
  {
   "cell_type": "markdown",
   "metadata": {},
   "source": [
    "# Cleaning and Data exploration <span id = 'eda'>\n",
    "___"
   ]
  },
  {
   "cell_type": "markdown",
   "metadata": {},
   "source": [
    "### Check for null values"
   ]
  },
  {
   "cell_type": "code",
   "execution_count": 3,
   "metadata": {},
   "outputs": [
    {
     "data": {
      "text/plain": [
       "age                    0\n",
       "sex                    0\n",
       "chest pain type        0\n",
       "resting bp s           0\n",
       "cholesterol            0\n",
       "fasting blood sugar    0\n",
       "resting ecg            0\n",
       "max heart rate         0\n",
       "exercise angina        0\n",
       "oldpeak                0\n",
       "ST slope               0\n",
       "target                 0\n",
       "dtype: int64"
      ]
     },
     "execution_count": 3,
     "metadata": {},
     "output_type": "execute_result"
    }
   ],
   "source": [
    "heart.isna().sum()"
   ]
  },
  {
   "cell_type": "code",
   "execution_count": 4,
   "metadata": {},
   "outputs": [
    {
     "data": {
      "text/plain": [
       "age                      int64\n",
       "sex                      int64\n",
       "chest pain type          int64\n",
       "resting bp s             int64\n",
       "cholesterol              int64\n",
       "fasting blood sugar      int64\n",
       "resting ecg              int64\n",
       "max heart rate           int64\n",
       "exercise angina          int64\n",
       "oldpeak                float64\n",
       "ST slope                 int64\n",
       "target                   int64\n",
       "dtype: object"
      ]
     },
     "execution_count": 4,
     "metadata": {},
     "output_type": "execute_result"
    }
   ],
   "source": [
    "heart.dtypes"
   ]
  },
  {
   "cell_type": "markdown",
   "metadata": {},
   "source": [
    "### Columns i'll want to make into categorical instead of numeric\n",
    "1. 'chest pain type'\n",
    "> Value 1: typical angina  \n",
    "Value 2: atypical angina  \n",
    "Value 3: non-anginal pain  \n",
    "Value 4: asymptomatic\n",
    "\n",
    "1. 'resting ecg'\n",
    "> Value 0: normal  \n",
    "Value 1: having ST-T wave abnormality (T wave inversions and/or ST elevation or depression of > 0.05 mV)  \n",
    "Value 2: showing probable or definite left ventricular hypertrophy by Estes' criteria\n",
    "\n",
    "1. 'ST slope'\n",
    "> Value 1: upsloping  \n",
    "Value 2: flat  \n",
    "Value 3: downsloping"
   ]
  },
  {
   "cell_type": "code",
   "execution_count": 5,
   "metadata": {},
   "outputs": [
    {
     "data": {
      "text/html": [
       "<div>\n",
       "<style scoped>\n",
       "    .dataframe tbody tr th:only-of-type {\n",
       "        vertical-align: middle;\n",
       "    }\n",
       "\n",
       "    .dataframe tbody tr th {\n",
       "        vertical-align: top;\n",
       "    }\n",
       "\n",
       "    .dataframe thead th {\n",
       "        text-align: right;\n",
       "    }\n",
       "</style>\n",
       "<table border=\"1\" class=\"dataframe\">\n",
       "  <thead>\n",
       "    <tr style=\"text-align: right;\">\n",
       "      <th></th>\n",
       "      <th>age</th>\n",
       "      <th>sex</th>\n",
       "      <th>chest pain type</th>\n",
       "      <th>resting bp s</th>\n",
       "      <th>cholesterol</th>\n",
       "      <th>fasting blood sugar</th>\n",
       "      <th>resting ecg</th>\n",
       "      <th>max heart rate</th>\n",
       "      <th>exercise angina</th>\n",
       "      <th>oldpeak</th>\n",
       "      <th>ST slope</th>\n",
       "      <th>target</th>\n",
       "    </tr>\n",
       "  </thead>\n",
       "  <tbody>\n",
       "    <tr>\n",
       "      <th>0</th>\n",
       "      <td>40</td>\n",
       "      <td>1</td>\n",
       "      <td>ATA</td>\n",
       "      <td>140</td>\n",
       "      <td>289</td>\n",
       "      <td>0</td>\n",
       "      <td>normal</td>\n",
       "      <td>172</td>\n",
       "      <td>0</td>\n",
       "      <td>0.0</td>\n",
       "      <td>upsloping</td>\n",
       "      <td>0</td>\n",
       "    </tr>\n",
       "    <tr>\n",
       "      <th>1</th>\n",
       "      <td>49</td>\n",
       "      <td>0</td>\n",
       "      <td>NAP</td>\n",
       "      <td>160</td>\n",
       "      <td>180</td>\n",
       "      <td>0</td>\n",
       "      <td>normal</td>\n",
       "      <td>156</td>\n",
       "      <td>0</td>\n",
       "      <td>1.0</td>\n",
       "      <td>flat</td>\n",
       "      <td>1</td>\n",
       "    </tr>\n",
       "    <tr>\n",
       "      <th>2</th>\n",
       "      <td>37</td>\n",
       "      <td>1</td>\n",
       "      <td>ATA</td>\n",
       "      <td>130</td>\n",
       "      <td>283</td>\n",
       "      <td>0</td>\n",
       "      <td>ST-T abnormal</td>\n",
       "      <td>98</td>\n",
       "      <td>0</td>\n",
       "      <td>0.0</td>\n",
       "      <td>upsloping</td>\n",
       "      <td>0</td>\n",
       "    </tr>\n",
       "  </tbody>\n",
       "</table>\n",
       "</div>"
      ],
      "text/plain": [
       "   age  sex chest pain type  resting bp s  cholesterol  fasting blood sugar  \\\n",
       "0   40    1             ATA           140          289                    0   \n",
       "1   49    0             NAP           160          180                    0   \n",
       "2   37    1             ATA           130          283                    0   \n",
       "\n",
       "     resting ecg  max heart rate  exercise angina  oldpeak   ST slope  target  \n",
       "0         normal             172                0      0.0  upsloping       0  \n",
       "1         normal             156                0      1.0       flat       1  \n",
       "2  ST-T abnormal              98                0      0.0  upsloping       0  "
      ]
     },
     "execution_count": 5,
     "metadata": {},
     "output_type": "execute_result"
    }
   ],
   "source": [
    "heart['chest pain type'] = heart['chest pain type'].map({1:'TA', 2:'ATA', 3: 'NAP', 4:'Asympt' })\n",
    "heart['resting ecg'] = heart['resting ecg'].map({0:'normal', 1:'ST-T abnormal', 2: 'lv hypertrophy'})\n",
    "heart['ST slope'] = heart['ST slope'].map({1:'upsloping', 2:'flat', 3:'downslopping'})\n",
    "heart.head(3)"
   ]
  },
  {
   "cell_type": "markdown",
   "metadata": {},
   "source": [
    "### Check Correlations of numeric parameters"
   ]
  },
  {
   "cell_type": "code",
   "execution_count": 6,
   "metadata": {},
   "outputs": [
    {
     "data": {
      "image/png": "[encoded data removed]",
      "text/plain": [
       "<Figure size 216x360 with 2 Axes>"
      ]
     },
     "metadata": {
      "needs_background": "light"
     },
     "output_type": "display_data"
    }
   ],
   "source": [
    "corr = heart.corr()\n",
    "\n",
    "plt.figure(figsize = (3, 5))\n",
    "sns.heatmap(corr[['target']].sort_values(by = 'target',ascending = False),\n",
    "            annot = True)\n",
    "plt.show()"
   ]
  },
  {
   "cell_type": "markdown",
   "metadata": {},
   "source": [
    "**Observations**  \n",
    "> 1. I expected `cholesterol` to have a higher correlation tbh.  \n",
    "> 2. `max heart rate` has a strong negative correlation (i'm assuming) because the faster the heart can pump the better it is???\n",
    "> 3. It also appears that if `sex` is male, the more likely they are to have some heart disease"
   ]
  },
  {
   "cell_type": "markdown",
   "metadata": {},
   "source": [
    "<span id='poly'></span>\n",
    "## Lets try to do some polytransformations and see if we can get the correlations up a bit"
   ]
  },
  {
   "cell_type": "code",
   "execution_count": 7,
   "metadata": {},
   "outputs": [
    {
     "data": {
      "text/html": [
       "<div>\n",
       "<style scoped>\n",
       "    .dataframe tbody tr th:only-of-type {\n",
       "        vertical-align: middle;\n",
       "    }\n",
       "\n",
       "    .dataframe tbody tr th {\n",
       "        vertical-align: top;\n",
       "    }\n",
       "\n",
       "    .dataframe thead th {\n",
       "        text-align: right;\n",
       "    }\n",
       "</style>\n",
       "<table border=\"1\" class=\"dataframe\">\n",
       "  <thead>\n",
       "    <tr style=\"text-align: right;\">\n",
       "      <th></th>\n",
       "      <th>age</th>\n",
       "      <th>sex</th>\n",
       "      <th>resting bp s</th>\n",
       "      <th>cholesterol</th>\n",
       "      <th>fasting blood sugar</th>\n",
       "      <th>max heart rate</th>\n",
       "      <th>exercise angina</th>\n",
       "      <th>oldpeak</th>\n",
       "      <th>age^2</th>\n",
       "      <th>age sex</th>\n",
       "      <th>...</th>\n",
       "      <th>fasting blood sugar^2</th>\n",
       "      <th>fasting blood sugar max heart rate</th>\n",
       "      <th>fasting blood sugar exercise angina</th>\n",
       "      <th>fasting blood sugar oldpeak</th>\n",
       "      <th>max heart rate^2</th>\n",
       "      <th>max heart rate exercise angina</th>\n",
       "      <th>max heart rate oldpeak</th>\n",
       "      <th>exercise angina^2</th>\n",
       "      <th>exercise angina oldpeak</th>\n",
       "      <th>oldpeak^2</th>\n",
       "    </tr>\n",
       "  </thead>\n",
       "  <tbody>\n",
       "    <tr>\n",
       "      <th>0</th>\n",
       "      <td>40.0</td>\n",
       "      <td>1.0</td>\n",
       "      <td>140.0</td>\n",
       "      <td>289.0</td>\n",
       "      <td>0.0</td>\n",
       "      <td>172.0</td>\n",
       "      <td>0.0</td>\n",
       "      <td>0.0</td>\n",
       "      <td>1600.0</td>\n",
       "      <td>40.0</td>\n",
       "      <td>...</td>\n",
       "      <td>0.0</td>\n",
       "      <td>0.0</td>\n",
       "      <td>0.0</td>\n",
       "      <td>0.0</td>\n",
       "      <td>29584.0</td>\n",
       "      <td>0.0</td>\n",
       "      <td>0.0</td>\n",
       "      <td>0.0</td>\n",
       "      <td>0.0</td>\n",
       "      <td>0.00</td>\n",
       "    </tr>\n",
       "    <tr>\n",
       "      <th>1</th>\n",
       "      <td>49.0</td>\n",
       "      <td>0.0</td>\n",
       "      <td>160.0</td>\n",
       "      <td>180.0</td>\n",
       "      <td>0.0</td>\n",
       "      <td>156.0</td>\n",
       "      <td>0.0</td>\n",
       "      <td>1.0</td>\n",
       "      <td>2401.0</td>\n",
       "      <td>0.0</td>\n",
       "      <td>...</td>\n",
       "      <td>0.0</td>\n",
       "      <td>0.0</td>\n",
       "      <td>0.0</td>\n",
       "      <td>0.0</td>\n",
       "      <td>24336.0</td>\n",
       "      <td>0.0</td>\n",
       "      <td>156.0</td>\n",
       "      <td>0.0</td>\n",
       "      <td>0.0</td>\n",
       "      <td>1.00</td>\n",
       "    </tr>\n",
       "    <tr>\n",
       "      <th>2</th>\n",
       "      <td>37.0</td>\n",
       "      <td>1.0</td>\n",
       "      <td>130.0</td>\n",
       "      <td>283.0</td>\n",
       "      <td>0.0</td>\n",
       "      <td>98.0</td>\n",
       "      <td>0.0</td>\n",
       "      <td>0.0</td>\n",
       "      <td>1369.0</td>\n",
       "      <td>37.0</td>\n",
       "      <td>...</td>\n",
       "      <td>0.0</td>\n",
       "      <td>0.0</td>\n",
       "      <td>0.0</td>\n",
       "      <td>0.0</td>\n",
       "      <td>9604.0</td>\n",
       "      <td>0.0</td>\n",
       "      <td>0.0</td>\n",
       "      <td>0.0</td>\n",
       "      <td>0.0</td>\n",
       "      <td>0.00</td>\n",
       "    </tr>\n",
       "    <tr>\n",
       "      <th>3</th>\n",
       "      <td>48.0</td>\n",
       "      <td>0.0</td>\n",
       "      <td>138.0</td>\n",
       "      <td>214.0</td>\n",
       "      <td>0.0</td>\n",
       "      <td>108.0</td>\n",
       "      <td>1.0</td>\n",
       "      <td>1.5</td>\n",
       "      <td>2304.0</td>\n",
       "      <td>0.0</td>\n",
       "      <td>...</td>\n",
       "      <td>0.0</td>\n",
       "      <td>0.0</td>\n",
       "      <td>0.0</td>\n",
       "      <td>0.0</td>\n",
       "      <td>11664.0</td>\n",
       "      <td>108.0</td>\n",
       "      <td>162.0</td>\n",
       "      <td>1.0</td>\n",
       "      <td>1.5</td>\n",
       "      <td>2.25</td>\n",
       "    </tr>\n",
       "    <tr>\n",
       "      <th>4</th>\n",
       "      <td>54.0</td>\n",
       "      <td>1.0</td>\n",
       "      <td>150.0</td>\n",
       "      <td>195.0</td>\n",
       "      <td>0.0</td>\n",
       "      <td>122.0</td>\n",
       "      <td>0.0</td>\n",
       "      <td>0.0</td>\n",
       "      <td>2916.0</td>\n",
       "      <td>54.0</td>\n",
       "      <td>...</td>\n",
       "      <td>0.0</td>\n",
       "      <td>0.0</td>\n",
       "      <td>0.0</td>\n",
       "      <td>0.0</td>\n",
       "      <td>14884.0</td>\n",
       "      <td>0.0</td>\n",
       "      <td>0.0</td>\n",
       "      <td>0.0</td>\n",
       "      <td>0.0</td>\n",
       "      <td>0.00</td>\n",
       "    </tr>\n",
       "  </tbody>\n",
       "</table>\n",
       "<p>5 rows × 44 columns</p>\n",
       "</div>"
      ],
      "text/plain": [
       "    age  sex  resting bp s  cholesterol  fasting blood sugar  max heart rate  \\\n",
       "0  40.0  1.0         140.0        289.0                  0.0           172.0   \n",
       "1  49.0  0.0         160.0        180.0                  0.0           156.0   \n",
       "2  37.0  1.0         130.0        283.0                  0.0            98.0   \n",
       "3  48.0  0.0         138.0        214.0                  0.0           108.0   \n",
       "4  54.0  1.0         150.0        195.0                  0.0           122.0   \n",
       "\n",
       "   exercise angina  oldpeak   age^2  age sex  ...  fasting blood sugar^2  \\\n",
       "0              0.0      0.0  1600.0     40.0  ...                    0.0   \n",
       "1              0.0      1.0  2401.0      0.0  ...                    0.0   \n",
       "2              0.0      0.0  1369.0     37.0  ...                    0.0   \n",
       "3              1.0      1.5  2304.0      0.0  ...                    0.0   \n",
       "4              0.0      0.0  2916.0     54.0  ...                    0.0   \n",
       "\n",
       "   fasting blood sugar max heart rate  fasting blood sugar exercise angina  \\\n",
       "0                                 0.0                                  0.0   \n",
       "1                                 0.0                                  0.0   \n",
       "2                                 0.0                                  0.0   \n",
       "3                                 0.0                                  0.0   \n",
       "4                                 0.0                                  0.0   \n",
       "\n",
       "   fasting blood sugar oldpeak  max heart rate^2  \\\n",
       "0                          0.0           29584.0   \n",
       "1                          0.0           24336.0   \n",
       "2                          0.0            9604.0   \n",
       "3                          0.0           11664.0   \n",
       "4                          0.0           14884.0   \n",
       "\n",
       "   max heart rate exercise angina  max heart rate oldpeak  exercise angina^2  \\\n",
       "0                             0.0                     0.0                0.0   \n",
       "1                             0.0                   156.0                0.0   \n",
       "2                             0.0                     0.0                0.0   \n",
       "3                           108.0                   162.0                1.0   \n",
       "4                             0.0                     0.0                0.0   \n",
       "\n",
       "   exercise angina oldpeak  oldpeak^2  \n",
       "0                      0.0       0.00  \n",
       "1                      0.0       1.00  \n",
       "2                      0.0       0.00  \n",
       "3                      1.5       2.25  \n",
       "4                      0.0       0.00  \n",
       "\n",
       "[5 rows x 44 columns]"
      ]
     },
     "execution_count": 7,
     "metadata": {},
     "output_type": "execute_result"
    }
   ],
   "source": [
    "# Lets choose specific columns first\n",
    "numeric_features = heart._get_numeric_data().columns.drop('target')\n",
    "\n",
    "poly = PolynomialFeatures(include_bias=False)\n",
    "df = poly.fit_transform(heart[numeric_features])\n",
    "\n",
    "# make it into a dateframe \n",
    "poly_df = pd.DataFrame(data = df, columns = poly.get_feature_names(numeric_features))\n",
    "poly_df.head()"
   ]
  },
  {
   "cell_type": "code",
   "execution_count": 8,
   "metadata": {},
   "outputs": [],
   "source": [
    "# add in our target so we can check correlation\n",
    "poly_df['target'] = heart['target']"
   ]
  },
  {
   "cell_type": "code",
   "execution_count": 9,
   "metadata": {},
   "outputs": [
    {
     "data": {
      "image/png": "[encoded data removed]",
      "text/plain": [
       "<Figure size 360x1080 with 2 Axes>"
      ]
     },
     "metadata": {
      "needs_background": "light"
     },
     "output_type": "display_data"
    }
   ],
   "source": [
    "# Check our new correlation\n",
    "corr = poly_df.corr()\n",
    "\n",
    "plt.figure(figsize = (5, 15))\n",
    "sns.heatmap(corr[['target']].sort_values(by = 'target',ascending = False),\n",
    "            annot = True)\n",
    "plt.show()"
   ]
  },
  {
   "cell_type": "markdown",
   "metadata": {},
   "source": [
    "**Observations**  \n",
    "> It does appear that doing the poly fit has helped. Will run a cross_val_score check as a baseline on both to check though"
   ]
  },
  {
   "cell_type": "markdown",
   "metadata": {},
   "source": [
    "<span id ='basic_modeling'></span>\n",
    "## Splitting the Data for both the heart and poly_df"
   ]
  },
  {
   "cell_type": "code",
   "execution_count": 10,
   "metadata": {},
   "outputs": [],
   "source": [
    "# only using numeric features how much the polytrans will affect scores without the categorical columns\n",
    "X_heart = heart[numeric_features]\n",
    "X_poly = poly_df.drop('target', axis = 1)\n",
    "y = heart['target']"
   ]
  },
  {
   "cell_type": "code",
   "execution_count": 11,
   "metadata": {},
   "outputs": [],
   "source": [
    "X_heart_train, X_heart_test, y_train, y_test = train_test_split(X_heart, y, stratify=y, random_state= 1996)\n",
    "X_poly_train, X_poly_test, y_train, y_test = train_test_split(X_poly, y, stratify=y, random_state= 1996)"
   ]
  },
  {
   "cell_type": "code",
   "execution_count": 12,
   "metadata": {},
   "outputs": [],
   "source": [
    "# Scaling the data for only the trains since we aren't looking at test rn\n",
    "sc = StandardScaler()\n",
    "X_heart_train = sc.fit_transform(X_heart_train)\n",
    "X_poly_train = sc.fit_transform(X_poly_train)"
   ]
  },
  {
   "cell_type": "code",
   "execution_count": 13,
   "metadata": {},
   "outputs": [
    {
     "name": "stdout",
     "output_type": "stream",
     "text": [
      "0.7992781369656645\n",
      "0.8127550059632164\n"
     ]
    }
   ],
   "source": [
    "print(cross_val_score(LogisticRegression(max_iter=10_000), X_heart_train, y_train, cv = 5).mean())\n",
    "print(cross_val_score(LogisticRegression(max_iter=10_000), X_poly_train, y_train, cv = 5).mean())"
   ]
  },
  {
   "cell_type": "markdown",
   "metadata": {},
   "source": [
    "**Observation**\n",
    "> The polytransforming does seem to help a bit, but only by 2%, however keep in mind that this is without the categorical columns as well as no gridsearch, out final score might be even higher"
   ]
  },
  {
   "cell_type": "code",
   "execution_count": 14,
   "metadata": {},
   "outputs": [
    {
     "data": {
      "text/plain": [
       "['chest pain type', 'ST slope', 'resting ecg']"
      ]
     },
     "execution_count": 14,
     "metadata": {},
     "output_type": "execute_result"
    }
   ],
   "source": [
    "cat_col = list(set(heart.columns) - set(numeric_features))\n",
    "cat_col.remove('target')\n",
    "cat_col"
   ]
  },
  {
   "cell_type": "code",
   "execution_count": 15,
   "metadata": {},
   "outputs": [
    {
     "data": {
      "text/html": [
       "<div>\n",
       "<style scoped>\n",
       "    .dataframe tbody tr th:only-of-type {\n",
       "        vertical-align: middle;\n",
       "    }\n",
       "\n",
       "    .dataframe tbody tr th {\n",
       "        vertical-align: top;\n",
       "    }\n",
       "\n",
       "    .dataframe thead th {\n",
       "        text-align: right;\n",
       "    }\n",
       "</style>\n",
       "<table border=\"1\" class=\"dataframe\">\n",
       "  <thead>\n",
       "    <tr style=\"text-align: right;\">\n",
       "      <th></th>\n",
       "      <th>chest pain type_Asympt</th>\n",
       "      <th>chest pain type_NAP</th>\n",
       "      <th>chest pain type_TA</th>\n",
       "      <th>ST slope_flat</th>\n",
       "      <th>ST slope_upsloping</th>\n",
       "      <th>resting ecg_lv hypertrophy</th>\n",
       "      <th>resting ecg_normal</th>\n",
       "    </tr>\n",
       "  </thead>\n",
       "  <tbody>\n",
       "    <tr>\n",
       "      <th>0</th>\n",
       "      <td>0</td>\n",
       "      <td>0</td>\n",
       "      <td>0</td>\n",
       "      <td>0</td>\n",
       "      <td>1</td>\n",
       "      <td>0</td>\n",
       "      <td>1</td>\n",
       "    </tr>\n",
       "    <tr>\n",
       "      <th>1</th>\n",
       "      <td>0</td>\n",
       "      <td>1</td>\n",
       "      <td>0</td>\n",
       "      <td>1</td>\n",
       "      <td>0</td>\n",
       "      <td>0</td>\n",
       "      <td>1</td>\n",
       "    </tr>\n",
       "    <tr>\n",
       "      <th>2</th>\n",
       "      <td>0</td>\n",
       "      <td>0</td>\n",
       "      <td>0</td>\n",
       "      <td>0</td>\n",
       "      <td>1</td>\n",
       "      <td>0</td>\n",
       "      <td>0</td>\n",
       "    </tr>\n",
       "    <tr>\n",
       "      <th>3</th>\n",
       "      <td>1</td>\n",
       "      <td>0</td>\n",
       "      <td>0</td>\n",
       "      <td>1</td>\n",
       "      <td>0</td>\n",
       "      <td>0</td>\n",
       "      <td>1</td>\n",
       "    </tr>\n",
       "    <tr>\n",
       "      <th>4</th>\n",
       "      <td>0</td>\n",
       "      <td>1</td>\n",
       "      <td>0</td>\n",
       "      <td>0</td>\n",
       "      <td>1</td>\n",
       "      <td>0</td>\n",
       "      <td>1</td>\n",
       "    </tr>\n",
       "  </tbody>\n",
       "</table>\n",
       "</div>"
      ],
      "text/plain": [
       "   chest pain type_Asympt  chest pain type_NAP  chest pain type_TA  \\\n",
       "0                       0                    0                   0   \n",
       "1                       0                    1                   0   \n",
       "2                       0                    0                   0   \n",
       "3                       1                    0                   0   \n",
       "4                       0                    1                   0   \n",
       "\n",
       "   ST slope_flat  ST slope_upsloping  resting ecg_lv hypertrophy  \\\n",
       "0              0                   1                           0   \n",
       "1              1                   0                           0   \n",
       "2              0                   1                           0   \n",
       "3              1                   0                           0   \n",
       "4              0                   1                           0   \n",
       "\n",
       "   resting ecg_normal  \n",
       "0                   1  \n",
       "1                   1  \n",
       "2                   0  \n",
       "3                   1  \n",
       "4                   1  "
      ]
     },
     "execution_count": 15,
     "metadata": {},
     "output_type": "execute_result"
    }
   ],
   "source": [
    "# Lets make these columns into dummies to append to the X_poly df\n",
    "dummy_df = pd.get_dummies(data = heart[cat_col], drop_first=True)\n",
    "dummy_df.head()"
   ]
  },
  {
   "cell_type": "code",
   "execution_count": 16,
   "metadata": {},
   "outputs": [
    {
     "data": {
      "text/html": [
       "<div>\n",
       "<style scoped>\n",
       "    .dataframe tbody tr th:only-of-type {\n",
       "        vertical-align: middle;\n",
       "    }\n",
       "\n",
       "    .dataframe tbody tr th {\n",
       "        vertical-align: top;\n",
       "    }\n",
       "\n",
       "    .dataframe thead th {\n",
       "        text-align: right;\n",
       "    }\n",
       "</style>\n",
       "<table border=\"1\" class=\"dataframe\">\n",
       "  <thead>\n",
       "    <tr style=\"text-align: right;\">\n",
       "      <th></th>\n",
       "      <th>age</th>\n",
       "      <th>sex</th>\n",
       "      <th>resting bp s</th>\n",
       "      <th>cholesterol</th>\n",
       "      <th>fasting blood sugar</th>\n",
       "      <th>max heart rate</th>\n",
       "      <th>exercise angina</th>\n",
       "      <th>oldpeak</th>\n",
       "      <th>age^2</th>\n",
       "      <th>age sex</th>\n",
       "      <th>...</th>\n",
       "      <th>exercise angina^2</th>\n",
       "      <th>exercise angina oldpeak</th>\n",
       "      <th>oldpeak^2</th>\n",
       "      <th>chest pain type_Asympt</th>\n",
       "      <th>chest pain type_NAP</th>\n",
       "      <th>chest pain type_TA</th>\n",
       "      <th>ST slope_flat</th>\n",
       "      <th>ST slope_upsloping</th>\n",
       "      <th>resting ecg_lv hypertrophy</th>\n",
       "      <th>resting ecg_normal</th>\n",
       "    </tr>\n",
       "  </thead>\n",
       "  <tbody>\n",
       "    <tr>\n",
       "      <th>0</th>\n",
       "      <td>40.0</td>\n",
       "      <td>1.0</td>\n",
       "      <td>140.0</td>\n",
       "      <td>289.0</td>\n",
       "      <td>0.0</td>\n",
       "      <td>172.0</td>\n",
       "      <td>0.0</td>\n",
       "      <td>0.0</td>\n",
       "      <td>1600.0</td>\n",
       "      <td>40.0</td>\n",
       "      <td>...</td>\n",
       "      <td>0.0</td>\n",
       "      <td>0.0</td>\n",
       "      <td>0.00</td>\n",
       "      <td>0</td>\n",
       "      <td>0</td>\n",
       "      <td>0</td>\n",
       "      <td>0</td>\n",
       "      <td>1</td>\n",
       "      <td>0</td>\n",
       "      <td>1</td>\n",
       "    </tr>\n",
       "    <tr>\n",
       "      <th>1</th>\n",
       "      <td>49.0</td>\n",
       "      <td>0.0</td>\n",
       "      <td>160.0</td>\n",
       "      <td>180.0</td>\n",
       "      <td>0.0</td>\n",
       "      <td>156.0</td>\n",
       "      <td>0.0</td>\n",
       "      <td>1.0</td>\n",
       "      <td>2401.0</td>\n",
       "      <td>0.0</td>\n",
       "      <td>...</td>\n",
       "      <td>0.0</td>\n",
       "      <td>0.0</td>\n",
       "      <td>1.00</td>\n",
       "      <td>0</td>\n",
       "      <td>1</td>\n",
       "      <td>0</td>\n",
       "      <td>1</td>\n",
       "      <td>0</td>\n",
       "      <td>0</td>\n",
       "      <td>1</td>\n",
       "    </tr>\n",
       "    <tr>\n",
       "      <th>2</th>\n",
       "      <td>37.0</td>\n",
       "      <td>1.0</td>\n",
       "      <td>130.0</td>\n",
       "      <td>283.0</td>\n",
       "      <td>0.0</td>\n",
       "      <td>98.0</td>\n",
       "      <td>0.0</td>\n",
       "      <td>0.0</td>\n",
       "      <td>1369.0</td>\n",
       "      <td>37.0</td>\n",
       "      <td>...</td>\n",
       "      <td>0.0</td>\n",
       "      <td>0.0</td>\n",
       "      <td>0.00</td>\n",
       "      <td>0</td>\n",
       "      <td>0</td>\n",
       "      <td>0</td>\n",
       "      <td>0</td>\n",
       "      <td>1</td>\n",
       "      <td>0</td>\n",
       "      <td>0</td>\n",
       "    </tr>\n",
       "    <tr>\n",
       "      <th>3</th>\n",
       "      <td>48.0</td>\n",
       "      <td>0.0</td>\n",
       "      <td>138.0</td>\n",
       "      <td>214.0</td>\n",
       "      <td>0.0</td>\n",
       "      <td>108.0</td>\n",
       "      <td>1.0</td>\n",
       "      <td>1.5</td>\n",
       "      <td>2304.0</td>\n",
       "      <td>0.0</td>\n",
       "      <td>...</td>\n",
       "      <td>1.0</td>\n",
       "      <td>1.5</td>\n",
       "      <td>2.25</td>\n",
       "      <td>1</td>\n",
       "      <td>0</td>\n",
       "      <td>0</td>\n",
       "      <td>1</td>\n",
       "      <td>0</td>\n",
       "      <td>0</td>\n",
       "      <td>1</td>\n",
       "    </tr>\n",
       "    <tr>\n",
       "      <th>4</th>\n",
       "      <td>54.0</td>\n",
       "      <td>1.0</td>\n",
       "      <td>150.0</td>\n",
       "      <td>195.0</td>\n",
       "      <td>0.0</td>\n",
       "      <td>122.0</td>\n",
       "      <td>0.0</td>\n",
       "      <td>0.0</td>\n",
       "      <td>2916.0</td>\n",
       "      <td>54.0</td>\n",
       "      <td>...</td>\n",
       "      <td>0.0</td>\n",
       "      <td>0.0</td>\n",
       "      <td>0.00</td>\n",
       "      <td>0</td>\n",
       "      <td>1</td>\n",
       "      <td>0</td>\n",
       "      <td>0</td>\n",
       "      <td>1</td>\n",
       "      <td>0</td>\n",
       "      <td>1</td>\n",
       "    </tr>\n",
       "  </tbody>\n",
       "</table>\n",
       "<p>5 rows × 51 columns</p>\n",
       "</div>"
      ],
      "text/plain": [
       "    age  sex  resting bp s  cholesterol  fasting blood sugar  max heart rate  \\\n",
       "0  40.0  1.0         140.0        289.0                  0.0           172.0   \n",
       "1  49.0  0.0         160.0        180.0                  0.0           156.0   \n",
       "2  37.0  1.0         130.0        283.0                  0.0            98.0   \n",
       "3  48.0  0.0         138.0        214.0                  0.0           108.0   \n",
       "4  54.0  1.0         150.0        195.0                  0.0           122.0   \n",
       "\n",
       "   exercise angina  oldpeak   age^2  age sex  ...  exercise angina^2  \\\n",
       "0              0.0      0.0  1600.0     40.0  ...                0.0   \n",
       "1              0.0      1.0  2401.0      0.0  ...                0.0   \n",
       "2              0.0      0.0  1369.0     37.0  ...                0.0   \n",
       "3              1.0      1.5  2304.0      0.0  ...                1.0   \n",
       "4              0.0      0.0  2916.0     54.0  ...                0.0   \n",
       "\n",
       "   exercise angina oldpeak  oldpeak^2  chest pain type_Asympt  \\\n",
       "0                      0.0       0.00                       0   \n",
       "1                      0.0       1.00                       0   \n",
       "2                      0.0       0.00                       0   \n",
       "3                      1.5       2.25                       1   \n",
       "4                      0.0       0.00                       0   \n",
       "\n",
       "   chest pain type_NAP  chest pain type_TA  ST slope_flat  ST slope_upsloping  \\\n",
       "0                    0                   0              0                   1   \n",
       "1                    1                   0              1                   0   \n",
       "2                    0                   0              0                   1   \n",
       "3                    0                   0              1                   0   \n",
       "4                    1                   0              0                   1   \n",
       "\n",
       "   resting ecg_lv hypertrophy  resting ecg_normal  \n",
       "0                           0                   1  \n",
       "1                           0                   1  \n",
       "2                           0                   0  \n",
       "3                           0                   1  \n",
       "4                           0                   1  \n",
       "\n",
       "[5 rows x 51 columns]"
      ]
     },
     "execution_count": 16,
     "metadata": {},
     "output_type": "execute_result"
    }
   ],
   "source": [
    "## add the dummy to X_poly\n",
    "X_poly_dummy = X_poly.join(dummy_df)\n",
    "X_poly_dummy.head()"
   ]
  },
  {
   "cell_type": "code",
   "execution_count": 17,
   "metadata": {},
   "outputs": [
    {
     "data": {
      "text/html": [
       "<div>\n",
       "<style scoped>\n",
       "    .dataframe tbody tr th:only-of-type {\n",
       "        vertical-align: middle;\n",
       "    }\n",
       "\n",
       "    .dataframe tbody tr th {\n",
       "        vertical-align: top;\n",
       "    }\n",
       "\n",
       "    .dataframe thead th {\n",
       "        text-align: right;\n",
       "    }\n",
       "</style>\n",
       "<table border=\"1\" class=\"dataframe\">\n",
       "  <thead>\n",
       "    <tr style=\"text-align: right;\">\n",
       "      <th></th>\n",
       "      <th>age</th>\n",
       "      <th>sex</th>\n",
       "      <th>resting bp s</th>\n",
       "      <th>cholesterol</th>\n",
       "      <th>fasting blood sugar</th>\n",
       "      <th>max heart rate</th>\n",
       "      <th>exercise angina</th>\n",
       "      <th>oldpeak</th>\n",
       "      <th>target</th>\n",
       "      <th>chest pain type_ATA</th>\n",
       "      <th>chest pain type_Asympt</th>\n",
       "      <th>chest pain type_NAP</th>\n",
       "      <th>chest pain type_TA</th>\n",
       "      <th>ST slope_downslopping</th>\n",
       "      <th>ST slope_flat</th>\n",
       "      <th>ST slope_upsloping</th>\n",
       "      <th>resting ecg_ST-T abnormal</th>\n",
       "      <th>resting ecg_lv hypertrophy</th>\n",
       "      <th>resting ecg_normal</th>\n",
       "    </tr>\n",
       "  </thead>\n",
       "  <tbody>\n",
       "    <tr>\n",
       "      <th>0</th>\n",
       "      <td>40</td>\n",
       "      <td>1</td>\n",
       "      <td>140</td>\n",
       "      <td>289</td>\n",
       "      <td>0</td>\n",
       "      <td>172</td>\n",
       "      <td>0</td>\n",
       "      <td>0.0</td>\n",
       "      <td>0</td>\n",
       "      <td>1</td>\n",
       "      <td>0</td>\n",
       "      <td>0</td>\n",
       "      <td>0</td>\n",
       "      <td>0</td>\n",
       "      <td>0</td>\n",
       "      <td>1</td>\n",
       "      <td>0</td>\n",
       "      <td>0</td>\n",
       "      <td>1</td>\n",
       "    </tr>\n",
       "    <tr>\n",
       "      <th>1</th>\n",
       "      <td>49</td>\n",
       "      <td>0</td>\n",
       "      <td>160</td>\n",
       "      <td>180</td>\n",
       "      <td>0</td>\n",
       "      <td>156</td>\n",
       "      <td>0</td>\n",
       "      <td>1.0</td>\n",
       "      <td>1</td>\n",
       "      <td>0</td>\n",
       "      <td>0</td>\n",
       "      <td>1</td>\n",
       "      <td>0</td>\n",
       "      <td>0</td>\n",
       "      <td>1</td>\n",
       "      <td>0</td>\n",
       "      <td>0</td>\n",
       "      <td>0</td>\n",
       "      <td>1</td>\n",
       "    </tr>\n",
       "    <tr>\n",
       "      <th>2</th>\n",
       "      <td>37</td>\n",
       "      <td>1</td>\n",
       "      <td>130</td>\n",
       "      <td>283</td>\n",
       "      <td>0</td>\n",
       "      <td>98</td>\n",
       "      <td>0</td>\n",
       "      <td>0.0</td>\n",
       "      <td>0</td>\n",
       "      <td>1</td>\n",
       "      <td>0</td>\n",
       "      <td>0</td>\n",
       "      <td>0</td>\n",
       "      <td>0</td>\n",
       "      <td>0</td>\n",
       "      <td>1</td>\n",
       "      <td>1</td>\n",
       "      <td>0</td>\n",
       "      <td>0</td>\n",
       "    </tr>\n",
       "  </tbody>\n",
       "</table>\n",
       "</div>"
      ],
      "text/plain": [
       "   age  sex  resting bp s  cholesterol  fasting blood sugar  max heart rate  \\\n",
       "0   40    1           140          289                    0             172   \n",
       "1   49    0           160          180                    0             156   \n",
       "2   37    1           130          283                    0              98   \n",
       "\n",
       "   exercise angina  oldpeak  target  chest pain type_ATA  \\\n",
       "0                0      0.0       0                    1   \n",
       "1                0      1.0       1                    0   \n",
       "2                0      0.0       0                    1   \n",
       "\n",
       "   chest pain type_Asympt  chest pain type_NAP  chest pain type_TA  \\\n",
       "0                       0                    0                   0   \n",
       "1                       0                    1                   0   \n",
       "2                       0                    0                   0   \n",
       "\n",
       "   ST slope_downslopping  ST slope_flat  ST slope_upsloping  \\\n",
       "0                      0              0                   1   \n",
       "1                      0              1                   0   \n",
       "2                      0              0                   1   \n",
       "\n",
       "   resting ecg_ST-T abnormal  resting ecg_lv hypertrophy  resting ecg_normal  \n",
       "0                          0                           0                   1  \n",
       "1                          0                           0                   1  \n",
       "2                          1                           0                   0  "
      ]
     },
     "execution_count": 17,
     "metadata": {},
     "output_type": "execute_result"
    }
   ],
   "source": [
    "# One last check score check with the original df vs poly with all columns now\n",
    "## Make the dummy_df full\n",
    "heart_dummy = pd.get_dummies(data = heart, columns=cat_col)\n",
    "heart_dummy.head(3)"
   ]
  },
  {
   "cell_type": "code",
   "execution_count": 18,
   "metadata": {},
   "outputs": [],
   "source": [
    "# make a new X since the target is still here\n",
    "X_heart = heart_dummy.drop('target', axis = 1)\n",
    "\n",
    "X_heart_train, X_heart_test, y_train, y_test = train_test_split(X_heart, y, stratify=y, random_state= 1996)\n",
    "X_poly_train, X_poly_test, y_train, y_test = train_test_split(X_poly, y, stratify=y, random_state= 1996)"
   ]
  },
  {
   "cell_type": "code",
   "execution_count": 19,
   "metadata": {},
   "outputs": [],
   "source": [
    "sc = StandardScaler()\n",
    "X_heart_train = sc.fit_transform(X_heart_train)\n",
    "X_poly_train = sc.fit_transform(X_poly_train)"
   ]
  },
  {
   "cell_type": "code",
   "execution_count": 20,
   "metadata": {},
   "outputs": [
    {
     "name": "stdout",
     "output_type": "stream",
     "text": [
      "0.8509384219446362\n",
      "0.8127550059632164\n"
     ]
    }
   ],
   "source": [
    "print(cross_val_score(LogisticRegression(max_iter=20_000, tol = 0.1), X_heart_train, y_train, cv = 5).mean())\n",
    "print(cross_val_score(LogisticRegression(max_iter=20_000, tol = 0.1,), X_poly_train, y_train, cv = 5).mean())"
   ]
  },
  {
   "cell_type": "markdown",
   "metadata": {},
   "source": [
    "**Observation**\n",
    "> While both the testing set averages went up, the difference between the two are now only around 0.4%. I would still like to go forward with the poly set though. It is a a bit better and we can try getting rid of some columns and keeping what has a higher coef"
   ]
  },
  {
   "cell_type": "markdown",
   "metadata": {},
   "source": [
    "# Bassa's way of setting up the Data <span id='bassa_read_in'>"
   ]
  },
  {
   "cell_type": "markdown",
   "metadata": {},
   "source": [
    "### reading in the data"
   ]
  },
  {
   "cell_type": "code",
   "execution_count": 21,
   "metadata": {},
   "outputs": [],
   "source": [
    "hrt_dt = pd.read_csv(\"./data/heart_statlog_cleveland_hungary_final (1).csv\")"
   ]
  },
  {
   "cell_type": "markdown",
   "metadata": {},
   "source": [
    "### Feature Engineering"
   ]
  },
  {
   "cell_type": "code",
   "execution_count": 22,
   "metadata": {},
   "outputs": [],
   "source": [
    "hrt_dt[\"ST slope_sqr\"] = hrt_dt[\"ST slope\"]**2\n",
    "hrt_dt[\"chest pain type_sqr\"]  = hrt_dt[\"chest pain type\"]**2\n",
    "hrt_dt[\"ST slope*chest pain type\"] = hrt_dt[\"ST slope\"]*hrt_dt[\"chest pain type\"] \n",
    "hrt_dt[\"ST slope*cholesterol\"] = hrt_dt[\"cholesterol\"]*hrt_dt[\"ST slope\"]\n",
    "hrt_dt[\"cholesterol*max heart rate\"] = hrt_dt[\"max heart rate\"]*hrt_dt[\"cholesterol\"]"
   ]
  },
  {
   "cell_type": "markdown",
   "metadata": {},
   "source": [
    "<span id = 'base_scores'></span>\n",
    "## Making a function to return multiple test results (No hyperParams) in a DF"
   ]
  },
  {
   "cell_type": "code",
   "execution_count": 23,
   "metadata": {},
   "outputs": [
    {
     "data": {
      "text/html": [
       "<div>\n",
       "<style scoped>\n",
       "    .dataframe tbody tr th:only-of-type {\n",
       "        vertical-align: middle;\n",
       "    }\n",
       "\n",
       "    .dataframe tbody tr th {\n",
       "        vertical-align: top;\n",
       "    }\n",
       "\n",
       "    .dataframe thead th {\n",
       "        text-align: right;\n",
       "    }\n",
       "</style>\n",
       "<table border=\"1\" class=\"dataframe\">\n",
       "  <thead>\n",
       "    <tr style=\"text-align: right;\">\n",
       "      <th></th>\n",
       "      <th>Notes</th>\n",
       "      <th>Log_train</th>\n",
       "      <th>Log_test</th>\n",
       "      <th>Bag_train</th>\n",
       "      <th>Bag_test</th>\n",
       "      <th>Ada_boost_train</th>\n",
       "      <th>Ada_boost_test</th>\n",
       "      <th>Grad_train</th>\n",
       "      <th>Grad_test</th>\n",
       "      <th>RF_train</th>\n",
       "      <th>RF_test</th>\n",
       "      <th>SVC_train</th>\n",
       "      <th>SVC_test</th>\n",
       "      <th>KNN_train</th>\n",
       "      <th>KNN_test</th>\n",
       "    </tr>\n",
       "  </thead>\n",
       "  <tbody>\n",
       "  </tbody>\n",
       "</table>\n",
       "</div>"
      ],
      "text/plain": [
       "Empty DataFrame\n",
       "Columns: [Notes, Log_train, Log_test, Bag_train, Bag_test, Ada_boost_train, Ada_boost_test, Grad_train, Grad_test, RF_train, RF_test, SVC_train, SVC_test, KNN_train, KNN_test]\n",
       "Index: []"
      ]
     },
     "execution_count": 23,
     "metadata": {},
     "output_type": "execute_result"
    }
   ],
   "source": [
    "base_df = pd.DataFrame(columns=['Notes','Log_train', 'Log_test','Bag_train', 'Bag_test',\n",
    "                                'Ada_boost_train', 'Ada_boost_test','Grad_train',\n",
    "                                'Grad_test','RF_train','RF_test',\n",
    "                                'SVC_train','SVC_test', 'KNN_train', 'KNN_test'])\n",
    "base_df"
   ]
  },
  {
   "cell_type": "code",
   "execution_count": 24,
   "metadata": {},
   "outputs": [],
   "source": [
    "# purpose to get number of different test accuracy quickly to see if getting rid of features help or not beore testing\n",
    "def base_scores(X, y, note):\n",
    "    # Set up general train test splits\n",
    "    X_train, X_test, y_train, y_test = train_test_split(X, y, stratify = y,test_size = 0.3, random_state =22)\n",
    "    ss = StandardScaler()\n",
    "    X_train_ss = ss.fit_transform(X_train)\n",
    "    X_test_ss = ss.transform(X_test)\n",
    "    \n",
    "    # Results for Logistic Regression\n",
    "    log_model = LogisticRegression(max_iter=2_000)\n",
    "    log_model.fit(X_train_ss, y_train)\n",
    "    log_train = log_model.score(X_train_ss, y_train)\n",
    "    log_test = log_model.score(X_test_ss, y_test)\n",
    "\n",
    "    \n",
    "    # Results for Bagging\n",
    "    bag = BaggingClassifier(random_state=42)\n",
    "    bag.fit(X_train, y_train)\n",
    "    bag_train = bag.score(X_train, y_train)\n",
    "    bag_test = bag.score(X_test, y_test)\n",
    "\n",
    "    \n",
    "    # Ada Boosting no base estimator\n",
    "    adabost = AdaBoostClassifier(base_estimator=RandomForestClassifier(max_depth=2))\n",
    "    adabost.fit(X_train, y_train)\n",
    "    ada_train = adabost.score(X_train, y_train)\n",
    "    ada_test = adabost.score(X_test, y_test)\n",
    "\n",
    "    \n",
    "    # Gradient Boosting\n",
    "    base_gbost = GradientBoostingClassifier()\n",
    "    base_gbost.fit(X_train, y_train)\n",
    "    base_gb_train = base_gbost.score(X_train, y_train)\n",
    "    base_gb_test = base_gbost.score(X_test, y_test)\n",
    "\n",
    "    \n",
    "    # RandomForest\n",
    "    rf = RandomForestClassifier()\n",
    "    rf.fit(X_train, y_train)\n",
    "    rf_train = rf.score(X_train, y_train)\n",
    "    rf_test = rf.score(X_test, y_test)\n",
    "    \n",
    "    \n",
    "    # SVM\n",
    "    svc = SVC()\n",
    "    svc.fit(X_train_ss, y_train)\n",
    "    svc_train = svc.score(X_train_ss, y_train)\n",
    "    svc_test = svc.score(X_test_ss, y_test)\n",
    "\n",
    "    \n",
    "    # KNN\n",
    "    knn = KNeighborsClassifier()\n",
    "    knn.fit(X_train_ss, y_train)\n",
    "    knn_train = knn.score(X_train_ss, y_train)\n",
    "    knn_test = knn.score(X_test_ss, y_test)\n",
    "    \n",
    "    \n",
    "    # adding all the information to a dataframe\n",
    "    info_list = []\n",
    "    d = {}\n",
    "    d['Notes'] = note\n",
    "    d['Log_train'] = log_train\n",
    "    d['Log_test'] = log_test\n",
    "    d['Bag_train'] = bag_train\n",
    "    d['Bag_test'] = bag_test\n",
    "    d['Ada_boost_train'] = ada_train\n",
    "    d['Ada_boost_test'] = ada_test\n",
    "    d['Grad_train'] = base_gb_train\n",
    "    d['Grad_test'] = base_gb_test\n",
    "    d['RF_train'] = rf_train\n",
    "    d['RF_test'] = rf_test\n",
    "    d['SVC_train'] = svc_train\n",
    "    d['SVC_test'] = svc_test\n",
    "    d['KNN_train'] = knn_train\n",
    "    d['KNN_test'] = knn_test\n",
    "    \n",
    "    # appending all this information to a list to add to the dataframe base_df\n",
    "    info_list.append(d)\n",
    "    return base_df.append(info_list)"
   ]
  },
  {
   "cell_type": "code",
   "execution_count": 25,
   "metadata": {},
   "outputs": [],
   "source": [
    "def graph_scores(X, y):\n",
    "    # Set up general train test splits\n",
    "    X_train, X_test, y_train, y_test = train_test_split(X, y, stratify = y,test_size = 0.3, random_state =22)\n",
    "    ss = StandardScaler()\n",
    "    X_train_ss = ss.fit_transform(X_train)\n",
    "    X_test_ss = ss.transform(X_test)\n",
    "  \n",
    "    testing_accuracy_dict = {}\n",
    "    # Results for Logistic Regression\n",
    "    log_model = LogisticRegression(max_iter=2000)\n",
    "    log_model.fit(X_train_ss, y_train)\n",
    "\n",
    "    testing_accuracy_dict[\"log_model\"] = []\n",
    "    testing_accuracy_dict[\"log_model\"].append(log_model.score(X_train_ss, y_train))\n",
    "    testing_accuracy_dict[\"log_model\"].append(log_model.score(X_test_ss, y_test))\n",
    "     \n",
    "    # Results for Bagging\n",
    "    bag_modle = BaggingClassifier(random_state=42)\n",
    "    bag_modle.fit(X_train, y_train)\n",
    "\n",
    "    testing_accuracy_dict[\"bag_model\"] = []\n",
    "    testing_accuracy_dict[\"bag_model\"].append(bag_modle.score(X_train, y_train))\n",
    "    testing_accuracy_dict[\"bag_model\"].append(bag_modle.score(X_test, y_test))\n",
    "    # Ada Boosting no base estimator\n",
    "    adabost = AdaBoostClassifier(base_estimator=RandomForestClassifier(max_depth=2))\n",
    "    adabost.fit(X_train, y_train)\n",
    "\n",
    "    # Gradient Boosting\n",
    "    base_gbost = GradientBoostingClassifier()\n",
    "    base_gbost.fit(X_train, y_train)\n",
    "\n",
    "    testing_accuracy_dict[\"base_gbost\"] = []\n",
    "    testing_accuracy_dict[\"base_gbost\"].append(base_gbost.score(X_train, y_train))\n",
    "    testing_accuracy_dict[\"base_gbost\"].append(base_gbost.score(X_test, y_test))\n",
    "    \n",
    "    # RandomForest\n",
    "    rf_model = RandomForestClassifier()\n",
    "    rf_model.fit(X_train, y_train)\n",
    "\n",
    "    \n",
    "    testing_accuracy_dict[\"rf_model\"] = []\n",
    "    testing_accuracy_dict[\"rf_model\"].append(rf_model.score(X_train, y_train))\n",
    "    testing_accuracy_dict[\"rf_model\"].append(rf_model.score(X_test, y_test))\n",
    "    \n",
    "    \n",
    "    # SVM\n",
    "    svc_model = SVC()\n",
    "    svc_model.fit(X_train_ss, y_train)\n",
    "\n",
    "    \n",
    "    testing_accuracy_dict[\"svc_model\"] = []\n",
    "    testing_accuracy_dict[\"svc_model\"].append(svc_model.score(X_train, y_train))\n",
    "    testing_accuracy_dict[\"svc_model\"].append(svc_model.score(X_test, y_test))\n",
    "    \n",
    "    # KNN\n",
    "    knn_model = KNeighborsClassifier()\n",
    "    knn_model.fit(X_train_ss, y_train)\n",
    "\n",
    "    testing_accuracy_dict[\"knn_model\"] = []\n",
    "    testing_accuracy_dict[\"knn_model\"].append(knn_model.score(X_train, y_train))\n",
    "    testing_accuracy_dict[\"knn_model\"].append(knn_model.score(X_test, y_test))\n",
    "    \n",
    "    return testing_accuracy_dict"
   ]
  },
  {
   "cell_type": "code",
   "execution_count": 26,
   "metadata": {},
   "outputs": [],
   "source": [
    "X_bassa = hrt_dt.drop(\"target\", axis = 1)\n",
    "X_heart = heart[numeric_features] # numeric features only\n",
    "X_heart_dummy = heart_dummy.drop('target', axis = 1)\n",
    "X_poly = poly_df.drop('target', axis = 1)\n",
    "X_poly_dummy = X_poly_dummy\n",
    "\n",
    "y = heart['target']"
   ]
  },
  {
   "cell_type": "code",
   "execution_count": 27,
   "metadata": {
    "scrolled": true
   },
   "outputs": [
    {
     "data": {
      "text/html": [
       "<div>\n",
       "<style scoped>\n",
       "    .dataframe tbody tr th:only-of-type {\n",
       "        vertical-align: middle;\n",
       "    }\n",
       "\n",
       "    .dataframe tbody tr th {\n",
       "        vertical-align: top;\n",
       "    }\n",
       "\n",
       "    .dataframe thead th {\n",
       "        text-align: right;\n",
       "    }\n",
       "</style>\n",
       "<table border=\"1\" class=\"dataframe\">\n",
       "  <thead>\n",
       "    <tr style=\"text-align: right;\">\n",
       "      <th></th>\n",
       "      <th>Notes</th>\n",
       "      <th>Log_train</th>\n",
       "      <th>Log_test</th>\n",
       "      <th>Bag_train</th>\n",
       "      <th>Bag_test</th>\n",
       "      <th>Ada_boost_train</th>\n",
       "      <th>Ada_boost_test</th>\n",
       "      <th>Grad_train</th>\n",
       "      <th>Grad_test</th>\n",
       "      <th>RF_train</th>\n",
       "      <th>RF_test</th>\n",
       "      <th>SVC_train</th>\n",
       "      <th>SVC_test</th>\n",
       "      <th>KNN_train</th>\n",
       "      <th>KNN_test</th>\n",
       "    </tr>\n",
       "  </thead>\n",
       "  <tbody>\n",
       "    <tr>\n",
       "      <th>0</th>\n",
       "      <td>Bassa's data</td>\n",
       "      <td>0.847539</td>\n",
       "      <td>0.837535</td>\n",
       "      <td>0.996399</td>\n",
       "      <td>0.910364</td>\n",
       "      <td>0.967587</td>\n",
       "      <td>0.890756</td>\n",
       "      <td>0.954382</td>\n",
       "      <td>0.904762</td>\n",
       "      <td>1.0</td>\n",
       "      <td>0.915966</td>\n",
       "      <td>0.901561</td>\n",
       "      <td>0.871148</td>\n",
       "      <td>0.899160</td>\n",
       "      <td>0.862745</td>\n",
       "    </tr>\n",
       "    <tr>\n",
       "      <th>0</th>\n",
       "      <td>Heart Numeric Only</td>\n",
       "      <td>0.805522</td>\n",
       "      <td>0.817927</td>\n",
       "      <td>0.986795</td>\n",
       "      <td>0.817927</td>\n",
       "      <td>0.915966</td>\n",
       "      <td>0.837535</td>\n",
       "      <td>0.913565</td>\n",
       "      <td>0.831933</td>\n",
       "      <td>1.0</td>\n",
       "      <td>0.873950</td>\n",
       "      <td>0.852341</td>\n",
       "      <td>0.831933</td>\n",
       "      <td>0.843938</td>\n",
       "      <td>0.817927</td>\n",
       "    </tr>\n",
       "    <tr>\n",
       "      <th>0</th>\n",
       "      <td>Heart w/ dummy</td>\n",
       "      <td>0.860744</td>\n",
       "      <td>0.840336</td>\n",
       "      <td>0.992797</td>\n",
       "      <td>0.901961</td>\n",
       "      <td>0.953181</td>\n",
       "      <td>0.871148</td>\n",
       "      <td>0.955582</td>\n",
       "      <td>0.893557</td>\n",
       "      <td>1.0</td>\n",
       "      <td>0.907563</td>\n",
       "      <td>0.908764</td>\n",
       "      <td>0.868347</td>\n",
       "      <td>0.884754</td>\n",
       "      <td>0.854342</td>\n",
       "    </tr>\n",
       "    <tr>\n",
       "      <th>0</th>\n",
       "      <td>Poly numeric only</td>\n",
       "      <td>0.818727</td>\n",
       "      <td>0.826331</td>\n",
       "      <td>0.992797</td>\n",
       "      <td>0.848739</td>\n",
       "      <td>0.961585</td>\n",
       "      <td>0.851541</td>\n",
       "      <td>0.948379</td>\n",
       "      <td>0.820728</td>\n",
       "      <td>1.0</td>\n",
       "      <td>0.868347</td>\n",
       "      <td>0.842737</td>\n",
       "      <td>0.823529</td>\n",
       "      <td>0.836735</td>\n",
       "      <td>0.815126</td>\n",
       "    </tr>\n",
       "    <tr>\n",
       "      <th>0</th>\n",
       "      <td>Poly with dummy</td>\n",
       "      <td>0.863145</td>\n",
       "      <td>0.848739</td>\n",
       "      <td>0.992797</td>\n",
       "      <td>0.887955</td>\n",
       "      <td>0.979592</td>\n",
       "      <td>0.899160</td>\n",
       "      <td>0.977191</td>\n",
       "      <td>0.901961</td>\n",
       "      <td>1.0</td>\n",
       "      <td>0.913165</td>\n",
       "      <td>0.897959</td>\n",
       "      <td>0.871148</td>\n",
       "      <td>0.895558</td>\n",
       "      <td>0.834734</td>\n",
       "    </tr>\n",
       "  </tbody>\n",
       "</table>\n",
       "</div>"
      ],
      "text/plain": [
       "                Notes  Log_train  Log_test  Bag_train  Bag_test  \\\n",
       "0        Bassa's data   0.847539  0.837535   0.996399  0.910364   \n",
       "0  Heart Numeric Only   0.805522  0.817927   0.986795  0.817927   \n",
       "0      Heart w/ dummy   0.860744  0.840336   0.992797  0.901961   \n",
       "0   Poly numeric only   0.818727  0.826331   0.992797  0.848739   \n",
       "0     Poly with dummy   0.863145  0.848739   0.992797  0.887955   \n",
       "\n",
       "   Ada_boost_train  Ada_boost_test  Grad_train  Grad_test  RF_train   RF_test  \\\n",
       "0         0.967587        0.890756    0.954382   0.904762       1.0  0.915966   \n",
       "0         0.915966        0.837535    0.913565   0.831933       1.0  0.873950   \n",
       "0         0.953181        0.871148    0.955582   0.893557       1.0  0.907563   \n",
       "0         0.961585        0.851541    0.948379   0.820728       1.0  0.868347   \n",
       "0         0.979592        0.899160    0.977191   0.901961       1.0  0.913165   \n",
       "\n",
       "   SVC_train  SVC_test  KNN_train  KNN_test  \n",
       "0   0.901561  0.871148   0.899160  0.862745  \n",
       "0   0.852341  0.831933   0.843938  0.817927  \n",
       "0   0.908764  0.868347   0.884754  0.854342  \n",
       "0   0.842737  0.823529   0.836735  0.815126  \n",
       "0   0.897959  0.871148   0.895558  0.834734  "
      ]
     },
     "execution_count": 27,
     "metadata": {},
     "output_type": "execute_result"
    }
   ],
   "source": [
    "base_df = base_scores(X_bassa, y, \"Bassa's data\")\n",
    "base_df = base_scores(X_heart, y, \"Heart Numeric Only\")\n",
    "base_df = base_scores(X_heart_dummy, y, \"Heart w/ dummy\")\n",
    "base_df = base_scores(X_poly, y, \"Poly numeric only\")\n",
    "base_df = base_scores(X_poly_dummy, y, \"Poly with dummy\")\n",
    "\n",
    "base_df"
   ]
  },
  {
   "cell_type": "code",
   "execution_count": 28,
   "metadata": {},
   "outputs": [
    {
     "data": {
      "text/html": [
       "<div>\n",
       "<style scoped>\n",
       "    .dataframe tbody tr th:only-of-type {\n",
       "        vertical-align: middle;\n",
       "    }\n",
       "\n",
       "    .dataframe tbody tr th {\n",
       "        vertical-align: top;\n",
       "    }\n",
       "\n",
       "    .dataframe thead th {\n",
       "        text-align: right;\n",
       "    }\n",
       "</style>\n",
       "<table border=\"1\" class=\"dataframe\">\n",
       "  <thead>\n",
       "    <tr style=\"text-align: right;\">\n",
       "      <th></th>\n",
       "      <th>Notes</th>\n",
       "      <th>Log_train</th>\n",
       "      <th>Log_test</th>\n",
       "      <th>Bag_train</th>\n",
       "      <th>Bag_test</th>\n",
       "      <th>Ada_boost_train</th>\n",
       "      <th>Ada_boost_test</th>\n",
       "      <th>Grad_train</th>\n",
       "      <th>Grad_test</th>\n",
       "      <th>RF_train</th>\n",
       "      <th>RF_test</th>\n",
       "      <th>SVC_train</th>\n",
       "      <th>SVC_test</th>\n",
       "      <th>KNN_train</th>\n",
       "      <th>KNN_test</th>\n",
       "    </tr>\n",
       "  </thead>\n",
       "  <tbody>\n",
       "    <tr>\n",
       "      <th>0</th>\n",
       "      <td>Bassa's data</td>\n",
       "      <td>0.847539</td>\n",
       "      <td>0.837535</td>\n",
       "      <td>0.996399</td>\n",
       "      <td>0.910364</td>\n",
       "      <td>0.967587</td>\n",
       "      <td>0.890756</td>\n",
       "      <td>0.954382</td>\n",
       "      <td>0.904762</td>\n",
       "      <td>1.0</td>\n",
       "      <td>0.915966</td>\n",
       "      <td>0.901561</td>\n",
       "      <td>0.871148</td>\n",
       "      <td>0.899160</td>\n",
       "      <td>0.862745</td>\n",
       "    </tr>\n",
       "    <tr>\n",
       "      <th>1</th>\n",
       "      <td>Heart Numeric Only</td>\n",
       "      <td>0.805522</td>\n",
       "      <td>0.817927</td>\n",
       "      <td>0.986795</td>\n",
       "      <td>0.817927</td>\n",
       "      <td>0.915966</td>\n",
       "      <td>0.837535</td>\n",
       "      <td>0.913565</td>\n",
       "      <td>0.831933</td>\n",
       "      <td>1.0</td>\n",
       "      <td>0.873950</td>\n",
       "      <td>0.852341</td>\n",
       "      <td>0.831933</td>\n",
       "      <td>0.843938</td>\n",
       "      <td>0.817927</td>\n",
       "    </tr>\n",
       "    <tr>\n",
       "      <th>2</th>\n",
       "      <td>Heart w/ dummy</td>\n",
       "      <td>0.860744</td>\n",
       "      <td>0.840336</td>\n",
       "      <td>0.992797</td>\n",
       "      <td>0.901961</td>\n",
       "      <td>0.953181</td>\n",
       "      <td>0.871148</td>\n",
       "      <td>0.955582</td>\n",
       "      <td>0.893557</td>\n",
       "      <td>1.0</td>\n",
       "      <td>0.907563</td>\n",
       "      <td>0.908764</td>\n",
       "      <td>0.868347</td>\n",
       "      <td>0.884754</td>\n",
       "      <td>0.854342</td>\n",
       "    </tr>\n",
       "    <tr>\n",
       "      <th>3</th>\n",
       "      <td>Poly numeric only</td>\n",
       "      <td>0.818727</td>\n",
       "      <td>0.826331</td>\n",
       "      <td>0.992797</td>\n",
       "      <td>0.848739</td>\n",
       "      <td>0.961585</td>\n",
       "      <td>0.851541</td>\n",
       "      <td>0.948379</td>\n",
       "      <td>0.820728</td>\n",
       "      <td>1.0</td>\n",
       "      <td>0.868347</td>\n",
       "      <td>0.842737</td>\n",
       "      <td>0.823529</td>\n",
       "      <td>0.836735</td>\n",
       "      <td>0.815126</td>\n",
       "    </tr>\n",
       "    <tr>\n",
       "      <th>4</th>\n",
       "      <td>Poly with dummy</td>\n",
       "      <td>0.863145</td>\n",
       "      <td>0.848739</td>\n",
       "      <td>0.992797</td>\n",
       "      <td>0.887955</td>\n",
       "      <td>0.979592</td>\n",
       "      <td>0.899160</td>\n",
       "      <td>0.977191</td>\n",
       "      <td>0.901961</td>\n",
       "      <td>1.0</td>\n",
       "      <td>0.913165</td>\n",
       "      <td>0.897959</td>\n",
       "      <td>0.871148</td>\n",
       "      <td>0.895558</td>\n",
       "      <td>0.834734</td>\n",
       "    </tr>\n",
       "  </tbody>\n",
       "</table>\n",
       "</div>"
      ],
      "text/plain": [
       "                Notes  Log_train  Log_test  Bag_train  Bag_test  \\\n",
       "0        Bassa's data   0.847539  0.837535   0.996399  0.910364   \n",
       "1  Heart Numeric Only   0.805522  0.817927   0.986795  0.817927   \n",
       "2      Heart w/ dummy   0.860744  0.840336   0.992797  0.901961   \n",
       "3   Poly numeric only   0.818727  0.826331   0.992797  0.848739   \n",
       "4     Poly with dummy   0.863145  0.848739   0.992797  0.887955   \n",
       "\n",
       "   Ada_boost_train  Ada_boost_test  Grad_train  Grad_test  RF_train   RF_test  \\\n",
       "0         0.967587        0.890756    0.954382   0.904762       1.0  0.915966   \n",
       "1         0.915966        0.837535    0.913565   0.831933       1.0  0.873950   \n",
       "2         0.953181        0.871148    0.955582   0.893557       1.0  0.907563   \n",
       "3         0.961585        0.851541    0.948379   0.820728       1.0  0.868347   \n",
       "4         0.979592        0.899160    0.977191   0.901961       1.0  0.913165   \n",
       "\n",
       "   SVC_train  SVC_test  KNN_train  KNN_test  \n",
       "0   0.901561  0.871148   0.899160  0.862745  \n",
       "1   0.852341  0.831933   0.843938  0.817927  \n",
       "2   0.908764  0.868347   0.884754  0.854342  \n",
       "3   0.842737  0.823529   0.836735  0.815126  \n",
       "4   0.897959  0.871148   0.895558  0.834734  "
      ]
     },
     "execution_count": 28,
     "metadata": {},
     "output_type": "execute_result"
    }
   ],
   "source": [
    "base_df.reset_index(inplace=True)\n",
    "base_df.drop('index', axis = 1, inplace = True)\n",
    "base_df.head()"
   ]
  },
  {
   "cell_type": "code",
   "execution_count": 29,
   "metadata": {
    "scrolled": true
   },
   "outputs": [
    {
     "data": {
      "text/plain": [
       "4"
      ]
     },
     "execution_count": 29,
     "metadata": {},
     "output_type": "execute_result"
    }
   ],
   "source": [
    "sum(base_df.loc[0,['Log_test','Bag_test','Ada_boost_test',\n",
    "                            'Grad_test','RF_test','SVC_test', 'KNN_test']] > base_df.loc[4,['Log_test','Bag_test','Ada_boost_test','Grad_test','RF_test','SVC_test', 'KNN_test']])"
   ]
  },
  {
   "cell_type": "markdown",
   "metadata": {},
   "source": [
    "> Out of 7 columns, so 7 different test, Bassa's cleaned data did better than the Polyfit with the dummy 3 times, and tied once. One thing to note is that Bassa's data has 35 fewer columns and therefor more efficent in find the the important features and combinations  \n",
    "\n",
    "> One idea coming to mind right now would be to keep the data as is (without making it into categorical columns and just doing a polyfit"
   ]
  },
  {
   "cell_type": "markdown",
   "metadata": {},
   "source": [
    "<span id ='Combining_ideas'></span>\n",
    "## Using a combnination of my and Bassa's idea "
   ]
  },
  {
   "cell_type": "code",
   "execution_count": 30,
   "metadata": {},
   "outputs": [],
   "source": [
    "heart_3 = pd.read_csv(\"./data/heart_statlog_cleveland_hungary_final (1).csv\")"
   ]
  },
  {
   "cell_type": "code",
   "execution_count": 31,
   "metadata": {},
   "outputs": [],
   "source": [
    "# just changing name from `resting bp s` to resting SBP`\n",
    "heart_3.rename(columns={'resting bp s': 'resting SBP'}, inplace = True)"
   ]
  },
  {
   "cell_type": "code",
   "execution_count": 32,
   "metadata": {},
   "outputs": [
    {
     "data": {
      "image/png": "[encoded data removed]",
      "text/plain": [
       "<Figure size 216x360 with 2 Axes>"
      ]
     },
     "metadata": {
      "needs_background": "light"
     },
     "output_type": "display_data"
    }
   ],
   "source": [
    "corr = heart_3.corr()\n",
    "\n",
    "plt.figure(figsize = (3, 5))\n",
    "sns.heatmap(corr[['target']].sort_values(by = 'target',ascending = False),\n",
    "            annot = True)\n",
    "\n",
    "plt.savefig('./imgs/small_corr.png',dpi=300, bbox_inches = \"tight\")\n",
    "plt.show()"
   ]
  },
  {
   "cell_type": "code",
   "execution_count": 33,
   "metadata": {},
   "outputs": [
    {
     "data": {
      "text/html": [
       "<div>\n",
       "<style scoped>\n",
       "    .dataframe tbody tr th:only-of-type {\n",
       "        vertical-align: middle;\n",
       "    }\n",
       "\n",
       "    .dataframe tbody tr th {\n",
       "        vertical-align: top;\n",
       "    }\n",
       "\n",
       "    .dataframe thead th {\n",
       "        text-align: right;\n",
       "    }\n",
       "</style>\n",
       "<table border=\"1\" class=\"dataframe\">\n",
       "  <thead>\n",
       "    <tr style=\"text-align: right;\">\n",
       "      <th></th>\n",
       "      <th>age</th>\n",
       "      <th>sex</th>\n",
       "      <th>chest pain type</th>\n",
       "      <th>resting SBP</th>\n",
       "      <th>cholesterol</th>\n",
       "      <th>fasting blood sugar</th>\n",
       "      <th>resting ecg</th>\n",
       "      <th>max heart rate</th>\n",
       "      <th>exercise angina</th>\n",
       "      <th>oldpeak</th>\n",
       "      <th>...</th>\n",
       "      <th>max heart rate^2</th>\n",
       "      <th>max heart rate exercise angina</th>\n",
       "      <th>max heart rate oldpeak</th>\n",
       "      <th>max heart rate ST slope</th>\n",
       "      <th>exercise angina^2</th>\n",
       "      <th>exercise angina oldpeak</th>\n",
       "      <th>exercise angina ST slope</th>\n",
       "      <th>oldpeak^2</th>\n",
       "      <th>oldpeak ST slope</th>\n",
       "      <th>ST slope^2</th>\n",
       "    </tr>\n",
       "  </thead>\n",
       "  <tbody>\n",
       "    <tr>\n",
       "      <th>0</th>\n",
       "      <td>40.0</td>\n",
       "      <td>1.0</td>\n",
       "      <td>2.0</td>\n",
       "      <td>140.0</td>\n",
       "      <td>289.0</td>\n",
       "      <td>0.0</td>\n",
       "      <td>0.0</td>\n",
       "      <td>172.0</td>\n",
       "      <td>0.0</td>\n",
       "      <td>0.0</td>\n",
       "      <td>...</td>\n",
       "      <td>29584.0</td>\n",
       "      <td>0.0</td>\n",
       "      <td>0.0</td>\n",
       "      <td>172.0</td>\n",
       "      <td>0.0</td>\n",
       "      <td>0.0</td>\n",
       "      <td>0.0</td>\n",
       "      <td>0.00</td>\n",
       "      <td>0.0</td>\n",
       "      <td>1.0</td>\n",
       "    </tr>\n",
       "    <tr>\n",
       "      <th>1</th>\n",
       "      <td>49.0</td>\n",
       "      <td>0.0</td>\n",
       "      <td>3.0</td>\n",
       "      <td>160.0</td>\n",
       "      <td>180.0</td>\n",
       "      <td>0.0</td>\n",
       "      <td>0.0</td>\n",
       "      <td>156.0</td>\n",
       "      <td>0.0</td>\n",
       "      <td>1.0</td>\n",
       "      <td>...</td>\n",
       "      <td>24336.0</td>\n",
       "      <td>0.0</td>\n",
       "      <td>156.0</td>\n",
       "      <td>312.0</td>\n",
       "      <td>0.0</td>\n",
       "      <td>0.0</td>\n",
       "      <td>0.0</td>\n",
       "      <td>1.00</td>\n",
       "      <td>2.0</td>\n",
       "      <td>4.0</td>\n",
       "    </tr>\n",
       "    <tr>\n",
       "      <th>2</th>\n",
       "      <td>37.0</td>\n",
       "      <td>1.0</td>\n",
       "      <td>2.0</td>\n",
       "      <td>130.0</td>\n",
       "      <td>283.0</td>\n",
       "      <td>0.0</td>\n",
       "      <td>1.0</td>\n",
       "      <td>98.0</td>\n",
       "      <td>0.0</td>\n",
       "      <td>0.0</td>\n",
       "      <td>...</td>\n",
       "      <td>9604.0</td>\n",
       "      <td>0.0</td>\n",
       "      <td>0.0</td>\n",
       "      <td>98.0</td>\n",
       "      <td>0.0</td>\n",
       "      <td>0.0</td>\n",
       "      <td>0.0</td>\n",
       "      <td>0.00</td>\n",
       "      <td>0.0</td>\n",
       "      <td>1.0</td>\n",
       "    </tr>\n",
       "    <tr>\n",
       "      <th>3</th>\n",
       "      <td>48.0</td>\n",
       "      <td>0.0</td>\n",
       "      <td>4.0</td>\n",
       "      <td>138.0</td>\n",
       "      <td>214.0</td>\n",
       "      <td>0.0</td>\n",
       "      <td>0.0</td>\n",
       "      <td>108.0</td>\n",
       "      <td>1.0</td>\n",
       "      <td>1.5</td>\n",
       "      <td>...</td>\n",
       "      <td>11664.0</td>\n",
       "      <td>108.0</td>\n",
       "      <td>162.0</td>\n",
       "      <td>216.0</td>\n",
       "      <td>1.0</td>\n",
       "      <td>1.5</td>\n",
       "      <td>2.0</td>\n",
       "      <td>2.25</td>\n",
       "      <td>3.0</td>\n",
       "      <td>4.0</td>\n",
       "    </tr>\n",
       "    <tr>\n",
       "      <th>4</th>\n",
       "      <td>54.0</td>\n",
       "      <td>1.0</td>\n",
       "      <td>3.0</td>\n",
       "      <td>150.0</td>\n",
       "      <td>195.0</td>\n",
       "      <td>0.0</td>\n",
       "      <td>0.0</td>\n",
       "      <td>122.0</td>\n",
       "      <td>0.0</td>\n",
       "      <td>0.0</td>\n",
       "      <td>...</td>\n",
       "      <td>14884.0</td>\n",
       "      <td>0.0</td>\n",
       "      <td>0.0</td>\n",
       "      <td>122.0</td>\n",
       "      <td>0.0</td>\n",
       "      <td>0.0</td>\n",
       "      <td>0.0</td>\n",
       "      <td>0.00</td>\n",
       "      <td>0.0</td>\n",
       "      <td>1.0</td>\n",
       "    </tr>\n",
       "  </tbody>\n",
       "</table>\n",
       "<p>5 rows × 77 columns</p>\n",
       "</div>"
      ],
      "text/plain": [
       "    age  sex  chest pain type  resting SBP  cholesterol  fasting blood sugar  \\\n",
       "0  40.0  1.0              2.0        140.0        289.0                  0.0   \n",
       "1  49.0  0.0              3.0        160.0        180.0                  0.0   \n",
       "2  37.0  1.0              2.0        130.0        283.0                  0.0   \n",
       "3  48.0  0.0              4.0        138.0        214.0                  0.0   \n",
       "4  54.0  1.0              3.0        150.0        195.0                  0.0   \n",
       "\n",
       "   resting ecg  max heart rate  exercise angina  oldpeak  ...  \\\n",
       "0          0.0           172.0              0.0      0.0  ...   \n",
       "1          0.0           156.0              0.0      1.0  ...   \n",
       "2          1.0            98.0              0.0      0.0  ...   \n",
       "3          0.0           108.0              1.0      1.5  ...   \n",
       "4          0.0           122.0              0.0      0.0  ...   \n",
       "\n",
       "   max heart rate^2  max heart rate exercise angina  max heart rate oldpeak  \\\n",
       "0           29584.0                             0.0                     0.0   \n",
       "1           24336.0                             0.0                   156.0   \n",
       "2            9604.0                             0.0                     0.0   \n",
       "3           11664.0                           108.0                   162.0   \n",
       "4           14884.0                             0.0                     0.0   \n",
       "\n",
       "   max heart rate ST slope  exercise angina^2  exercise angina oldpeak  \\\n",
       "0                    172.0                0.0                      0.0   \n",
       "1                    312.0                0.0                      0.0   \n",
       "2                     98.0                0.0                      0.0   \n",
       "3                    216.0                1.0                      1.5   \n",
       "4                    122.0                0.0                      0.0   \n",
       "\n",
       "   exercise angina ST slope  oldpeak^2  oldpeak ST slope  ST slope^2  \n",
       "0                       0.0       0.00               0.0         1.0  \n",
       "1                       0.0       1.00               2.0         4.0  \n",
       "2                       0.0       0.00               0.0         1.0  \n",
       "3                       2.0       2.25               3.0         4.0  \n",
       "4                       0.0       0.00               0.0         1.0  \n",
       "\n",
       "[5 rows x 77 columns]"
      ]
     },
     "execution_count": 33,
     "metadata": {},
     "output_type": "execute_result"
    }
   ],
   "source": [
    "# Lets choose specific columns first\n",
    "numeric_features_2 = heart_3.drop('target', axis = 1).columns\n",
    "\n",
    "poly_2 = PolynomialFeatures(include_bias=False)\n",
    "df_2 = poly_2.fit_transform(heart_3[numeric_features_2])\n",
    "\n",
    "# make it into a dateframe \n",
    "poly_df_2 = pd.DataFrame(data = df_2, columns = poly_2.get_feature_names(numeric_features_2))\n",
    "poly_df_2.head()"
   ]
  },
  {
   "cell_type": "code",
   "execution_count": 34,
   "metadata": {},
   "outputs": [
    {
     "data": {
      "image/png": "[encoded data removed]",
      "text/plain": [
       "<Figure size 360x1296 with 2 Axes>"
      ]
     },
     "metadata": {
      "needs_background": "light"
     },
     "output_type": "display_data"
    }
   ],
   "source": [
    "# adding in the target variable to get a corralation\n",
    "poly_df_2['target'] = y\n",
    "corr = poly_df_2.corr()\n",
    "\n",
    "plt.figure(figsize = (5, 18))\n",
    "sns.heatmap(corr[['target']].sort_values(by = 'target',ascending = False),\n",
    "            annot = True)\n",
    "\n",
    "plt.show()"
   ]
  },
  {
   "cell_type": "code",
   "execution_count": 35,
   "metadata": {},
   "outputs": [
    {
     "data": {
      "text/html": [
       "<div>\n",
       "<style scoped>\n",
       "    .dataframe tbody tr th:only-of-type {\n",
       "        vertical-align: middle;\n",
       "    }\n",
       "\n",
       "    .dataframe tbody tr th {\n",
       "        vertical-align: top;\n",
       "    }\n",
       "\n",
       "    .dataframe thead th {\n",
       "        text-align: right;\n",
       "    }\n",
       "</style>\n",
       "<table border=\"1\" class=\"dataframe\">\n",
       "  <thead>\n",
       "    <tr style=\"text-align: right;\">\n",
       "      <th></th>\n",
       "      <th>Notes</th>\n",
       "      <th>Log_train</th>\n",
       "      <th>Log_test</th>\n",
       "      <th>Bag_train</th>\n",
       "      <th>Bag_test</th>\n",
       "      <th>Ada_boost_train</th>\n",
       "      <th>Ada_boost_test</th>\n",
       "      <th>Grad_train</th>\n",
       "      <th>Grad_test</th>\n",
       "      <th>RF_train</th>\n",
       "      <th>RF_test</th>\n",
       "      <th>SVC_train</th>\n",
       "      <th>SVC_test</th>\n",
       "      <th>KNN_train</th>\n",
       "      <th>KNN_test</th>\n",
       "    </tr>\n",
       "  </thead>\n",
       "  <tbody>\n",
       "    <tr>\n",
       "      <th>0</th>\n",
       "      <td>Bassa's data</td>\n",
       "      <td>0.847539</td>\n",
       "      <td>0.837535</td>\n",
       "      <td>0.996399</td>\n",
       "      <td>0.910364</td>\n",
       "      <td>0.967587</td>\n",
       "      <td>0.890756</td>\n",
       "      <td>0.954382</td>\n",
       "      <td>0.904762</td>\n",
       "      <td>1.0</td>\n",
       "      <td>0.915966</td>\n",
       "      <td>0.901561</td>\n",
       "      <td>0.871148</td>\n",
       "      <td>0.899160</td>\n",
       "      <td>0.862745</td>\n",
       "    </tr>\n",
       "    <tr>\n",
       "      <th>1</th>\n",
       "      <td>Heart Numeric Only</td>\n",
       "      <td>0.805522</td>\n",
       "      <td>0.817927</td>\n",
       "      <td>0.986795</td>\n",
       "      <td>0.817927</td>\n",
       "      <td>0.915966</td>\n",
       "      <td>0.837535</td>\n",
       "      <td>0.913565</td>\n",
       "      <td>0.831933</td>\n",
       "      <td>1.0</td>\n",
       "      <td>0.873950</td>\n",
       "      <td>0.852341</td>\n",
       "      <td>0.831933</td>\n",
       "      <td>0.843938</td>\n",
       "      <td>0.817927</td>\n",
       "    </tr>\n",
       "    <tr>\n",
       "      <th>2</th>\n",
       "      <td>Heart w/ dummy</td>\n",
       "      <td>0.860744</td>\n",
       "      <td>0.840336</td>\n",
       "      <td>0.992797</td>\n",
       "      <td>0.901961</td>\n",
       "      <td>0.953181</td>\n",
       "      <td>0.871148</td>\n",
       "      <td>0.955582</td>\n",
       "      <td>0.893557</td>\n",
       "      <td>1.0</td>\n",
       "      <td>0.907563</td>\n",
       "      <td>0.908764</td>\n",
       "      <td>0.868347</td>\n",
       "      <td>0.884754</td>\n",
       "      <td>0.854342</td>\n",
       "    </tr>\n",
       "    <tr>\n",
       "      <th>3</th>\n",
       "      <td>Poly numeric only</td>\n",
       "      <td>0.818727</td>\n",
       "      <td>0.826331</td>\n",
       "      <td>0.992797</td>\n",
       "      <td>0.848739</td>\n",
       "      <td>0.961585</td>\n",
       "      <td>0.851541</td>\n",
       "      <td>0.948379</td>\n",
       "      <td>0.820728</td>\n",
       "      <td>1.0</td>\n",
       "      <td>0.868347</td>\n",
       "      <td>0.842737</td>\n",
       "      <td>0.823529</td>\n",
       "      <td>0.836735</td>\n",
       "      <td>0.815126</td>\n",
       "    </tr>\n",
       "    <tr>\n",
       "      <th>4</th>\n",
       "      <td>Poly with dummy</td>\n",
       "      <td>0.863145</td>\n",
       "      <td>0.848739</td>\n",
       "      <td>0.992797</td>\n",
       "      <td>0.887955</td>\n",
       "      <td>0.979592</td>\n",
       "      <td>0.899160</td>\n",
       "      <td>0.977191</td>\n",
       "      <td>0.901961</td>\n",
       "      <td>1.0</td>\n",
       "      <td>0.913165</td>\n",
       "      <td>0.897959</td>\n",
       "      <td>0.871148</td>\n",
       "      <td>0.895558</td>\n",
       "      <td>0.834734</td>\n",
       "    </tr>\n",
       "    <tr>\n",
       "      <th>0</th>\n",
       "      <td>TB Poly idea</td>\n",
       "      <td>0.870348</td>\n",
       "      <td>0.865546</td>\n",
       "      <td>0.995198</td>\n",
       "      <td>0.893557</td>\n",
       "      <td>0.992797</td>\n",
       "      <td>0.907563</td>\n",
       "      <td>0.979592</td>\n",
       "      <td>0.910364</td>\n",
       "      <td>1.0</td>\n",
       "      <td>0.918768</td>\n",
       "      <td>0.896759</td>\n",
       "      <td>0.873950</td>\n",
       "      <td>0.883553</td>\n",
       "      <td>0.843137</td>\n",
       "    </tr>\n",
       "  </tbody>\n",
       "</table>\n",
       "</div>"
      ],
      "text/plain": [
       "                Notes  Log_train  Log_test  Bag_train  Bag_test  \\\n",
       "0        Bassa's data   0.847539  0.837535   0.996399  0.910364   \n",
       "1  Heart Numeric Only   0.805522  0.817927   0.986795  0.817927   \n",
       "2      Heart w/ dummy   0.860744  0.840336   0.992797  0.901961   \n",
       "3   Poly numeric only   0.818727  0.826331   0.992797  0.848739   \n",
       "4     Poly with dummy   0.863145  0.848739   0.992797  0.887955   \n",
       "0        TB Poly idea   0.870348  0.865546   0.995198  0.893557   \n",
       "\n",
       "   Ada_boost_train  Ada_boost_test  Grad_train  Grad_test  RF_train   RF_test  \\\n",
       "0         0.967587        0.890756    0.954382   0.904762       1.0  0.915966   \n",
       "1         0.915966        0.837535    0.913565   0.831933       1.0  0.873950   \n",
       "2         0.953181        0.871148    0.955582   0.893557       1.0  0.907563   \n",
       "3         0.961585        0.851541    0.948379   0.820728       1.0  0.868347   \n",
       "4         0.979592        0.899160    0.977191   0.901961       1.0  0.913165   \n",
       "0         0.992797        0.907563    0.979592   0.910364       1.0  0.918768   \n",
       "\n",
       "   SVC_train  SVC_test  KNN_train  KNN_test  \n",
       "0   0.901561  0.871148   0.899160  0.862745  \n",
       "1   0.852341  0.831933   0.843938  0.817927  \n",
       "2   0.908764  0.868347   0.884754  0.854342  \n",
       "3   0.842737  0.823529   0.836735  0.815126  \n",
       "4   0.897959  0.871148   0.895558  0.834734  \n",
       "0   0.896759  0.873950   0.883553  0.843137  "
      ]
     },
     "execution_count": 35,
     "metadata": {},
     "output_type": "execute_result"
    }
   ],
   "source": [
    "X_poly_2 = poly_df_2.drop('target', axis =1)\n",
    "base_df = base_scores(X_poly_2, y, \"TB Poly idea\")\n",
    "\n",
    "base_df"
   ]
  },
  {
   "cell_type": "code",
   "execution_count": 36,
   "metadata": {},
   "outputs": [
    {
     "data": {
      "text/html": [
       "<div>\n",
       "<style scoped>\n",
       "    .dataframe tbody tr th:only-of-type {\n",
       "        vertical-align: middle;\n",
       "    }\n",
       "\n",
       "    .dataframe tbody tr th {\n",
       "        vertical-align: top;\n",
       "    }\n",
       "\n",
       "    .dataframe thead th {\n",
       "        text-align: right;\n",
       "    }\n",
       "</style>\n",
       "<table border=\"1\" class=\"dataframe\">\n",
       "  <thead>\n",
       "    <tr style=\"text-align: right;\">\n",
       "      <th></th>\n",
       "      <th>Notes</th>\n",
       "      <th>Log_train</th>\n",
       "      <th>Log_test</th>\n",
       "      <th>Bag_train</th>\n",
       "      <th>Bag_test</th>\n",
       "      <th>Ada_boost_train</th>\n",
       "      <th>Ada_boost_test</th>\n",
       "      <th>Grad_train</th>\n",
       "      <th>Grad_test</th>\n",
       "      <th>RF_train</th>\n",
       "      <th>RF_test</th>\n",
       "      <th>SVC_train</th>\n",
       "      <th>SVC_test</th>\n",
       "      <th>KNN_train</th>\n",
       "      <th>KNN_test</th>\n",
       "    </tr>\n",
       "  </thead>\n",
       "  <tbody>\n",
       "    <tr>\n",
       "      <th>0</th>\n",
       "      <td>Bassa's data</td>\n",
       "      <td>0.847539</td>\n",
       "      <td>0.837535</td>\n",
       "      <td>0.996399</td>\n",
       "      <td>0.910364</td>\n",
       "      <td>0.967587</td>\n",
       "      <td>0.890756</td>\n",
       "      <td>0.954382</td>\n",
       "      <td>0.904762</td>\n",
       "      <td>1.0</td>\n",
       "      <td>0.915966</td>\n",
       "      <td>0.901561</td>\n",
       "      <td>0.871148</td>\n",
       "      <td>0.899160</td>\n",
       "      <td>0.862745</td>\n",
       "    </tr>\n",
       "    <tr>\n",
       "      <th>1</th>\n",
       "      <td>Heart Numeric Only</td>\n",
       "      <td>0.805522</td>\n",
       "      <td>0.817927</td>\n",
       "      <td>0.986795</td>\n",
       "      <td>0.817927</td>\n",
       "      <td>0.915966</td>\n",
       "      <td>0.837535</td>\n",
       "      <td>0.913565</td>\n",
       "      <td>0.831933</td>\n",
       "      <td>1.0</td>\n",
       "      <td>0.873950</td>\n",
       "      <td>0.852341</td>\n",
       "      <td>0.831933</td>\n",
       "      <td>0.843938</td>\n",
       "      <td>0.817927</td>\n",
       "    </tr>\n",
       "    <tr>\n",
       "      <th>2</th>\n",
       "      <td>Heart w/ dummy</td>\n",
       "      <td>0.860744</td>\n",
       "      <td>0.840336</td>\n",
       "      <td>0.992797</td>\n",
       "      <td>0.901961</td>\n",
       "      <td>0.953181</td>\n",
       "      <td>0.871148</td>\n",
       "      <td>0.955582</td>\n",
       "      <td>0.893557</td>\n",
       "      <td>1.0</td>\n",
       "      <td>0.907563</td>\n",
       "      <td>0.908764</td>\n",
       "      <td>0.868347</td>\n",
       "      <td>0.884754</td>\n",
       "      <td>0.854342</td>\n",
       "    </tr>\n",
       "    <tr>\n",
       "      <th>3</th>\n",
       "      <td>Poly numeric only</td>\n",
       "      <td>0.818727</td>\n",
       "      <td>0.826331</td>\n",
       "      <td>0.992797</td>\n",
       "      <td>0.848739</td>\n",
       "      <td>0.961585</td>\n",
       "      <td>0.851541</td>\n",
       "      <td>0.948379</td>\n",
       "      <td>0.820728</td>\n",
       "      <td>1.0</td>\n",
       "      <td>0.868347</td>\n",
       "      <td>0.842737</td>\n",
       "      <td>0.823529</td>\n",
       "      <td>0.836735</td>\n",
       "      <td>0.815126</td>\n",
       "    </tr>\n",
       "    <tr>\n",
       "      <th>4</th>\n",
       "      <td>Poly with dummy</td>\n",
       "      <td>0.863145</td>\n",
       "      <td>0.848739</td>\n",
       "      <td>0.992797</td>\n",
       "      <td>0.887955</td>\n",
       "      <td>0.979592</td>\n",
       "      <td>0.899160</td>\n",
       "      <td>0.977191</td>\n",
       "      <td>0.901961</td>\n",
       "      <td>1.0</td>\n",
       "      <td>0.913165</td>\n",
       "      <td>0.897959</td>\n",
       "      <td>0.871148</td>\n",
       "      <td>0.895558</td>\n",
       "      <td>0.834734</td>\n",
       "    </tr>\n",
       "    <tr>\n",
       "      <th>5</th>\n",
       "      <td>TB Poly idea</td>\n",
       "      <td>0.870348</td>\n",
       "      <td>0.865546</td>\n",
       "      <td>0.995198</td>\n",
       "      <td>0.893557</td>\n",
       "      <td>0.992797</td>\n",
       "      <td>0.907563</td>\n",
       "      <td>0.979592</td>\n",
       "      <td>0.910364</td>\n",
       "      <td>1.0</td>\n",
       "      <td>0.918768</td>\n",
       "      <td>0.896759</td>\n",
       "      <td>0.873950</td>\n",
       "      <td>0.883553</td>\n",
       "      <td>0.843137</td>\n",
       "    </tr>\n",
       "  </tbody>\n",
       "</table>\n",
       "</div>"
      ],
      "text/plain": [
       "                Notes  Log_train  Log_test  Bag_train  Bag_test  \\\n",
       "0        Bassa's data   0.847539  0.837535   0.996399  0.910364   \n",
       "1  Heart Numeric Only   0.805522  0.817927   0.986795  0.817927   \n",
       "2      Heart w/ dummy   0.860744  0.840336   0.992797  0.901961   \n",
       "3   Poly numeric only   0.818727  0.826331   0.992797  0.848739   \n",
       "4     Poly with dummy   0.863145  0.848739   0.992797  0.887955   \n",
       "5        TB Poly idea   0.870348  0.865546   0.995198  0.893557   \n",
       "\n",
       "   Ada_boost_train  Ada_boost_test  Grad_train  Grad_test  RF_train   RF_test  \\\n",
       "0         0.967587        0.890756    0.954382   0.904762       1.0  0.915966   \n",
       "1         0.915966        0.837535    0.913565   0.831933       1.0  0.873950   \n",
       "2         0.953181        0.871148    0.955582   0.893557       1.0  0.907563   \n",
       "3         0.961585        0.851541    0.948379   0.820728       1.0  0.868347   \n",
       "4         0.979592        0.899160    0.977191   0.901961       1.0  0.913165   \n",
       "5         0.992797        0.907563    0.979592   0.910364       1.0  0.918768   \n",
       "\n",
       "   SVC_train  SVC_test  KNN_train  KNN_test  \n",
       "0   0.901561  0.871148   0.899160  0.862745  \n",
       "1   0.852341  0.831933   0.843938  0.817927  \n",
       "2   0.908764  0.868347   0.884754  0.854342  \n",
       "3   0.842737  0.823529   0.836735  0.815126  \n",
       "4   0.897959  0.871148   0.895558  0.834734  \n",
       "5   0.896759  0.873950   0.883553  0.843137  "
      ]
     },
     "execution_count": 36,
     "metadata": {},
     "output_type": "execute_result"
    }
   ],
   "source": [
    "base_df.reset_index(inplace=True)\n",
    "base_df.drop('index', axis = 1, inplace = True)\n",
    "base_df"
   ]
  },
  {
   "cell_type": "code",
   "execution_count": 37,
   "metadata": {},
   "outputs": [
    {
     "data": {
      "text/plain": [
       "5"
      ]
     },
     "execution_count": 37,
     "metadata": {},
     "output_type": "execute_result"
    }
   ],
   "source": [
    "sum(base_df.loc[0,['Log_test','Bag_test','Ada_boost_test',\n",
    "                            'Grad_test','RF_test','SVC_test', 'KNN_test']] < base_df.loc[5,['Log_test','Bag_test','Ada_boost_test','Grad_test','RF_test','SVC_test', 'KNN_test']])"
   ]
  },
  {
   "cell_type": "markdown",
   "metadata": {},
   "source": [
    "> Combing Bassa and my idea, we managed to get a model that did better in 5/7 tests, so this will be the dataset we will work from"
   ]
  },
  {
   "cell_type": "markdown",
   "metadata": {},
   "source": [
    "<span id = 'tb_clean'></span>\n",
    "## Getting rid of some columns from TB_poly"
   ]
  },
  {
   "cell_type": "code",
   "execution_count": 38,
   "metadata": {},
   "outputs": [
    {
     "data": {
      "image/png": "[encoded data removed]",
      "text/plain": [
       "<Figure size 360x1296 with 2 Axes>"
      ]
     },
     "metadata": {
      "needs_background": "light"
     },
     "output_type": "display_data"
    }
   ],
   "source": [
    "# adding in the target variable to get a corralation\n",
    "corr = poly_df_2.corr()[['target']]\n",
    "corr = corr.loc[(corr['target'] > .2) | (corr['target'] < -0.2)]\n",
    "\n",
    "plt.figure(figsize = (5, 18))\n",
    "sns.heatmap(corr[['target']].sort_values(by = 'target',ascending = False),\n",
    "            annot = True)\n",
    "plt.show()"
   ]
  },
  {
   "cell_type": "code",
   "execution_count": 39,
   "metadata": {},
   "outputs": [],
   "source": [
    "poly_3 = poly_df_2[list(corr.index)]\n",
    "X_poly_3 = poly_3.drop('target', axis = 1)"
   ]
  },
  {
   "cell_type": "code",
   "execution_count": 40,
   "metadata": {},
   "outputs": [
    {
     "data": {
      "text/html": [
       "<div>\n",
       "<style scoped>\n",
       "    .dataframe tbody tr th:only-of-type {\n",
       "        vertical-align: middle;\n",
       "    }\n",
       "\n",
       "    .dataframe tbody tr th {\n",
       "        vertical-align: top;\n",
       "    }\n",
       "\n",
       "    .dataframe thead th {\n",
       "        text-align: right;\n",
       "    }\n",
       "</style>\n",
       "<table border=\"1\" class=\"dataframe\">\n",
       "  <thead>\n",
       "    <tr style=\"text-align: right;\">\n",
       "      <th></th>\n",
       "      <th>Notes</th>\n",
       "      <th>Log_train</th>\n",
       "      <th>Log_test</th>\n",
       "      <th>Bag_train</th>\n",
       "      <th>Bag_test</th>\n",
       "      <th>Ada_boost_train</th>\n",
       "      <th>Ada_boost_test</th>\n",
       "      <th>Grad_train</th>\n",
       "      <th>Grad_test</th>\n",
       "      <th>RF_train</th>\n",
       "      <th>RF_test</th>\n",
       "      <th>SVC_train</th>\n",
       "      <th>SVC_test</th>\n",
       "      <th>KNN_train</th>\n",
       "      <th>KNN_test</th>\n",
       "    </tr>\n",
       "  </thead>\n",
       "  <tbody>\n",
       "    <tr>\n",
       "      <th>0</th>\n",
       "      <td>Bassa's data</td>\n",
       "      <td>0.847539</td>\n",
       "      <td>0.837535</td>\n",
       "      <td>0.996399</td>\n",
       "      <td>0.910364</td>\n",
       "      <td>0.967587</td>\n",
       "      <td>0.890756</td>\n",
       "      <td>0.954382</td>\n",
       "      <td>0.904762</td>\n",
       "      <td>1.0</td>\n",
       "      <td>0.915966</td>\n",
       "      <td>0.901561</td>\n",
       "      <td>0.871148</td>\n",
       "      <td>0.899160</td>\n",
       "      <td>0.862745</td>\n",
       "    </tr>\n",
       "    <tr>\n",
       "      <th>1</th>\n",
       "      <td>Heart Numeric Only</td>\n",
       "      <td>0.805522</td>\n",
       "      <td>0.817927</td>\n",
       "      <td>0.986795</td>\n",
       "      <td>0.817927</td>\n",
       "      <td>0.915966</td>\n",
       "      <td>0.837535</td>\n",
       "      <td>0.913565</td>\n",
       "      <td>0.831933</td>\n",
       "      <td>1.0</td>\n",
       "      <td>0.873950</td>\n",
       "      <td>0.852341</td>\n",
       "      <td>0.831933</td>\n",
       "      <td>0.843938</td>\n",
       "      <td>0.817927</td>\n",
       "    </tr>\n",
       "    <tr>\n",
       "      <th>2</th>\n",
       "      <td>Heart w/ dummy</td>\n",
       "      <td>0.860744</td>\n",
       "      <td>0.840336</td>\n",
       "      <td>0.992797</td>\n",
       "      <td>0.901961</td>\n",
       "      <td>0.953181</td>\n",
       "      <td>0.871148</td>\n",
       "      <td>0.955582</td>\n",
       "      <td>0.893557</td>\n",
       "      <td>1.0</td>\n",
       "      <td>0.907563</td>\n",
       "      <td>0.908764</td>\n",
       "      <td>0.868347</td>\n",
       "      <td>0.884754</td>\n",
       "      <td>0.854342</td>\n",
       "    </tr>\n",
       "    <tr>\n",
       "      <th>3</th>\n",
       "      <td>Poly numeric only</td>\n",
       "      <td>0.818727</td>\n",
       "      <td>0.826331</td>\n",
       "      <td>0.992797</td>\n",
       "      <td>0.848739</td>\n",
       "      <td>0.961585</td>\n",
       "      <td>0.851541</td>\n",
       "      <td>0.948379</td>\n",
       "      <td>0.820728</td>\n",
       "      <td>1.0</td>\n",
       "      <td>0.868347</td>\n",
       "      <td>0.842737</td>\n",
       "      <td>0.823529</td>\n",
       "      <td>0.836735</td>\n",
       "      <td>0.815126</td>\n",
       "    </tr>\n",
       "    <tr>\n",
       "      <th>4</th>\n",
       "      <td>Poly with dummy</td>\n",
       "      <td>0.863145</td>\n",
       "      <td>0.848739</td>\n",
       "      <td>0.992797</td>\n",
       "      <td>0.887955</td>\n",
       "      <td>0.979592</td>\n",
       "      <td>0.899160</td>\n",
       "      <td>0.977191</td>\n",
       "      <td>0.901961</td>\n",
       "      <td>1.0</td>\n",
       "      <td>0.913165</td>\n",
       "      <td>0.897959</td>\n",
       "      <td>0.871148</td>\n",
       "      <td>0.895558</td>\n",
       "      <td>0.834734</td>\n",
       "    </tr>\n",
       "    <tr>\n",
       "      <th>5</th>\n",
       "      <td>TB Poly idea</td>\n",
       "      <td>0.870348</td>\n",
       "      <td>0.865546</td>\n",
       "      <td>0.995198</td>\n",
       "      <td>0.893557</td>\n",
       "      <td>0.992797</td>\n",
       "      <td>0.907563</td>\n",
       "      <td>0.979592</td>\n",
       "      <td>0.910364</td>\n",
       "      <td>1.0</td>\n",
       "      <td>0.918768</td>\n",
       "      <td>0.896759</td>\n",
       "      <td>0.873950</td>\n",
       "      <td>0.883553</td>\n",
       "      <td>0.843137</td>\n",
       "    </tr>\n",
       "    <tr>\n",
       "      <th>6</th>\n",
       "      <td>Got rid of low corr</td>\n",
       "      <td>0.857143</td>\n",
       "      <td>0.868347</td>\n",
       "      <td>0.992797</td>\n",
       "      <td>0.899160</td>\n",
       "      <td>0.980792</td>\n",
       "      <td>0.910364</td>\n",
       "      <td>0.978391</td>\n",
       "      <td>0.904762</td>\n",
       "      <td>1.0</td>\n",
       "      <td>0.913165</td>\n",
       "      <td>0.876351</td>\n",
       "      <td>0.868347</td>\n",
       "      <td>0.890756</td>\n",
       "      <td>0.840336</td>\n",
       "    </tr>\n",
       "  </tbody>\n",
       "</table>\n",
       "</div>"
      ],
      "text/plain": [
       "                 Notes  Log_train  Log_test  Bag_train  Bag_test  \\\n",
       "0         Bassa's data   0.847539  0.837535   0.996399  0.910364   \n",
       "1   Heart Numeric Only   0.805522  0.817927   0.986795  0.817927   \n",
       "2       Heart w/ dummy   0.860744  0.840336   0.992797  0.901961   \n",
       "3    Poly numeric only   0.818727  0.826331   0.992797  0.848739   \n",
       "4      Poly with dummy   0.863145  0.848739   0.992797  0.887955   \n",
       "5         TB Poly idea   0.870348  0.865546   0.995198  0.893557   \n",
       "6  Got rid of low corr   0.857143  0.868347   0.992797  0.899160   \n",
       "\n",
       "   Ada_boost_train  Ada_boost_test  Grad_train  Grad_test  RF_train   RF_test  \\\n",
       "0         0.967587        0.890756    0.954382   0.904762       1.0  0.915966   \n",
       "1         0.915966        0.837535    0.913565   0.831933       1.0  0.873950   \n",
       "2         0.953181        0.871148    0.955582   0.893557       1.0  0.907563   \n",
       "3         0.961585        0.851541    0.948379   0.820728       1.0  0.868347   \n",
       "4         0.979592        0.899160    0.977191   0.901961       1.0  0.913165   \n",
       "5         0.992797        0.907563    0.979592   0.910364       1.0  0.918768   \n",
       "6         0.980792        0.910364    0.978391   0.904762       1.0  0.913165   \n",
       "\n",
       "   SVC_train  SVC_test  KNN_train  KNN_test  \n",
       "0   0.901561  0.871148   0.899160  0.862745  \n",
       "1   0.852341  0.831933   0.843938  0.817927  \n",
       "2   0.908764  0.868347   0.884754  0.854342  \n",
       "3   0.842737  0.823529   0.836735  0.815126  \n",
       "4   0.897959  0.871148   0.895558  0.834734  \n",
       "5   0.896759  0.873950   0.883553  0.843137  \n",
       "6   0.876351  0.868347   0.890756  0.840336  "
      ]
     },
     "execution_count": 40,
     "metadata": {},
     "output_type": "execute_result"
    }
   ],
   "source": [
    "base_df = base_scores(X_poly_3, y, \"Got rid of low corr\")\n",
    "base_df.reset_index(inplace=True)\n",
    "base_df.drop('index', axis = 1, inplace = True)\n",
    "base_df"
   ]
  },
  {
   "cell_type": "code",
   "execution_count": 41,
   "metadata": {},
   "outputs": [
    {
     "data": {
      "text/plain": [
       "3"
      ]
     },
     "execution_count": 41,
     "metadata": {},
     "output_type": "execute_result"
    }
   ],
   "source": [
    "sum(base_df.loc[6,['Log_test','Bag_test','Ada_boost_test',\n",
    "                            'Grad_test','RF_test','SVC_test', 'KNN_test']] > base_df.loc[5,['Log_test','Bag_test','Ada_boost_test','Grad_test','RF_test','SVC_test', 'KNN_test']])"
   ]
  },
  {
   "cell_type": "markdown",
   "metadata": {},
   "source": [
    "> By getting rid of some 20-\n",
    "ish rows, the new dataframe is now tied with the full tb_poly. 3 wins and 1 tie"
   ]
  },
  {
   "cell_type": "markdown",
   "metadata": {},
   "source": [
    "## Visual Representation of accuracy of the top 2 datasets"
   ]
  },
  {
   "cell_type": "code",
   "execution_count": 42,
   "metadata": {},
   "outputs": [
    {
     "data": {
      "image/png": "[encoded data removed]",
      "text/plain": [
       "<Figure size 576x432 with 1 Axes>"
      ]
     },
     "metadata": {
      "needs_background": "light"
     },
     "output_type": "display_data"
    }
   ],
   "source": [
    "keys = [key for key in graph_scores(X_bassa, y).keys()]\n",
    "values = [value for value in graph_scores(X_bassa, y).values()]\n",
    "fig, ax = plt.subplots(figsize = (8, 6))\n",
    "ax.bar(np.arange(len(keys)) - 0.1, [value[0] for value in values],\n",
    "       width=0.3, color='#DE8F8F', align='center', label = \"training\")\n",
    "ax.bar(np.arange(len(keys)) + 0.1,\n",
    "       [value[1] if len(value) == 2 else 0 for value in values],\n",
    "       width=0.3, color='#8FA3DE', align='center',  label = \"testing\")\n",
    "ax.set_xticks(np.arange(len(keys)))\n",
    "ax.set_xticklabels(keys, rotation=45,  fontsize = 15,\n",
    "                   fontweight = \"bold\")\n",
    "plt.legend(fontsize = 12)\n",
    "plt.title('Select Feature Engineering', size = 18)\n",
    "plt.savefig('./imgs/sfe_models.png',dpi=300, bbox_inches = \"tight\")\n",
    "\n",
    "plt.show()"
   ]
  },
  {
   "cell_type": "code",
   "execution_count": 43,
   "metadata": {},
   "outputs": [
    {
     "data": {
      "image/png": "[encoded data removed]",
      "text/plain": [
       "<Figure size 576x432 with 1 Axes>"
      ]
     },
     "metadata": {
      "needs_background": "light"
     },
     "output_type": "display_data"
    }
   ],
   "source": [
    "keys = [key for key in graph_scores(X_poly_3, y).keys()]\n",
    "values = [value for value in graph_scores(X_poly_3, y).values()]\n",
    "fig, ax = plt.subplots(figsize = (8, 6))\n",
    "ax.bar(np.arange(len(keys)) - 0.1, [value[0] for value in values],\n",
    "       width=0.3, color='#F1948A', align='center', label = \"training\")\n",
    "ax.bar(np.arange(len(keys)) + 0.1,\n",
    "       [value[1] if len(value) == 2 else 0 for value in values],\n",
    "       width=0.3, color='#85C1E9', align='center',  label = \"testing\")\n",
    "ax.set_xticks(np.arange(len(keys)))\n",
    "ax.set_xticklabels(keys, rotation=45,  fontsize = 15,\n",
    "                   fontweight = \"bold\")\n",
    "plt.legend(fontsize = 12)\n",
    "plt.title('Poly w/ Fewer Columns', size = 18)\n",
    "plt.savefig('./imgs/pwfc_models.png',dpi=300, bbox_inches = \"tight\")\n",
    "plt.show()"
   ]
  },
  {
   "cell_type": "markdown",
   "metadata": {},
   "source": [
    "<span id = 'gridsearches'></span>\n",
    "## Time to start looking at some GridSearches\n",
    "> using the poly_3 because it has fewer columns and did well on some tests, and will hopefully let the models run a bit faster"
   ]
  },
  {
   "cell_type": "markdown",
   "metadata": {},
   "source": [
    "### Basic Function to print out the Recall, Precision, and Accuracy"
   ]
  },
  {
   "cell_type": "code",
   "execution_count": 44,
   "metadata": {},
   "outputs": [],
   "source": [
    "## this will just be a function to return the recall, precision, accuracy\n",
    "def arp(model, X, y,):\n",
    "    preds = model.predict(X)\n",
    "    \n",
    "    scores = {}\n",
    "    scores['Recall']  = metrics.recall_score(y, preds)\n",
    "    scores['Precision'] = metrics.precision_score(y, preds)\n",
    "    scores['Accuracy'] = metrics.accuracy_score(y, preds)\n",
    "    return scores"
   ]
  },
  {
   "cell_type": "markdown",
   "metadata": {},
   "source": [
    "### Function to Return the scores and added metrics from above in a dataframe"
   ]
  },
  {
   "cell_type": "code",
   "execution_count": 45,
   "metadata": {},
   "outputs": [],
   "source": [
    "grid_df = pd.DataFrame()\n",
    "\n",
    "def add_2_grid(model, X, y, note):\n",
    "    # instantiate a list and dictionary\n",
    "    info_list = []\n",
    "    d = {}\n",
    "    \n",
    "    # run function from above to get the results\n",
    "    results = arp(model, X, y)\n",
    "    \n",
    "    # add to the dictionary\n",
    "    d['Notes'] = note\n",
    "    d['Recall'] = results['Recall']\n",
    "    d['Precision'] = results['Precision']\n",
    "    d['Accuracy'] = results['Accuracy']\n",
    "\n",
    "    # appending all this information to a list to add to the dataframe base_df\n",
    "    info_list.append(d)\n",
    "    return grid_df.append(info_list)"
   ]
  },
  {
   "cell_type": "markdown",
   "metadata": {},
   "source": [
    "### First we need to train test split our data"
   ]
  },
  {
   "cell_type": "code",
   "execution_count": 46,
   "metadata": {},
   "outputs": [],
   "source": [
    "X_train, X_test, y_train, y_test = train_test_split(X_poly_3, y, stratify = y, test_size=0.30, random_state=22)"
   ]
  },
  {
   "cell_type": "markdown",
   "metadata": {},
   "source": [
    "### Getting the Baseline"
   ]
  },
  {
   "cell_type": "code",
   "execution_count": 47,
   "metadata": {},
   "outputs": [
    {
     "data": {
      "text/plain": [
       "1    0.529412\n",
       "0    0.470588\n",
       "Name: target, dtype: float64"
      ]
     },
     "execution_count": 47,
     "metadata": {},
     "output_type": "execute_result"
    }
   ],
   "source": [
    "y_test.value_counts(normalize=True)"
   ]
  },
  {
   "cell_type": "markdown",
   "metadata": {},
   "source": [
    "## logisitic regression<span id ='hlog'>"
   ]
  },
  {
   "cell_type": "code",
   "execution_count": 48,
   "metadata": {},
   "outputs": [
    {
     "name": "stdout",
     "output_type": "stream",
     "text": [
      "Fitting 3 folds for each of 18 candidates, totalling 54 fits\n"
     ]
    },
    {
     "name": "stderr",
     "output_type": "stream",
     "text": [
      "[Parallel(n_jobs=1)]: Using backend SequentialBackend with 1 concurrent workers.\n"
     ]
    },
    {
     "name": "stdout",
     "output_type": "stream",
     "text": [
      "{'lr__C': 0.5, 'lr__max_iter': 5000, 'lr__penalty': 'l1', 'lr__solver': 'saga', 'lr__tol': 0.001}\n",
      "0.83674865162022\n"
     ]
    },
    {
     "name": "stderr",
     "output_type": "stream",
     "text": [
      "[Parallel(n_jobs=1)]: Done  54 out of  54 | elapsed:    2.2s finished\n"
     ]
    }
   ],
   "source": [
    "# Make a pipe so we can scale our data\n",
    "lr_pipe = Pipeline([('sc', StandardScaler()),\n",
    "                   ('lr', LogisticRegression())])\n",
    "\n",
    "lr_params = {'lr__penalty': ['l1', 'l2'],\n",
    "             'lr__tol': [0.1, 0.01, 0.001],\n",
    "             'lr__C': [2, 1, 0.5],\n",
    "             'lr__solver': ['saga'],\n",
    "             'lr__max_iter': [5000]}\n",
    "\n",
    "lr_gs = GridSearchCV(lr_pipe, \n",
    "                     lr_params,\n",
    "                     cv = 3,\n",
    "                     verbose = 1)\n",
    "\n",
    "lr_gs.fit(X_train, y_train)\n",
    "print(lr_gs.best_params_)\n",
    "print(lr_gs.best_score_)"
   ]
  },
  {
   "cell_type": "code",
   "execution_count": 49,
   "metadata": {},
   "outputs": [
    {
     "name": "stdout",
     "output_type": "stream",
     "text": [
      "Training: 0.858343337334934\n",
      "Test: 0.8683473389355743\n"
     ]
    }
   ],
   "source": [
    "print('Training:', lr_gs.score(X_train, y_train))\n",
    "print('Test:', lr_gs.score(X_test, y_test))"
   ]
  },
  {
   "cell_type": "markdown",
   "metadata": {},
   "source": [
    "> For logistic, it seems as though the default parameters are the best, with a test score of 86.83%"
   ]
  },
  {
   "cell_type": "code",
   "execution_count": 50,
   "metadata": {},
   "outputs": [
    {
     "data": {
      "image/png": "[encoded data removed]",
      "text/plain": [
       "<Figure size 432x288 with 2 Axes>"
      ]
     },
     "metadata": {
      "needs_background": "light"
     },
     "output_type": "display_data"
    }
   ],
   "source": [
    "plt.rcParams.update({'font.size': 12}) \n",
    "metrics.plot_confusion_matrix(lr_gs, X_test, y_test, cmap = 'PuRd',  display_labels = ['No Risk','High Risk']);\n",
    "plt.title('Logistic Regression');"
   ]
  },
  {
   "cell_type": "code",
   "execution_count": 51,
   "metadata": {},
   "outputs": [
    {
     "data": {
      "text/html": [
       "<div>\n",
       "<style scoped>\n",
       "    .dataframe tbody tr th:only-of-type {\n",
       "        vertical-align: middle;\n",
       "    }\n",
       "\n",
       "    .dataframe tbody tr th {\n",
       "        vertical-align: top;\n",
       "    }\n",
       "\n",
       "    .dataframe thead th {\n",
       "        text-align: right;\n",
       "    }\n",
       "</style>\n",
       "<table border=\"1\" class=\"dataframe\">\n",
       "  <thead>\n",
       "    <tr style=\"text-align: right;\">\n",
       "      <th></th>\n",
       "      <th>Notes</th>\n",
       "      <th>Recall</th>\n",
       "      <th>Precision</th>\n",
       "      <th>Accuracy</th>\n",
       "    </tr>\n",
       "  </thead>\n",
       "  <tbody>\n",
       "    <tr>\n",
       "      <th>0</th>\n",
       "      <td>Logistic Regression</td>\n",
       "      <td>0.888889</td>\n",
       "      <td>0.865979</td>\n",
       "      <td>0.868347</td>\n",
       "    </tr>\n",
       "  </tbody>\n",
       "</table>\n",
       "</div>"
      ],
      "text/plain": [
       "                 Notes    Recall  Precision  Accuracy\n",
       "0  Logistic Regression  0.888889   0.865979  0.868347"
      ]
     },
     "execution_count": 51,
     "metadata": {},
     "output_type": "execute_result"
    }
   ],
   "source": [
    "grid_df = add_2_grid(lr_gs, X_test, y_test, 'Logistic Regression')\n",
    "grid_df"
   ]
  },
  {
   "cell_type": "markdown",
   "metadata": {},
   "source": [
    "## Bagging Classifier"
   ]
  },
  {
   "cell_type": "code",
   "execution_count": 52,
   "metadata": {},
   "outputs": [
    {
     "name": "stdout",
     "output_type": "stream",
     "text": [
      "Fitting 5 folds for each of 12 candidates, totalling 60 fits\n"
     ]
    },
    {
     "name": "stderr",
     "output_type": "stream",
     "text": [
      "[Parallel(n_jobs=1)]: Using backend SequentialBackend with 1 concurrent workers.\n",
      "[Parallel(n_jobs=1)]: Done  60 out of  60 | elapsed:    7.0s finished\n"
     ]
    },
    {
     "data": {
      "text/plain": [
       "({'bootstrap': True, 'max_features': 0.25, 'n_estimators': 100},\n",
       " 0.911160810908304)"
      ]
     },
     "execution_count": 52,
     "metadata": {},
     "output_type": "execute_result"
    }
   ],
   "source": [
    "params = {\n",
    "    'n_estimators' : [10, 50, 100],\n",
    "    'bootstrap' : [True, False],\n",
    "    'max_features' : [0.10, 0.25, ]}\n",
    "\n",
    "bag_gs = GridSearchCV(BaggingClassifier(),\n",
    "                      params,\n",
    "                      cv = 5,\n",
    "                      verbose = 1)\n",
    "\n",
    "bag_gs.fit(X_train,y_train)\n",
    "bag_gs.best_params_, bag_gs.best_score_"
   ]
  },
  {
   "cell_type": "code",
   "execution_count": 53,
   "metadata": {},
   "outputs": [
    {
     "name": "stdout",
     "output_type": "stream",
     "text": [
      "Train: 1.0\n",
      "Test: 0.9131652661064426\n"
     ]
    }
   ],
   "source": [
    "print('Train:', bag_gs.score(X_train, y_train))\n",
    "print('Test:', bag_gs.score(X_test, y_test))"
   ]
  },
  {
   "cell_type": "code",
   "execution_count": 54,
   "metadata": {},
   "outputs": [
    {
     "data": {
      "image/png": "[encoded data removed]",
      "text/plain": [
       "<Figure size 432x288 with 2 Axes>"
      ]
     },
     "metadata": {
      "needs_background": "light"
     },
     "output_type": "display_data"
    }
   ],
   "source": [
    "plt.rcParams.update({'font.size': 12}) \n",
    "metrics.plot_confusion_matrix(bag_gs, X_test, y_test, cmap = 'PuRd', display_labels = ['Low Risk','High Risk']);\n",
    "plt.title('Bagging Classifier');"
   ]
  },
  {
   "cell_type": "code",
   "execution_count": 55,
   "metadata": {},
   "outputs": [
    {
     "data": {
      "text/html": [
       "<div>\n",
       "<style scoped>\n",
       "    .dataframe tbody tr th:only-of-type {\n",
       "        vertical-align: middle;\n",
       "    }\n",
       "\n",
       "    .dataframe tbody tr th {\n",
       "        vertical-align: top;\n",
       "    }\n",
       "\n",
       "    .dataframe thead th {\n",
       "        text-align: right;\n",
       "    }\n",
       "</style>\n",
       "<table border=\"1\" class=\"dataframe\">\n",
       "  <thead>\n",
       "    <tr style=\"text-align: right;\">\n",
       "      <th></th>\n",
       "      <th>Notes</th>\n",
       "      <th>Recall</th>\n",
       "      <th>Precision</th>\n",
       "      <th>Accuracy</th>\n",
       "    </tr>\n",
       "  </thead>\n",
       "  <tbody>\n",
       "    <tr>\n",
       "      <th>0</th>\n",
       "      <td>Logistic Regression</td>\n",
       "      <td>0.888889</td>\n",
       "      <td>0.865979</td>\n",
       "      <td>0.868347</td>\n",
       "    </tr>\n",
       "    <tr>\n",
       "      <th>0</th>\n",
       "      <td>Bagging Classifier</td>\n",
       "      <td>0.936508</td>\n",
       "      <td>0.903061</td>\n",
       "      <td>0.913165</td>\n",
       "    </tr>\n",
       "  </tbody>\n",
       "</table>\n",
       "</div>"
      ],
      "text/plain": [
       "                 Notes    Recall  Precision  Accuracy\n",
       "0  Logistic Regression  0.888889   0.865979  0.868347\n",
       "0   Bagging Classifier  0.936508   0.903061  0.913165"
      ]
     },
     "execution_count": 55,
     "metadata": {},
     "output_type": "execute_result"
    }
   ],
   "source": [
    "grid_df = add_2_grid(bag_gs, X_test, y_test, 'Bagging Classifier')\n",
    "grid_df"
   ]
  },
  {
   "cell_type": "markdown",
   "metadata": {},
   "source": [
    "## Ada Boost <span id = 'ada'>"
   ]
  },
  {
   "cell_type": "code",
   "execution_count": 56,
   "metadata": {},
   "outputs": [
    {
     "data": {
      "text/plain": [
       "({'learning_rate': 1, 'n_estimators': 100}, 0.8775591185130658)"
      ]
     },
     "execution_count": 56,
     "metadata": {},
     "output_type": "execute_result"
    }
   ],
   "source": [
    "ada = AdaBoostClassifier()\n",
    "params = {\n",
    "    #'base_estimator__max_depth': [2, 3, 4, 5],\n",
    "    'n_estimators' : [50, 100, 150],\n",
    "    'learning_rate' : [1, 0.5, 0.1]\n",
    "}\n",
    "\n",
    "ada_gs = GridSearchCV(ada,\n",
    "                      params,\n",
    "                      cv = 4)\n",
    "\n",
    "ada_gs.fit(X_train,y_train)\n",
    "ada_gs.best_params_, ada_gs.best_score_"
   ]
  },
  {
   "cell_type": "code",
   "execution_count": 57,
   "metadata": {},
   "outputs": [
    {
     "name": "stdout",
     "output_type": "stream",
     "text": [
      "Train: 0.9411764705882353\n",
      "Test: 0.8851540616246498\n"
     ]
    }
   ],
   "source": [
    "print('Train:', ada_gs.score(X_train, y_train))\n",
    "print('Test:', ada_gs.score(X_test, y_test))"
   ]
  },
  {
   "cell_type": "markdown",
   "metadata": {},
   "source": [
    "> The ada_gs did some 3% worse than the base model ada @ 0.913165"
   ]
  },
  {
   "cell_type": "code",
   "execution_count": 58,
   "metadata": {},
   "outputs": [
    {
     "data": {
      "image/png": "[encoded data removed]",
      "text/plain": [
       "<Figure size 432x288 with 2 Axes>"
      ]
     },
     "metadata": {
      "needs_background": "light"
     },
     "output_type": "display_data"
    }
   ],
   "source": [
    "plt.rcParams.update({'font.size': 12}) \n",
    "metrics.plot_confusion_matrix(ada_gs, X_test, y_test, cmap = 'PuRd', display_labels = ['Low Risk','High Risk']);\n",
    "plt.title('Ada Boost')\n",
    "plt.show()"
   ]
  },
  {
   "cell_type": "code",
   "execution_count": 59,
   "metadata": {},
   "outputs": [
    {
     "data": {
      "text/html": [
       "<div>\n",
       "<style scoped>\n",
       "    .dataframe tbody tr th:only-of-type {\n",
       "        vertical-align: middle;\n",
       "    }\n",
       "\n",
       "    .dataframe tbody tr th {\n",
       "        vertical-align: top;\n",
       "    }\n",
       "\n",
       "    .dataframe thead th {\n",
       "        text-align: right;\n",
       "    }\n",
       "</style>\n",
       "<table border=\"1\" class=\"dataframe\">\n",
       "  <thead>\n",
       "    <tr style=\"text-align: right;\">\n",
       "      <th></th>\n",
       "      <th>Notes</th>\n",
       "      <th>Recall</th>\n",
       "      <th>Precision</th>\n",
       "      <th>Accuracy</th>\n",
       "    </tr>\n",
       "  </thead>\n",
       "  <tbody>\n",
       "    <tr>\n",
       "      <th>0</th>\n",
       "      <td>Logistic Regression</td>\n",
       "      <td>0.888889</td>\n",
       "      <td>0.865979</td>\n",
       "      <td>0.868347</td>\n",
       "    </tr>\n",
       "    <tr>\n",
       "      <th>0</th>\n",
       "      <td>Bagging Classifier</td>\n",
       "      <td>0.936508</td>\n",
       "      <td>0.903061</td>\n",
       "      <td>0.913165</td>\n",
       "    </tr>\n",
       "    <tr>\n",
       "      <th>0</th>\n",
       "      <td>Ada Boost</td>\n",
       "      <td>0.904762</td>\n",
       "      <td>0.881443</td>\n",
       "      <td>0.885154</td>\n",
       "    </tr>\n",
       "  </tbody>\n",
       "</table>\n",
       "</div>"
      ],
      "text/plain": [
       "                 Notes    Recall  Precision  Accuracy\n",
       "0  Logistic Regression  0.888889   0.865979  0.868347\n",
       "0   Bagging Classifier  0.936508   0.903061  0.913165\n",
       "0            Ada Boost  0.904762   0.881443  0.885154"
      ]
     },
     "execution_count": 59,
     "metadata": {},
     "output_type": "execute_result"
    }
   ],
   "source": [
    "grid_df = add_2_grid(ada_gs, X_test, y_test, 'Ada Boost')\n",
    "grid_df"
   ]
  },
  {
   "cell_type": "markdown",
   "metadata": {},
   "source": [
    "## Gradient Boosting <span id ='gb'>"
   ]
  },
  {
   "cell_type": "code",
   "execution_count": 60,
   "metadata": {
    "scrolled": true
   },
   "outputs": [
    {
     "name": "stdout",
     "output_type": "stream",
     "text": [
      "Fitting 3 folds for each of 27 candidates, totalling 81 fits\n"
     ]
    },
    {
     "name": "stderr",
     "output_type": "stream",
     "text": [
      "[Parallel(n_jobs=4)]: Using backend LokyBackend with 4 concurrent workers.\n",
      "[Parallel(n_jobs=4)]: Done  42 tasks      | elapsed:    5.8s\n",
      "[Parallel(n_jobs=4)]: Done  81 out of  81 | elapsed:   11.3s finished\n"
     ]
    },
    {
     "data": {
      "text/plain": [
       "({'learning_rate': 0.1, 'max_depth': 3, 'n_estimators': 150},\n",
       " 0.8931555116917297)"
      ]
     },
     "execution_count": 60,
     "metadata": {},
     "output_type": "execute_result"
    }
   ],
   "source": [
    "params  = {'learning_rate':[1, 0.1,0.5],\n",
    "          'n_estimators':[150, 200, 300],\n",
    "          'max_depth':[2, 3, 4]}\n",
    "\n",
    "gs_model = GridSearchCV(estimator =GradientBoostingClassifier(), \n",
    "                        param_grid = params,\n",
    "                        n_jobs=4,\n",
    "                        cv=3,\n",
    "                        verbose = 1)\n",
    "gs_model.fit(X_train,y_train)\n",
    "gs_model.best_params_, gs_model.best_score_"
   ]
  },
  {
   "cell_type": "code",
   "execution_count": 61,
   "metadata": {},
   "outputs": [
    {
     "name": "stdout",
     "output_type": "stream",
     "text": [
      "Train: 0.9915966386554622\n",
      "Test: 0.9131652661064426\n"
     ]
    }
   ],
   "source": [
    "print('Train:', gs_model.score(X_train, y_train))\n",
    "print('Test:', gs_model.score(X_test, y_test))"
   ]
  },
  {
   "cell_type": "markdown",
   "metadata": {},
   "source": [
    "> With gridsearch we see a 2.3% increase of **testing** score compared to the base model @ 0.904762"
   ]
  },
  {
   "cell_type": "code",
   "execution_count": 62,
   "metadata": {},
   "outputs": [
    {
     "data": {
      "image/png": "[encoded data removed]",
      "text/plain": [
       "<Figure size 432x288 with 2 Axes>"
      ]
     },
     "metadata": {
      "needs_background": "light"
     },
     "output_type": "display_data"
    }
   ],
   "source": [
    "plt.rcParams.update({'font.size': 12}) \n",
    "metrics.plot_confusion_matrix(gs_model, X_test, y_test, cmap = 'PuRd', display_labels = ['Low Risk','High Risk']);\n",
    "plt.title('Gradient Boost');\n",
    "plt.show()"
   ]
  },
  {
   "cell_type": "code",
   "execution_count": 63,
   "metadata": {},
   "outputs": [
    {
     "data": {
      "text/html": [
       "<div>\n",
       "<style scoped>\n",
       "    .dataframe tbody tr th:only-of-type {\n",
       "        vertical-align: middle;\n",
       "    }\n",
       "\n",
       "    .dataframe tbody tr th {\n",
       "        vertical-align: top;\n",
       "    }\n",
       "\n",
       "    .dataframe thead th {\n",
       "        text-align: right;\n",
       "    }\n",
       "</style>\n",
       "<table border=\"1\" class=\"dataframe\">\n",
       "  <thead>\n",
       "    <tr style=\"text-align: right;\">\n",
       "      <th></th>\n",
       "      <th>Notes</th>\n",
       "      <th>Recall</th>\n",
       "      <th>Precision</th>\n",
       "      <th>Accuracy</th>\n",
       "    </tr>\n",
       "  </thead>\n",
       "  <tbody>\n",
       "    <tr>\n",
       "      <th>0</th>\n",
       "      <td>Logistic Regression</td>\n",
       "      <td>0.888889</td>\n",
       "      <td>0.865979</td>\n",
       "      <td>0.868347</td>\n",
       "    </tr>\n",
       "    <tr>\n",
       "      <th>0</th>\n",
       "      <td>Bagging Classifier</td>\n",
       "      <td>0.936508</td>\n",
       "      <td>0.903061</td>\n",
       "      <td>0.913165</td>\n",
       "    </tr>\n",
       "    <tr>\n",
       "      <th>0</th>\n",
       "      <td>Ada Boost</td>\n",
       "      <td>0.904762</td>\n",
       "      <td>0.881443</td>\n",
       "      <td>0.885154</td>\n",
       "    </tr>\n",
       "    <tr>\n",
       "      <th>0</th>\n",
       "      <td>Gradient Boost 1</td>\n",
       "      <td>0.931217</td>\n",
       "      <td>0.907216</td>\n",
       "      <td>0.913165</td>\n",
       "    </tr>\n",
       "  </tbody>\n",
       "</table>\n",
       "</div>"
      ],
      "text/plain": [
       "                 Notes    Recall  Precision  Accuracy\n",
       "0  Logistic Regression  0.888889   0.865979  0.868347\n",
       "0   Bagging Classifier  0.936508   0.903061  0.913165\n",
       "0            Ada Boost  0.904762   0.881443  0.885154\n",
       "0     Gradient Boost 1  0.931217   0.907216  0.913165"
      ]
     },
     "execution_count": 63,
     "metadata": {},
     "output_type": "execute_result"
    }
   ],
   "source": [
    "grid_df = add_2_grid(gs_model, X_test, y_test, 'Gradient Boost 1')\n",
    "grid_df"
   ]
  },
  {
   "cell_type": "markdown",
   "metadata": {},
   "source": [
    "## Random Forest <span id = 'rf'>"
   ]
  },
  {
   "cell_type": "code",
   "execution_count": 64,
   "metadata": {},
   "outputs": [
    {
     "name": "stdout",
     "output_type": "stream",
     "text": [
      "Fitting 5 folds for each of 16 candidates, totalling 80 fits\n"
     ]
    },
    {
     "name": "stderr",
     "output_type": "stream",
     "text": [
      "[Parallel(n_jobs=1)]: Using backend SequentialBackend with 1 concurrent workers.\n",
      "[Parallel(n_jobs=1)]: Done  80 out of  80 | elapsed:   20.8s finished\n"
     ]
    },
    {
     "data": {
      "text/plain": [
       "({'max_depth': 50,\n",
       "  'min_samples_leaf': 1,\n",
       "  'min_samples_split': 2,\n",
       "  'n_estimators': 100},\n",
       " 0.9063559627732488)"
      ]
     },
     "execution_count": 64,
     "metadata": {},
     "output_type": "execute_result"
    }
   ],
   "source": [
    "params = {\n",
    "    'n_estimators' :[100, 200],\n",
    "    'max_depth' : [50, None],\n",
    "    'min_samples_split' : [2, 4],\n",
    "    'min_samples_leaf' : [1, 3],\n",
    "}\n",
    "\n",
    "rf_gs = GridSearchCV(RandomForestClassifier(random_state=1663),\n",
    "                     params,\n",
    "                     cv = 5,\n",
    "                     verbose=1)\n",
    "\n",
    "rf_gs.fit(X_train,y_train)\n",
    "rf_gs.best_params_, rf_gs.best_score_"
   ]
  },
  {
   "cell_type": "code",
   "execution_count": 65,
   "metadata": {},
   "outputs": [
    {
     "name": "stdout",
     "output_type": "stream",
     "text": [
      "Train: 1.0\n",
      "Test: 0.9159663865546218\n"
     ]
    }
   ],
   "source": [
    "print('Train:', rf_gs.score(X_train, y_train))\n",
    "print('Test:', rf_gs.score(X_test, y_test))"
   ]
  },
  {
   "cell_type": "markdown",
   "metadata": {},
   "source": [
    "> With the gridsearch, we seem to have gotten the same score as the base model @  0.915966, suggesting the default parameters were the best choice out of what we gave."
   ]
  },
  {
   "cell_type": "code",
   "execution_count": 66,
   "metadata": {},
   "outputs": [
    {
     "data": {
      "image/png": "[encoded data removed]",
      "text/plain": [
       "<Figure size 432x288 with 2 Axes>"
      ]
     },
     "metadata": {
      "needs_background": "light"
     },
     "output_type": "display_data"
    }
   ],
   "source": [
    "plt.rcParams.update({'font.size': 12}) \n",
    "metrics.plot_confusion_matrix(rf_gs, X_test, y_test, cmap = 'PuRd', display_labels = ['Low Risk','High Risk']);\n",
    "plt.title('Random Forest');"
   ]
  },
  {
   "cell_type": "code",
   "execution_count": 67,
   "metadata": {},
   "outputs": [
    {
     "data": {
      "text/html": [
       "<div>\n",
       "<style scoped>\n",
       "    .dataframe tbody tr th:only-of-type {\n",
       "        vertical-align: middle;\n",
       "    }\n",
       "\n",
       "    .dataframe tbody tr th {\n",
       "        vertical-align: top;\n",
       "    }\n",
       "\n",
       "    .dataframe thead th {\n",
       "        text-align: right;\n",
       "    }\n",
       "</style>\n",
       "<table border=\"1\" class=\"dataframe\">\n",
       "  <thead>\n",
       "    <tr style=\"text-align: right;\">\n",
       "      <th></th>\n",
       "      <th>Notes</th>\n",
       "      <th>Recall</th>\n",
       "      <th>Precision</th>\n",
       "      <th>Accuracy</th>\n",
       "    </tr>\n",
       "  </thead>\n",
       "  <tbody>\n",
       "    <tr>\n",
       "      <th>0</th>\n",
       "      <td>Logistic Regression</td>\n",
       "      <td>0.888889</td>\n",
       "      <td>0.865979</td>\n",
       "      <td>0.868347</td>\n",
       "    </tr>\n",
       "    <tr>\n",
       "      <th>0</th>\n",
       "      <td>Bagging Classifier</td>\n",
       "      <td>0.936508</td>\n",
       "      <td>0.903061</td>\n",
       "      <td>0.913165</td>\n",
       "    </tr>\n",
       "    <tr>\n",
       "      <th>0</th>\n",
       "      <td>Ada Boost</td>\n",
       "      <td>0.904762</td>\n",
       "      <td>0.881443</td>\n",
       "      <td>0.885154</td>\n",
       "    </tr>\n",
       "    <tr>\n",
       "      <th>0</th>\n",
       "      <td>Gradient Boost 1</td>\n",
       "      <td>0.931217</td>\n",
       "      <td>0.907216</td>\n",
       "      <td>0.913165</td>\n",
       "    </tr>\n",
       "    <tr>\n",
       "      <th>0</th>\n",
       "      <td>Random Forest</td>\n",
       "      <td>0.936508</td>\n",
       "      <td>0.907692</td>\n",
       "      <td>0.915966</td>\n",
       "    </tr>\n",
       "  </tbody>\n",
       "</table>\n",
       "</div>"
      ],
      "text/plain": [
       "                 Notes    Recall  Precision  Accuracy\n",
       "0  Logistic Regression  0.888889   0.865979  0.868347\n",
       "0   Bagging Classifier  0.936508   0.903061  0.913165\n",
       "0            Ada Boost  0.904762   0.881443  0.885154\n",
       "0     Gradient Boost 1  0.931217   0.907216  0.913165\n",
       "0        Random Forest  0.936508   0.907692  0.915966"
      ]
     },
     "execution_count": 67,
     "metadata": {},
     "output_type": "execute_result"
    }
   ],
   "source": [
    "grid_df = add_2_grid(rf_gs, X_test, y_test, 'Random Forest')\n",
    "grid_df"
   ]
  },
  {
   "cell_type": "code",
   "execution_count": 101,
   "metadata": {},
   "outputs": [
    {
     "data": {
      "image/png": "[encoded data removed]",
      "text/plain": [
       "<Figure size 576x360 with 1 Axes>"
      ]
     },
     "metadata": {
      "needs_background": "light"
     },
     "output_type": "display_data"
    }
   ],
   "source": [
    "# ROC-AUC curve plot\n",
    "# baseline model with default values\n",
    "#Logistic regression from grid search\n",
    "lg_roc_auc = roc_auc_score(y_test, lr_gs.predict(X_test))\n",
    "fprlg, tprlg, thresholdsB = roc_curve(y_test, lr_gs.predict_proba(X_test)[:,1])\n",
    "# bagging model one from grid search\n",
    "bag_roc_auc = roc_auc_score(y_test, bag_gs.predict(X_test))\n",
    "fpr1, tpr1, thresholds1 = roc_curve(y_test, bag_gs.predict_proba(X_test)[:,1])\n",
    "# adaboost model two from grid search\n",
    "ada_roc_auc = roc_auc_score(y_test, ada_gs.predict(X_test))\n",
    "fprf, tprf, thresholds_f = roc_curve(y_test, ada_gs.predict_proba(X_test)[:,1])\n",
    "\n",
    "# Randomforest from grid search\n",
    "rf_roc_auc = roc_auc_score(y_test, rf_gs.predict(X_test))\n",
    "fprrf, tprrf, thresholds_rf = roc_curve(y_test, rf_gs.predict_proba(X_test)[:,1])\n",
    "\n",
    "\n",
    "gra_roc_auc = roc_auc_score(y_test, gs_model.predict(X_test))\n",
    "fprga, tprga, thresholds_ga = roc_curve(y_test, gs_model.predict_proba(X_test)[:,1])\n",
    "\n",
    "\n",
    "\n",
    "plt.figure(figsize = (8, 5))\n",
    "plt.plot(fprlg, tprlg, label='Logistic Reg (area = %0.3f)' % lg_roc_auc, linewidth = 2)\n",
    "plt.plot(fpr1, tpr1, label='Bagging Classif (area = %0.3f)' % bag_roc_auc, linewidth =2)\n",
    "plt.plot(fprf, tprf, label='AdaBoost (area = %0.3f)' % ada_roc_auc, linewidth = 2)\n",
    "plt.plot(fprrf, tprrf, label='Random Forest (area = %0.3f)' % rf_roc_auc, linewidth =2)\n",
    "plt.plot(fprf, tprf, label='GradientBoost Classif (area = %0.3f)' % gra_roc_auc, linewidth = 2)\n",
    "\n",
    "\n",
    "\n",
    "\n",
    "plt.plot([0, 1], [0, 1],'r-')\n",
    "plt.xlim([0.0, 1.0])\n",
    "plt.ylim([0.0, 1.05])\n",
    "plt.xlabel('False Positive Rate', fontsize = 16)\n",
    "plt.ylabel('True Positive Rate', fontsize = 16)\n",
    "plt.title('Receiver operating characteristic', fontsize = 20)\n",
    "plt.legend(loc=\"lower right\", fontsize = 16)\n",
    "plt.savefig('Log_ROC')\n",
    "plt.show()"
   ]
  },
  {
   "cell_type": "markdown",
   "metadata": {},
   "source": [
    "## Decision Tree <span id ='dt'>"
   ]
  },
  {
   "cell_type": "code",
   "execution_count": 68,
   "metadata": {},
   "outputs": [
    {
     "name": "stdout",
     "output_type": "stream",
     "text": [
      "Fitting 5 folds for each of 54 candidates, totalling 270 fits\n"
     ]
    },
    {
     "name": "stderr",
     "output_type": "stream",
     "text": [
      "[Parallel(n_jobs=1)]: Using backend SequentialBackend with 1 concurrent workers.\n",
      "[Parallel(n_jobs=1)]: Done 270 out of 270 | elapsed:    2.8s finished\n"
     ]
    },
    {
     "data": {
      "text/plain": [
       "({'ccp_alpha': 0,\n",
       "  'criterion': 'entropy',\n",
       "  'min_samples_leaf': 1,\n",
       "  'min_samples_split': 2},\n",
       " 0.8727725272346871)"
      ]
     },
     "execution_count": 68,
     "metadata": {},
     "output_type": "execute_result"
    }
   ],
   "source": [
    "params = {\n",
    "    'criterion' : ['gini', 'entropy'],\n",
    "    'min_samples_split' : [2, 5, 11],\n",
    "    'min_samples_leaf' : [1, 2, 3],\n",
    "    'ccp_alpha': [1, 0.1, 0],\n",
    "}\n",
    "\n",
    "dt_gs = GridSearchCV(DecisionTreeClassifier(),\n",
    "                     params,\n",
    "                     cv = 5,\n",
    "                     verbose = 1)\n",
    "\n",
    "dt_gs.fit(X_train,y_train)\n",
    "dt_gs.best_params_, dt_gs.best_score_"
   ]
  },
  {
   "cell_type": "code",
   "execution_count": 69,
   "metadata": {},
   "outputs": [
    {
     "data": {
      "text/plain": [
       "({'ccp_alpha': 0,\n",
       "  'criterion': 'entropy',\n",
       "  'min_samples_leaf': 1,\n",
       "  'min_samples_split': 2},\n",
       " 0.8727725272346871)"
      ]
     },
     "execution_count": 69,
     "metadata": {},
     "output_type": "execute_result"
    }
   ],
   "source": [
    "dt_gs.best_params_, dt_gs.best_score_"
   ]
  },
  {
   "cell_type": "code",
   "execution_count": 70,
   "metadata": {},
   "outputs": [
    {
     "name": "stdout",
     "output_type": "stream",
     "text": [
      "Train: 1.0\n",
      "Test: 0.8599439775910365\n"
     ]
    }
   ],
   "source": [
    "print('Train:', dt_gs.score(X_train, y_train))\n",
    "print('Test:', dt_gs.score(X_test, y_test))"
   ]
  },
  {
   "cell_type": "markdown",
   "metadata": {},
   "source": [
    "> Super overfit, but i guess thats expected from a decision tree. Guess we can just ignore this one as a model"
   ]
  },
  {
   "cell_type": "code",
   "execution_count": 71,
   "metadata": {},
   "outputs": [
    {
     "data": {
      "image/png": "[encoded data removed]",
      "text/plain": [
       "<Figure size 432x288 with 2 Axes>"
      ]
     },
     "metadata": {
      "needs_background": "light"
     },
     "output_type": "display_data"
    }
   ],
   "source": [
    "plt.rcParams.update({'font.size': 12}) \n",
    "metrics.plot_confusion_matrix(dt_gs, X_test, y_test, cmap = 'PuRd', display_labels = ['Low Risk','High Risk']);\n",
    "plt.title('Decision Tree');"
   ]
  },
  {
   "cell_type": "code",
   "execution_count": 72,
   "metadata": {},
   "outputs": [
    {
     "data": {
      "text/html": [
       "<div>\n",
       "<style scoped>\n",
       "    .dataframe tbody tr th:only-of-type {\n",
       "        vertical-align: middle;\n",
       "    }\n",
       "\n",
       "    .dataframe tbody tr th {\n",
       "        vertical-align: top;\n",
       "    }\n",
       "\n",
       "    .dataframe thead th {\n",
       "        text-align: right;\n",
       "    }\n",
       "</style>\n",
       "<table border=\"1\" class=\"dataframe\">\n",
       "  <thead>\n",
       "    <tr style=\"text-align: right;\">\n",
       "      <th></th>\n",
       "      <th>Notes</th>\n",
       "      <th>Recall</th>\n",
       "      <th>Precision</th>\n",
       "      <th>Accuracy</th>\n",
       "    </tr>\n",
       "  </thead>\n",
       "  <tbody>\n",
       "    <tr>\n",
       "      <th>0</th>\n",
       "      <td>Logistic Regression</td>\n",
       "      <td>0.888889</td>\n",
       "      <td>0.865979</td>\n",
       "      <td>0.868347</td>\n",
       "    </tr>\n",
       "    <tr>\n",
       "      <th>0</th>\n",
       "      <td>Bagging Classifier</td>\n",
       "      <td>0.936508</td>\n",
       "      <td>0.903061</td>\n",
       "      <td>0.913165</td>\n",
       "    </tr>\n",
       "    <tr>\n",
       "      <th>0</th>\n",
       "      <td>Ada Boost</td>\n",
       "      <td>0.904762</td>\n",
       "      <td>0.881443</td>\n",
       "      <td>0.885154</td>\n",
       "    </tr>\n",
       "    <tr>\n",
       "      <th>0</th>\n",
       "      <td>Gradient Boost 1</td>\n",
       "      <td>0.931217</td>\n",
       "      <td>0.907216</td>\n",
       "      <td>0.913165</td>\n",
       "    </tr>\n",
       "    <tr>\n",
       "      <th>0</th>\n",
       "      <td>Random Forest</td>\n",
       "      <td>0.936508</td>\n",
       "      <td>0.907692</td>\n",
       "      <td>0.915966</td>\n",
       "    </tr>\n",
       "    <tr>\n",
       "      <th>0</th>\n",
       "      <td>Decision Tree</td>\n",
       "      <td>0.830688</td>\n",
       "      <td>0.897143</td>\n",
       "      <td>0.859944</td>\n",
       "    </tr>\n",
       "  </tbody>\n",
       "</table>\n",
       "</div>"
      ],
      "text/plain": [
       "                 Notes    Recall  Precision  Accuracy\n",
       "0  Logistic Regression  0.888889   0.865979  0.868347\n",
       "0   Bagging Classifier  0.936508   0.903061  0.913165\n",
       "0            Ada Boost  0.904762   0.881443  0.885154\n",
       "0     Gradient Boost 1  0.931217   0.907216  0.913165\n",
       "0        Random Forest  0.936508   0.907692  0.915966\n",
       "0        Decision Tree  0.830688   0.897143  0.859944"
      ]
     },
     "execution_count": 72,
     "metadata": {},
     "output_type": "execute_result"
    }
   ],
   "source": [
    "grid_df = add_2_grid(dt_gs, X_test, y_test, 'Decision Tree')\n",
    "grid_df"
   ]
  },
  {
   "cell_type": "markdown",
   "metadata": {},
   "source": [
    "## SVC <span id = 'svc'>"
   ]
  },
  {
   "cell_type": "code",
   "execution_count": 73,
   "metadata": {},
   "outputs": [
    {
     "name": "stdout",
     "output_type": "stream",
     "text": [
      "Fitting 5 folds for each of 27 candidates, totalling 135 fits\n"
     ]
    },
    {
     "name": "stderr",
     "output_type": "stream",
     "text": [
      "[Parallel(n_jobs=1)]: Using backend SequentialBackend with 1 concurrent workers.\n",
      "[Parallel(n_jobs=1)]: Done 135 out of 135 | elapsed:    4.0s finished\n"
     ]
    },
    {
     "data": {
      "text/plain": [
       "({'C': 2, 'degree': 2, 'kernel': 'rbf'}, 0.7142774691580694)"
      ]
     },
     "execution_count": 73,
     "metadata": {},
     "output_type": "execute_result"
    }
   ],
   "source": [
    "params = {\n",
    "    'C' : [0.1, 1, 2],\n",
    "    'kernel' : ['poly', 'rbf', 'sigmoid'],\n",
    "    'degree' : [2, 3, 4],\n",
    "}\n",
    "\n",
    "svc_gs = GridSearchCV(SVC(),\n",
    "                      params,\n",
    "                      cv = 5,\n",
    "                      verbose = 1)\n",
    "\n",
    "svc_gs.fit(X_train, y_train)\n",
    "svc_gs.best_params_, svc_gs.best_score_\n"
   ]
  },
  {
   "cell_type": "code",
   "execution_count": 74,
   "metadata": {},
   "outputs": [
    {
     "name": "stdout",
     "output_type": "stream",
     "text": [
      "Train: 0.723889555822329\n",
      "Test: 0.7647058823529411\n"
     ]
    }
   ],
   "source": [
    "print('Train:', svc_gs.score(X_train, y_train))\n",
    "print('Test:', svc_gs.score(X_test, y_test))"
   ]
  },
  {
   "cell_type": "code",
   "execution_count": 75,
   "metadata": {},
   "outputs": [
    {
     "data": {
      "image/png": "[encoded data removed]",
      "text/plain": [
       "<Figure size 432x288 with 2 Axes>"
      ]
     },
     "metadata": {
      "needs_background": "light"
     },
     "output_type": "display_data"
    }
   ],
   "source": [
    "plt.rcParams.update({'font.size': 12}) \n",
    "metrics.plot_confusion_matrix(svc_gs, X_test, y_test, cmap = 'PuRd', display_labels = ['Low Risk','High Risk']);\n",
    "plt.title('SVC');"
   ]
  },
  {
   "cell_type": "code",
   "execution_count": 76,
   "metadata": {},
   "outputs": [
    {
     "data": {
      "text/html": [
       "<div>\n",
       "<style scoped>\n",
       "    .dataframe tbody tr th:only-of-type {\n",
       "        vertical-align: middle;\n",
       "    }\n",
       "\n",
       "    .dataframe tbody tr th {\n",
       "        vertical-align: top;\n",
       "    }\n",
       "\n",
       "    .dataframe thead th {\n",
       "        text-align: right;\n",
       "    }\n",
       "</style>\n",
       "<table border=\"1\" class=\"dataframe\">\n",
       "  <thead>\n",
       "    <tr style=\"text-align: right;\">\n",
       "      <th></th>\n",
       "      <th>Notes</th>\n",
       "      <th>Recall</th>\n",
       "      <th>Precision</th>\n",
       "      <th>Accuracy</th>\n",
       "    </tr>\n",
       "  </thead>\n",
       "  <tbody>\n",
       "    <tr>\n",
       "      <th>0</th>\n",
       "      <td>Logistic Regression</td>\n",
       "      <td>0.888889</td>\n",
       "      <td>0.865979</td>\n",
       "      <td>0.868347</td>\n",
       "    </tr>\n",
       "    <tr>\n",
       "      <th>0</th>\n",
       "      <td>Bagging Classifier</td>\n",
       "      <td>0.936508</td>\n",
       "      <td>0.903061</td>\n",
       "      <td>0.913165</td>\n",
       "    </tr>\n",
       "    <tr>\n",
       "      <th>0</th>\n",
       "      <td>Ada Boost</td>\n",
       "      <td>0.904762</td>\n",
       "      <td>0.881443</td>\n",
       "      <td>0.885154</td>\n",
       "    </tr>\n",
       "    <tr>\n",
       "      <th>0</th>\n",
       "      <td>Gradient Boost 1</td>\n",
       "      <td>0.931217</td>\n",
       "      <td>0.907216</td>\n",
       "      <td>0.913165</td>\n",
       "    </tr>\n",
       "    <tr>\n",
       "      <th>0</th>\n",
       "      <td>Random Forest</td>\n",
       "      <td>0.936508</td>\n",
       "      <td>0.907692</td>\n",
       "      <td>0.915966</td>\n",
       "    </tr>\n",
       "    <tr>\n",
       "      <th>0</th>\n",
       "      <td>Decision Tree</td>\n",
       "      <td>0.830688</td>\n",
       "      <td>0.897143</td>\n",
       "      <td>0.859944</td>\n",
       "    </tr>\n",
       "    <tr>\n",
       "      <th>0</th>\n",
       "      <td>SVC</td>\n",
       "      <td>0.804233</td>\n",
       "      <td>0.763819</td>\n",
       "      <td>0.764706</td>\n",
       "    </tr>\n",
       "  </tbody>\n",
       "</table>\n",
       "</div>"
      ],
      "text/plain": [
       "                 Notes    Recall  Precision  Accuracy\n",
       "0  Logistic Regression  0.888889   0.865979  0.868347\n",
       "0   Bagging Classifier  0.936508   0.903061  0.913165\n",
       "0            Ada Boost  0.904762   0.881443  0.885154\n",
       "0     Gradient Boost 1  0.931217   0.907216  0.913165\n",
       "0        Random Forest  0.936508   0.907692  0.915966\n",
       "0        Decision Tree  0.830688   0.897143  0.859944\n",
       "0                  SVC  0.804233   0.763819  0.764706"
      ]
     },
     "execution_count": 76,
     "metadata": {},
     "output_type": "execute_result"
    }
   ],
   "source": [
    "grid_df = add_2_grid(svc_gs, X_test, y_test, 'SVC')\n",
    "grid_df"
   ]
  },
  {
   "cell_type": "markdown",
   "metadata": {},
   "source": [
    "## KNN <span id = 'hknn'>"
   ]
  },
  {
   "cell_type": "code",
   "execution_count": 77,
   "metadata": {},
   "outputs": [
    {
     "name": "stdout",
     "output_type": "stream",
     "text": [
      "Fitting 5 folds for each of 120 candidates, totalling 600 fits\n"
     ]
    },
    {
     "name": "stderr",
     "output_type": "stream",
     "text": [
      "[Parallel(n_jobs=1)]: Using backend SequentialBackend with 1 concurrent workers.\n",
      "[Parallel(n_jobs=1)]: Done 600 out of 600 | elapsed:    6.4s finished\n"
     ]
    },
    {
     "data": {
      "text/plain": [
       "({'leaf_size': 10, 'metric': 'manhattan', 'n_neighbors': 1},\n",
       " 0.7790924175744897)"
      ]
     },
     "execution_count": 77,
     "metadata": {},
     "output_type": "execute_result"
    }
   ],
   "source": [
    "params = {\n",
    "    'n_neighbors' : np.arange(1, 20, 2),\n",
    "    'leaf_size' : [10, 20, 30 , 40],\n",
    "    'metric' : ['euclidean', 'minkowski','manhattan']\n",
    "}\n",
    "\n",
    "knn_gs = GridSearchCV(KNeighborsClassifier(),\n",
    "                      params,\n",
    "                      cv = 5,\n",
    "                      verbose = 1)\n",
    "\n",
    "knn_gs.fit(X_train, y_train)\n",
    "knn_gs.best_params_, knn_gs.best_score_"
   ]
  },
  {
   "cell_type": "code",
   "execution_count": 78,
   "metadata": {},
   "outputs": [
    {
     "name": "stdout",
     "output_type": "stream",
     "text": [
      "Train: 1.0\n",
      "Test: 0.8291316526610645\n"
     ]
    }
   ],
   "source": [
    "print('Train:', knn_gs.score(X_train, y_train))\n",
    "print('Test:', knn_gs.score(X_test, y_test))"
   ]
  },
  {
   "cell_type": "code",
   "execution_count": 79,
   "metadata": {},
   "outputs": [
    {
     "data": {
      "image/png": "[encoded data removed]",
      "text/plain": [
       "<Figure size 432x288 with 2 Axes>"
      ]
     },
     "metadata": {
      "needs_background": "light"
     },
     "output_type": "display_data"
    }
   ],
   "source": [
    "plt.rcParams.update({'font.size': 12}) \n",
    "metrics.plot_confusion_matrix(knn_gs, X_test, y_test, cmap = 'PuRd', display_labels = ['Low Risk','High Risk']);\n",
    "plt.title('KNN');"
   ]
  },
  {
   "cell_type": "code",
   "execution_count": 80,
   "metadata": {},
   "outputs": [
    {
     "data": {
      "text/html": [
       "<div>\n",
       "<style scoped>\n",
       "    .dataframe tbody tr th:only-of-type {\n",
       "        vertical-align: middle;\n",
       "    }\n",
       "\n",
       "    .dataframe tbody tr th {\n",
       "        vertical-align: top;\n",
       "    }\n",
       "\n",
       "    .dataframe thead th {\n",
       "        text-align: right;\n",
       "    }\n",
       "</style>\n",
       "<table border=\"1\" class=\"dataframe\">\n",
       "  <thead>\n",
       "    <tr style=\"text-align: right;\">\n",
       "      <th></th>\n",
       "      <th>Notes</th>\n",
       "      <th>Recall</th>\n",
       "      <th>Precision</th>\n",
       "      <th>Accuracy</th>\n",
       "    </tr>\n",
       "  </thead>\n",
       "  <tbody>\n",
       "    <tr>\n",
       "      <th>0</th>\n",
       "      <td>Logistic Regression</td>\n",
       "      <td>0.888889</td>\n",
       "      <td>0.865979</td>\n",
       "      <td>0.868347</td>\n",
       "    </tr>\n",
       "    <tr>\n",
       "      <th>0</th>\n",
       "      <td>Bagging Classifier</td>\n",
       "      <td>0.936508</td>\n",
       "      <td>0.903061</td>\n",
       "      <td>0.913165</td>\n",
       "    </tr>\n",
       "    <tr>\n",
       "      <th>0</th>\n",
       "      <td>Ada Boost</td>\n",
       "      <td>0.904762</td>\n",
       "      <td>0.881443</td>\n",
       "      <td>0.885154</td>\n",
       "    </tr>\n",
       "    <tr>\n",
       "      <th>0</th>\n",
       "      <td>Gradient Boost 1</td>\n",
       "      <td>0.931217</td>\n",
       "      <td>0.907216</td>\n",
       "      <td>0.913165</td>\n",
       "    </tr>\n",
       "    <tr>\n",
       "      <th>0</th>\n",
       "      <td>Random Forest</td>\n",
       "      <td>0.936508</td>\n",
       "      <td>0.907692</td>\n",
       "      <td>0.915966</td>\n",
       "    </tr>\n",
       "    <tr>\n",
       "      <th>0</th>\n",
       "      <td>Decision Tree</td>\n",
       "      <td>0.830688</td>\n",
       "      <td>0.897143</td>\n",
       "      <td>0.859944</td>\n",
       "    </tr>\n",
       "    <tr>\n",
       "      <th>0</th>\n",
       "      <td>SVC</td>\n",
       "      <td>0.804233</td>\n",
       "      <td>0.763819</td>\n",
       "      <td>0.764706</td>\n",
       "    </tr>\n",
       "    <tr>\n",
       "      <th>0</th>\n",
       "      <td>KNN</td>\n",
       "      <td>0.841270</td>\n",
       "      <td>0.836842</td>\n",
       "      <td>0.829132</td>\n",
       "    </tr>\n",
       "  </tbody>\n",
       "</table>\n",
       "</div>"
      ],
      "text/plain": [
       "                 Notes    Recall  Precision  Accuracy\n",
       "0  Logistic Regression  0.888889   0.865979  0.868347\n",
       "0   Bagging Classifier  0.936508   0.903061  0.913165\n",
       "0            Ada Boost  0.904762   0.881443  0.885154\n",
       "0     Gradient Boost 1  0.931217   0.907216  0.913165\n",
       "0        Random Forest  0.936508   0.907692  0.915966\n",
       "0        Decision Tree  0.830688   0.897143  0.859944\n",
       "0                  SVC  0.804233   0.763819  0.764706\n",
       "0                  KNN  0.841270   0.836842  0.829132"
      ]
     },
     "execution_count": 80,
     "metadata": {},
     "output_type": "execute_result"
    }
   ],
   "source": [
    "grid_df = add_2_grid(knn_gs, X_test, y_test, 'KNN')\n",
    "grid_df"
   ]
  },
  {
   "cell_type": "markdown",
   "metadata": {},
   "source": [
    "## BNB <span id ='hbnb'>"
   ]
  },
  {
   "cell_type": "code",
   "execution_count": 81,
   "metadata": {},
   "outputs": [
    {
     "name": "stdout",
     "output_type": "stream",
     "text": [
      "Fitting 5 folds for each of 3 candidates, totalling 15 fits\n"
     ]
    },
    {
     "name": "stderr",
     "output_type": "stream",
     "text": [
      "[Parallel(n_jobs=1)]: Using backend SequentialBackend with 1 concurrent workers.\n",
      "[Parallel(n_jobs=1)]: Done  15 out of  15 | elapsed:    0.1s finished\n"
     ]
    },
    {
     "data": {
      "text/plain": [
       "({'alpha': 1}, 0.7455161965226175)"
      ]
     },
     "execution_count": 81,
     "metadata": {},
     "output_type": "execute_result"
    }
   ],
   "source": [
    "params = {\n",
    "    'alpha' : [1, 0.5, 1.0e-10],\n",
    "}\n",
    "\n",
    "bnb_gs = GridSearchCV(BernoulliNB(),\n",
    "                      params,\n",
    "                      cv = 5,\n",
    "                      verbose = 1)\n",
    "\n",
    "bnb_gs.fit(X_train, y_train)\n",
    "bnb_gs.best_params_, bnb_gs.best_score_"
   ]
  },
  {
   "cell_type": "code",
   "execution_count": 82,
   "metadata": {},
   "outputs": [
    {
     "name": "stdout",
     "output_type": "stream",
     "text": [
      "Train: 0.7454981992797118\n",
      "Test: 0.742296918767507\n"
     ]
    }
   ],
   "source": [
    "print('Train:', bnb_gs.score(X_train, y_train))\n",
    "print('Test:', bnb_gs.score(X_test, y_test))"
   ]
  },
  {
   "cell_type": "markdown",
   "metadata": {},
   "source": [
    "> At least its consistent?"
   ]
  },
  {
   "cell_type": "code",
   "execution_count": 83,
   "metadata": {},
   "outputs": [
    {
     "data": {
      "image/png": "[encoded data removed]",
      "text/plain": [
       "<Figure size 432x288 with 2 Axes>"
      ]
     },
     "metadata": {
      "needs_background": "light"
     },
     "output_type": "display_data"
    }
   ],
   "source": [
    "plt.rcParams.update({'font.size': 12}) \n",
    "metrics.plot_confusion_matrix(bnb_gs, X_test, y_test, cmap = 'PuRd', display_labels = ['Low Risk','High Risk']);\n",
    "plt.title('Bernoulli NB');"
   ]
  },
  {
   "cell_type": "code",
   "execution_count": 84,
   "metadata": {},
   "outputs": [
    {
     "data": {
      "text/html": [
       "<div>\n",
       "<style scoped>\n",
       "    .dataframe tbody tr th:only-of-type {\n",
       "        vertical-align: middle;\n",
       "    }\n",
       "\n",
       "    .dataframe tbody tr th {\n",
       "        vertical-align: top;\n",
       "    }\n",
       "\n",
       "    .dataframe thead th {\n",
       "        text-align: right;\n",
       "    }\n",
       "</style>\n",
       "<table border=\"1\" class=\"dataframe\">\n",
       "  <thead>\n",
       "    <tr style=\"text-align: right;\">\n",
       "      <th></th>\n",
       "      <th>Notes</th>\n",
       "      <th>Recall</th>\n",
       "      <th>Precision</th>\n",
       "      <th>Accuracy</th>\n",
       "    </tr>\n",
       "  </thead>\n",
       "  <tbody>\n",
       "    <tr>\n",
       "      <th>0</th>\n",
       "      <td>Logistic Regression</td>\n",
       "      <td>0.888889</td>\n",
       "      <td>0.865979</td>\n",
       "      <td>0.868347</td>\n",
       "    </tr>\n",
       "    <tr>\n",
       "      <th>0</th>\n",
       "      <td>Bagging Classifier</td>\n",
       "      <td>0.936508</td>\n",
       "      <td>0.903061</td>\n",
       "      <td>0.913165</td>\n",
       "    </tr>\n",
       "    <tr>\n",
       "      <th>0</th>\n",
       "      <td>Ada Boost</td>\n",
       "      <td>0.904762</td>\n",
       "      <td>0.881443</td>\n",
       "      <td>0.885154</td>\n",
       "    </tr>\n",
       "    <tr>\n",
       "      <th>0</th>\n",
       "      <td>Gradient Boost 1</td>\n",
       "      <td>0.931217</td>\n",
       "      <td>0.907216</td>\n",
       "      <td>0.913165</td>\n",
       "    </tr>\n",
       "    <tr>\n",
       "      <th>0</th>\n",
       "      <td>Random Forest</td>\n",
       "      <td>0.936508</td>\n",
       "      <td>0.907692</td>\n",
       "      <td>0.915966</td>\n",
       "    </tr>\n",
       "    <tr>\n",
       "      <th>0</th>\n",
       "      <td>Decision Tree</td>\n",
       "      <td>0.830688</td>\n",
       "      <td>0.897143</td>\n",
       "      <td>0.859944</td>\n",
       "    </tr>\n",
       "    <tr>\n",
       "      <th>0</th>\n",
       "      <td>SVC</td>\n",
       "      <td>0.804233</td>\n",
       "      <td>0.763819</td>\n",
       "      <td>0.764706</td>\n",
       "    </tr>\n",
       "    <tr>\n",
       "      <th>0</th>\n",
       "      <td>KNN</td>\n",
       "      <td>0.841270</td>\n",
       "      <td>0.836842</td>\n",
       "      <td>0.829132</td>\n",
       "    </tr>\n",
       "    <tr>\n",
       "      <th>0</th>\n",
       "      <td>Bernoulli Naive Bayes</td>\n",
       "      <td>0.693122</td>\n",
       "      <td>0.793939</td>\n",
       "      <td>0.742297</td>\n",
       "    </tr>\n",
       "  </tbody>\n",
       "</table>\n",
       "</div>"
      ],
      "text/plain": [
       "                   Notes    Recall  Precision  Accuracy\n",
       "0    Logistic Regression  0.888889   0.865979  0.868347\n",
       "0     Bagging Classifier  0.936508   0.903061  0.913165\n",
       "0              Ada Boost  0.904762   0.881443  0.885154\n",
       "0       Gradient Boost 1  0.931217   0.907216  0.913165\n",
       "0          Random Forest  0.936508   0.907692  0.915966\n",
       "0          Decision Tree  0.830688   0.897143  0.859944\n",
       "0                    SVC  0.804233   0.763819  0.764706\n",
       "0                    KNN  0.841270   0.836842  0.829132\n",
       "0  Bernoulli Naive Bayes  0.693122   0.793939  0.742297"
      ]
     },
     "execution_count": 84,
     "metadata": {},
     "output_type": "execute_result"
    }
   ],
   "source": [
    "grid_df = add_2_grid(bnb_gs, X_test, y_test, 'Bernoulli Naive Bayes')\n",
    "grid_df"
   ]
  },
  {
   "cell_type": "markdown",
   "metadata": {},
   "source": [
    "## Neural Network <span id = 'nn'>"
   ]
  },
  {
   "cell_type": "code",
   "execution_count": 85,
   "metadata": {},
   "outputs": [],
   "source": [
    "sc = StandardScaler()\n",
    "Z_train = sc.fit_transform(X_train)\n",
    "Z_test = sc.transform(X_test)"
   ]
  },
  {
   "cell_type": "code",
   "execution_count": 86,
   "metadata": {},
   "outputs": [
    {
     "data": {
      "text/plain": [
       "(833, 53)"
      ]
     },
     "execution_count": 86,
     "metadata": {},
     "output_type": "execute_result"
    }
   ],
   "source": [
    "Z_train.shape"
   ]
  },
  {
   "cell_type": "code",
   "execution_count": 87,
   "metadata": {},
   "outputs": [],
   "source": [
    "model = Sequential()\n",
    "\n",
    "## Add input and hidden layer (first dense layer)\n",
    "model.add(Dense(64,\n",
    "               activation = 'relu',\n",
    "               input_shape = Z_train[0].shape))\n",
    "model.add(Dropout(0.05))\n",
    "\n",
    "## Add 2nd & 3rd hidden layer\n",
    "model.add(Dense(64, activation = 'relu'))\n",
    "model.add(Dropout(0.05))\n",
    "\n",
    "model.add(Dense(32, activation = 'relu'))\n",
    "model.add(Dropout(0.05))\n",
    "\n",
    "## Output layer\n",
    "model.add(Dense(1, activation = 'sigmoid'))\n",
    "\n",
    "# adding in earlystopping\n",
    "es = EarlyStopping(patience=5)\n",
    "\n",
    "# Compile our data\n",
    "model.compile(optimizer = 'adam',\n",
    "              loss = 'binary_crossentropy',\n",
    "              metrics = ['accuracy'])"
   ]
  },
  {
   "cell_type": "code",
   "execution_count": 88,
   "metadata": {
    "scrolled": true
   },
   "outputs": [
    {
     "name": "stdout",
     "output_type": "stream",
     "text": [
      "Epoch 1/10\n",
      "56/56 [==============================] - 1s 3ms/step - loss: 0.4736 - accuracy: 0.7827 - val_loss: 0.3806 - val_accuracy: 0.8347\n",
      "Epoch 2/10\n",
      "56/56 [==============================] - 0s 1ms/step - loss: 0.3773 - accuracy: 0.8307 - val_loss: 0.3708 - val_accuracy: 0.8431\n",
      "Epoch 3/10\n",
      "56/56 [==============================] - 0s 1ms/step - loss: 0.3536 - accuracy: 0.8439 - val_loss: 0.3582 - val_accuracy: 0.8599\n",
      "Epoch 4/10\n",
      "56/56 [==============================] - 0s 1ms/step - loss: 0.3320 - accuracy: 0.8511 - val_loss: 0.3536 - val_accuracy: 0.8543\n",
      "Epoch 5/10\n",
      "56/56 [==============================] - 0s 1ms/step - loss: 0.3117 - accuracy: 0.8571 - val_loss: 0.3429 - val_accuracy: 0.8739\n",
      "Epoch 6/10\n",
      "56/56 [==============================] - 0s 1ms/step - loss: 0.2933 - accuracy: 0.8715 - val_loss: 0.3531 - val_accuracy: 0.8908\n",
      "Epoch 7/10\n",
      "56/56 [==============================] - 0s 1ms/step - loss: 0.2907 - accuracy: 0.8872 - val_loss: 0.3530 - val_accuracy: 0.8739\n",
      "Epoch 8/10\n",
      "56/56 [==============================] - 0s 1ms/step - loss: 0.2696 - accuracy: 0.8896 - val_loss: 0.3580 - val_accuracy: 0.8768\n",
      "Epoch 9/10\n",
      "56/56 [==============================] - 0s 1ms/step - loss: 0.2510 - accuracy: 0.8980 - val_loss: 0.3601 - val_accuracy: 0.8768\n",
      "Epoch 10/10\n",
      "56/56 [==============================] - 0s 1ms/step - loss: 0.2454 - accuracy: 0.8920 - val_loss: 0.3510 - val_accuracy: 0.8768\n"
     ]
    }
   ],
   "source": [
    "results = model.fit(Z_train, y_train,\n",
    "                    batch_size= 15,\n",
    "                    epochs=10,\n",
    "                    validation_data=(Z_test, y_test),\n",
    "                    verbose = 1)"
   ]
  },
  {
   "cell_type": "markdown",
   "metadata": {},
   "source": [
    "> I have tried multiple NN and can't get anything higher than an 89%"
   ]
  },
  {
   "cell_type": "markdown",
   "metadata": {},
   "source": [
    "## Gradient Boosting Part 2 <span id = 'gd_boost2'>"
   ]
  },
  {
   "cell_type": "code",
   "execution_count": 89,
   "metadata": {},
   "outputs": [
    {
     "name": "stdout",
     "output_type": "stream",
     "text": [
      "Fitting 5 folds for each of 8 candidates, totalling 40 fits\n"
     ]
    },
    {
     "name": "stderr",
     "output_type": "stream",
     "text": [
      "[Parallel(n_jobs=4)]: Using backend LokyBackend with 4 concurrent workers.\n",
      "[Parallel(n_jobs=4)]: Done  40 out of  40 | elapsed:   10.7s finished\n"
     ]
    },
    {
     "name": "stdout",
     "output_type": "stream",
     "text": [
      "{'learning_rate': 0.1, 'max_depth': 5, 'n_estimators': 250} 0.9039968256258566\n"
     ]
    }
   ],
   "source": [
    "params  = {'learning_rate':[0.15, 0.1],\n",
    "           'n_estimators':[150, 250],\n",
    "           'max_depth':[5, 6]}\n",
    "\n",
    "gs_model_2 = GridSearchCV(GradientBoostingClassifier(min_samples_split=2), \n",
    "                        param_grid = params, scoring='accuracy', n_jobs=4,  cv=5,\n",
    "                        verbose =1)\n",
    "gs_model_2.fit(X_train,y_train)\n",
    "print(gs_model_2.best_params_, gs_model_2.best_score_)"
   ]
  },
  {
   "cell_type": "code",
   "execution_count": 90,
   "metadata": {},
   "outputs": [
    {
     "name": "stdout",
     "output_type": "stream",
     "text": [
      "Train: 1.0\n",
      "Test: 0.9187675070028011\n"
     ]
    }
   ],
   "source": [
    "print('Train:', gs_model_2.score(X_train, y_train))\n",
    "print('Test:', gs_model_2.score(X_test, y_test))"
   ]
  },
  {
   "cell_type": "code",
   "execution_count": 91,
   "metadata": {},
   "outputs": [
    {
     "data": {
      "image/png": "[encoded data removed]",
      "text/plain": [
       "<Figure size 432x288 with 2 Axes>"
      ]
     },
     "metadata": {
      "needs_background": "light"
     },
     "output_type": "display_data"
    }
   ],
   "source": [
    "plt.rcParams.update({'font.size': 12}) \n",
    "metrics.plot_confusion_matrix(gs_model_2, X_test, y_test, cmap = 'PuRd', display_labels = ['Low Risk','High Risk']);\n",
    "plt.title('Gradient Boost 2');"
   ]
  },
  {
   "cell_type": "code",
   "execution_count": 92,
   "metadata": {},
   "outputs": [
    {
     "data": {
      "text/html": [
       "<div>\n",
       "<style scoped>\n",
       "    .dataframe tbody tr th:only-of-type {\n",
       "        vertical-align: middle;\n",
       "    }\n",
       "\n",
       "    .dataframe tbody tr th {\n",
       "        vertical-align: top;\n",
       "    }\n",
       "\n",
       "    .dataframe thead th {\n",
       "        text-align: right;\n",
       "    }\n",
       "</style>\n",
       "<table border=\"1\" class=\"dataframe\">\n",
       "  <thead>\n",
       "    <tr style=\"text-align: right;\">\n",
       "      <th></th>\n",
       "      <th>Notes</th>\n",
       "      <th>Recall</th>\n",
       "      <th>Precision</th>\n",
       "      <th>Accuracy</th>\n",
       "    </tr>\n",
       "  </thead>\n",
       "  <tbody>\n",
       "    <tr>\n",
       "      <th>0</th>\n",
       "      <td>Logistic Regression</td>\n",
       "      <td>0.888889</td>\n",
       "      <td>0.865979</td>\n",
       "      <td>0.868347</td>\n",
       "    </tr>\n",
       "    <tr>\n",
       "      <th>0</th>\n",
       "      <td>Bagging Classifier</td>\n",
       "      <td>0.936508</td>\n",
       "      <td>0.903061</td>\n",
       "      <td>0.913165</td>\n",
       "    </tr>\n",
       "    <tr>\n",
       "      <th>0</th>\n",
       "      <td>Ada Boost</td>\n",
       "      <td>0.904762</td>\n",
       "      <td>0.881443</td>\n",
       "      <td>0.885154</td>\n",
       "    </tr>\n",
       "    <tr>\n",
       "      <th>0</th>\n",
       "      <td>Gradient Boost 1</td>\n",
       "      <td>0.931217</td>\n",
       "      <td>0.907216</td>\n",
       "      <td>0.913165</td>\n",
       "    </tr>\n",
       "    <tr>\n",
       "      <th>0</th>\n",
       "      <td>Random Forest</td>\n",
       "      <td>0.936508</td>\n",
       "      <td>0.907692</td>\n",
       "      <td>0.915966</td>\n",
       "    </tr>\n",
       "    <tr>\n",
       "      <th>0</th>\n",
       "      <td>Decision Tree</td>\n",
       "      <td>0.830688</td>\n",
       "      <td>0.897143</td>\n",
       "      <td>0.859944</td>\n",
       "    </tr>\n",
       "    <tr>\n",
       "      <th>0</th>\n",
       "      <td>SVC</td>\n",
       "      <td>0.804233</td>\n",
       "      <td>0.763819</td>\n",
       "      <td>0.764706</td>\n",
       "    </tr>\n",
       "    <tr>\n",
       "      <th>0</th>\n",
       "      <td>KNN</td>\n",
       "      <td>0.841270</td>\n",
       "      <td>0.836842</td>\n",
       "      <td>0.829132</td>\n",
       "    </tr>\n",
       "    <tr>\n",
       "      <th>0</th>\n",
       "      <td>Bernoulli Naive Bayes</td>\n",
       "      <td>0.693122</td>\n",
       "      <td>0.793939</td>\n",
       "      <td>0.742297</td>\n",
       "    </tr>\n",
       "    <tr>\n",
       "      <th>0</th>\n",
       "      <td>Gradient Boost 2</td>\n",
       "      <td>0.936508</td>\n",
       "      <td>0.912371</td>\n",
       "      <td>0.918768</td>\n",
       "    </tr>\n",
       "  </tbody>\n",
       "</table>\n",
       "</div>"
      ],
      "text/plain": [
       "                   Notes    Recall  Precision  Accuracy\n",
       "0    Logistic Regression  0.888889   0.865979  0.868347\n",
       "0     Bagging Classifier  0.936508   0.903061  0.913165\n",
       "0              Ada Boost  0.904762   0.881443  0.885154\n",
       "0       Gradient Boost 1  0.931217   0.907216  0.913165\n",
       "0          Random Forest  0.936508   0.907692  0.915966\n",
       "0          Decision Tree  0.830688   0.897143  0.859944\n",
       "0                    SVC  0.804233   0.763819  0.764706\n",
       "0                    KNN  0.841270   0.836842  0.829132\n",
       "0  Bernoulli Naive Bayes  0.693122   0.793939  0.742297\n",
       "0       Gradient Boost 2  0.936508   0.912371  0.918768"
      ]
     },
     "execution_count": 92,
     "metadata": {},
     "output_type": "execute_result"
    }
   ],
   "source": [
    "grid_df = add_2_grid(gs_model_2, X_test, y_test, 'Gradient Boost 2')\n",
    "grid_df"
   ]
  },
  {
   "cell_type": "markdown",
   "metadata": {},
   "source": [
    "## Plotting 10 most important features From Gradient Boost updated"
   ]
  },
  {
   "cell_type": "code",
   "execution_count": 104,
   "metadata": {},
   "outputs": [
    {
     "name": "stdout",
     "output_type": "stream",
     "text": [
      "Accuracy of GBC on testing data: 0.9188\n",
      "              precision    recall  f1-score   support\n",
      "\n",
      "           0       0.93      0.90      0.91       168\n",
      "           1       0.91      0.94      0.92       189\n",
      "\n",
      "    accuracy                           0.92       357\n",
      "   macro avg       0.92      0.92      0.92       357\n",
      "weighted avg       0.92      0.92      0.92       357\n",
      "\n"
     ]
    },
    {
     "data": {
      "image/png": "[encoded data removed]",
      "text/plain": [
       "<Figure size 720x504 with 1 Axes>"
      ]
     },
     "metadata": {
      "needs_background": "light"
     },
     "output_type": "display_data"
    }
   ],
   "source": [
    "model1 = GradientBoostingClassifier(learning_rate=0.5, n_estimators=250,\n",
    "                                    max_depth=5, min_samples_split=2)\n",
    "model1.fit(X_train,y_train)\n",
    "predictors=list(X_train)\n",
    "plt.figure(figsize = (10, 7))\n",
    "imp_features = pd.Series(model1.feature_importances_, predictors).sort_values(ascending=False)\n",
    "imp_features[:10].plot(kind='barh', title='Importance of Features', color = 'lightcoral')\n",
    "plt.title('Feature Importance Values', fontsize = 20, pad  = 10)\n",
    "plt.ylabel('Features', fontsize = 15, labelpad = 10)\n",
    "plt.yticks(size = 15)\n",
    "plt.xlabel('Scores', fontsize = 15, labelpad = 10)\n",
    "plt.xticks(size = 15)\n",
    "print('Accuracy of GBC on testing data: {:.4f}'.format(model1.score(X_test, y_test)))\n",
    "y_pred=model1.predict(X_test)\n",
    "print(classification_report(y_test, y_pred))\n",
    "\n",
    "plt.savefig('./imgs/imp_of_features.png',dpi=300, bbox_inches = \"tight\")"
   ]
  },
  {
   "cell_type": "markdown",
   "metadata": {},
   "source": [
    "## Voting Classifier <span id = 'voting'>"
   ]
  },
  {
   "cell_type": "code",
   "execution_count": 94,
   "metadata": {},
   "outputs": [
    {
     "data": {
      "text/plain": [
       "VotingClassifier(estimators=[('ada', AdaBoostClassifier()),\n",
       "                             ('gb',\n",
       "                              GradientBoostingClassifier(learning_rate=0.5,\n",
       "                                                         max_depth=4,\n",
       "                                                         n_estimators=200)),\n",
       "                             ('bag', BaggingClassifier()),\n",
       "                             ('svc',\n",
       "                              Pipeline(steps=[('sc', StandardScaler()),\n",
       "                                              ('svc', SVC())])),\n",
       "                             ('log',\n",
       "                              Pipeline(steps=[('sc', StandardScaler()),\n",
       "                                              ('log',\n",
       "                                               LogisticRegression(max_iter=1000))])),\n",
       "                             ('rf',\n",
       "                              RandomForestClassifier(max_depth=50,\n",
       "                                                     n_estimators=200)),\n",
       "                             ('knn_pipe',\n",
       "                              Pipeline(steps=[('sc', StandardScaler()),\n",
       "                                              ('knn',\n",
       "                                               KNeighborsClassifier())]))])"
      ]
     },
     "execution_count": 94,
     "metadata": {},
     "output_type": "execute_result"
    }
   ],
   "source": [
    "# need to scale it for the certain models\n",
    "svc_pipe = Pipeline([\n",
    "    ('sc', StandardScaler()),\n",
    "    ('svc', SVC())\n",
    "])\n",
    "\n",
    "knn_pipe = Pipeline([\n",
    "    ('sc', StandardScaler()),\n",
    "    ('knn', KNeighborsClassifier())\n",
    "])\n",
    "\n",
    "log_pipe = Pipeline([\n",
    "    ('sc', StandardScaler()),\n",
    "    ('log', LogisticRegression(max_iter=1000))\n",
    "])\n",
    "\n",
    "# making the voting classifier model\n",
    "vote = VotingClassifier([\n",
    "    ('ada', AdaBoostClassifier()),\n",
    "    ('gb', model1),\n",
    "    ('bag', BaggingClassifier()),\n",
    "    ('svc', svc_pipe),\n",
    "    ('log', log_pipe),\n",
    "    ('rf', RandomForestClassifier(max_depth = 50, n_estimators = 200)),\n",
    "    ('knn_pipe', knn_pipe)])\n",
    "vote.fit(X_train, y_train)"
   ]
  },
  {
   "cell_type": "code",
   "execution_count": 95,
   "metadata": {},
   "outputs": [
    {
     "name": "stdout",
     "output_type": "stream",
     "text": [
      "0.9483793517406963\n",
      "0.8991596638655462\n"
     ]
    }
   ],
   "source": [
    "print(vote.score(X_train, y_train))\n",
    "print(vote.score(X_test, y_test))"
   ]
  },
  {
   "cell_type": "markdown",
   "metadata": {},
   "source": [
    "**Model Scores**  \n",
    "Overall, the best model we had for *accuracy* was the Gradient boosting at a 0.9244, followed by the Random Forest Model, which had 0.91036"
   ]
  },
  {
   "cell_type": "code",
   "execution_count": 102,
   "metadata": {},
   "outputs": [
    {
     "data": {
      "image/png": "[encoded data removed]",
      "text/plain": [
       "<Figure size 432x288 with 2 Axes>"
      ]
     },
     "metadata": {
      "needs_background": "light"
     },
     "output_type": "display_data"
    }
   ],
   "source": [
    "plt.rcParams.update({'font.size': 12}) \n",
    "metrics.plot_confusion_matrix(vote, X_test, y_test, cmap = 'PuRd', display_labels = ['Low Risk','High Risk']);\n",
    "plt.title('Voting Classifier');"
   ]
  },
  {
   "cell_type": "code",
   "execution_count": null,
   "metadata": {},
   "outputs": [],
   "source": [
    "grid_df = add_2_grid(vote, X_test, y_test, 'Voting Classifier')\n",
    "grid_df"
   ]
  },
  {
   "cell_type": "markdown",
   "metadata": {},
   "source": [
    "<span id ='gridsearch_scores'></span>\n",
    "## Data Frame of all our GrideSearch scores, with Recall, Precision, Accuracy"
   ]
  },
  {
   "cell_type": "code",
   "execution_count": null,
   "metadata": {},
   "outputs": [],
   "source": [
    "grid_df.reset_index(inplace=True)\n",
    "grid_df.drop('index', axis = 1, inplace = True)\n",
    "\n",
    "grid_df"
   ]
  },
  {
   "cell_type": "markdown",
   "metadata": {},
   "source": [
    "<span id = 'hanalysis'></span>\n",
    "# Analysis of Data using Gradient Boost 3 model"
   ]
  },
  {
   "cell_type": "code",
   "execution_count": null,
   "metadata": {
    "scrolled": true
   },
   "outputs": [],
   "source": [
    "for i in range(10):\n",
    "    print(f'{imp_features.index[i]}: {round(imp_features[i],5)}')\n",
    "    print('---'*13)"
   ]
  },
  {
   "cell_type": "markdown",
   "metadata": {},
   "source": [
    "<span id = 'hcnr'></span>\n",
    "### Conclusions and Recommendations\n",
    "  For our Gradient descent model, the most important predictor was `resting SBP * ST slope` (Resting bp is resting systolic blood pressure & ST slope is a measurement of how well one's heart handles exercise). This feature alone made up almost 30% of our models' predictive ability.  In other words, the most prominent predictive factor for heart disease, according to our model, is whether an individual has a high resting systolic blood pressure along with how well their heart can handle exercise.  The next three most important features for our model were `sex * ST slope` which accounted for 7.1% for our model's prediction, followed by `sex * chest pain type`, which accounted for 6.75% of our model's predictive ability, and `chest pain type * resting SBP` which accounted for 6.41% of our model's predictive ability.\n",
    "\n",
    "  By identifying these key predictors that are most predictive of CVD in patients (in high-income countries), medical professionals will be able to more quickly and accurately identify patients most likely to have CVD.  Not only will this improve the speed at which individuals are initiated on treatment (and hence improve their health outcomes), but it will free up doctors' time to treat other patients needing treatment -- ultimately benefiting the total patient population."
   ]
  },
  {
   "cell_type": "markdown",
   "metadata": {},
   "source": [
    "---"
   ]
  },
  {
   "cell_type": "markdown",
   "metadata": {},
   "source": [
    "<span id='jen'></span>\n",
    "# Jen's CHD work"
   ]
  },
  {
   "cell_type": "markdown",
   "metadata": {},
   "source": [
    "**Data Dictionary**\n",
    "\n",
    "|    | Column Name              | Description                                                                                                                                                                                                                                       | Type    |\n",
    "|---:|:-------------------------|:--------------------------------------------------------------------------------------------------------------------------------------------------------------------------------------------------------------------------------------------------|:--------|\n",
    "|  | state_abbr               | State abbreviation                                                                                                                                                                                                                                | Object  |\n",
    "|  | state                    | State name                                                                                                                                                                                                                                        | Object  |\n",
    "|  | county                   | County name                                                                                                                                                                                                                                       | Object  |\n",
    "|  | county_fips              | County fips code                                                                                                                                                                                                                                  | Integer |\n",
    "|  | tract_fips               | Census tract fips code                                                                                                                                                                                                                            | Integer |\n",
    "|  | total_pop                | Total Population of Census 2010                                                                                                                                                                                                                   | Integer |\n",
    "|  | access_to_healthcare     | Model-based estimate for crude prevalence of current lack of health insurance among adults aged 18-64 years, 2018                                                                                                                                 | Float   |\n",
    "|  | arthritis                | Model-based estimate for crude prevalence of arthritis among adults aged >=18 years, 2018                                                                                                                                                         | Float   |\n",
    "|  | binge_drinking           | Model-based estimate for crude prevalence of binge drinking among adults aged >=18 years, 2018                                                                                                                                                    | Float   |\n",
    "|  | high_bp                  | Model-based estimate for crude prevalence of high blood pressure among adults aged >=18 years, 2017                                                                                                                                               | Float   |\n",
    "|  | meds_for_high_bp         | Model-based estimate for crude prevalence of taking medicine for high blood pressure control among adults aged >=18 years with high blood pressure, 2017                                                                                          | Float   |\n",
    "|  | cancer                   | Model-based estimate for crude prevalence of cancer (excluding skin cancer) among adults aged >=18 years, 2018                                                                                                                                    | Float   |\n",
    "|  | current_asthma           | Model-based estimate for crude prevalence of current asthma among adults aged >=18 years, 2018                                                                                                                                                    | Float   |\n",
    "|  | cervical_screening       | Model-based estimate for crude prevalence of cervical cancer screening among adult women aged 21–65 years, 2018                                                                                                                                   | Float   |\n",
    "|  | chd                      | Model-based estimate for crude prevalence of coronary heart disease among adults aged >=18 years, 2018                                                                                                                                            | Float   |\n",
    "|  | doc_checkups             | Model-based estimate for crude prevalence of visits to doctor for routine checkup within the past year among adults aged >=18 years, 2018                                                                                                         | Float   |\n",
    "|  | chol_screen              | Model-based estimate for crude prevalence of cholesterol screening among adults aged >=18 years, 2017                                                                                                                                             | Float   |\n",
    "|  | colon_screen             | Model-based estimate for crude prevalence of fecal occult blood test, sigmoidoscopy, or colonoscopy among adults aged 50–75 years, 2018                                                                                                           | Float   |\n",
    "|  | copd                     | Model-based estimate for crude prevalence of chronic obstructive pulmonary disease among adults aged >=18 years, 2018                                                                                                                             | Float   |\n",
    "|  | core_preventative_men    | Model-based estimate for crude prevalence of older adult men aged >=65 years who are up to date on a core set of clinical preventive services: Flu shot past year, PPV shot ever, Colorectal cancer screening, 2018                               | Float   |\n",
    "|  | core_preventative_female | Model-based estimate for crude prevalence of older adult women aged >=65 years who are up to date on a core set of clinical preventive services: Flu shot past year, PPV shot ever, Colorectal cancer screening, and Mammogram past 2 years, 2018 | Float   |\n",
    "|  | current_smoker           | Model-based estimate for crude prevalence of current smoking among adults aged >=18 years, 2018                                                                                                                                                   | Float   |\n",
    "|  | dental_visits            | Model-based estimate for crude prevalence of visits to dentist or dental clinic among adults aged >=18 years, 2018                                                                                                                                | Float   |\n",
    "|  | diabetes                 | Model-based estimate for crude prevalence of diagnosed diabetes among adults aged >=18 years, 2018                                                                                                                                                | Float   |\n",
    "|  | high_chol                | Model-based estimate for crude prevalence of high cholesterol among adults aged >=18 years who have been screened in the past 5 years, 2017                                                                                                       | Float   |\n",
    "|  | kidney_disease           | Model-based estimate for crude prevalence of chronic kidney disease among adults aged >=18 years, 2018                                                                                                                                            | Float   |\n",
    "|  | physical_activity        | Model-based estimate for crude prevalence of no leisure-time physical activity among adults aged >=18 years, 2018                                                                                                                                 | Float   |\n",
    "|  | mammography              | Model-based estimate for crude prevalence of mammography use among women aged 50–74 years, 2018                                                                                                                                                   | Float   |\n",
    "|  | mental_health            | Model-based estimate for crude prevalence of mental health not good for >=14 days among adults aged >=18 years, 2018                                                                                                                              | Float   |\n",
    "|  | obesity                  | Model-based estimate for crude prevalence of obesity among adults aged >=18 years, 2018                                                                                                                                                           | Float   |\n",
    "|  | poor_physical_health     | Model-based estimate for crude prevalence of physical health not good for >=14 days among adults aged >=18 years, 2018                                                                                                                            | Float   |\n",
    "|  | poor_sleep               | Model-based estimate for crude prevalence of sleeping less than 7 hours among adults aged >=18 years, 2018                                                                                                                                        | Float   |\n",
    "|  | stroke                   | Model-based estimate for crude prevalence of stroke among adults aged >=18 years, 2018                                                                                                                                                            | Float   |\n",
    "|  | teeth_lost               | Model-based estimate for crude prevalence of all teeth lost among adults aged >=65 years, 2018                                                                                                                                                    | Float   |"
   ]
  },
  {
   "cell_type": "markdown",
   "metadata": {},
   "source": [
    "## Cleaning and EDA <span id='jclean'>"
   ]
  },
  {
   "cell_type": "code",
   "execution_count": null,
   "metadata": {},
   "outputs": [],
   "source": [
    "df = pd.read_csv('./data/PLACES__Census_Tract_Data__GIS_Friendly_Format___2020_release.csv')\n",
    "df.head()"
   ]
  },
  {
   "cell_type": "code",
   "execution_count": null,
   "metadata": {},
   "outputs": [],
   "source": [
    "df.shape"
   ]
  },
  {
   "cell_type": "code",
   "execution_count": 109,
   "metadata": {},
   "outputs": [
    {
     "ename": "AttributeError",
     "evalue": "'numpy.ndarray' object has no attribute 'dtypes'",
     "output_type": "error",
     "traceback": [
      "\u001b[0;31m---------------------------------------------------------------------------\u001b[0m",
      "\u001b[0;31mAttributeError\u001b[0m                            Traceback (most recent call last)",
      "\u001b[0;32m<ipython-input-109-5cc0934cc03c>\u001b[0m in \u001b[0;36m<module>\u001b[0;34m\u001b[0m\n\u001b[0;32m----> 1\u001b[0;31m \u001b[0mdf\u001b[0m\u001b[0;34m.\u001b[0m\u001b[0mdtypes\u001b[0m\u001b[0;34m\u001b[0m\u001b[0;34m\u001b[0m\u001b[0m\n\u001b[0m",
      "\u001b[0;31mAttributeError\u001b[0m: 'numpy.ndarray' object has no attribute 'dtypes'"
     ]
    }
   ],
   "source": [
    "df.dtypes"
   ]
  },
  {
   "cell_type": "code",
   "execution_count": 110,
   "metadata": {},
   "outputs": [
    {
     "ename": "AttributeError",
     "evalue": "'numpy.ndarray' object has no attribute 'isnull'",
     "output_type": "error",
     "traceback": [
      "\u001b[0;31m---------------------------------------------------------------------------\u001b[0m",
      "\u001b[0;31mAttributeError\u001b[0m                            Traceback (most recent call last)",
      "\u001b[0;32m<ipython-input-110-629914d6d1c7>\u001b[0m in \u001b[0;36m<module>\u001b[0;34m\u001b[0m\n\u001b[0;32m----> 1\u001b[0;31m \u001b[0mdf\u001b[0m\u001b[0;34m.\u001b[0m\u001b[0misnull\u001b[0m\u001b[0;34m(\u001b[0m\u001b[0;34m)\u001b[0m\u001b[0;34m.\u001b[0m\u001b[0msum\u001b[0m\u001b[0;34m(\u001b[0m\u001b[0;34m)\u001b[0m\u001b[0;34m\u001b[0m\u001b[0;34m\u001b[0m\u001b[0m\n\u001b[0m",
      "\u001b[0;31mAttributeError\u001b[0m: 'numpy.ndarray' object has no attribute 'isnull'"
     ]
    }
   ],
   "source": [
    "df.isnull().sum()"
   ]
  },
  {
   "cell_type": "code",
   "execution_count": 111,
   "metadata": {},
   "outputs": [
    {
     "ename": "AttributeError",
     "evalue": "'numpy.ndarray' object has no attribute 'dropna'",
     "output_type": "error",
     "traceback": [
      "\u001b[0;31m---------------------------------------------------------------------------\u001b[0m",
      "\u001b[0;31mAttributeError\u001b[0m                            Traceback (most recent call last)",
      "\u001b[0;32m<ipython-input-111-5916e33c1195>\u001b[0m in \u001b[0;36m<module>\u001b[0;34m\u001b[0m\n\u001b[1;32m      1\u001b[0m \u001b[0;31m# Dropped all null values since it's a small amount of the data\u001b[0m\u001b[0;34m\u001b[0m\u001b[0;34m\u001b[0m\u001b[0;34m\u001b[0m\u001b[0m\n\u001b[0;32m----> 2\u001b[0;31m \u001b[0mdf\u001b[0m\u001b[0;34m.\u001b[0m\u001b[0mdropna\u001b[0m\u001b[0;34m(\u001b[0m\u001b[0maxis\u001b[0m \u001b[0;34m=\u001b[0m \u001b[0;36m0\u001b[0m\u001b[0;34m,\u001b[0m \u001b[0mhow\u001b[0m \u001b[0;34m=\u001b[0m \u001b[0;34m'any'\u001b[0m\u001b[0;34m,\u001b[0m \u001b[0minplace\u001b[0m \u001b[0;34m=\u001b[0m \u001b[0;32mTrue\u001b[0m\u001b[0;34m)\u001b[0m\u001b[0;34m\u001b[0m\u001b[0;34m\u001b[0m\u001b[0m\n\u001b[0m",
      "\u001b[0;31mAttributeError\u001b[0m: 'numpy.ndarray' object has no attribute 'dropna'"
     ]
    }
   ],
   "source": [
    "# Dropped all null values since it's a small amount of the data\n",
    "df.dropna(axis = 0, how = 'any', inplace = True)"
   ]
  },
  {
   "cell_type": "markdown",
   "metadata": {},
   "source": [
    "### Renaming Columns "
   ]
  },
  {
   "cell_type": "code",
   "execution_count": null,
   "metadata": {},
   "outputs": [],
   "source": [
    "df_dict = {\n",
    "    'StateAbbr': 'state_abbr', \n",
    "    'StateDesc': 'state',\n",
    "    'CountyName':'county',\n",
    "    'CountyFIPS':'county_fips',\n",
    "    'TractFIPS': 'tract_fips',\n",
    "    'TotalPopulation':'total_pop',\n",
    "    'ACCESS2_CrudePrev':'access_to_healthcare',\n",
    "    'ARTHRITIS_CrudePrev':'arthritis',\n",
    "    'BINGE_CrudePrev':'binge_drinking',\n",
    "    'BPHIGH_CrudePrev':'high_bp',\n",
    "    'BPMED_CrudePrev':'meds_for_high_bp',\n",
    "    'CANCER_CrudePrev':'cancer',\n",
    "    'CASTHMA_CrudePrev':'current_asthma',\n",
    "    'CERVICAL_CrudePrev':'cervical_screening',\n",
    "    'CHD_CrudePrev':'chd',\n",
    "    'CHECKUP_CrudePrev':'doc_checkups',\n",
    "    'CHOLSCREEN_CrudePrev':'chol_screen',\n",
    "    'COLON_SCREEN_CrudePrev':'colon_screen',\n",
    "    'COPD_CrudePrev':'copd',\n",
    "    'COREM_CrudePrev':'core_preventative_men',\n",
    "    'COREW_CrudePrev':'core_preventative_female',\n",
    "    'CSMOKING_CrudePrev':'current_smoker',\n",
    "    'DENTAL_CrudePrev':'dental_visits',\n",
    "    'DIABETES_CrudePrev':'diabetes',\n",
    "    'HIGHCHOL_CrudePrev':'high_chol',\n",
    "    'KIDNEY_CrudePrev':'kidney_disease',\n",
    "    'LPA_CrudePrev':'physical_activity',\n",
    "    'MAMMOUSE_CrudePrev':'mammography',\n",
    "    'MHLTH_CrudePrev':'mental_health',\n",
    "    'OBESITY_CrudePrev':'obesity',\n",
    "    'PHLTH_CrudePrev':'poor_physical_health',\n",
    "    'SLEEP_CrudePrev':'poor_sleep',\n",
    "    'STROKE_CrudePrev':'stroke',\n",
    "    'TEETHLOST_CrudePrev':'teeth_lost'\n",
    "}\n",
    "\n",
    "df.rename(columns = df_dict, inplace = True)"
   ]
  },
  {
   "cell_type": "code",
   "execution_count": null,
   "metadata": {},
   "outputs": [],
   "source": [
    "df.hist(figsize = (20,15), grid = False);\n",
    "plt.tight_layout();"
   ]
  },
  {
   "cell_type": "markdown",
   "metadata": {},
   "source": [
    "### Dummy column for states"
   ]
  },
  {
   "cell_type": "code",
   "execution_count": null,
   "metadata": {},
   "outputs": [],
   "source": [
    "dummy = pd.get_dummies(df, columns = ['state_abbr'])\n",
    "dummy.drop(columns = ['state_abbr_DC'], inplace = True) # DC has the lowest chd risk rate - dropping\n",
    "\n",
    "df = pd.merge(df,dummy)\n",
    "\n",
    "df.drop(columns = ['state_abbr'], inplace = True)"
   ]
  },
  {
   "cell_type": "markdown",
   "metadata": {},
   "source": [
    "## Regression EDA <span id ='reg_eda'>"
   ]
  },
  {
   "cell_type": "code",
   "execution_count": null,
   "metadata": {},
   "outputs": [],
   "source": [
    "corr = df.corr()[['chd']]\n",
    "corr = corr.loc[(corr['chd'] > .3) | (corr['chd'] < -0.29)]\n",
    "\n",
    "# Heatmap\n",
    "plt.figure(figsize = (8,10))\n",
    "sns.heatmap(data = corr.sort_values(by = 'chd', ascending = False),\n",
    "           annot = True,\n",
    "           linewidths=0.1,\n",
    "           cmap = 'flare_r',\n",
    "           vmin=-0.5, \n",
    "           vmax=1);"
   ]
  },
  {
   "cell_type": "code",
   "execution_count": null,
   "metadata": {},
   "outputs": [],
   "source": [
    "plt.figure(figsize = (10,5))\n",
    "sns.regplot(x= 'copd', y= 'chd', data= df, color = 'salmon', line_kws = {'color': 'red'})\n",
    "plt.title('Coronary Heart Disease & Chronic Obstructive Pulmonary Disease Crude Prevalence', size = 15, pad = 10),\n",
    "plt.xlabel(xlabel = 'COPD', size = 15)\n",
    "plt.ylabel(ylabel = 'CHD', size = 15);"
   ]
  },
  {
   "cell_type": "code",
   "execution_count": null,
   "metadata": {},
   "outputs": [],
   "source": [
    "plt.figure(figsize = (10,5))\n",
    "sns.regplot(x= 'kidney_disease', y= 'chd', data= df, color = 'salmon', line_kws = {'color': 'red'})\n",
    "plt.title('Coronary Heart Disease & Kidney Disease Crude Prevalence', size = 15, pad = 10),\n",
    "plt.xlabel(xlabel = 'Kidney', size = 15)\n",
    "plt.ylabel(ylabel = 'CHD', size = 15);"
   ]
  },
  {
   "cell_type": "code",
   "execution_count": null,
   "metadata": {},
   "outputs": [],
   "source": [
    "plt.figure(figsize = (10,5))\n",
    "sns.regplot(x= 'binge_drinking', y= 'chd', data= df, color = 'salmon', line_kws = {'color': 'red'})\n",
    "plt.title('Coronary Heart Disease & Binge Drinking Crude Prevalence', size = 15, pad = 10),\n",
    "plt.xlabel(xlabel = 'Binge Drinking', size = 15)\n",
    "plt.ylabel(ylabel = 'CHD', size = 15);"
   ]
  },
  {
   "cell_type": "code",
   "execution_count": null,
   "metadata": {},
   "outputs": [],
   "source": [
    "plt.figure(figsize = (10,5))\n",
    "sns.regplot(x= 'dental_visits', y= 'chd', data= df, color = 'salmon', line_kws = {'color': 'red'})\n",
    "plt.title('Coronary Heart Disease & Dental Visits Crude Prevalence', size = 15, pad = 10),\n",
    "plt.xlabel(xlabel = 'Dental Visits', size = 15)\n",
    "plt.ylabel(ylabel = 'CHD', size = 15);"
   ]
  },
  {
   "cell_type": "markdown",
   "metadata": {},
   "source": [
    "The top two positively correlated values with crude prevalence of coronary heart disease are crude prevalanence of chronic obstructive pulmonary disease (0.91) and crude prevalence of kidney disease (0.89). As crude prevalene of chronic obstructive pulmonary disease and/or kidney disease increase, crude prevalence of of coronary heart disease increases. <br>\n",
    "\n",
    "The top two negatively correlated values with crude prevalence of coronary heart disease are crude prevalence of binge drinking (-0.63) and crude prevalence of visits to the dentist or dental clinic (-0.5). As crude prevalene of bringe drinking and/or visis to the dentist or dental clinic increase, crude prevalence of of coronary heart disease decreases."
   ]
  },
  {
   "cell_type": "markdown",
   "metadata": {},
   "source": [
    "# Regression Modeling <span id = 'reg_mod'>"
   ]
  },
  {
   "cell_type": "code",
   "execution_count": null,
   "metadata": {},
   "outputs": [],
   "source": [
    "# Copying df for regression modeling\n",
    "reg = df"
   ]
  },
  {
   "cell_type": "code",
   "execution_count": null,
   "metadata": {},
   "outputs": [],
   "source": [
    "X = reg._get_numeric_data().drop(columns = 'chd')\n",
    "y = reg['chd']\n",
    "\n",
    "X_train, X_test, y_train, y_test = train_test_split(X,y, random_state = 321)"
   ]
  },
  {
   "cell_type": "markdown",
   "metadata": {},
   "source": [
    "### Baseline"
   ]
  },
  {
   "cell_type": "code",
   "execution_count": null,
   "metadata": {},
   "outputs": [],
   "source": [
    "y_train_baseline = [y_train.mean()]*len(y_train)\n",
    "y_test_baseline = [y_train.mean()]*len(y_test)\n",
    "\n",
    "print(f'Baseline Train RMSE: {metrics.mean_squared_error(y_train,y_train_baseline) ** 0.5}')\n",
    "print(f'Baseline Test RMSE: {metrics.mean_squared_error(y_test, y_test_baseline) ** 0.5}')"
   ]
  },
  {
   "cell_type": "markdown",
   "metadata": {},
   "source": [
    "### Linear Regression"
   ]
  },
  {
   "cell_type": "code",
   "execution_count": null,
   "metadata": {},
   "outputs": [],
   "source": [
    "# Checking cross_val_score mean\n",
    "cross_val_score(LinearRegression(),X_train,y_train, cv = 20, scoring = 'r2').mean()"
   ]
  },
  {
   "cell_type": "code",
   "execution_count": null,
   "metadata": {},
   "outputs": [],
   "source": [
    "lr = LinearRegression()\n",
    "lr.fit(X_train, y_train)\n",
    "\n",
    "print(f'Linear Reg Train R2: {lr.score(X_train, y_train)}')\n",
    "print(f'Linear Reg Test R2: {lr.score(X_test, y_test)}')"
   ]
  },
  {
   "cell_type": "code",
   "execution_count": null,
   "metadata": {},
   "outputs": [],
   "source": [
    "# Setting Predictions\n",
    "train_preds = lr.predict(X_train)\n",
    "test_preds = lr.predict(X_test)\n",
    "\n",
    "print(f'Linear Reg Train RMSE: {metrics.mean_squared_error(y_train, train_preds, squared=False)}')\n",
    "print(f'Linear Reg Test RMSE: {metrics.mean_squared_error(y_test, test_preds, squared=False)}')"
   ]
  },
  {
   "cell_type": "markdown",
   "metadata": {},
   "source": [
    "### Regression Plot"
   ]
  },
  {
   "cell_type": "code",
   "execution_count": null,
   "metadata": {},
   "outputs": [],
   "source": [
    "# Regression plot \n",
    "plt.figure(figsize = (10,8))\n",
    "sns.regplot(x = test_preds, y = y_test, ci=None, \n",
    "            color = 'salmon',\n",
    "            scatter_kws = {'s': 25}, \n",
    "            line_kws = {'color': 'red'})\n",
    "plt.xlabel('Target Predictions', size = 15, fontweight = 'bold')\n",
    "plt.xticks(size = 15)\n",
    "plt.ylabel('Target Values', size = 15, fontweight = 'bold')\n",
    "plt.yticks(size = 15)\n",
    "plt.title('Target Predictions vs Target Values', size = 15, pad = 15, fontweight = 'bold');"
   ]
  },
  {
   "cell_type": "markdown",
   "metadata": {},
   "source": [
    "## Ridge <span id ='ridge'>"
   ]
  },
  {
   "cell_type": "code",
   "execution_count": null,
   "metadata": {},
   "outputs": [],
   "source": [
    "# Scale\n",
    "ss = StandardScaler()\n",
    "Z_train = ss.fit_transform(X_train)\n",
    "Z_test = ss.transform(X_test)"
   ]
  },
  {
   "cell_type": "code",
   "execution_count": null,
   "metadata": {},
   "outputs": [],
   "source": [
    "ridge_cv = RidgeCV(alphas = np.logspace(0,50,100), scoring = 'r2', cv = 5)\n",
    "ridge_cv.fit(Z_train, y_train)\n",
    "\n",
    "print(f'Ridge Train R2: {ridge_cv.score(Z_train, y_train)}')\n",
    "print(f'Ridge Test R2: {ridge_cv.score(Z_test, y_test)}')"
   ]
  },
  {
   "cell_type": "code",
   "execution_count": null,
   "metadata": {},
   "outputs": [],
   "source": [
    "# Getting predictions for the RMSE\n",
    "ridge_train_preds = ridge_cv.predict(Z_train)\n",
    "ridge_test_preds = ridge_cv.predict(Z_test)\n",
    "\n",
    "print(f'Ridge Train RMSE: {metrics.mean_squared_error(y_train, ridge_train_preds, squared = False)}')\n",
    "print(f'Ridge Test RMSE: {metrics.mean_squared_error(y_test, ridge_test_preds, squared = False)}')"
   ]
  },
  {
   "cell_type": "markdown",
   "metadata": {},
   "source": [
    "### Ridge Plot"
   ]
  },
  {
   "cell_type": "code",
   "execution_count": null,
   "metadata": {},
   "outputs": [],
   "source": [
    "# Ridge plot \n",
    "plt.figure(figsize = (10,8))\n",
    "sns.regplot(x = ridge_test_preds, y = y_test, ci=None, \n",
    "            color = 'salmon',\n",
    "            scatter_kws = {'s': 25}, \n",
    "            line_kws = {'color': 'red'})\n",
    "plt.xlabel('Target Predictions', size = 15, fontweight = 'bold')\n",
    "plt.xticks(size = 15)\n",
    "plt.ylabel('Target Values', size = 15, fontweight = 'bold')\n",
    "plt.yticks(size = 15)\n",
    "plt.title('Ridge Target Predictions vs Target Values', size = 15, pad = 15, fontweight = 'bold');"
   ]
  },
  {
   "cell_type": "markdown",
   "metadata": {},
   "source": [
    "## Lasso <span id = 'lasso'>"
   ]
  },
  {
   "cell_type": "code",
   "execution_count": null,
   "metadata": {},
   "outputs": [],
   "source": [
    "lasso = LassoCV(cv = 5)\n",
    "lasso.fit(Z_train, y_train)\n",
    "\n",
    "print(f'Lasso Train R2: {lasso.score(Z_train, y_train)}')\n",
    "print(f'Lasso Test R2: {lasso.score(Z_test, y_test)}')"
   ]
  },
  {
   "cell_type": "code",
   "execution_count": null,
   "metadata": {},
   "outputs": [],
   "source": [
    "lasso_train_preds = lasso.predict(Z_train)\n",
    "lasso_test_preds = lasso.predict(Z_test)\n",
    "\n",
    "print(f'Lasso Train RMSE: {metrics.mean_squared_error(y_train, lasso_train_preds, squared = False)}')\n",
    "print(f'Lasso Test RMSE: {metrics.mean_squared_error(y_test, lasso_test_preds, squared = False)}')"
   ]
  },
  {
   "cell_type": "markdown",
   "metadata": {},
   "source": [
    "### Lasso Plot"
   ]
  },
  {
   "cell_type": "code",
   "execution_count": null,
   "metadata": {},
   "outputs": [],
   "source": [
    "# Lasso plot \n",
    "plt.figure(figsize = (10,8))\n",
    "sns.regplot(x = lasso_test_preds, y = y_test, ci=None, \n",
    "            color = 'salmon',\n",
    "            scatter_kws = {'s': 25}, \n",
    "            line_kws = {'color': 'red'})\n",
    "plt.xlabel('Target Predictions', size = 15, fontweight = 'bold')\n",
    "plt.xticks(size = 15)\n",
    "plt.ylabel('Target Values', size = 15, fontweight = 'bold')\n",
    "plt.yticks(size = 15)\n",
    "plt.title('Lasso Target Predictions vs Target Values', size = 15, pad = 15, fontweight = 'bold');"
   ]
  },
  {
   "cell_type": "markdown",
   "metadata": {},
   "source": [
    "## Regression Results <span id ='reg_results'>"
   ]
  },
  {
   "cell_type": "code",
   "execution_count": null,
   "metadata": {},
   "outputs": [],
   "source": [
    "reg_dict = {}\n",
    "\n",
    "reg_dict['Model'] = ['Linear Regression', 'Ridge Regression', 'Lasso Regression']\n",
    "reg_dict['Train R2'] = [lr.score(X_train, y_train), ridge_cv.score(Z_train, y_train), lasso.score(Z_train, y_train)]\n",
    "reg_dict['Test R2'] = [lr.score(X_test, y_test), ridge_cv.score(Z_test, y_test), lasso.score(Z_test, y_test)]\n",
    "reg_dict['Train RMSE'] = [metrics.mean_squared_error(y_train, train_preds, squared = False), metrics.mean_squared_error(y_train, ridge_train_preds, squared = False), metrics.mean_squared_error(y_train, lasso_train_preds, squared = False)]\n",
    "reg_dict['Test RMSE'] = [metrics.mean_squared_error(y_test, test_preds, squared = False), metrics.mean_squared_error(y_test, ridge_test_preds, squared = False), metrics.mean_squared_error(y_test, lasso_test_preds, squared = False)]\n",
    "\n",
    "reg_df = pd.DataFrame.from_dict(reg_dict, orient = 'columns')\n",
    "\n",
    "reg_df"
   ]
  },
  {
   "cell_type": "markdown",
   "metadata": {},
   "source": [
    "Our Linear Regression model is performing the best out of these three models with a Train R-squared score of .9914 and Test R-squared score of 0.9910. This is over 99% that our baseline model with no predictors. \n",
    "\n",
    "The Linear Regression model has the lowest RMSE scores, with a Train RMSE of 0.2036 and Test RMSE of 0.2066. These are almost 2.0 better than our baseline model."
   ]
  },
  {
   "cell_type": "markdown",
   "metadata": {},
   "source": [
    "### Statsmodel"
   ]
  },
  {
   "cell_type": "code",
   "execution_count": null,
   "metadata": {},
   "outputs": [],
   "source": [
    "# Inserting coef column with values of 1\n",
    "X_train = sm.add_constant(X_train)\n",
    "\n",
    "ols = sm.OLS(y_train, X_train).fit()\n",
    "ols.summary()"
   ]
  },
  {
   "cell_type": "markdown",
   "metadata": {},
   "source": [
    "<span id = 'reg_conclusions'></span>\n",
    "**States:** \n",
    "\n",
    "- If a person lives in the state of Alabama, we would expect the crude prevalence of coronary heart disease to increase by 1.4530 compared to someone living in Washington DC, all else being constant. \n",
    "- If a person lives in the state of Arkansas, we would expect the crude prevalence of coronary heart disease to increase by 1.2016 compared to someone living in Washington DC, all else being constant. \n",
    "<br>\n",
    "<br>\n",
    "- If a person lives in the state of Wyoming, we would expect the crude prevalence of coronary heart disease to decrease by -3.3550 compared to someone living in Washington DC, all else being constant. \n",
    "- If a person lives in the state of Wisconsin, we would expect the crude prevalence of coronary heart disease to decrease by -2.9220 compared to someone living in Washington DC, all else being constant. \n",
    "    \n",
    "    \n",
    "    \n",
    "**Crude Prevalence:**\n",
    "- For every 1 unit increase in crude prevalence of kidney disease, we would expect the crude prevalence of coronary heart disease to increase by 1.1166, all else being constant.\n",
    "- For every 1 unit increase in crude prevalence of chronic obstructive pulmonary disease, we would expect the crude prevalence of coronary heart disease to increase by 0.4470, all else being constant.\n",
    "- For every 1 unit increase in crude prevalence of cancer, we would expect the crude prevalence of coronary heart disease to increase by 0.2560, all else being constant.\n",
    "<br>\n",
    "<br>\n",
    "- For every 1 unit increase in crude prevalence of currently having asthma, we would expect the crude prevalence of coronary heart disease to decrease by -0.2001, all else being constant.\n",
    "- For every 1 unit increase in crude prevalence of poor mental health, we would expect the crude prevalence of coronary heart disease to decrease by -0.1156, all else being constant.\n",
    "- For every 1 unit increase in crude prevalence of cholesterol screening, we would expect the crude prevalence of coronary heart disease to decrease by -0.0499, all else being constant.\n",
    "\n",
    "**Similiar Features to Cleveland Hungary Dataset:**\n",
    "- For every 1 unit increase in crude prevalence of high blood pressure, we would expect the crude prevalence of coronary heart disease to increase by 0.0030, all else being constant.\n",
    "- For every 1 unit increase in crude prevalence of high chloresterol, we would expect the crude prevalence of coronary heart disease to decrease by -0.0101, all else being constant.\n",
    "    "
   ]
  },
  {
   "cell_type": "markdown",
   "metadata": {},
   "source": [
    "# Classification <span id = 'classification'>"
   ]
  },
  {
   "cell_type": "markdown",
   "metadata": {},
   "source": [
    "<span id = 'cclean'></span>\n",
    "### Cleaning"
   ]
  },
  {
   "cell_type": "code",
   "execution_count": null,
   "metadata": {},
   "outputs": [],
   "source": [
    "# Creating list as reference for low & intermediate to high risk chd \n",
    "chd = []\n",
    "\n",
    "for i in df['chd']:\n",
    "    if i < 10: \n",
    "        chd.append(0)  # Low\n",
    "    elif i >= 10: \n",
    "        chd.append(1)  # Intermediate to High\n",
    "\n",
    "df['chd'] = chd"
   ]
  },
  {
   "cell_type": "code",
   "execution_count": null,
   "metadata": {},
   "outputs": [],
   "source": [
    "df.shape"
   ]
  },
  {
   "cell_type": "code",
   "execution_count": null,
   "metadata": {},
   "outputs": [],
   "source": [
    "df[df['chd'] == 0].shape"
   ]
  },
  {
   "cell_type": "code",
   "execution_count": null,
   "metadata": {},
   "outputs": [],
   "source": [
    "# Seeing how many rows are not 0\n",
    "72094-66716"
   ]
  },
  {
   "cell_type": "code",
   "execution_count": null,
   "metadata": {},
   "outputs": [],
   "source": [
    "# Seeing how many rows need to be dropped from 0\n",
    "66716 - 5378"
   ]
  },
  {
   "cell_type": "code",
   "execution_count": null,
   "metadata": {},
   "outputs": [],
   "source": [
    "# Randomly dropping 61338 rows to have 5378 0s and 1s \n",
    "np.random.seed(321)\n",
    "remove = 61338\n",
    "remove_0 = df.loc[(df['chd']==0)]\n",
    "drop = np.random.choice(remove_0.index, remove, replace = False)\n",
    "\n",
    "# Inspired from https://stackoverflow.com/questions/28556942/pandas-remove-rows-at-random-without-shuffling-dataset"
   ]
  },
  {
   "cell_type": "code",
   "execution_count": null,
   "metadata": {},
   "outputs": [],
   "source": [
    "chd = df.drop(drop)\n",
    "\n",
    "chd['chd'].value_counts()"
   ]
  },
  {
   "cell_type": "code",
   "execution_count": null,
   "metadata": {},
   "outputs": [],
   "source": [
    "corr = chd.corr()[['chd']]\n",
    "corr = corr.loc[(corr['chd'] > .4) | (corr['chd'] < -0.29)]"
   ]
  },
  {
   "cell_type": "code",
   "execution_count": null,
   "metadata": {},
   "outputs": [],
   "source": [
    "plt.figure(figsize = (8,10))\n",
    "sns.heatmap(data = corr.sort_values(by = 'chd', ascending = False),\n",
    "           annot = True,\n",
    "           cmap = 'flare_r',\n",
    "           linewidths=0.1,\n",
    "           vmin=-1,\n",
    "           vmax=1);"
   ]
  },
  {
   "cell_type": "markdown",
   "metadata": {},
   "source": [
    "## Modeling <span id= 'cmodel'>"
   ]
  },
  {
   "cell_type": "code",
   "execution_count": null,
   "metadata": {},
   "outputs": [],
   "source": [
    "X = chd._get_numeric_data().drop(columns = 'chd')\n",
    "y = chd['chd']\n",
    "\n",
    "X_train, X_test, y_train, y_test = train_test_split(X,y, stratify = y, random_state = 321)"
   ]
  },
  {
   "cell_type": "markdown",
   "metadata": {},
   "source": [
    "### Baseline"
   ]
  },
  {
   "cell_type": "code",
   "execution_count": null,
   "metadata": {},
   "outputs": [],
   "source": [
    "y_train.value_counts(normalize = True)"
   ]
  },
  {
   "cell_type": "code",
   "execution_count": null,
   "metadata": {},
   "outputs": [],
   "source": [
    "# Scale Data\n",
    "ss = StandardScaler()\n",
    "Z_train = ss.fit_transform(X_train)\n",
    "Z_test = ss.transform(X_test)"
   ]
  },
  {
   "cell_type": "markdown",
   "metadata": {},
   "source": [
    "## Logistic Regression <span id = 'logreg'>"
   ]
  },
  {
   "cell_type": "code",
   "execution_count": null,
   "metadata": {},
   "outputs": [],
   "source": [
    "# Getting cross_val_score\n",
    "cross_val_score(LogisticRegression(max_iter=1000), Z_train, y_train, cv = 5).mean()"
   ]
  },
  {
   "cell_type": "code",
   "execution_count": null,
   "metadata": {},
   "outputs": [],
   "source": [
    "logreg = LogisticRegression(C = 1, penalty = 'l2', solver = 'liblinear')\n",
    "logreg.fit(Z_train, y_train)\n",
    "\n",
    "print(f'LogReg Train Accuracy: {logreg.score(Z_train, y_train)}')\n",
    "print(f'LogReg Test Accuracy: {logreg.score(Z_test, y_test)}')"
   ]
  },
  {
   "cell_type": "code",
   "execution_count": null,
   "metadata": {},
   "outputs": [],
   "source": [
    "preds_logreg = logreg.predict(Z_test)\n",
    "\n",
    "tn, fp, fn, tp = metrics.confusion_matrix(y_test, preds_logreg).ravel()\n",
    "plt.rcParams.update({'font.size': 12}) \n",
    "metrics.plot_confusion_matrix(logreg, Z_test, y_test, cmap = 'PuRd',colorbar = False, display_labels = ['Low Risk','Int/High Risk']);\n",
    "plt.title('Logistic Regression');"
   ]
  },
  {
   "cell_type": "markdown",
   "metadata": {},
   "source": [
    "## KNN <span id = 'knn'>"
   ]
  },
  {
   "cell_type": "code",
   "execution_count": null,
   "metadata": {},
   "outputs": [],
   "source": [
    "cross_val_score(KNeighborsClassifier(n_neighbors=3), Z_train, y_train, cv = 5).mean()"
   ]
  },
  {
   "cell_type": "code",
   "execution_count": null,
   "metadata": {},
   "outputs": [],
   "source": [
    "# Getting cross_val_score\n",
    "kn = KNeighborsClassifier(n_neighbors = 3)\n",
    "kn.fit(Z_train, y_train)\n",
    "\n",
    "print(f'KNN Train Accuracy: {kn.score(Z_train, y_train)}')\n",
    "print(f'KNN Test Accuracy: {kn.score(Z_test, y_test)}')"
   ]
  },
  {
   "cell_type": "code",
   "execution_count": null,
   "metadata": {},
   "outputs": [],
   "source": [
    "preds_kn = kn.predict(Z_test)\n",
    "\n",
    "tn, fp, fn, tp = metrics.confusion_matrix(y_test, preds_kn).ravel()\n",
    "plt.rcParams.update({'font.size': 12}) \n",
    "metrics.plot_confusion_matrix(kn, Z_test, y_test, cmap = 'PuRd',colorbar = False, display_labels = ['Low Risk','Int/High Risk']);\n",
    "plt.title('KNN');"
   ]
  },
  {
   "cell_type": "markdown",
   "metadata": {},
   "source": [
    "## BNB <span id = 'bnb'>"
   ]
  },
  {
   "cell_type": "code",
   "execution_count": null,
   "metadata": {},
   "outputs": [],
   "source": [
    "# Getting cross_val_score\n",
    "cross_val_score(BernoulliNB(), Z_train, y_train, cv = 5).mean()"
   ]
  },
  {
   "cell_type": "code",
   "execution_count": null,
   "metadata": {},
   "outputs": [],
   "source": [
    "bnb = BernoulliNB()\n",
    "bnb.fit(Z_train, y_train)\n",
    "\n",
    "print(f'BernoulliNB Train Accuracy: {bnb.score(Z_train, y_train)}')\n",
    "print(f'BernoulliNB Test Accuracy Logreg: {bnb.score(Z_test, y_test)}')"
   ]
  },
  {
   "cell_type": "code",
   "execution_count": null,
   "metadata": {},
   "outputs": [],
   "source": [
    "preds_bnb = bnb.predict(Z_test)\n",
    "\n",
    "tn, fp, fn, tp = metrics.confusion_matrix(y_test, preds_kn).ravel()\n",
    "plt.rcParams.update({'font.size': 12}) \n",
    "metrics.plot_confusion_matrix(bnb, Z_test, y_test, cmap = 'PuRd',colorbar = False, display_labels = ['Low Risk','Int/High Risk']);\n",
    "plt.title('KNN');"
   ]
  },
  {
   "cell_type": "markdown",
   "metadata": {},
   "source": [
    "## Classification Results <span id = 'class_con'>"
   ]
  },
  {
   "cell_type": "code",
   "execution_count": null,
   "metadata": {},
   "outputs": [],
   "source": [
    "class_dict = {}\n",
    "\n",
    "class_dict['Model'] = ['Baseline','Logistic Regression', 'KNN', 'BernoulliNB']\n",
    "class_dict['Train Accuracy'] = [0.50, logreg.score(Z_train, y_train), kn.score(Z_train, y_train), bnb.score(Z_train, y_train)]\n",
    "class_dict['Test Accuracy'] = [0.50,logreg.score(Z_test, y_test), kn.score(Z_test, y_test), bnb.score(Z_test, y_test)]\n",
    "\n",
    "class_df = pd.DataFrame.from_dict(class_dict, orient = 'columns')\n",
    "\n",
    "class_df"
   ]
  },
  {
   "cell_type": "markdown",
   "metadata": {},
   "source": [
    "In terms of measuring acccuracy, our Logistic Regression model is performing the best with a Train Accuracy of 0.987 and Test Accuracy of 0.985. This is over 48.5% better than our baseline model. "
   ]
  },
  {
   "cell_type": "markdown",
   "metadata": {},
   "source": [
    "<span id = 'chdc'></span>\n",
    "## Conclusions\n",
    "Through our CHD evaluation, we would expect that the crude prevalence of kidney disease, chronic obstructive pulmonary disease, and/or cancer would increase the risk of an individual's crude prevalence of coronary heart disease.\n",
    "\n",
    "  Washington D.C. had the lowest average crude prevalence risk rate for coronary heart disease amongst all states in the U.S. We used Washington D.C. as our reference column when evaluating the average risk rates in other states. We expect the crude prevalence of coronary heart disease to increase by 1.4530 for a person living in the state of Alabama, and the crude prevalence of heart disease to increase by 1.2016 for a person living in the state of Arkansas compared to someone living in Washington D.C, all else being constant.\n",
    "\n",
    "  By evaluating similar features to the CVD dataset, we concluded that for every 1 unit increase in crude prevalence of high blood pressure, we would expect the crude prevalence of coronary heart disease to increase by 0.0030, and for every 1 unit increase in crude prevalence of high cholesterol, we would expect the crude prevalence of coronary heart disease to decrease by -0.0101, all else being constant."
   ]
  },
  {
   "cell_type": "code",
   "execution_count": null,
   "metadata": {},
   "outputs": [],
   "source": []
  },
  {
   "cell_type": "code",
   "execution_count": null,
   "metadata": {},
   "outputs": [],
   "source": []
  }
 ],
 "metadata": {
  "kernelspec": {
   "display_name": "Python 3",
   "language": "python",
   "name": "python3"
  },
  "language_info": {
   "codemirror_mode": {
    "name": "ipython",
    "version": 3
   },
   "file_extension": ".py",
   "mimetype": "text/x-python",
   "name": "python",
   "nbconvert_exporter": "python",
   "pygments_lexer": "ipython3",
   "version": "3.7.4"
  }
 },
 "nbformat": 4,
 "nbformat_minor": 5
}
